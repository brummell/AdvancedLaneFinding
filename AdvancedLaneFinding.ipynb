{
 "cells": [
  {
   "cell_type": "markdown",
   "metadata": {},
   "source": [
    "## Advanced Lane Finding Project\n",
    "\n",
    "The goals / steps of this project are the following:\n",
    "\n",
    "* ~~Compute the camera calibration matrix and distortion coefficients given a set of chessboard images.~~\n",
    "* ~~Apply a distortion correction to raw images.~~\n",
    "* ~~Use color transforms, gradients, etc., to create a thresholded binary image.~~\n",
    "* ~~Apply a perspective transform to rectify binary image (\"birds-eye view\").~~\n",
    "* ~~Detect lane pixels and fit to find the lane boundary.~~\n",
    "* ~~Determine the curvature of the lane and vehicle position with respect to center.~~\n",
    "* ~~Warp the detected lane boundaries back onto the original image.~~\n",
    "* ~~Output visual display of the lane boundaries and numerical estimation of lane curvature and vehicle position.~~\n",
    "\n",
    "---\n",
    "## First, I'll compute the camera calibration using chessboard images"
   ]
  },
  {
   "cell_type": "code",
   "execution_count": null,
   "metadata": {
    "collapsed": true
   },
   "outputs": [],
   "source": [
    "import numpy as np\n",
    "import cv2\n",
    "import glob\n",
    "import matplotlib.pyplot as plt\n",
    "from moviepy.editor import VideoFileClip\n",
    "from IPython.display import HTML\n",
    "%matplotlib inline"
   ]
  },
  {
   "cell_type": "code",
   "execution_count": null,
   "metadata": {
    "collapsed": false
   },
   "outputs": [],
   "source": [
    "from IPython.core.display import display, HTML\n",
    "display(HTML(\"<style>.container { width:100% !important; }</style>\"))"
   ]
  },
  {
   "cell_type": "code",
   "execution_count": 107,
   "metadata": {
    "collapsed": false
   },
   "outputs": [
    {
     "name": "stdout",
     "output_type": "stream",
     "text": [
      "17 of 20 images used successfully for calibration\n"
     ]
    }
   ],
   "source": [
    "objp = np.zeros((6*9,3), np.float32)\n",
    "objp[:,:2] = np.mgrid[0:9,0:6].T.reshape(-1,2)\n",
    "objpoints = [] # 3d points in real world space\n",
    "imgpoints = [] # 2d points in image plane.\n",
    "images = glob.glob('./camera_cal/calibration*.jpg')\n",
    "i = j = 0\n",
    "for fname in images:\n",
    "    img = cv2.imread(fname)\n",
    "    gray = cv2.cvtColor(img,cv2.COLOR_BGR2GRAY)\n",
    "    ret, corners = cv2.findChessboardCorners(gray, (9,6),None)\n",
    "    if ret == True:\n",
    "        i += 1\n",
    "        objpoints.append(objp)\n",
    "        imgpoints.append(corners)\n",
    "    j += 1\n",
    "\n",
    "print('{} of {} images used successfully for calibration'.format(i,j))\n",
    "\n",
    "ret, mtx, dist, rvecs, tvecs = cv2.calibrateCamera(objpoints, imgpoints, gray.shape[::-1],None,None)"
   ]
  },
  {
   "cell_type": "markdown",
   "metadata": {},
   "source": [
    "### Test calibration"
   ]
  },
  {
   "cell_type": "code",
   "execution_count": null,
   "metadata": {
    "collapsed": false,
    "scrolled": true
   },
   "outputs": [],
   "source": [
    "test_distorted_img = cv2.imread('./camera_cal/calibration3.jpg')\n",
    "test_corrected_img = cv2.undistort(test_distorted_img, mtx, dist, None, mtx)\n",
    "\n",
    "f, (ax1, ax2) = plt.subplots(1, 2, sharey=True, figsize = (6,2))\n",
    "ax1.imshow(test_distorted_img)\n",
    "ax1.set_title('Distorted Image')\n",
    "ax2.imshow(test_corrected_img)\n",
    "ax2.set_title('Corrected Image')"
   ]
  },
  {
   "cell_type": "markdown",
   "metadata": {},
   "source": [
    "# Get perspective transform for overhead view"
   ]
  },
  {
   "cell_type": "code",
   "execution_count": null,
   "metadata": {
    "collapsed": true
   },
   "outputs": [],
   "source": [
    "test_distorted_img = cv2.imread('./test_images/straight_lines1.jpg')\n",
    "test_corrected_img = cv2.undistort(test_distorted_img, mtx, dist, None, mtx)\n",
    "test_corrected_img = cv2.cvtColor(test_corrected_img, cv2.COLOR_RGB2BGR)\n",
    "\n",
    "image_to_warp = test_corrected_img\n",
    "\n",
    "input_vertices = np.float32([[520,500],[770, 500],[250, 680], [1050, 680]])\n",
    "output_vertices = np.float32([[400,450],[940,450],[400, 700], [940,700]])\n",
    "\n",
    "M = cv2.getPerspectiveTransform(input_vertices, output_vertices)\n",
    "Minv = cv2.getPerspectiveTransform( output_vertices, input_vertices)\n",
    "warped = cv2.warpPerspective(image_to_warp, M, (image_to_warp.shape[1], image_to_warp.shape[0]), flags=cv2.INTER_LINEAR)"
   ]
  },
  {
   "cell_type": "code",
   "execution_count": null,
   "metadata": {
    "collapsed": false
   },
   "outputs": [],
   "source": [
    "test_lanes_img = cv2.imread('./test_images/test1.jpg')\n",
    "bgr_test_lanes_img = cv2.cvtColor(test_lanes_img, cv2.COLOR_RGB2BGR)\n",
    "gray_test_lanes_img = cv2.cvtColor(test_lanes_img, cv2.COLOR_RGB2GRAY)\n",
    "plt.imshow(bgr_test_lanes_img, cmap='gray')"
   ]
  },
  {
   "cell_type": "code",
   "execution_count": null,
   "metadata": {
    "collapsed": false,
    "scrolled": true
   },
   "outputs": [],
   "source": [
    "# CONSIDER WHETHER THERE ARE POTENTIAL BENEFITS TO ANOTHER CHOICE OF OPERATOR (ROTATIONAL SYMMETRY PROB NOT IMPORTANT)\n",
    "# Sobel functions are returning 0,1... need to make them the same if you choose to use them again\n",
    "def get_component_gradient_mask(image):\n",
    "    sobelx = cv2.Sobel(gauss_img, cv2.CV_64F, 1, 0) #, ksize=sobel_kernel)\n",
    "    sobely = cv2.Sobel(gauss_img, cv2.CV_64F, 0, 1)\n",
    "    abs_sobel_x, abs_sobel_y = np.absolute(sobelx), np.absolute(sobely)\n",
    "    #Convert the absolute value image to [0,1]:\n",
    "    scaled_abs_sobel_x, scaled_abs_sobel_y = abs_sobel_x / np.max(abs_sobel_x), abs_sobel_y / np.max(abs_sobel_y)\n",
    "    thresh_min_x, thresh_max_x, thresh_min_y, thresh_max_y = 0.1, 1.00, 0.35, 1.00\n",
    "    sbinary = np.zeros_like(scaled_abs_sobel_x)\n",
    "    sbinary[((scaled_abs_sobel_x >= thresh_min_x) & (scaled_abs_sobel_x <= thresh_max_x) == 1) & ((scaled_abs_sobel_y >= thresh_min_y) & (scaled_abs_sobel_y <= thresh_max_y) == 1)] = 1\n",
    "    return sbinary\n",
    "\n",
    "def get_magnitude_gradient_mask(image):\n",
    "    sobelx = cv2.Sobel(image, cv2.CV_64F, 1, 0) #, ksize=sobel_kernel)\n",
    "    sobely = cv2.Sobel(image, cv2.CV_64F, 0, 1)\n",
    "    abs_sobel = np.sqrt(sobelx**2 + sobely**2)\n",
    "    #Convert the absolute value image to [0,1]:\n",
    "    scaled_abs_sobel = abs_sobel / np.max(abs_sobel)\n",
    "    thresh_min, thresh_max = 0.5, 1.00 \n",
    "    sbinary = np.zeros_like(scaled_abs_sobel)\n",
    "    sbinary[(scaled_abs_sobel >= thresh_min) & (scaled_abs_sobel <= thresh_max)] = 1\n",
    "    return sbinary\n",
    "\n",
    "def get_direction_gradient_mask(image, kernel_size=3, threshold=(0.7, 1.2)):\n",
    "    sobelx = cv2.Sobel(image, cv2.CV_64F, 1, 0, ksize=kernel_size)\n",
    "    sobely = cv2.Sobel(image, cv2.CV_64F, 0, 1, ksize=kernel_size)\n",
    "    dir_sobel = np.arctan2(np.absolute(sobely), np.absolute(sobelx)) #should this be squared before or after scaling to (0,1)?\n",
    "    binary_output =  np.zeros_like(dir_sobel)\n",
    "    binary_output[(dir_sobel >= threshold[0]) & (dir_sobel <= threshold[1])] = 1\n",
    "    return binary_output\n",
    "\n",
    "def hsv_color_select(frame):\n",
    "    # converts image to HSV to ease empirical selection \n",
    "    #  of color ranges for maskings\n",
    "    hsv_image = cv2.cvtColor(frame, cv2.COLOR_BGR2HSV)\n",
    "     \n",
    "    lower_yellow = np.array([95,75,100], dtype=np.uint8)\n",
    "    upper_yellow = np.array([105,255,255], dtype=np.uint8)\n",
    "\n",
    "    lower_white = np.array([0,0,230], dtype=np.uint8)\n",
    "    upper_white = np.array([180,35,255], dtype=np.uint8)\n",
    "\n",
    "    yellow_mask = cv2.inRange(hsv_image, lower_yellow, upper_yellow)\n",
    "    white_mask = cv2.inRange(hsv_image, lower_white, upper_white)\n",
    "    \n",
    "    mask = cv2.bitwise_or(yellow_mask, white_mask)\n",
    "    color_select = cv2.bitwise_and(frame, frame, mask=mask) # join to original image with bitwise-or\n",
    "    return mask, color_select\n",
    "\n",
    "def region_of_interest(image, vertices=None):\n",
    "    ysize = image.shape[0]\n",
    "    xsize = image.shape[1]\n",
    "        \n",
    "    bottom_left = np.array([0+(.10*xsize), ysize])\n",
    "    bottom_right = np.array([xsize-(.10*xsize), ysize])\n",
    "    apex = np.array([xsize/2, ysize*(5/10)])\n",
    "    vertices = np.array([[bottom_left, bottom_right, apex]])\n",
    "    #### THE ABOVE IS LESS GENERAL, AND SHOULD BE EXCLUDED OR GENRALIZED\n",
    "    \n",
    "    mask = np.zeros_like(image)   \n",
    "    \n",
    "    if len(image.shape) > 2:\n",
    "        channel_count = image.shape[2]\n",
    "        ignore_mask_color = (255,) * channel_count\n",
    "    else:\n",
    "        ignore_mask_color = 255\n",
    "        \n",
    "    cv2.fillPoly(mask, np.int32(vertices), ignore_mask_color)\n",
    "    \n",
    "    masked_image = cv2.bitwise_and(image, mask)\n",
    "    \n",
    "    return masked_image"
   ]
  },
  {
   "cell_type": "code",
   "execution_count": null,
   "metadata": {
    "collapsed": false
   },
   "outputs": [],
   "source": [
    "def yield_poly_fit_lines(binary_warped):\n",
    "    # Slightly modified Udacity implementation of histogramimg pixels, plotting polynomials, and returning curvature\n",
    "    histogram = np.sum(binary_warped[binary_warped.shape[0]/2:,:], axis=0)\n",
    "    out_img = np.dstack((binary_warped, binary_warped, binary_warped))*255\n",
    "\n",
    "    midpoint = np.int(histogram.shape[0]/2)\n",
    "    leftx_base, rightx_base = np.argmax(histogram[:midpoint]), np.argmax(histogram[midpoint:]) + midpoint\n",
    "\n",
    "    nwindows = 9\n",
    "    window_height = np.int(binary_warped.shape[0]/nwindows)\n",
    "    nonzero = binary_warped.nonzero()\n",
    "    nonzeroy, nonzerox = np.array(nonzero[0]), np.array(nonzero[1])\n",
    "\n",
    "    leftx_current, rightx_current = leftx_base, rightx_base\n",
    "\n",
    "    margin = 100\n",
    "    minpix = 50\n",
    "    \n",
    "    left_lane_inds, right_lane_inds = [], []\n",
    "\n",
    "    for window in range(nwindows):\n",
    "        win_y_low, win_y_high = binary_warped.shape[0] - (window+1)*window_height, binary_warped.shape[0] - window*window_height\n",
    "        win_xleft_low, win_xleft_high = leftx_current - margin, leftx_current + margin\n",
    "        win_xright_low, win_xright_high = rightx_current - margin, rightx_current + margin\n",
    "        cv2.rectangle(out_img,(win_xleft_low,win_y_low),(win_xleft_high,win_y_high),(0,255,0), 2) \n",
    "        cv2.rectangle(out_img,(win_xright_low,win_y_low),(win_xright_high,win_y_high),(0,255,0), 2) \n",
    "        good_left_inds = ((nonzeroy >= win_y_low) & (nonzeroy < win_y_high) & (nonzerox >= win_xleft_low) & (nonzerox < win_xleft_high)).nonzero()[0]\n",
    "        good_right_inds = ((nonzeroy >= win_y_low) & (nonzeroy < win_y_high) & (nonzerox >= win_xright_low) & (nonzerox < win_xright_high)).nonzero()[0]\n",
    "        left_lane_inds.append(good_left_inds)\n",
    "        right_lane_inds.append(good_right_inds)\n",
    "        if len(good_left_inds) > minpix:\n",
    "            leftx_current = np.int(np.mean(nonzerox[good_left_inds]))\n",
    "        if len(good_right_inds) > minpix:        \n",
    "            rightx_current = np.int(np.mean(nonzerox[good_right_inds]))\n",
    "\n",
    "    left_lane_inds, right_lane_inds = np.concatenate(left_lane_inds), np.concatenate(right_lane_inds)\n",
    "\n",
    "    leftx, lefty = nonzerox[left_lane_inds], nonzeroy[left_lane_inds]\n",
    "    rightx, righty = nonzerox[right_lane_inds], nonzeroy[right_lane_inds]\n",
    "    left_fit, right_fit = np.polyfit(lefty, leftx, 2), np.polyfit(righty, rightx, 2)\n",
    "        \n",
    "    y_eval = binary_warped.shape[0] * (2/3)\n",
    "    ym_per_pix, xm_per_pix = 30/720, 3.7/700 \n",
    "    \n",
    "    left_fit_cr = np.polyfit(lefty*ym_per_pix, leftx*xm_per_pix, 2)\n",
    "    right_fit_cr = np.polyfit(righty*ym_per_pix, rightx*xm_per_pix, 2)\n",
    "    left_curverad = ((1 + (2*left_fit_cr[0]*y_eval*ym_per_pix + left_fit_cr[1])**2)**1.5) / np.absolute(2*left_fit_cr[0])\n",
    "    right_curverad = ((1 + (2*right_fit_cr[0]*y_eval*ym_per_pix + right_fit_cr[1])**2)**1.5) / np.absolute(2*right_fit_cr[0])\n",
    "    return (left_fit, right_fit), (left_curverad, right_curverad)\n",
    "\n",
    "def draw_lanes_to_image(warped, original, left_fit, right_fit, left_curve, right_curve):\n",
    "    # slightly modified Udacity implementation for line drawing, modified to add curvature\n",
    "    ploty = np.linspace(0, warped.shape[0]-1, warped.shape[0] )\n",
    "    left_fitx = left_fit[0]*ploty**2 + left_fit[1]*ploty + left_fit[2]\n",
    "    right_fitx = right_fit[0]*ploty**2 + right_fit[1]*ploty + right_fit[2]\n",
    "    warp_zero = np.zeros_like(warped)\n",
    "    color_warp = np.dstack((warp_zero, warp_zero, warp_zero))\n",
    "    pts_left = np.array([np.transpose(np.vstack([left_fitx, ploty]))])\n",
    "    pts_right = np.array([np.flipud(np.transpose(np.vstack([right_fitx, ploty])))])\n",
    "    pts = np.hstack((pts_left, pts_right))\n",
    "    cv2.fillPoly(color_warp, np.int_([pts]), (0,255, 0))\n",
    "    newwarp = cv2.warpPerspective(color_warp, Minv, (warped.shape[1], warped.shape[0])) \n",
    "    \n",
    "    result_image = cv2.addWeighted(original, 1, newwarp, 0.3, 0)\n",
    "    message = \"\"\" ~RoC: {}\"\"\".format((left_curve + right_curve) / 2)\n",
    "    cv2.putText(result_image, message, (50,100), \n",
    "                    cv2.FONT_HERSHEY_SIMPLEX, 1,(255,255,255),2,cv2.LINE_AA)\n",
    "    return result_image"
   ]
  },
  {
   "cell_type": "code",
   "execution_count": 105,
   "metadata": {
    "collapsed": false,
    "scrolled": true
   },
   "outputs": [],
   "source": [
    "def image_pipeline(image):\n",
    "    # Images require conversion, video doesn't\n",
    "#     image = cv2.cvtColor(image, cv2.COLOR_RGB2BGR)\n",
    "    corrected_bgr_image = cv2.undistort(image, mtx, dist, None, mtx)\n",
    "\n",
    "    # corrected_gray_image = cv2.cvtColor(distorted_image, cv2.COLOR_RGB2GRAY)\n",
    "    # gray_test_lanes_img = gauss_img\n",
    "    # gauss_img = cv2.GaussianBlur(gray_test_lanes_img, (3,3), 0)\n",
    "\n",
    "    # dir_mask = get_direction_gradient_mask(gray_test_lanes_img)\n",
    "    # mag_mask = get_magnitude_gradient_mask(gray_test_lanes_img)\n",
    "    # comp_mask = get_component_gradient_mask(gray_test_lanes_img)\n",
    "    # masked = np.logical_and(comp_mask, np.logical_and(mag_mask, dir_mask))\n",
    "    # masked = np.logical_or(masked, hsv_mask)\n",
    "\n",
    "    hsv_mask, hsv_selected = hsv_color_select(corrected_bgr_image)\n",
    "\n",
    "    hsv_final = region_of_interest(hsv_mask)\n",
    "\n",
    "    warped = cv2.warpPerspective(hsv_final, M, (hsv_final.shape[1], hsv_final.shape[0]), flags=cv2.INTER_LINEAR)\n",
    "    \n",
    "    (left_fit, right_fit), (left_curverad, right_curverad) = yield_poly_fit_lines(warped)\n",
    "    warped = draw_lanes_to_image(warped, corrected_bgr_image, left_fit, right_fit, left_curverad, right_curverad)\n",
    "    final = warped\n",
    "    return warped\n"
   ]
  },
  {
   "cell_type": "code",
   "execution_count": 106,
   "metadata": {
    "collapsed": false,
    "scrolled": true
   },
   "outputs": [
    {
     "name": "stdout",
     "output_type": "stream",
     "text": [
      "1135.95873178\n",
      "(array([ -2.64136130e-04,   3.57729437e-01,   3.32732156e+02]), array([ -1.44661193e-04,   2.99599944e-01,   8.53830233e+02])) (621.91316830381231, 1135.9587317762914)\n",
      "[MoviePy] >>>> Building video white.mp4\n",
      "[MoviePy] Writing video white.mp4\n"
     ]
    },
    {
     "name": "stderr",
     "output_type": "stream",
     "text": [
      "\n",
      "\n",
      "\n",
      "\n",
      "\n",
      "\n",
      "\n",
      "\n",
      "\r",
      "  0%|          | 0/1261 [00:00<?, ?it/s]"
     ]
    },
    {
     "name": "stdout",
     "output_type": "stream",
     "text": [
      "1135.95873178\n",
      "(array([ -2.64136130e-04,   3.57729437e-01,   3.32732156e+02]), array([ -1.44661193e-04,   2.99599944e-01,   8.53830233e+02])) (621.91316830381231, 1135.9587317762914)\n"
     ]
    },
    {
     "name": "stderr",
     "output_type": "stream",
     "text": [
      "\u001b[A\u001b[A\u001b[A\u001b[A\u001b[A\u001b[A\u001b[A\u001b[A\n",
      "\n",
      "\n",
      "\n",
      "\n",
      "\n",
      "\n",
      "\n",
      "\r",
      "  0%|          | 2/1261 [00:00<01:43, 12.12it/s]"
     ]
    },
    {
     "name": "stdout",
     "output_type": "stream",
     "text": [
      "819.243289144\n",
      "(array([ -2.63665528e-04,   3.58448399e-01,   3.32892079e+02]), array([ -2.00593325e-04,   3.57622401e-01,   8.37411620e+02])) (623.02687354810575, 819.24328914374325)\n"
     ]
    },
    {
     "name": "stderr",
     "output_type": "stream",
     "text": [
      "\u001b[A\u001b[A\u001b[A\u001b[A\u001b[A\u001b[A\u001b[A\u001b[A"
     ]
    },
    {
     "name": "stdout",
     "output_type": "stream",
     "text": [
      "752.181250704\n",
      "(array([ -2.71815501e-04,   3.68112009e-01,   3.30795627e+02]), array([ -2.18487913e-04,   3.80638803e-01,   8.28935002e+02])) (604.35206662287624, 752.18125070371275)\n"
     ]
    },
    {
     "name": "stderr",
     "output_type": "stream",
     "text": [
      "\n",
      "\n",
      "\n",
      "\n",
      "\n",
      "\n",
      "\n",
      "\n",
      "\r",
      "  0%|          | 4/1261 [00:00<01:37, 12.83it/s]"
     ]
    },
    {
     "name": "stdout",
     "output_type": "stream",
     "text": [
      "717.513654793\n",
      "(array([ -2.71370046e-04,   3.71145968e-01,   3.29813029e+02]), array([ -2.29058059e-04,   3.97851652e-01,   8.21723751e+02])) (605.35512654692582, 717.51365479339574)\n"
     ]
    },
    {
     "name": "stderr",
     "output_type": "stream",
     "text": [
      "\u001b[A\u001b[A\u001b[A\u001b[A\u001b[A\u001b[A\u001b[A\u001b[A"
     ]
    },
    {
     "name": "stdout",
     "output_type": "stream",
     "text": [
      "735.863471595\n",
      "(array([ -2.93654774e-04,   3.89870131e-01,   3.26655624e+02]), array([ -2.23348221e-04,   3.93438842e-01,   8.21735945e+02])) (559.40835876254312, 735.86347159531442)\n"
     ]
    },
    {
     "name": "stderr",
     "output_type": "stream",
     "text": [
      "\n",
      "\n",
      "\n",
      "\n",
      "\n",
      "\n",
      "\n",
      "\n",
      "\r",
      "  0%|          | 6/1261 [00:00<01:35, 13.11it/s]"
     ]
    },
    {
     "name": "stdout",
     "output_type": "stream",
     "text": [
      "709.725979259\n",
      "(array([ -2.88113769e-04,   3.92511584e-01,   3.24022444e+02]), array([ -2.31584330e-04,   4.06632668e-01,   8.15252868e+02])) (570.19142882391509, 709.72597925865796)\n"
     ]
    },
    {
     "name": "stderr",
     "output_type": "stream",
     "text": [
      "\u001b[A\u001b[A\u001b[A\u001b[A\u001b[A\u001b[A\u001b[A\u001b[A"
     ]
    },
    {
     "name": "stdout",
     "output_type": "stream",
     "text": [
      "903.271225253\n",
      "(array([ -2.67757994e-04,   3.82353393e-01,   3.23176444e+02]), array([ -1.81987223e-04,   3.73758608e-01,   8.21517562e+02])) (613.57262811662144, 903.27122525325228)\n"
     ]
    },
    {
     "name": "stderr",
     "output_type": "stream",
     "text": [
      "\n",
      "\n",
      "\n",
      "\n",
      "\n",
      "\n",
      "\n",
      "\n",
      "\r",
      "  1%|          | 8/1261 [00:00<01:35, 13.15it/s]"
     ]
    },
    {
     "name": "stdout",
     "output_type": "stream",
     "text": [
      "1244.12328915\n",
      "(array([ -2.57488882e-04,   3.77634875e-01,   3.23510563e+02]), array([ -1.32161232e-04,   3.50417076e-01,   8.18090807e+02])) (638.06323041643191, 1244.1232891467075)\n"
     ]
    },
    {
     "name": "stderr",
     "output_type": "stream",
     "text": [
      "\u001b[A\u001b[A\u001b[A\u001b[A\u001b[A\u001b[A\u001b[A\u001b[A"
     ]
    },
    {
     "name": "stdout",
     "output_type": "stream",
     "text": [
      "2233.84124019\n",
      "(array([ -2.47271192e-04,   3.74401577e-01,   3.21114761e+02]), array([ -7.36103041e-05,   2.99154055e-01,   8.29667033e+02])) (664.45735166063719, 2233.8412401875526)\n"
     ]
    },
    {
     "name": "stderr",
     "output_type": "stream",
     "text": [
      "\n",
      "\n",
      "\n",
      "\n",
      "\n",
      "\n",
      "\n",
      "\n",
      "\r",
      "  1%|          | 10/1261 [00:00<01:33, 13.41it/s]"
     ]
    },
    {
     "name": "stdout",
     "output_type": "stream",
     "text": [
      "1361.74917563\n",
      "(array([ -2.34803423e-04,   3.66445170e-01,   3.20821708e+02]), array([ -1.20739363e-04,   3.34813811e-01,   8.22823879e+02])) (699.75804801225195, 1361.7491756250386)\n"
     ]
    },
    {
     "name": "stderr",
     "output_type": "stream",
     "text": [
      "\u001b[A\u001b[A\u001b[A\u001b[A\u001b[A\u001b[A\u001b[A\u001b[A"
     ]
    },
    {
     "name": "stdout",
     "output_type": "stream",
     "text": [
      "1011.44469125\n",
      "(array([ -2.25614169e-04,   3.64609307e-01,   3.18948708e+02]), array([ -1.62548524e-04,   3.70360584e-01,   8.13240069e+02])) (728.29464454925176, 1011.4446912549727)\n"
     ]
    },
    {
     "name": "stderr",
     "output_type": "stream",
     "text": [
      "\n",
      "\n",
      "\n",
      "\n",
      "\n",
      "\n",
      "\n",
      "\n",
      "\r",
      "  1%|          | 12/1261 [00:00<01:32, 13.56it/s]"
     ]
    },
    {
     "name": "stdout",
     "output_type": "stream",
     "text": [
      "1397.54869988\n",
      "(array([ -2.05872631e-04,   3.55864550e-01,   3.13931390e+02]), array([ -1.17623333e-04,   3.12294818e-01,   8.35671762e+02])) (798.19247969264347, 1397.5486998764436)\n"
     ]
    },
    {
     "name": "stderr",
     "output_type": "stream",
     "text": [
      "\u001b[A\u001b[A\u001b[A\u001b[A\u001b[A\u001b[A\u001b[A\u001b[A"
     ]
    },
    {
     "name": "stdout",
     "output_type": "stream",
     "text": [
      "2693.22609205\n",
      "(array([ -2.02749150e-04,   3.53384776e-01,   3.14070639e+02]), array([ -6.10421367e-05,   2.67814000e-01,   8.40402802e+02])) (810.49236013403015, 2693.226092049093)\n"
     ]
    },
    {
     "name": "stderr",
     "output_type": "stream",
     "text": [
      "\n",
      "\n",
      "\n",
      "\n",
      "\n",
      "\n",
      "\n",
      "\n",
      "\r",
      "  1%|          | 14/1261 [00:01<01:31, 13.60it/s]"
     ]
    },
    {
     "name": "stdout",
     "output_type": "stream",
     "text": [
      "2192.20985582\n",
      "(array([ -1.74931582e-04,   3.32293220e-01,   3.16970556e+02]), array([ -7.49923499e-05,   2.80417250e-01,   8.35866691e+02])) (939.41772478142957, 2192.2098558190032)\n"
     ]
    },
    {
     "name": "stderr",
     "output_type": "stream",
     "text": [
      "\u001b[A\u001b[A\u001b[A\u001b[A\u001b[A\u001b[A\u001b[A\u001b[A"
     ]
    },
    {
     "name": "stdout",
     "output_type": "stream",
     "text": [
      "909.963373768\n",
      "(array([ -2.02588878e-04,   3.52466896e-01,   3.15436055e+02]), array([ -1.80687391e-04,   3.93615785e-01,   8.01721411e+02])) (811.12882381525947, 909.9633737684976)\n"
     ]
    },
    {
     "name": "stderr",
     "output_type": "stream",
     "text": [
      "\n",
      "\n",
      "\n",
      "\n",
      "\n",
      "\n",
      "\n",
      "\n",
      "\r",
      "  1%|▏         | 16/1261 [00:01<01:35, 13.01it/s]"
     ]
    },
    {
     "name": "stdout",
     "output_type": "stream",
     "text": [
      "2008.05048285\n",
      "(array([ -2.06921531e-04,   3.57815573e-01,   3.14247906e+02]), array([ -8.18847927e-05,   3.04357846e-01,   8.13857811e+02])) (794.15212555672531, 2008.0504828524172)\n"
     ]
    },
    {
     "name": "stderr",
     "output_type": "stream",
     "text": [
      "\u001b[A\u001b[A\u001b[A\u001b[A\u001b[A\u001b[A\u001b[A\u001b[A"
     ]
    },
    {
     "name": "stdout",
     "output_type": "stream",
     "text": [
      "1149.91145225\n",
      "(array([ -2.13375925e-04,   3.60728225e-01,   3.13362427e+02]), array([ -1.42995175e-04,   3.64688320e-01,   7.98890074e+02])) (770.11064579894503, 1149.911452246879)\n"
     ]
    },
    {
     "name": "stderr",
     "output_type": "stream",
     "text": [
      "\n",
      "\n",
      "\n",
      "\n",
      "\n",
      "\n",
      "\n",
      "\n",
      "\r",
      "  1%|▏         | 18/1261 [00:01<01:33, 13.31it/s]"
     ]
    },
    {
     "name": "stdout",
     "output_type": "stream",
     "text": [
      "875.530441829\n",
      "(array([ -2.30632926e-04,   3.74740401e-01,   3.11001095e+02]), array([ -1.87825688e-04,   4.16065170e-01,   7.82474017e+02])) (712.47389861950137, 875.53044182882843)\n"
     ]
    },
    {
     "name": "stderr",
     "output_type": "stream",
     "text": [
      "\u001b[A\u001b[A\u001b[A\u001b[A\u001b[A\u001b[A\u001b[A\u001b[A"
     ]
    },
    {
     "name": "stdout",
     "output_type": "stream",
     "text": [
      "938.653185838\n",
      "(array([ -2.12833602e-04,   3.60263683e-01,   3.11484780e+02]), array([ -1.75169634e-04,   3.90953135e-01,   7.93670229e+02])) (772.07329772519688, 938.65318583779117)\n"
     ]
    },
    {
     "name": "stderr",
     "output_type": "stream",
     "text": [
      "\n",
      "\n",
      "\n",
      "\n",
      "\n",
      "\n",
      "\n",
      "\n",
      "\r",
      "  2%|▏         | 20/1261 [00:01<01:31, 13.56it/s]"
     ]
    },
    {
     "name": "stdout",
     "output_type": "stream",
     "text": [
      "1056.99977159\n",
      "(array([ -1.90331655e-04,   3.42724453e-01,   3.12269873e+02]), array([ -1.55560280e-04,   3.74181560e-01,   7.99343556e+02])) (863.37835119081319, 1056.9997715901698)\n"
     ]
    },
    {
     "name": "stderr",
     "output_type": "stream",
     "text": [
      "\u001b[A\u001b[A\u001b[A\u001b[A\u001b[A\u001b[A\u001b[A\u001b[A"
     ]
    },
    {
     "name": "stdout",
     "output_type": "stream",
     "text": [
      "1128.06696374\n",
      "(array([ -1.78651059e-04,   3.33357863e-01,   3.11898644e+02]), array([ -1.45739968e-04,   3.51620955e-01,   8.10656795e+02])) (919.84110287819362, 1128.0669637403951)\n"
     ]
    },
    {
     "name": "stderr",
     "output_type": "stream",
     "text": [
      "\n",
      "\n",
      "\n",
      "\n",
      "\n",
      "\n",
      "\n",
      "\n",
      "\r",
      "  2%|▏         | 22/1261 [00:01<01:29, 13.90it/s]"
     ]
    },
    {
     "name": "stdout",
     "output_type": "stream",
     "text": [
      "1194.77369119\n",
      "(array([ -1.81127401e-04,   3.37281114e-01,   3.08448317e+02]), array([ -1.37584169e-04,   3.29939401e-01,   8.22360025e+02])) (907.27620662725269, 1194.7736911883867)\n"
     ]
    },
    {
     "name": "stderr",
     "output_type": "stream",
     "text": [
      "\u001b[A\u001b[A\u001b[A\u001b[A\u001b[A\u001b[A\u001b[A\u001b[A"
     ]
    },
    {
     "name": "stdout",
     "output_type": "stream",
     "text": [
      "1400.35220254\n",
      "(array([ -1.80470889e-04,   3.34651566e-01,   3.07305727e+02]), array([ -1.17376826e-04,   3.02042925e-01,   8.32898389e+02])) (910.56240421146424, 1400.3522025429563)\n"
     ]
    },
    {
     "name": "stderr",
     "output_type": "stream",
     "text": [
      "\n",
      "\n",
      "\n",
      "\n",
      "\n",
      "\n",
      "\n",
      "\n",
      "\r",
      "  2%|▏         | 24/1261 [00:01<01:28, 13.96it/s]"
     ]
    },
    {
     "name": "stdout",
     "output_type": "stream",
     "text": [
      "964.429688068\n",
      "(array([ -2.06412230e-04,   3.48043429e-01,   3.08266329e+02]), array([ -1.70421828e-04,   3.46856768e-01,   8.22155521e+02])) (796.05650064343604, 964.42968806847239)\n"
     ]
    },
    {
     "name": "stderr",
     "output_type": "stream",
     "text": [
      "\u001b[A\u001b[A\u001b[A\u001b[A\u001b[A\u001b[A\u001b[A\u001b[A"
     ]
    },
    {
     "name": "stdout",
     "output_type": "stream",
     "text": [
      "997.403826073\n",
      "(array([ -2.06375582e-04,   3.45380341e-01,   3.09441429e+02]), array([ -1.64793516e-04,   3.45410444e-01,   8.20166989e+02])) (796.1828606837538, 997.4038260733771)\n"
     ]
    },
    {
     "name": "stderr",
     "output_type": "stream",
     "text": [
      "\n",
      "\n",
      "\n",
      "\n",
      "\n",
      "\n",
      "\n",
      "\n",
      "\r",
      "  2%|▏         | 26/1261 [00:01<01:27, 14.16it/s]"
     ]
    },
    {
     "name": "stdout",
     "output_type": "stream",
     "text": [
      "1190.58093978\n",
      "(array([ -1.86966757e-04,   3.26571513e-01,   3.11578396e+02]), array([ -1.38041709e-04,   3.08725856e-01,   8.35154152e+02])) (878.83267805775586, 1190.5809397834387)\n"
     ]
    },
    {
     "name": "stderr",
     "output_type": "stream",
     "text": [
      "\u001b[A\u001b[A\u001b[A\u001b[A\u001b[A\u001b[A\u001b[A\u001b[A"
     ]
    },
    {
     "name": "stdout",
     "output_type": "stream",
     "text": [
      "918.290242392\n",
      "(array([ -1.97676207e-04,   3.33363890e-01,   3.10123245e+02]), array([ -1.78967540e-04,   3.43900712e-01,   8.29565761e+02])) (831.20006062408129, 918.29024239176999)\n",
      "1041.4587406\n",
      "(array([ -2.04558197e-04,   3.38359843e-01,   3.07694839e+02]), array([ -1.57784472e-04,   3.09725675e-01,   8.45296061e+02])) (803.22692252005686, 1041.4587405983707)\n"
     ]
    },
    {
     "name": "stderr",
     "output_type": "stream",
     "text": [
      "\n",
      "\n",
      "\n",
      "\n",
      "\n",
      "\n",
      "\n",
      "\n",
      "\r",
      "  2%|▏         | 28/1261 [00:02<01:25, 14.49it/s]"
     ]
    },
    {
     "name": "stdout",
     "output_type": "stream",
     "text": [
      "818.518005861\n",
      "(array([ -2.15804658e-04,   3.43743779e-01,   3.09237480e+02]), array([ -2.00769356e-04,   3.56716161e-01,   8.31675838e+02])) (761.33978982141957, 818.51800586122317)\n"
     ]
    },
    {
     "name": "stderr",
     "output_type": "stream",
     "text": [
      "\u001b[A\u001b[A\u001b[A\u001b[A\u001b[A\u001b[A\u001b[A\u001b[A\n",
      "\n",
      "\n",
      "\n",
      "\n",
      "\n",
      "\n",
      "\n",
      "  2%|▏         | 30/1261 [00:02<01:22, 14.93it/s]"
     ]
    },
    {
     "name": "stdout",
     "output_type": "stream",
     "text": [
      "649.339001555\n",
      "(array([ -2.46061593e-04,   3.62990635e-01,   3.09012693e+02]), array([ -2.53099385e-04,   4.17364901e-01,   8.12909664e+02])) (667.68014816109951, 649.33900155490687)\n"
     ]
    },
    {
     "name": "stderr",
     "output_type": "stream",
     "text": [
      "\u001b[A\u001b[A\u001b[A\u001b[A\u001b[A\u001b[A\u001b[A\u001b[A\n",
      "\n",
      "\n",
      "\n",
      "\n",
      "\n",
      "\n",
      "\n",
      "  3%|▎         | 32/1261 [00:02<01:20, 15.32it/s]"
     ]
    },
    {
     "name": "stdout",
     "output_type": "stream",
     "text": [
      "704.348507908\n",
      "(array([ -2.77272745e-04,   3.88554974e-01,   3.06802805e+02]), array([ -2.33362507e-04,   4.13146690e-01,   8.06966072e+02])) (592.50719451134671, 704.34850790847804)\n",
      "634.816742753\n",
      "(array([ -2.97057360e-04,   4.01706847e-01,   3.07770961e+02]), array([ -2.58945244e-04,   4.46974906e-01,   7.92153371e+02])) (553.02640309505205, 634.816742753178)\n",
      "1105.00807074\n",
      "(array([ -2.93948357e-04,   4.01177390e-01,   3.06134324e+02]), array([ -1.48805789e-04,   3.70160539e-01,   8.08242736e+02])) (558.88339493038848, 1105.0080707433608)\n"
     ]
    },
    {
     "name": "stderr",
     "output_type": "stream",
     "text": [
      "\u001b[A\u001b[A\u001b[A\u001b[A\u001b[A\u001b[A\u001b[A\u001b[A"
     ]
    },
    {
     "name": "stdout",
     "output_type": "stream",
     "text": [
      "975.02483939\n",
      "(array([ -3.16628495e-04,   4.19909743e-01,   3.04758690e+02]), array([ -1.68639633e-04,   3.87102204e-01,   8.02601344e+02])) (518.84156444362873, 975.02483938998887)\n"
     ]
    },
    {
     "name": "stderr",
     "output_type": "stream",
     "text": [
      "\n",
      "\n",
      "\n",
      "\n",
      "\n",
      "\n",
      "\n",
      "\n",
      "  3%|▎         | 34/1261 [00:02<01:20, 15.17it/s]\u001b[A\u001b[A\u001b[A\u001b[A\u001b[A\u001b[A\u001b[A\u001b[A"
     ]
    },
    {
     "name": "stdout",
     "output_type": "stream",
     "text": [
      "884.851557914\n",
      "(array([ -3.35395281e-04,   4.33249677e-01,   3.04147923e+02]), array([ -1.85812272e-04,   3.97024714e-01,   8.00931344e+02])) (489.79762319340131, 884.85155791363866)\n"
     ]
    },
    {
     "name": "stderr",
     "output_type": "stream",
     "text": [
      "\n",
      "\n",
      "\n",
      "\n",
      "\n",
      "\n",
      "\n",
      "\n",
      "\r",
      "  3%|▎         | 36/1261 [00:02<01:22, 14.86it/s]"
     ]
    },
    {
     "name": "stdout",
     "output_type": "stream",
     "text": [
      "916.005263459\n",
      "(array([ -3.45944411e-04,   4.47124090e-01,   3.01783576e+02]), array([ -1.79511676e-04,   4.00768008e-01,   7.94846862e+02])) (474.87159145615891, 916.0052634591176)\n"
     ]
    },
    {
     "name": "stderr",
     "output_type": "stream",
     "text": [
      "\u001b[A\u001b[A\u001b[A\u001b[A\u001b[A\u001b[A\u001b[A\u001b[A"
     ]
    },
    {
     "name": "stdout",
     "output_type": "stream",
     "text": [
      "1107.30117678\n",
      "(array([ -3.45449165e-04,   4.50493501e-01,   3.00480612e+02]), array([ -1.48501737e-04,   3.72378685e-01,   7.99084303e+02])) (475.56270219538078, 1107.3011767771359)\n"
     ]
    },
    {
     "name": "stderr",
     "output_type": "stream",
     "text": [
      "\n",
      "\n",
      "\n",
      "\n",
      "\n",
      "\n",
      "\n",
      "\n",
      "\r",
      "  3%|▎         | 38/1261 [00:02<01:26, 14.21it/s]"
     ]
    },
    {
     "name": "stdout",
     "output_type": "stream",
     "text": [
      "853.209293977\n",
      "(array([ -3.48571848e-04,   4.55514628e-01,   3.00223715e+02]), array([ -1.92724015e-04,   4.13606693e-01,   7.88572495e+02])) (471.30788823545475, 853.20929397651025)\n"
     ]
    },
    {
     "name": "stderr",
     "output_type": "stream",
     "text": [
      "\u001b[A\u001b[A\u001b[A\u001b[A\u001b[A\u001b[A\u001b[A\u001b[A"
     ]
    },
    {
     "name": "stdout",
     "output_type": "stream",
     "text": [
      "1120.50769233\n",
      "(array([ -3.71444367e-04,   4.76379468e-01,   2.97235751e+02]), array([ -1.46762019e-04,   3.77105508e-01,   7.91171430e+02])) (442.28324187115811, 1120.507692329734)\n"
     ]
    },
    {
     "name": "stderr",
     "output_type": "stream",
     "text": [
      "\n",
      "\n",
      "\n",
      "\n",
      "\n",
      "\n",
      "\n",
      "\n",
      "\r",
      "  3%|▎         | 40/1261 [00:02<01:28, 13.84it/s]"
     ]
    },
    {
     "name": "stdout",
     "output_type": "stream",
     "text": [
      "880.9209565\n",
      "(array([ -3.50795859e-04,   4.63856516e-01,   2.97228309e+02]), array([ -1.86659041e-04,   4.06645711e-01,   7.87826426e+02])) (468.33723884016644, 880.92095649962482)\n"
     ]
    },
    {
     "name": "stderr",
     "output_type": "stream",
     "text": [
      "\u001b[A\u001b[A\u001b[A\u001b[A\u001b[A\u001b[A\u001b[A\u001b[A"
     ]
    },
    {
     "name": "stdout",
     "output_type": "stream",
     "text": [
      "902.069863083\n",
      "(array([ -3.32043421e-04,   4.53242478e-01,   2.97350871e+02]), array([ -1.82283270e-04,   4.02657379e-01,   7.88191807e+02])) (494.8100638867752, 902.0698630827327)\n"
     ]
    },
    {
     "name": "stderr",
     "output_type": "stream",
     "text": [
      "\n",
      "\n",
      "\n",
      "\n",
      "\n",
      "\n",
      "\n",
      "\n",
      "\r",
      "  3%|▎         | 42/1261 [00:03<01:28, 13.81it/s]"
     ]
    },
    {
     "name": "stdout",
     "output_type": "stream",
     "text": [
      "924.515316758\n",
      "(array([ -3.33154929e-04,   4.55727770e-01,   2.97002853e+02]), array([ -1.77842123e-04,   3.90229709e-01,   7.94216438e+02])) (493.16378802743429, 924.51531675772378)\n"
     ]
    },
    {
     "name": "stderr",
     "output_type": "stream",
     "text": [
      "\u001b[A\u001b[A\u001b[A\u001b[A\u001b[A\u001b[A\u001b[A\u001b[A"
     ]
    },
    {
     "name": "stdout",
     "output_type": "stream",
     "text": [
      "653.625028434\n",
      "(array([ -3.15928157e-04,   4.47064206e-01,   2.95792462e+02]), array([ -2.51548376e-04,   4.61302178e-01,   7.80519381e+02])) (520.08241211469101, 653.62502843413847)\n"
     ]
    },
    {
     "name": "stderr",
     "output_type": "stream",
     "text": [
      "\n",
      "\n",
      "\n",
      "\n",
      "\n",
      "\n",
      "\n",
      "\n",
      "\r",
      "  3%|▎         | 44/1261 [00:03<01:26, 14.12it/s]"
     ]
    },
    {
     "name": "stdout",
     "output_type": "stream",
     "text": [
      "648.924703213\n",
      "(array([ -2.99898159e-04,   4.38269667e-01,   2.94439245e+02]), array([ -2.53339356e-04,   4.51144351e-01,   7.88747507e+02])) (547.90722761158304, 648.92470321280268)\n"
     ]
    },
    {
     "name": "stderr",
     "output_type": "stream",
     "text": [
      "\u001b[A\u001b[A\u001b[A\u001b[A\u001b[A\u001b[A\u001b[A\u001b[A"
     ]
    },
    {
     "name": "stdout",
     "output_type": "stream",
     "text": [
      "601.068991428\n",
      "(array([ -2.85380709e-04,   4.30032569e-01,   2.94097935e+02]), array([ -2.73499471e-04,   4.66756715e-01,   7.88385214e+02])) (575.80379047599979, 601.06899142847931)\n"
     ]
    },
    {
     "name": "stderr",
     "output_type": "stream",
     "text": [
      "\n",
      "\n",
      "\n",
      "\n",
      "\n",
      "\n",
      "\n",
      "\n",
      "\r",
      "  4%|▎         | 46/1261 [00:03<01:26, 14.09it/s]"
     ]
    },
    {
     "name": "stdout",
     "output_type": "stream",
     "text": [
      "766.838953459\n",
      "(array([ -2.71504716e-04,   4.21294403e-01,   2.93976861e+02]), array([ -2.14414307e-04,   4.27326979e-01,   7.93261076e+02])) (605.25301864457606, 766.83895345914152)\n"
     ]
    },
    {
     "name": "stderr",
     "output_type": "stream",
     "text": [
      "\u001b[A\u001b[A\u001b[A\u001b[A\u001b[A\u001b[A\u001b[A\u001b[A"
     ]
    },
    {
     "name": "stdout",
     "output_type": "stream",
     "text": [
      "835.334185028\n",
      "(array([ -2.57834556e-04,   4.12169617e-01,   2.94038262e+02]), array([ -1.96827281e-04,   4.07759663e-01,   7.99364117e+02])) (637.36300174128394, 835.33418502806524)\n"
     ]
    },
    {
     "name": "stderr",
     "output_type": "stream",
     "text": [
      "\n",
      "\n",
      "\n",
      "\n",
      "\n",
      "\n",
      "\n",
      "\n",
      "\r",
      "  4%|▍         | 48/1261 [00:03<01:26, 14.06it/s]"
     ]
    },
    {
     "name": "stdout",
     "output_type": "stream",
     "text": [
      "825.082767301\n",
      "(array([ -2.50393826e-04,   4.08137099e-01,   2.93921522e+02]), array([ -1.99290653e-04,   4.18451447e-01,   7.92395631e+02])) (656.31932436751038, 825.08276730114596)\n"
     ]
    },
    {
     "name": "stderr",
     "output_type": "stream",
     "text": [
      "\u001b[A\u001b[A\u001b[A\u001b[A\u001b[A\u001b[A\u001b[A\u001b[A"
     ]
    },
    {
     "name": "stdout",
     "output_type": "stream",
     "text": [
      "762.250477447\n",
      "(array([ -2.21965771e-04,   3.90322734e-01,   2.92994016e+02]), array([ -2.15674093e-04,   4.14690909e-01,   8.00629466e+02])) (740.43520273276636, 762.25047744744381)\n"
     ]
    },
    {
     "name": "stderr",
     "output_type": "stream",
     "text": [
      "\n",
      "\n",
      "\n",
      "\n",
      "\n",
      "\n",
      "\n",
      "\n",
      "\r",
      "  4%|▍         | 50/1261 [00:03<01:23, 14.43it/s]"
     ]
    },
    {
     "name": "stdout",
     "output_type": "stream",
     "text": [
      "838.826743227\n",
      "(array([ -2.12007204e-04,   3.82380428e-01,   2.94189472e+02]), array([ -1.96005154e-04,   4.05703609e-01,   7.98778726e+02])) (775.22627569421047, 838.82674322739194)\n"
     ]
    },
    {
     "name": "stderr",
     "output_type": "stream",
     "text": [
      "\u001b[A\u001b[A\u001b[A\u001b[A\u001b[A\u001b[A\u001b[A\u001b[A"
     ]
    },
    {
     "name": "stdout",
     "output_type": "stream",
     "text": [
      "929.400816125\n",
      "(array([ -2.07218897e-04,   3.80522836e-01,   2.93101210e+02]), array([ -1.76904772e-04,   3.87989417e-01,   8.01930353e+02])) (793.15869676984278, 929.40081612456936)\n",
      "704.308007304\n",
      "(array([ -1.86992794e-04,   3.60308817e-01,   2.98219070e+02]), array([ -2.33449770e-04,   4.45201878e-01,   7.85310062e+02])) (878.94469750238807, 704.30800730389944)\n"
     ]
    },
    {
     "name": "stderr",
     "output_type": "stream",
     "text": [
      "\n",
      "\n",
      "\n",
      "\n",
      "\n",
      "\n",
      "\n",
      "\n",
      "\r",
      "  4%|▍         | 52/1261 [00:03<01:22, 14.64it/s]"
     ]
    },
    {
     "name": "stdout",
     "output_type": "stream",
     "text": [
      "983.929647059\n",
      "(array([ -1.97988955e-04,   3.69736018e-01,   2.96552951e+02]), array([ -1.67112580e-04,   3.85182847e-01,   7.94977375e+02])) (830.1206029599158, 983.92964705870497)\n"
     ]
    },
    {
     "name": "stderr",
     "output_type": "stream",
     "text": [
      "\u001b[A\u001b[A\u001b[A\u001b[A\u001b[A\u001b[A\u001b[A\u001b[A"
     ]
    },
    {
     "name": "stdout",
     "output_type": "stream",
     "text": [
      "779.688254816\n",
      "(array([ -1.93185514e-04,   3.66716073e-01,   2.96266276e+02]), array([ -2.10893211e-04,   4.29409997e-01,   7.82955314e+02])) (850.77283996993481, 779.68825481645717)\n"
     ]
    },
    {
     "name": "stderr",
     "output_type": "stream",
     "text": [
      "\n",
      "\n",
      "\n",
      "\n",
      "\n",
      "\n",
      "\n",
      "\n",
      "  4%|▍         | 54/1261 [00:03<01:21, 14.84it/s]\u001b[A\u001b[A\u001b[A\u001b[A\u001b[A\u001b[A\u001b[A\u001b[A"
     ]
    },
    {
     "name": "stdout",
     "output_type": "stream",
     "text": [
      "591.371398226\n",
      "(array([ -1.76737294e-04,   3.49784077e-01,   2.98956405e+02]), array([ -2.78051687e-04,   4.94357042e-01,   7.69626582e+02])) (929.94154493548456, 591.37139822598328)\n"
     ]
    },
    {
     "name": "stderr",
     "output_type": "stream",
     "text": [
      "\n",
      "\n",
      "\n",
      "\n",
      "\n",
      "\n",
      "\n",
      "\n",
      "\r",
      "  4%|▍         | 56/1261 [00:03<01:23, 14.47it/s]"
     ]
    },
    {
     "name": "stdout",
     "output_type": "stream",
     "text": [
      "640.446818176\n",
      "(array([ -1.76481615e-04,   3.47625525e-01,   2.99061169e+02]), array([ -2.56735437e-04,   4.70305321e-01,   7.76498525e+02])) (931.27340211730427, 640.44681817557819)\n"
     ]
    },
    {
     "name": "stderr",
     "output_type": "stream",
     "text": [
      "\u001b[A\u001b[A\u001b[A\u001b[A\u001b[A\u001b[A\u001b[A\u001b[A"
     ]
    },
    {
     "name": "stdout",
     "output_type": "stream",
     "text": [
      "605.940658633\n",
      "(array([ -1.85826480e-04,   3.54707339e-01,   2.97690415e+02]), array([ -2.71363898e-04,   4.87161571e-01,   7.71289884e+02])) (884.42711756882738, 605.94065863293804)\n"
     ]
    },
    {
     "name": "stderr",
     "output_type": "stream",
     "text": [
      "\n",
      "\n",
      "\n",
      "\n",
      "\n",
      "\n",
      "\n",
      "\n",
      "\r",
      "  5%|▍         | 58/1261 [00:04<01:25, 14.05it/s]"
     ]
    },
    {
     "name": "stdout",
     "output_type": "stream",
     "text": [
      "990.971578703\n",
      "(array([ -1.89739482e-04,   3.57060976e-01,   2.96702046e+02]), array([ -1.65983593e-04,   4.14567155e-01,   7.82278071e+02])) (866.17725797004471, 990.97157870327192)\n"
     ]
    },
    {
     "name": "stderr",
     "output_type": "stream",
     "text": [
      "\u001b[A\u001b[A\u001b[A\u001b[A\u001b[A\u001b[A\u001b[A\u001b[A"
     ]
    },
    {
     "name": "stdout",
     "output_type": "stream",
     "text": [
      "884.57797563\n",
      "(array([ -2.13978140e-04,   3.68822030e-01,   2.99041632e+02]), array([ -1.85961071e-04,   4.39626743e-01,   7.68909306e+02])) (767.98773377663429, 884.57797562968517)\n"
     ]
    },
    {
     "name": "stderr",
     "output_type": "stream",
     "text": [
      "\n",
      "\n",
      "\n",
      "\n",
      "\n",
      "\n",
      "\n",
      "\n",
      "\r",
      "  5%|▍         | 60/1261 [00:04<01:24, 14.14it/s]"
     ]
    },
    {
     "name": "stdout",
     "output_type": "stream",
     "text": [
      "961.872872177\n",
      "(array([ -2.28069999e-04,   3.74683810e-01,   3.00862269e+02]), array([ -1.71032806e-04,   4.32321583e-01,   7.63334943e+02])) (720.49320972501982, 961.87287217704159)\n"
     ]
    },
    {
     "name": "stderr",
     "output_type": "stream",
     "text": [
      "\u001b[A\u001b[A\u001b[A\u001b[A\u001b[A\u001b[A\u001b[A\u001b[A"
     ]
    },
    {
     "name": "stdout",
     "output_type": "stream",
     "text": [
      "872.768486585\n",
      "(array([ -2.24399718e-04,   3.65995493e-01,   3.04571150e+02]), array([ -1.88495600e-04,   4.49650674e-01,   7.57027600e+02])) (732.24963966151233, 872.76848658488711)\n",
      "924.08124297\n",
      "(array([ -2.26382301e-04,   3.63026414e-01,   3.07059617e+02]), array([ -1.78037453e-04,   4.43362003e-01,   7.54316524e+02])) "
     ]
    },
    {
     "name": "stderr",
     "output_type": "stream",
     "text": [
      "\n",
      "\n",
      "\n",
      "\n",
      "\n",
      "\n",
      "\n",
      "\n",
      "\r",
      "  5%|▍         | 62/1261 [00:04<01:23, 14.29it/s]"
     ]
    },
    {
     "name": "stdout",
     "output_type": "stream",
     "text": [
      "(725.81154961540528, 924.08124296993003)\n"
     ]
    },
    {
     "name": "stderr",
     "output_type": "stream",
     "text": [
      "\u001b[A\u001b[A\u001b[A\u001b[A\u001b[A\u001b[A\u001b[A\u001b[A"
     ]
    },
    {
     "name": "stdout",
     "output_type": "stream",
     "text": [
      "1966.91929947\n",
      "(array([ -2.16034683e-04,   3.51589779e-01,   3.08817070e+02]), array([ -8.36377232e-05,   3.46930437e-01,   7.78668749e+02])) (760.56843801200068, 1966.9192994726411)\n"
     ]
    },
    {
     "name": "stderr",
     "output_type": "stream",
     "text": [
      "\n",
      "\n",
      "\n",
      "\n",
      "\n",
      "\n",
      "\n",
      "\n",
      "  5%|▌         | 64/1261 [00:04<01:25, 14.07it/s]\u001b[A\u001b[A\u001b[A\u001b[A\u001b[A\u001b[A\u001b[A\u001b[A"
     ]
    },
    {
     "name": "stdout",
     "output_type": "stream",
     "text": [
      "826.880922837\n",
      "(array([ -2.32293834e-04,   3.59999569e-01,   3.09480010e+02]), array([ -1.98939246e-04,   4.53049510e-01,   7.54281703e+02])) (707.29873614936662, 826.88092283692788)\n",
      "1374.51673656\n",
      "(array([ -2.37548377e-04,   3.60875569e-01,   3.09445541e+02]), array([ -1.19654407e-04,   3.61020465e-01,   7.80673827e+02])) (691.63459640387521, 1374.5167365595223)\n"
     ]
    },
    {
     "name": "stderr",
     "output_type": "stream",
     "text": [
      "\n",
      "\n",
      "\n",
      "\n",
      "\n",
      "\n",
      "\n",
      "\n",
      "\r",
      "  5%|▌         | 66/1261 [00:04<01:29, 13.41it/s]"
     ]
    },
    {
     "name": "stdout",
     "output_type": "stream",
     "text": [
      "906.991193712\n",
      "(array([ -2.28286108e-04,   3.49168686e-01,   3.13324072e+02]), array([ -1.81338138e-04,   4.22839646e-01,   7.64442937e+02])) (719.68348815684396, 906.9911937116525)\n"
     ]
    },
    {
     "name": "stderr",
     "output_type": "stream",
     "text": [
      "\u001b[A\u001b[A\u001b[A\u001b[A\u001b[A\u001b[A\u001b[A\u001b[A\n",
      "\n",
      "\n",
      "\n",
      "\n",
      "\n",
      "\n",
      "\n",
      "  5%|▌         | 68/1261 [00:04<01:24, 14.10it/s]"
     ]
    },
    {
     "name": "stdout",
     "output_type": "stream",
     "text": [
      "865.887740737\n",
      "(array([ -2.27543405e-04,   3.46012799e-01,   3.14173252e+02]), array([ -1.89928198e-04,   4.23052448e-01,   7.66494654e+02])) (722.02157196183612, 865.88774073677723)\n",
      "815.901334529\n",
      "(array([ -2.28544079e-04,   3.43916767e-01,   3.14118162e+02]), array([ -2.01550022e-04,   4.28073832e-01,   7.68133504e+02])) (718.8468536322689, 815.90133452948567)\n"
     ]
    },
    {
     "name": "stderr",
     "output_type": "stream",
     "text": [
      "\u001b[A\u001b[A\u001b[A\u001b[A\u001b[A\u001b[A\u001b[A\u001b[A"
     ]
    },
    {
     "name": "stdout",
     "output_type": "stream",
     "text": [
      "965.60367269\n",
      "(array([ -2.20543209e-04,   3.36067193e-01,   3.16362450e+02]), array([ -1.70306606e-04,   4.00088449e-01,   7.70799598e+02])) (744.92443600637228, 965.6036726901167)\n"
     ]
    },
    {
     "name": "stderr",
     "output_type": "stream",
     "text": [
      "\n",
      "\n",
      "\n",
      "\n",
      "\n",
      "\n",
      "\n",
      "\n",
      "  6%|▌         | 70/1261 [00:04<01:26, 13.83it/s]\u001b[A\u001b[A\u001b[A\u001b[A\u001b[A\u001b[A\u001b[A\u001b[A"
     ]
    },
    {
     "name": "stdout",
     "output_type": "stream",
     "text": [
      "969.220625013\n",
      "(array([ -1.77929910e-04,   3.04119048e-01,   3.18920512e+02]), array([ -1.69649615e-04,   3.88113836e-01,   7.79182229e+02])) (923.38145558636916, 969.22062501255095)\n",
      "2102.39966834\n",
      "(array([ -1.82737335e-04,   3.05589019e-01,   3.19811250e+02]), array([ -7.82289974e-05,   3.22087123e-01,   7.88860118e+02])) (899.07130118530085, 2102.3996683364257)\n",
      "1952.84766754\n",
      "(array([ -1.66610718e-04,   2.93892071e-01,   3.19962970e+02]), array([ -8.42113768e-05,   3.19192172e-01,   7.92246150e+02])) (986.11817517526435, 1952.8476675395414)\n"
     ]
    },
    {
     "name": "stderr",
     "output_type": "stream",
     "text": [
      "\n",
      "\n",
      "\n",
      "\n",
      "\n",
      "\n",
      "\n",
      "\n",
      "\r",
      "  6%|▌         | 72/1261 [00:05<01:23, 14.31it/s]"
     ]
    },
    {
     "name": "stdout",
     "output_type": "stream",
     "text": [
      "2291.03944027\n",
      "(array([ -1.70870236e-04,   2.99572481e-01,   3.17239782e+02]), array([ -7.17747757e-05,   3.00193764e-01,   7.98245920e+02])) (961.54579461334015, 2291.0394402682664)\n"
     ]
    },
    {
     "name": "stderr",
     "output_type": "stream",
     "text": [
      "\u001b[A\u001b[A\u001b[A\u001b[A\u001b[A\u001b[A\u001b[A\u001b[A\n",
      "\n",
      "\n",
      "\n",
      "\n",
      "\n",
      "\n",
      "\n",
      "  6%|▌         | 74/1261 [00:05<01:21, 14.58it/s]\u001b[A\u001b[A\u001b[A\u001b[A\u001b[A\u001b[A\u001b[A\u001b[A"
     ]
    },
    {
     "name": "stdout",
     "output_type": "stream",
     "text": [
      "2166.39999654\n",
      "(array([ -1.59982440e-04,   2.90758098e-01,   3.18199503e+02]), array([ -7.58976410e-05,   2.96281405e-01,   7.99982646e+02])) (1026.9960111289333, 2166.3999965435837)\n",
      "1343.30927513\n",
      "(array([ -1.65365425e-04,   2.98701059e-01,   3.13407268e+02]), array([ -1.22377950e-04,   3.21298979e-01,   8.01385567e+02])) (993.58361869970724, 1343.3092751297497)\n",
      "1226.72414126\n",
      "(array([ -1.66776190e-04,   3.00181370e-01,   3.13213559e+02]), array([ -1.34003487e-04,   3.28636418e-01,   8.00043122e+02])) (985.1797055910846, 1226.7241412583198)\n"
     ]
    },
    {
     "name": "stderr",
     "output_type": "stream",
     "text": [
      "\n",
      "\n",
      "\n",
      "\n",
      "\n",
      "\n",
      "\n",
      "\n",
      "\r",
      "  6%|▌         | 76/1261 [00:05<01:19, 14.86it/s]"
     ]
    },
    {
     "name": "stdout",
     "output_type": "stream",
     "text": [
      "1448.02428372\n",
      "(array([ -1.40145699e-04,   2.81234808e-01,   3.11904564e+02]), array([ -1.13504831e-04,   2.90752656e-01,   8.18020024e+02])) (1172.4372904228351, 1448.0242837173905)\n"
     ]
    },
    {
     "name": "stderr",
     "output_type": "stream",
     "text": [
      "\u001b[A\u001b[A\u001b[A\u001b[A\u001b[A\u001b[A\u001b[A\u001b[A\n",
      "\n",
      "\n",
      "\n",
      "\n",
      "\n",
      "\n",
      "\n",
      "  6%|▌         | 78/1261 [00:05<01:20, 14.69it/s]\u001b[A\u001b[A\u001b[A\u001b[A\u001b[A\u001b[A\u001b[A\u001b[A"
     ]
    },
    {
     "name": "stdout",
     "output_type": "stream",
     "text": [
      "701.210358418\n",
      "(array([ -1.23379134e-04,   2.64788728e-01,   3.14174255e+02]), array([ -2.34371813e-04,   3.96940420e-01,   7.99343183e+02])) (1331.7619508303028, 701.21035841794151)\n",
      "680.892464519\n",
      "(array([ -1.04168614e-04,   2.48402254e-01,   3.15174537e+02]), array([ -2.41355704e-04,   3.98687244e-01,   8.01797618e+02])) (1577.3852897147103, 680.89246451925192)\n"
     ]
    },
    {
     "name": "stderr",
     "output_type": "stream",
     "text": [
      "\n",
      "\n",
      "\n",
      "\n",
      "\n",
      "\n",
      "\n",
      "\n",
      "\r",
      "  6%|▋         | 80/1261 [00:05<01:22, 14.35it/s]"
     ]
    },
    {
     "name": "stdout",
     "output_type": "stream",
     "text": [
      "732.621293874\n",
      "(array([ -1.07800490e-04,   2.47422652e-01,   3.15803953e+02]), array([ -2.24315727e-04,   3.83230755e-01,   8.04246569e+02])) (1524.1940213301034, 732.62129387377297)\n"
     ]
    },
    {
     "name": "stderr",
     "output_type": "stream",
     "text": [
      "\u001b[A\u001b[A\u001b[A\u001b[A\u001b[A\u001b[A\u001b[A\u001b[A\n",
      "\n",
      "\n",
      "\n",
      "\n",
      "\n",
      "\n",
      "\n",
      "  7%|▋         | 82/1261 [00:05<01:20, 14.69it/s]"
     ]
    },
    {
     "name": "stdout",
     "output_type": "stream",
     "text": [
      "645.016701816\n",
      "(array([ -1.37976164e-04,   2.62803368e-01,   3.16314460e+02]), array([ -2.54801790e-04,   4.21944789e-01,   7.90957590e+02])) (1190.7425234492357, 645.01670181620796)\n",
      "721.522641204\n",
      "(array([ -1.53238286e-04,   2.73154053e-01,   3.13801529e+02]), array([ -2.27775576e-04,   3.91553275e-01,   7.99499435e+02])) (1072.1192320148862, 721.52264120389611)\n",
      "745.216495161\n",
      "(array([ -1.37361430e-04,   2.56662246e-01,   3.16955986e+02]), array([ -2.20540772e-04,   3.88492130e-01,   7.99951380e+02])) (1196.0305700863155, 745.2164951606037)\n"
     ]
    },
    {
     "name": "stderr",
     "output_type": "stream",
     "text": [
      "\u001b[A\u001b[A\u001b[A\u001b[A\u001b[A\u001b[A\u001b[A\u001b[A\n",
      "\n",
      "\n",
      "\n",
      "\n",
      "\n",
      "\n",
      "\n",
      "  7%|▋         | 84/1261 [00:05<01:18, 15.01it/s]"
     ]
    },
    {
     "name": "stdout",
     "output_type": "stream",
     "text": [
      "1267.96167499\n",
      "(array([ -1.33047334e-04,   2.54762114e-01,   3.13233287e+02]), array([ -1.29627831e-04,   3.09918536e-01,   8.21892581e+02])) (1234.8290065208082, 1267.9616749938391)\n"
     ]
    },
    {
     "name": "stderr",
     "output_type": "stream",
     "text": [
      "\u001b[A\u001b[A\u001b[A\u001b[A\u001b[A\u001b[A\u001b[A\u001b[A\n",
      "\n",
      "\n",
      "\n",
      "\n",
      "\n",
      "\n",
      "\n",
      "  7%|▋         | 86/1261 [00:06<01:20, 14.60it/s]"
     ]
    },
    {
     "name": "stdout",
     "output_type": "stream",
     "text": [
      "1900.22959212\n",
      "(array([ -1.48080644e-04,   2.64442272e-01,   3.12794438e+02]), array([ -8.65086551e-05,   2.83666866e-01,   8.23819865e+02])) (1109.4360886839547, 1900.2295921246139)\n",
      "1338.86126064\n",
      "(array([ -1.65214250e-04,   2.76539529e-01,   3.11928850e+02]), array([ -1.22762343e-04,   3.02389701e-01,   8.22439024e+02])) (994.35651946300334, 1338.8612606405475)\n"
     ]
    },
    {
     "name": "stderr",
     "output_type": "stream",
     "text": [
      "\u001b[A\u001b[A\u001b[A\u001b[A\u001b[A\u001b[A\u001b[A\u001b[A"
     ]
    },
    {
     "name": "stdout",
     "output_type": "stream",
     "text": [
      "1552.40804091\n",
      "(array([ -1.77678985e-04,   2.75430338e-01,   3.19896652e+02]), array([ -1.05891836e-04,   3.02921753e-01,   8.11979518e+02])) (924.53430494518886, 1552.4080409095957)\n"
     ]
    },
    {
     "name": "stderr",
     "output_type": "stream",
     "text": [
      "\n",
      "\n",
      "\n",
      "\n",
      "\n",
      "\n",
      "\n",
      "\n",
      "  7%|▋         | 88/1261 [00:06<01:18, 14.86it/s]\u001b[A\u001b[A\u001b[A\u001b[A\u001b[A\u001b[A\u001b[A\u001b[A"
     ]
    },
    {
     "name": "stdout",
     "output_type": "stream",
     "text": [
      "1147.45187892\n",
      "(array([ -2.07167438e-04,   2.92457931e-01,   3.22292323e+02]), array([ -1.43268269e-04,   3.42593013e-01,   7.97833382e+02])) (792.89218258138339, 1147.4518789176079)\n",
      "1192.46858456\n",
      "(array([ -2.57319717e-04,   3.33804797e-01,   3.17130311e+02]), array([ -1.37863288e-04,   3.39968118e-01,   7.95278429e+02])) (638.33654966093457, 1192.468584558434)\n",
      "904.36045152\n",
      "(array([ -2.64865209e-04,   3.34686178e-01,   3.22503584e+02]), array([ -1.81803309e-04,   3.92855234e-01,   7.76021962e+02])) (620.13566725758801, 904.36045152017846)\n"
     ]
    },
    {
     "name": "stderr",
     "output_type": "stream",
     "text": [
      "\n",
      "\n",
      "\n",
      "\n",
      "\n",
      "\n",
      "\n",
      "\n",
      "  7%|▋         | 90/1261 [00:06<01:18, 14.93it/s]\u001b[A\u001b[A\u001b[A\u001b[A\u001b[A\u001b[A\u001b[A\u001b[A\n",
      "\n",
      "\n",
      "\n",
      "\n",
      "\n",
      "\n",
      "\n",
      "  7%|▋         | 92/1261 [00:06<01:21, 14.27it/s]\u001b[A\u001b[A\u001b[A\u001b[A\u001b[A\u001b[A\u001b[A\u001b[A"
     ]
    },
    {
     "name": "stdout",
     "output_type": "stream",
     "text": [
      "759.039476593\n",
      "(array([ -2.46671554e-04,   3.19750011e-01,   3.24579176e+02]), array([ -2.16579415e-04,   4.12282826e-01,   7.78665672e+02])) (665.8814065584196, 759.03947659252833)\n",
      "767.109346068\n",
      "(array([ -2.42798000e-04,   3.18663199e-01,   3.24400978e+02]), array([ -2.14293819e-04,   4.06645137e-01,   7.81505556e+02])) (676.51199603806697, 767.10934606835383)\n",
      "812.31162475\n",
      "(array([ -2.57821018e-04,   3.25902326e-01,   3.26521515e+02]), array([ -2.02376362e-04,   3.98860972e-01,   7.80383178e+02])) (637.07409070400638, 812.31162475014571)\n",
      "791.856166416\n",
      "(array([ -2.65305466e-04,   3.32382940e-01,   3.26527811e+02]), array([ -2.07608975e-04,   4.06198234e-01,   7.77329735e+02]))"
     ]
    },
    {
     "name": "stderr",
     "output_type": "stream",
     "text": [
      "\n",
      "\n",
      "\n",
      "\n",
      "\n",
      "\n",
      "\n",
      "\n",
      "  7%|▋         | 94/1261 [00:06<01:19, 14.60it/s]\u001b[A\u001b[A\u001b[A\u001b[A\u001b[A\u001b[A\u001b[A\u001b[A\n",
      "\n",
      "\n",
      "\n",
      "\n",
      "\n",
      "\n",
      "\n",
      "  8%|▊         | 96/1261 [00:06<01:23, 14.00it/s]"
     ]
    },
    {
     "name": "stdout",
     "output_type": "stream",
     "text": [
      " (619.10015357565476, 791.8561664157894)\n",
      "877.901901409\n",
      "(array([ -2.46865664e-04,   3.20977637e-01,   3.26072086e+02]), array([ -1.87241436e-04,   3.76118536e-01,   7.88043810e+02])) (665.36061694638545, 877.90190140869208)\n",
      "1190.69580213\n",
      "(array([ -2.75054382e-04,   3.47765146e-01,   3.20512251e+02]), array([ -1.38067099e-04,   3.39113672e-01,   7.94786770e+02])) (597.17102919882632, 1190.6958021316145)\n"
     ]
    },
    {
     "name": "stderr",
     "output_type": "stream",
     "text": [
      "\u001b[A\u001b[A\u001b[A\u001b[A\u001b[A\u001b[A\u001b[A\u001b[A\n",
      "\n",
      "\n",
      "\n",
      "\n",
      "\n",
      "\n",
      "\n",
      "  8%|▊         | 98/1261 [00:06<01:21, 14.26it/s]\u001b[A\u001b[A\u001b[A\u001b[A\u001b[A\u001b[A\u001b[A\u001b[A"
     ]
    },
    {
     "name": "stdout",
     "output_type": "stream",
     "text": [
      "1054.03462679\n",
      "(array([ -2.29755529e-04,   3.12473837e-01,   3.26449180e+02]), array([ -1.55957040e-04,   3.48958849e-01,   7.93725417e+02])) (714.93476278579874, 1054.0346267886098)\n",
      "1191.68731909\n",
      "(array([ -2.25047024e-04,   3.11311383e-01,   3.24871164e+02]), array([ -1.37933229e-04,   3.24673521e-01,   8.03701061e+02])) (729.90392544782253, 1191.6873190924875)\n",
      "1411.83430115\n",
      "(array([ -2.49160795e-04,   3.35185663e-01,   3.20706723e+02]), array([ -1.16428321e-04,   3.06774473e-01,   8.04978559e+02])) (659.26606227850436, 1411.8343011507868)\n",
      "1028.84073019\n",
      "(array([ -2.45488137e-04,   3.34530848e-01,   3.19725085e+02]), array([ -1.59747195e-04,   3.32820275e-01,   8.05007732e+02])) (669.13813454281808, 1028.8407301933375)\n"
     ]
    },
    {
     "name": "stderr",
     "output_type": "stream",
     "text": [
      "\n",
      "\n",
      "\n",
      "\n",
      "\n",
      "\n",
      "\n",
      "\n",
      "  8%|▊         | 100/1261 [00:07<01:20, 14.47it/s]\u001b[A\u001b[A\u001b[A\u001b[A\u001b[A\u001b[A\u001b[A\u001b[A\n",
      "\n",
      "\n",
      "\n",
      "\n",
      "\n",
      "\n",
      "\n",
      "  8%|▊         | 102/1261 [00:07<01:29, 12.93it/s]\u001b[A\u001b[A\u001b[A\u001b[A\u001b[A\u001b[A\u001b[A\u001b[A"
     ]
    },
    {
     "name": "stdout",
     "output_type": "stream",
     "text": [
      "776.665760477\n",
      "(array([ -2.51358479e-04,   3.39245547e-01,   3.19954208e+02]), array([ -2.11603741e-04,   3.76133764e-01,   7.96952079e+02])) (653.50791661199401, 776.66576047688432)\n",
      "783.05507539\n",
      "(array([ -2.49261195e-04,   3.37482899e-01,   3.21439712e+02]), array([ -2.09884774e-04,   3.78772871e-01,   7.93710501e+02])) (659.00731338656919, 783.05507539046789)\n",
      "664.755904994\n",
      "(array([ -2.53142978e-04,   3.43004005e-01,   3.20099636e+02]), array([ -2.47225215e-04,   4.09630341e-01,   7.90280806e+02])) (648.90743449369438, 664.75590499362863)\n"
     ]
    },
    {
     "name": "stderr",
     "output_type": "stream",
     "text": [
      "\n",
      "\n",
      "\n",
      "\n",
      "\n",
      "\n",
      "\n",
      "\n",
      "  8%|▊         | 104/1261 [00:07<01:28, 13.09it/s]\u001b[A\u001b[A\u001b[A\u001b[A\u001b[A\u001b[A\u001b[A\u001b[A\n",
      "\n",
      "\n",
      "\n",
      "\n",
      "\n",
      "\n",
      "\n",
      "  8%|▊         | 106/1261 [00:07<01:31, 12.61it/s]"
     ]
    },
    {
     "name": "stdout",
     "output_type": "stream",
     "text": [
      "655.827453232\n",
      "(array([ -2.52816009e-04,   3.41393815e-01,   3.21533955e+02]), array([ -2.50597487e-04,   4.15979517e-01,   7.88624014e+02])) (649.74263280334674, 655.82745323222036)\n",
      "691.25070692\n",
      "(array([ -2.32112335e-04,   3.27045001e-01,   3.21657716e+02]), array([ -2.37731806e-04,   3.91388152e-01,   8.02335636e+02])) (707.71674184011613, 691.25070691958717)\n",
      "735.884586009\n",
      "(array([ -2.40893202e-04,   3.32614209e-01,   3.20690985e+02]), array([ -2.23303862e-04,   3.72506203e-01,   8.10833326e+02])) (681.90987929245523, 735.88458600914748)\n"
     ]
    },
    {
     "name": "stderr",
     "output_type": "stream",
     "text": [
      "\u001b[A\u001b[A\u001b[A\u001b[A\u001b[A\u001b[A\u001b[A\u001b[A\n",
      "\n",
      "\n",
      "\n",
      "\n",
      "\n",
      "\n",
      "\n",
      "  9%|▊         | 108/1261 [00:07<01:25, 13.44it/s]\u001b[A\u001b[A\u001b[A\u001b[A\u001b[A\u001b[A\u001b[A\u001b[A\n",
      "\n",
      "\n",
      "\n",
      "\n",
      "\n",
      "\n",
      "\n",
      "  9%|▊         | 110/1261 [00:07<01:21, 14.15it/s]"
     ]
    },
    {
     "name": "stdout",
     "output_type": "stream",
     "text": [
      "726.929710617\n",
      "(array([ -2.40611407e-04,   3.37292301e-01,   3.17800572e+02]), array([ -2.26043286e-04,   3.68381725e-01,   8.17495968e+02])) (682.7254382904315, 726.9297106170161)\n",
      "748.412841043\n",
      "(array([ -2.65850043e-04,   3.55712439e-01,   3.18312821e+02]), array([ -2.19575760e-04,   3.74759619e-01,   8.11234428e+02])) (617.89256882975792, 748.41284104346278)\n",
      "1509.42043969\n",
      "(array([ -2.63083323e-04,   3.53285772e-01,   3.19026908e+02]), array([ -1.08898876e-04,   2.97395542e-01,   8.23655726e+02])) (624.39134130130572, 1509.4204396859332)\n",
      "1312.91506429\n",
      "(array([ -2.80539527e-04,   3.67782071e-01,   3.16995995e+02]), array([ -1.25190399e-04,   3.06498906e-01,   8.23831005e+02])) (585.53304235672465, 1312.9150642897396)\n"
     ]
    },
    {
     "name": "stderr",
     "output_type": "stream",
     "text": [
      "\u001b[A\u001b[A\u001b[A\u001b[A\u001b[A\u001b[A\u001b[A\u001b[A\n",
      "\n",
      "\n",
      "\n",
      "\n",
      "\n",
      "\n",
      "\n",
      "  9%|▉         | 112/1261 [00:07<01:18, 14.70it/s]\u001b[A\u001b[A\u001b[A\u001b[A\u001b[A\u001b[A\u001b[A\u001b[A"
     ]
    },
    {
     "name": "stdout",
     "output_type": "stream",
     "text": [
      "1215.6454525\n",
      "(array([ -2.68436836e-04,   3.56430206e-01,   3.20587528e+02]), array([ -1.35198882e-04,   3.08891526e-01,   8.24269998e+02])) (611.93304729359443, 1215.6454525048152)\n",
      "1262.16222508\n",
      "(array([ -2.53775904e-04,   3.47696963e-01,   3.18918393e+02]), array([ -1.30197718e-04,   2.86884656e-01,   8.38501603e+02])) (647.30206097752261, 1262.1622250836142)\n",
      "1333.37052083\n",
      "(array([ -2.63893816e-04,   3.54840936e-01,   3.20617615e+02]), array([ -1.23254892e-04,   2.90631473e-01,   8.31789041e+02])) (622.47601849926366, 1333.3705208333499)\n"
     ]
    },
    {
     "name": "stderr",
     "output_type": "stream",
     "text": [
      "\n",
      "\n",
      "\n",
      "\n",
      "\n",
      "\n",
      "\n",
      "\n",
      "  9%|▉         | 114/1261 [00:08<01:21, 14.07it/s]\u001b[A\u001b[A\u001b[A\u001b[A\u001b[A\u001b[A\u001b[A\u001b[A\n",
      "\n",
      "\n",
      "\n",
      "\n",
      "\n",
      "\n",
      "\n",
      "  9%|▉         | 116/1261 [00:08<01:21, 14.12it/s]"
     ]
    },
    {
     "name": "stdout",
     "output_type": "stream",
     "text": [
      "1586.62012123\n",
      "(array([ -2.73065057e-04,   3.61679291e-01,   3.20687498e+02]), array([ -1.03580822e-04,   2.70994326e-01,   8.36447743e+02])) (601.56362246807464, 1586.6201212255974)\n",
      "1226.82216896\n",
      "(array([ -2.84258450e-04,   3.70196662e-01,   3.21572439e+02]), array([ -1.33963579e-04,   3.04568074e-01,   8.25196785e+02])) (577.86942084838608, 1226.8221689593302)\n",
      "1028.7974312\n",
      "(array([ -2.96294257e-04,   3.82117540e-01,   3.19549494e+02]), array([ -1.59747321e-04,   3.27986078e-01,   8.19184325e+02])) (554.3966698922884, 1028.7974312000356)\n"
     ]
    },
    {
     "name": "stderr",
     "output_type": "stream",
     "text": [
      "\u001b[A\u001b[A\u001b[A\u001b[A\u001b[A\u001b[A\u001b[A\u001b[A\n",
      "\n",
      "\n",
      "\n",
      "\n",
      "\n",
      "\n",
      "\n",
      "  9%|▉         | 118/1261 [00:08<01:18, 14.54it/s]\u001b[A\u001b[A\u001b[A\u001b[A\u001b[A\u001b[A\u001b[A\u001b[A"
     ]
    },
    {
     "name": "stdout",
     "output_type": "stream",
     "text": [
      "1217.21288736\n",
      "(array([ -2.94272187e-04,   3.80446000e-01,   3.19811729e+02]), array([ -1.35015654e-04,   3.00713974e-01,   8.26661411e+02])) (558.20687584696486, 1217.2128873606141)\n",
      "635.052848298\n",
      "(array([ -2.99719824e-04,   3.88380480e-01,   3.17642087e+02]), array([ -2.58797478e-04,   4.24828989e-01,   7.98348617e+02])) (548.06814527889924, 635.05284829760478)\n",
      "535.796143143\n",
      "(array([ -3.20425955e-04,   4.08493521e-01,   3.13754852e+02]), array([ -3.06754799e-04,   4.76471452e-01,   7.85808997e+02])) (512.65221475334954, 535.79614314315211)\n"
     ]
    },
    {
     "name": "stderr",
     "output_type": "stream",
     "text": [
      "\n",
      "\n",
      "\n",
      "\n",
      "\n",
      "\n",
      "\n",
      "\n",
      " 10%|▉         | 120/1261 [00:08<01:22, 13.80it/s]\u001b[A\u001b[A\u001b[A\u001b[A\u001b[A\u001b[A\u001b[A\u001b[A\n",
      "\n",
      "\n",
      "\n",
      "\n",
      "\n",
      "\n",
      "\n",
      " 10%|▉         | 122/1261 [00:08<01:20, 14.23it/s]"
     ]
    },
    {
     "name": "stdout",
     "output_type": "stream",
     "text": [
      "568.410460576\n",
      "(array([ -3.29863968e-04,   4.18118497e-01,   3.13482525e+02]), array([ -2.89181238e-04,   4.70107740e-01,   7.81729972e+02])) (497.98566822605318, 568.41046057586811)\n",
      "507.715337768\n",
      "(array([ -3.22790705e-04,   4.16636008e-01,   3.12355235e+02]), array([ -3.23749654e-04,   5.02653291e-01,   7.76946528e+02])) (508.91152500850382, 507.71533776816841)\n",
      "572.307662135\n",
      "(array([ -3.23379866e-04,   4.18849453e-01,   3.12335673e+02]), array([ -2.87249702e-04,   4.81895367e-01,   7.78149249e+02])) (507.98869289678197, 572.30766213458082)\n",
      "583.838472628\n",
      "(array([ -3.28952062e-04,   4.24300590e-01,   3.12862944e+02]), array([ -2.81608495e-04,   4.87598053e-01,   7.70846506e+02])) (499.38401979175467, 583.83847262841914)\n"
     ]
    },
    {
     "name": "stderr",
     "output_type": "stream",
     "text": [
      "\u001b[A\u001b[A\u001b[A\u001b[A\u001b[A\u001b[A\u001b[A\u001b[A\n",
      "\n",
      "\n",
      "\n",
      "\n",
      "\n",
      "\n",
      "\n",
      " 10%|▉         | 124/1261 [00:08<01:18, 14.54it/s]\u001b[A\u001b[A\u001b[A\u001b[A\u001b[A\u001b[A\u001b[A\u001b[A\n",
      "\n",
      "\n",
      "\n",
      "\n",
      "\n",
      "\n",
      "\n",
      " 10%|▉         | 126/1261 [00:08<01:17, 14.67it/s]"
     ]
    },
    {
     "name": "stdout",
     "output_type": "stream",
     "text": [
      "663.152259727\n",
      "(array([ -3.10313124e-04,   4.08304481e-01,   3.16347553e+02]), array([ -2.47944739e-04,   4.61708708e-01,   7.74863436e+02])) (529.38479621202123, 663.15225972686665)\n",
      "595.233112338\n",
      "(array([ -3.06918327e-04,   4.09101527e-01,   3.15626679e+02]), array([ -2.76228488e-04,   4.86155330e-01,   7.69195517e+02])) (535.25205765581791, 595.23311233756681)\n",
      "887.053627168\n",
      "(array([ -2.79838487e-04,   3.89798442e-01,   3.16197767e+02]), array([ -1.85345038e-04,   3.93504233e-01,   7.95596073e+02])) (587.07049393649845, 887.05362716810566)\n"
     ]
    },
    {
     "name": "stderr",
     "output_type": "stream",
     "text": [
      "\u001b[A\u001b[A\u001b[A\u001b[A\u001b[A\u001b[A\u001b[A\u001b[A\n",
      "\n",
      "\n",
      "\n",
      "\n",
      "\n",
      "\n",
      "\n",
      " 10%|█         | 128/1261 [00:09<01:18, 14.43it/s]\u001b[A\u001b[A\u001b[A\u001b[A\u001b[A\u001b[A\u001b[A\u001b[A"
     ]
    },
    {
     "name": "stdout",
     "output_type": "stream",
     "text": [
      "743.846383738\n",
      "(array([ -2.75846581e-04,   3.87030768e-01,   3.17074081e+02]), array([ -2.21036882e-04,   4.31535489e-01,   7.84793933e+02])) (595.56999069081417, 743.8463837375383)\n",
      "652.093062055\n",
      "(array([ -2.45656952e-04,   3.66670434e-01,   3.18566984e+02]), array([ -2.52113765e-04,   4.52061597e-01,   7.84508610e+02])) (668.79685085265089, 652.09306205450901)\n",
      "670.062805961\n",
      "(array([ -2.85513549e-04,   4.00163995e-01,   3.15091698e+02]), array([ -2.45389391e-04,   4.59925311e-01,   7.74714536e+02])) (575.41836298613578, 670.06280596134161)\n",
      "577.454305135\n",
      "(array([ -2.88932303e-04,   4.04534130e-01,   3.12871433e+02]), array([ -2.84732606e-04,   4.94163383e-01,   7.68463031e+02])) "
     ]
    },
    {
     "name": "stderr",
     "output_type": "stream",
     "text": [
      "\n",
      "\n",
      "\n",
      "\n",
      "\n",
      "\n",
      "\n",
      "\n",
      " 10%|█         | 130/1261 [00:09<01:17, 14.68it/s]\u001b[A\u001b[A\u001b[A\u001b[A\u001b[A\u001b[A\u001b[A\u001b[A\n",
      "\n",
      "\n",
      "\n",
      "\n",
      "\n",
      "\n",
      "\n",
      " 10%|█         | 132/1261 [00:09<01:15, 15.02it/s]"
     ]
    },
    {
     "name": "stdout",
     "output_type": "stream",
     "text": [
      "(568.6135808330539, 577.45430513518795)\n",
      "615.876166598\n",
      "(array([ -2.93210040e-04,   4.07980179e-01,   3.12779103e+02]), array([ -2.66977231e-04,   4.79866908e-01,   7.70426723e+02])) (560.31562494912873, 615.87616659768059)\n",
      "598.471415679\n",
      "(array([ -3.09615273e-04,   4.18946158e-01,   3.13209026e+02]), array([ -2.74760416e-04,   4.93645729e-01,   7.64417736e+02])) (530.61161377007613, 598.47141567949234)\n",
      "577.533751777\n",
      "(array([ -3.05075453e-04,   4.17903416e-01,   3.12528063e+02]), array([ -2.84690528e-04,   4.93161558e-01,   7.69175314e+02])) (538.51826389094651, 577.53375177733244)\n"
     ]
    },
    {
     "name": "stderr",
     "output_type": "stream",
     "text": [
      "\u001b[A\u001b[A\u001b[A\u001b[A\u001b[A\u001b[A\u001b[A\u001b[A\n",
      "\n",
      "\n",
      "\n",
      "\n",
      "\n",
      "\n",
      "\n",
      " 11%|█         | 134/1261 [00:09<01:15, 14.90it/s]\u001b[A\u001b[A\u001b[A\u001b[A\u001b[A\u001b[A\u001b[A\u001b[A\n",
      "\n",
      "\n",
      "\n",
      "\n",
      "\n",
      "\n",
      "\n",
      " 11%|█         | 136/1261 [00:09<01:14, 15.19it/s]"
     ]
    },
    {
     "name": "stdout",
     "output_type": "stream",
     "text": [
      "819.509028276\n",
      "(array([ -3.00991323e-04,   4.15996677e-01,   3.13052763e+02]), array([ -2.00689140e-04,   4.38597151e-01,   7.75570743e+02])) (545.83206692240026, 819.50902827570042)\n",
      "847.995171595\n",
      "(array([ -2.81147152e-04,   3.99220981e-01,   3.16438976e+02]), array([ -1.93944641e-04,   4.30866965e-01,   7.79365027e+02])) (584.36668118652256, 847.99517159489574)\n",
      "822.638586735\n",
      "(array([ -2.70147601e-04,   3.88795107e-01,   3.18570941e+02]), array([ -1.99896089e-04,   4.25033028e-01,   7.85437505e+02])) (608.16074190869745, 822.63858673515847)\n",
      "922.510984257"
     ]
    },
    {
     "name": "stderr",
     "output_type": "stream",
     "text": [
      "\u001b[A\u001b[A\u001b[A\u001b[A\u001b[A\u001b[A\u001b[A\u001b[A\n",
      "\n",
      "\n",
      "\n",
      "\n",
      "\n",
      "\n",
      "\n",
      " 11%|█         | 138/1261 [00:09<01:13, 15.18it/s]\u001b[A\u001b[A\u001b[A\u001b[A\u001b[A\u001b[A\u001b[A\u001b[A\n",
      "\n",
      "\n",
      "\n",
      "\n",
      "\n",
      "\n",
      "\n",
      " 11%|█         | 140/1261 [00:09<01:16, 14.74it/s]"
     ]
    },
    {
     "name": "stdout",
     "output_type": "stream",
     "text": [
      "\n",
      "(array([ -2.54412228e-04,   3.76151037e-01,   3.19630153e+02]), array([ -1.78235292e-04,   3.94167223e-01,   7.97162636e+02])) (645.7854564425395, 922.51098425699684)\n",
      "962.346227342\n",
      "(array([ -2.48440065e-04,   3.71284451e-01,   3.19352299e+02]), array([ -1.70835067e-04,   3.74540808e-01,   8.08416421e+02])) (661.31292461993542, 962.34622734189281)\n",
      "937.889524928\n",
      "(array([ -2.32767920e-04,   3.58142342e-01,   3.20898067e+02]), array([ -1.75279887e-04,   3.73155736e-01,   8.10532718e+02])) (705.84745864930824, 937.88952492822204)\n",
      "1155.05655263\n",
      "(array([ -2.27754573e-04,   3.54036253e-01,   3.19638335e+02]), array([ -1.42308452e-04,   3.29547425e-01,   8.26580104e+02])) (721.38793521156674, 1155.056552625133)\n"
     ]
    },
    {
     "name": "stderr",
     "output_type": "stream",
     "text": [
      "\u001b[A\u001b[A\u001b[A\u001b[A\u001b[A\u001b[A\u001b[A\u001b[A\n",
      "\n",
      "\n",
      "\n",
      "\n",
      "\n",
      "\n",
      "\n",
      " 11%|█▏        | 142/1261 [00:09<01:14, 14.94it/s]\u001b[A\u001b[A\u001b[A\u001b[A\u001b[A\u001b[A\u001b[A\u001b[A"
     ]
    },
    {
     "name": "stdout",
     "output_type": "stream",
     "text": [
      "1530.55500884\n",
      "(array([ -2.20266640e-04,   3.49322724e-01,   3.19923441e+02]), array([ -1.07397032e-04,   2.97825092e-01,   8.31825997e+02])) (745.92358934452363, 1530.5550088401685)\n",
      "1005.2177785\n",
      "(array([ -2.05483822e-04,   3.30937319e-01,   3.25292434e+02]), array([ -1.63517108e-04,   3.47272127e-01,   8.21479389e+02])) (799.56448932126352, 1005.2177784992931)\n",
      "694.90512748\n",
      "(array([ -2.06194172e-04,   3.29212114e-01,   3.26972176e+02]), array([ -2.36571112e-04,   4.32799027e-01,   7.94688307e+02])) (796.79768308238965, 694.9051274795911)\n",
      "599.725106702\n",
      "(array([ -1.96122724e-04,   3.21640652e-01,   3.27420735e+02]), array([ -2.74124535e-04,   4.71824259e-01,   7.83956788e+02])) (837.72668297856433, 599.72510670158874)\n"
     ]
    },
    {
     "name": "stderr",
     "output_type": "stream",
     "text": [
      "\n",
      "\n",
      "\n",
      "\n",
      "\n",
      "\n",
      "\n",
      "\n",
      " 11%|█▏        | 144/1261 [00:10<01:13, 15.13it/s]\u001b[A\u001b[A\u001b[A\u001b[A\u001b[A\u001b[A\u001b[A\u001b[A\n",
      "\n",
      "\n",
      "\n",
      "\n",
      "\n",
      "\n",
      "\n",
      " 12%|█▏        | 146/1261 [00:10<01:12, 15.38it/s]\u001b[A\u001b[A\u001b[A\u001b[A\u001b[A\u001b[A\u001b[A\u001b[A"
     ]
    },
    {
     "name": "stdout",
     "output_type": "stream",
     "text": [
      "629.699732588\n",
      "(array([ -1.91217161e-04,   3.15218299e-01,   3.28894125e+02]), array([ -2.61055940e-04,   4.51577003e-01,   7.90549340e+02])) (859.20865294423868, 629.69973258841367)\n",
      "1875.98811018\n",
      "(array([ -1.92282608e-04,   3.12555061e-01,   3.31424937e+02]), array([ -8.76502671e-05,   3.11041072e-01,   8.16749102e+02])) (854.42800646973274, 1875.9881101810743)\n",
      "1817.08468541\n",
      "(array([ -1.87094332e-04,   3.07535401e-01,   3.32141461e+02]), array([ -9.04868457e-05,   3.08935671e-01,   8.20071235e+02])) (878.12177003890201, 1817.0846854122051)\n",
      "1452.620906\n",
      "(array([ -2.07432263e-04,   3.18528440e-01,   3.35713437e+02]), array([ -1.13206243e-04,   3.43705874e-01,   8.02461681e+02])) (791.98499536126155, 1452.6209060043414)\n"
     ]
    },
    {
     "name": "stderr",
     "output_type": "stream",
     "text": [
      "\n",
      "\n",
      "\n",
      "\n",
      "\n",
      "\n",
      "\n",
      "\n",
      " 12%|█▏        | 148/1261 [00:10<01:14, 15.02it/s]\u001b[A\u001b[A\u001b[A\u001b[A\u001b[A\u001b[A\u001b[A\u001b[A\n",
      "\n",
      "\n",
      "\n",
      "\n",
      "\n",
      "\n",
      "\n",
      " 12%|█▏        | 150/1261 [00:10<01:22, 13.43it/s]\u001b[A\u001b[A\u001b[A\u001b[A\u001b[A\u001b[A\u001b[A\u001b[A"
     ]
    },
    {
     "name": "stdout",
     "output_type": "stream",
     "text": [
      "1747.38060983\n",
      "(array([ -2.11825272e-04,   3.19460508e-01,   3.36611062e+02]), array([ -9.41081301e-05,   3.23738993e-01,   8.07214033e+02])) (775.54567102931605, 1747.3806098260238)\n",
      "1576.50825096\n",
      "(array([ -2.07458386e-04,   3.18725759e-01,   3.34719945e+02]), array([ -1.04286335e-04,   3.14091182e-01,   8.16490105e+02])) (791.88605835474436, 1576.5082509579611)\n",
      "1638.74332957\n",
      "(array([ -1.85797019e-04,   3.02943319e-01,   3.35287837e+02]), array([ -1.00318326e-04,   3.02918802e-01,   8.21558180e+02])) (884.23515240840163, 1638.7433295682602)\n"
     ]
    },
    {
     "name": "stderr",
     "output_type": "stream",
     "text": [
      "\n",
      "\n",
      "\n",
      "\n",
      "\n",
      "\n",
      "\n",
      "\n",
      " 12%|█▏        | 152/1261 [00:10<01:21, 13.56it/s]\u001b[A\u001b[A\u001b[A\u001b[A\u001b[A\u001b[A\u001b[A\u001b[A"
     ]
    },
    {
     "name": "stdout",
     "output_type": "stream",
     "text": [
      "2179.421221\n",
      "(array([ -1.79382454e-04,   2.95823575e-01,   3.35338709e+02]), array([ -7.54236265e-05,   2.68927004e-01,   8.32793674e+02])) (915.84937600020874, 2179.4212209968632)\n",
      "1501.86729449\n",
      "(array([ -1.93138139e-04,   3.05711191e-01,   3.34870830e+02]), array([ -1.09453382e-04,   3.04526892e-01,   8.20881083e+02])) (850.60413740557112, 1501.8672944945156)\n"
     ]
    },
    {
     "name": "stderr",
     "output_type": "stream",
     "text": [
      "\n",
      "\n",
      "\n",
      "\n",
      "\n",
      "\n",
      "\n",
      "\n",
      " 12%|█▏        | 154/1261 [00:10<01:29, 12.33it/s]\u001b[A\u001b[A\u001b[A\u001b[A\u001b[A\u001b[A\u001b[A\u001b[A\n",
      "\n",
      "\n",
      "\n",
      "\n",
      "\n",
      "\n",
      "\n",
      " 12%|█▏        | 156/1261 [00:11<01:26, 12.79it/s]"
     ]
    },
    {
     "name": "stdout",
     "output_type": "stream",
     "text": [
      "1588.86668593\n",
      "(array([ -1.78871658e-04,   2.96996291e-01,   3.32814465e+02]), array([ -1.03445829e-04,   2.83767462e-01,   8.33302816e+02])) (918.4739032528862, 1588.8666859311904)\n",
      "831.241683149\n",
      "(array([ -1.84829360e-04,   3.05549699e-01,   3.27916338e+02]), array([ -1.97720561e-04,   3.68677483e-01,   8.17783752e+02])) (888.88365339481504, 831.24168314906842)\n",
      "971.432761171\n",
      "(array([ -1.94031754e-04,   3.10141654e-01,   3.27491893e+02]), array([ -1.69183028e-04,   3.38699262e-01,   8.23929193e+02])) (846.70449780942386, 971.43276117129187)\n"
     ]
    },
    {
     "name": "stderr",
     "output_type": "stream",
     "text": [
      "\u001b[A\u001b[A\u001b[A\u001b[A\u001b[A\u001b[A\u001b[A\u001b[A\n",
      "\n",
      "\n",
      "\n",
      "\n",
      "\n",
      "\n",
      "\n",
      " 13%|█▎        | 158/1261 [00:11<01:24, 13.09it/s]\u001b[A\u001b[A\u001b[A\u001b[A\u001b[A\u001b[A\u001b[A\u001b[A"
     ]
    },
    {
     "name": "stdout",
     "output_type": "stream",
     "text": [
      "711.975309392\n",
      "(array([ -2.03514278e-04,   3.20360519e-01,   3.23730270e+02]), array([ -2.30851809e-04,   4.05500001e-01,   8.05864406e+02])) (807.25863994966869, 711.9753093918099)\n",
      "624.980252896\n",
      "(array([ -2.35805765e-04,   3.43440903e-01,   3.22299976e+02]), array([ -2.63008704e-04,   4.46031222e-01,   7.89186045e+02])) (696.67957102770993, 624.98025289566783)\n",
      "887.330988678\n",
      "(array([ -2.33698940e-04,   3.46086676e-01,   3.18382446e+02]), array([ -1.85282952e-04,   3.91279662e-01,   7.98737556e+02])) (702.97913766089857, 887.33098867834826)\n",
      "855.221430213\n",
      "(array([ -2.61499211e-04,   3.70225722e-01,   3.13568815e+02]), array([ -1.92265327e-04,   4.10674770e-01,   7.88083991e+02])) (628.23533343454756, 855.22143021327224)\n"
     ]
    },
    {
     "name": "stderr",
     "output_type": "stream",
     "text": [
      "\n",
      "\n",
      "\n",
      "\n",
      "\n",
      "\n",
      "\n",
      "\n",
      " 13%|█▎        | 160/1261 [00:11<01:20, 13.67it/s]\u001b[A\u001b[A\u001b[A\u001b[A\u001b[A\u001b[A\u001b[A\u001b[A\n",
      "\n",
      "\n",
      "\n",
      "\n",
      "\n",
      "\n",
      "\n",
      " 13%|█▎        | 162/1261 [00:11<01:19, 13.90it/s]\u001b[A\u001b[A\u001b[A\u001b[A\u001b[A\u001b[A\u001b[A\u001b[A"
     ]
    },
    {
     "name": "stdout",
     "output_type": "stream",
     "text": [
      "989.496596003\n",
      "(array([ -2.16561937e-04,   3.34333789e-01,   3.17447420e+02]), array([ -1.66160156e-04,   3.77367698e-01,   8.00573037e+02])) (758.62870860172961, 989.49659600288612)\n",
      "1093.50032481\n",
      "(array([ -2.31098381e-04,   3.49668258e-01,   3.12389362e+02]), array([ -1.50353565e-04,   3.60312121e-01,   8.04959938e+02])) (710.91581222547268, 1093.5003248137311)\n",
      "1942.98791568\n",
      "(array([ -2.30738931e-04,   3.53752303e-01,   3.08498520e+02]), array([ -8.46197791e-05,   2.99262034e-01,   8.19930484e+02])) (712.04308249161625, 1942.9879156804475)\n"
     ]
    },
    {
     "name": "stderr",
     "output_type": "stream",
     "text": [
      "\n",
      "\n",
      "\n",
      "\n",
      "\n",
      "\n",
      "\n",
      "\n",
      " 13%|█▎        | 164/1261 [00:11<01:17, 14.20it/s]\u001b[A\u001b[A\u001b[A\u001b[A\u001b[A\u001b[A\u001b[A\u001b[A\n",
      "\n",
      "\n",
      "\n",
      "\n",
      "\n",
      "\n",
      "\n",
      " 13%|█▎        | 166/1261 [00:11<01:14, 14.66it/s]"
     ]
    },
    {
     "name": "stdout",
     "output_type": "stream",
     "text": [
      "2205.85531348\n",
      "(array([ -2.45429172e-04,   3.64436840e-01,   3.08191520e+02]), array([ -7.45397500e-05,   2.94556758e-01,   8.15736311e+02])) (669.40910354031848, 2205.8553134757381)\n",
      "1378.44864168\n",
      "(array([ -2.47937188e-04,   3.62502525e-01,   3.11098945e+02]), array([ -1.19289552e-04,   3.43440308e-01,   7.98127744e+02])) (662.62008796621149, 1378.4486416775544)\n",
      "1660.01077044\n",
      "(array([ -2.39887661e-04,   3.58018666e-01,   3.09914629e+02]), array([ -9.90474627e-05,   3.15783258e-01,   8.06424319e+02])) (684.86809240181208, 1660.0107704357831)\n",
      "1252.0400104\n",
      "(array([ -2.64058376e-04,   3.78285952e-01,   3.07063582e+02]), array([ -1.31329435e-04,   3.52332010e-01,   7.93965135e+02])) (622.1672160675372, 1252.0400103950692)\n"
     ]
    },
    {
     "name": "stderr",
     "output_type": "stream",
     "text": [
      "\u001b[A\u001b[A\u001b[A\u001b[A\u001b[A\u001b[A\u001b[A\u001b[A\n",
      "\n",
      "\n",
      "\n",
      "\n",
      "\n",
      "\n",
      "\n",
      " 13%|█▎        | 168/1261 [00:11<01:16, 14.28it/s]\u001b[A\u001b[A\u001b[A\u001b[A\u001b[A\u001b[A\u001b[A\u001b[A\n",
      "\n",
      "\n",
      "\n",
      "\n",
      "\n",
      "\n",
      "\n",
      " 13%|█▎        | 170/1261 [00:11<01:17, 14.06it/s]"
     ]
    },
    {
     "name": "stdout",
     "output_type": "stream",
     "text": [
      "1139.06215663\n",
      "(array([ -2.37996491e-04,   3.62007540e-01,   3.05565642e+02]), array([ -1.44332053e-04,   3.49515229e-01,   8.02421605e+02])) (690.33545887996365, 1139.0621566309464)\n",
      "2026.08313128\n",
      "(array([ -2.31616534e-04,   3.58241299e-01,   3.04211062e+02]), array([ -8.11309769e-05,   2.73281033e-01,   8.24979688e+02])) (709.36186560332419, 2026.0831312763764)\n",
      "1809.71318983\n",
      "(array([ -2.02804547e-04,   3.37706569e-01,   3.03947747e+02]), array([ -9.08153365e-05,   2.63306284e-01,   8.34685818e+02])) (810.1781603312985, 1809.7131898333528)\n"
     ]
    },
    {
     "name": "stderr",
     "output_type": "stream",
     "text": [
      "\u001b[A\u001b[A\u001b[A\u001b[A\u001b[A\u001b[A\u001b[A\u001b[A\n",
      "\n",
      "\n",
      "\n",
      "\n",
      "\n",
      "\n",
      "\n",
      " 14%|█▎        | 172/1261 [00:12<01:20, 13.55it/s]\u001b[A\u001b[A\u001b[A\u001b[A\u001b[A\u001b[A\u001b[A\u001b[A"
     ]
    },
    {
     "name": "stdout",
     "output_type": "stream",
     "text": [
      "1025.27952986\n",
      "(array([ -2.05140025e-04,   3.39878220e-01,   3.02446889e+02]), array([ -1.60326535e-04,   3.50216674e-01,   8.10818035e+02])) (800.95405849370798, 1025.2795298597425)\n",
      "986.56531759\n",
      "(array([ -2.15757970e-04,   3.52165210e-01,   2.98336922e+02]), array([ -1.66612033e-04,   3.52449563e-01,   8.09578429e+02])) (761.54835017685537, 986.56531759018719)\n",
      "829.780528163\n",
      "(array([ -2.15775672e-04,   3.48445291e-01,   3.00275293e+02]), array([ -1.98109991e-04,   3.91749059e-01,   7.95069615e+02])) (761.46621308316764, 829.78052816333718)\n"
     ]
    },
    {
     "name": "stderr",
     "output_type": "stream",
     "text": [
      "\n",
      "\n",
      "\n",
      "\n",
      "\n",
      "\n",
      "\n",
      "\n",
      " 14%|█▍        | 174/1261 [00:12<01:23, 13.02it/s]\u001b[A\u001b[A\u001b[A\u001b[A\u001b[A\u001b[A\u001b[A\u001b[A"
     ]
    },
    {
     "name": "stdout",
     "output_type": "stream",
     "text": [
      "721.269361236\n",
      "(array([ -2.53255815e-04,   3.76589000e-01,   2.97541638e+02]), array([ -2.27926179e-04,   4.25533501e-01,   7.81360259e+02])) (648.74066302600295, 721.26936123580981)\n",
      "680.919573357\n",
      "(array([ -2.63747944e-04,   3.85880223e-01,   2.96108160e+02]), array([ -2.41450058e-04,   4.45651844e-01,   7.72587426e+02])) (622.93005434670215, 680.91957335697543)\n"
     ]
    },
    {
     "name": "stderr",
     "output_type": "stream",
     "text": [
      "\n",
      "\n",
      "\n",
      "\n",
      "\n",
      "\n",
      "\n",
      "\n",
      "\r",
      " 14%|█▍        | 176/1261 [00:12<01:33, 11.55it/s]"
     ]
    },
    {
     "name": "stdout",
     "output_type": "stream",
     "text": [
      "485.683818333\n",
      "(array([ -2.72426397e-04,   3.92731711e-01,   2.94516219e+02]), array([ -3.38495720e-04,   5.35142686e-01,   7.53206104e+02])) (603.08022504767348, 485.68381833328817)\n",
      "574.881397909\n",
      "(array([ -2.50259612e-04,   3.77331381e-01,   2.93648992e+02]), array([ -2.85937038e-04,   4.71040233e-01,   7.75493626e+02])) (656.52314435098231, 574.88139790931154)\n",
      "569.866970218\n",
      "(array([ -2.46101106e-04,   3.71777817e-01,   2.94790380e+02]), array([ -2.88444769e-04,   4.70384472e-01,   7.79211345e+02])) (667.60991865197377, 569.86697021792804)\n"
     ]
    },
    {
     "name": "stderr",
     "output_type": "stream",
     "text": [
      "\u001b[A\u001b[A\u001b[A\u001b[A\u001b[A\u001b[A\u001b[A\u001b[A\n",
      "\n",
      "\n",
      "\n",
      "\n",
      "\n",
      "\n",
      "\n",
      " 14%|█▍        | 178/1261 [00:12<01:36, 11.20it/s]\u001b[A\u001b[A\u001b[A\u001b[A\u001b[A\u001b[A\u001b[A\u001b[A\n",
      "\n",
      "\n",
      "\n",
      "\n",
      "\n",
      "\n",
      "\n",
      " 14%|█▍        | 180/1261 [00:12<01:29, 12.09it/s]\u001b[A\u001b[A\u001b[A\u001b[A\u001b[A\u001b[A\u001b[A\u001b[A"
     ]
    },
    {
     "name": "stdout",
     "output_type": "stream",
     "text": [
      "567.340607975\n",
      "(array([ -2.60918831e-04,   3.82367443e-01,   2.93405774e+02]), array([ -2.89728518e-04,   4.71360726e-01,   7.81194887e+02])) (629.68121073911118, 567.340607975333)\n",
      "483.365384501\n",
      "(array([ -2.58807458e-04,   3.76308496e-01,   2.95021035e+02]), array([ -3.40049045e-04,   5.15167987e-01,   7.76557706e+02])) (634.80215997079347, 483.36538450140694)\n",
      "376.784477563\n",
      "(array([ -3.07896770e-04,   4.12856484e-01,   2.92283054e+02]), array([ -4.36324281e-04,   6.28049381e-01,   7.44594309e+02])) (533.5595195064933, 376.78447756264694)\n"
     ]
    },
    {
     "name": "stderr",
     "output_type": "stream",
     "text": [
      "\n",
      "\n",
      "\n",
      "\n",
      "\n",
      "\n",
      "\n",
      "\n",
      " 14%|█▍        | 182/1261 [00:13<01:25, 12.64it/s]\u001b[A\u001b[A\u001b[A\u001b[A\u001b[A\u001b[A\u001b[A\u001b[A\n",
      "\n",
      "\n",
      "\n",
      "\n",
      "\n",
      "\n",
      "\n",
      " 15%|█▍        | 184/1261 [00:13<01:21, 13.30it/s]"
     ]
    },
    {
     "name": "stdout",
     "output_type": "stream",
     "text": [
      "430.628332367\n",
      "(array([ -3.04780652e-04,   4.07602979e-01,   2.92969915e+02]), array([ -3.81716268e-04,   5.61672533e-01,   7.65809434e+02])) (539.00786799040043, 430.62833236684003)\n",
      "328.263886374\n",
      "(array([ -3.13263555e-04,   4.11749767e-01,   2.94896588e+02]), array([ -5.00882761e-04,   7.02609066e-01,   7.23912565e+02])) (524.40057406574851, 328.26388637395104)\n",
      "1245.69610079\n",
      "(array([ -3.37444044e-04,   4.28126767e-01,   2.95061470e+02]), array([ -1.32009137e-04,   3.60418217e-01,   7.98882872e+02])) (486.80591117208127, 1245.6961007898321)\n",
      "460.707402873\n",
      "(array([ -3.44994570e-04,   4.30694318e-01,   2.97500506e+02]), array([ -3.57030420e-04,   5.98728913e-01,   7.34225433e+02])) (476.14075631239638, 460.7074028734819)\n"
     ]
    },
    {
     "name": "stderr",
     "output_type": "stream",
     "text": [
      "\u001b[A\u001b[A\u001b[A\u001b[A\u001b[A\u001b[A\u001b[A\u001b[A\n",
      "\n",
      "\n",
      "\n",
      "\n",
      "\n",
      "\n",
      "\n",
      " 15%|█▍        | 186/1261 [00:13<01:17, 13.92it/s]\u001b[A\u001b[A\u001b[A\u001b[A\u001b[A\u001b[A\u001b[A\u001b[A\n",
      "\n",
      "\n",
      "\n",
      "\n",
      "\n",
      "\n",
      "\n",
      " 15%|█▍        | 188/1261 [00:13<01:22, 13.00it/s]"
     ]
    },
    {
     "name": "stdout",
     "output_type": "stream",
     "text": [
      "453.743829125\n",
      "(array([ -3.77990009e-04,   4.56419078e-01,   2.97491625e+02]), array([ -3.62665508e-04,   6.36852234e-01,   7.09563393e+02])) (434.56550907964117, 453.74382912469531)\n",
      "432.988251345\n",
      "(array([ -3.79009475e-04,   4.58460702e-01,   2.97516272e+02]), array([ -3.80063190e-04,   6.56014533e-01,   7.03668105e+02])) (433.398700194188, 432.98825134512646)\n",
      "558.413551645\n",
      "(array([ -3.90167460e-04,   4.70051166e-01,   2.96795214e+02]), array([ -2.94751001e-04,   5.86847691e-01,   7.13180982e+02])) (421.00608777266922, 558.41355164531888)\n"
     ]
    },
    {
     "name": "stderr",
     "output_type": "stream",
     "text": [
      "\u001b[A\u001b[A\u001b[A\u001b[A\u001b[A\u001b[A\u001b[A\u001b[A\n",
      "\n",
      "\n",
      "\n",
      "\n",
      "\n",
      "\n",
      "\n",
      " 15%|█▌        | 190/1261 [00:13<01:18, 13.58it/s]\u001b[A\u001b[A\u001b[A\u001b[A\u001b[A\u001b[A\u001b[A\u001b[A"
     ]
    },
    {
     "name": "stdout",
     "output_type": "stream",
     "text": [
      "465.197427487\n",
      "(array([ -3.86150255e-04,   4.71138823e-01,   2.95998948e+02]), array([ -3.53771991e-04,   6.35466135e-01,   7.04387632e+02])) (425.39585154500173, 465.19742748662031)\n",
      "559.626801344\n",
      "(array([ -3.83865278e-04,   4.72325516e-01,   2.95789511e+02]), array([ -2.94077890e-04,   5.78180587e-01,   7.16631477e+02])) (427.93517233254977, 559.62680134352888)\n",
      "502.65534496\n",
      "(array([ -3.99837478e-04,   4.88583433e-01,   2.93998782e+02]), array([ -3.27432813e-04,   6.15263298e-01,   7.04749848e+02])) (410.84247254072778, 502.65534496031705)\n",
      "444.883566142\n",
      "(array([ -3.69402406e-04,   4.66652076e-01,   2.96425566e+02]), array([ -3.69917558e-04,   6.49437788e-01,   7.01080957e+02])) (444.70874391069231, 444.88356614153918)\n"
     ]
    },
    {
     "name": "stderr",
     "output_type": "stream",
     "text": [
      "\n",
      "\n",
      "\n",
      "\n",
      "\n",
      "\n",
      "\n",
      "\n",
      " 15%|█▌        | 192/1261 [00:13<01:15, 14.07it/s]\u001b[A\u001b[A\u001b[A\u001b[A\u001b[A\u001b[A\u001b[A\u001b[A\n",
      "\n",
      "\n",
      "\n",
      "\n",
      "\n",
      "\n",
      "\n",
      " 15%|█▌        | 194/1261 [00:13<01:12, 14.62it/s]\u001b[A\u001b[A\u001b[A\u001b[A\u001b[A\u001b[A\u001b[A\u001b[A\n",
      "\n",
      "\n",
      "\n",
      "\n",
      "\n",
      "\n",
      "\n",
      " 16%|█▌        | 196/1261 [00:13<01:11, 14.97it/s]"
     ]
    },
    {
     "name": "stdout",
     "output_type": "stream",
     "text": [
      "444.418046779\n",
      "(array([ -3.74437818e-04,   4.73440612e-01,   2.96309855e+02]), array([ -3.70356090e-04,   6.59419033e-01,   6.94345878e+02])) (438.73301114225916, 444.41804677858107)\n",
      "656.191997248\n",
      "(array([ -3.47485589e-04,   4.54549926e-01,   2.98814688e+02]), array([ -2.50735985e-04,   5.17684026e-01,   7.34586138e+02])) (472.78143872192891, 656.1919972477416)\n",
      "425.761947156\n",
      "(array([ -3.49659401e-04,   4.58468138e-01,   2.97516400e+02]), array([ -3.86504787e-04,   6.60520316e-01,   6.98527389e+02])) (469.84724485413886, 425.76194715590725)\n",
      "783.466893783\n",
      "(array([ -2.96238709e-04,   4.18598251e-01,   2.98493805e+02]), array([ -2.09958262e-04,   4.61832288e-01,   7.61383480e+02])) (554.61400551089048, 783.46689378261556)\n"
     ]
    },
    {
     "name": "stderr",
     "output_type": "stream",
     "text": [
      "\u001b[A\u001b[A\u001b[A\u001b[A\u001b[A\u001b[A\u001b[A\u001b[A\n",
      "\n",
      "\n",
      "\n",
      "\n",
      "\n",
      "\n",
      "\n",
      " 16%|█▌        | 198/1261 [00:14<01:09, 15.26it/s]\u001b[A\u001b[A\u001b[A\u001b[A\u001b[A\u001b[A\u001b[A\u001b[A\n",
      "\n",
      "\n",
      "\n",
      "\n",
      "\n",
      "\n",
      "\n",
      " 16%|█▌        | 200/1261 [00:14<01:08, 15.56it/s]"
     ]
    },
    {
     "name": "stdout",
     "output_type": "stream",
     "text": [
      "787.581493803\n",
      "(array([ -2.53871040e-04,   3.90379269e-01,   2.96915104e+02]), array([ -2.08785898e-04,   4.30120540e-01,   7.83449437e+02])) (647.2262703481656, 787.58149380272494)\n",
      "963.800285624\n",
      "(array([ -2.23916564e-04,   3.71931188e-01,   2.93373067e+02]), array([ -1.70569077e-04,   3.69465296e-01,   8.10194374e+02])) (733.86449496286082, 963.80028562366954)\n",
      "928.115481385\n",
      "(array([ -2.05816202e-04,   3.60116122e-01,   2.90552094e+02]), array([ -1.77077762e-04,   3.45329164e-01,   8.29384525e+02])) (798.43792559091924, 928.11548138549335)\n",
      "1209.3039326\n",
      "(array([ -2.04182134e-04,   3.58852394e-01,   2.90303924e+02]), array([ -1.35921114e-04,   3.20537102e-01,   8.28842003e+02])) (804.82974482178656, 1209.3039326012833)\n"
     ]
    },
    {
     "name": "stderr",
     "output_type": "stream",
     "text": [
      "\u001b[A\u001b[A\u001b[A\u001b[A\u001b[A\u001b[A\u001b[A\u001b[A\n",
      "\n",
      "\n",
      "\n",
      "\n",
      "\n",
      "\n",
      "\n",
      " 16%|█▌        | 202/1261 [00:14<01:07, 15.64it/s]\u001b[A\u001b[A\u001b[A\u001b[A\u001b[A\u001b[A\u001b[A\u001b[A"
     ]
    },
    {
     "name": "stdout",
     "output_type": "stream",
     "text": [
      "1657.8410877\n",
      "(array([ -1.84060071e-04,   3.42419177e-01,   2.90899330e+02]), array([ -9.91412681e-05,   2.78838099e-01,   8.40418509e+02])) (892.83684341834055, 1657.841087700318)\n",
      "1214.41684752\n",
      "(array([ -1.97373811e-04,   3.48447865e-01,   2.92134726e+02]), array([ -1.35354157e-04,   3.24212388e-01,   8.22622698e+02])) (832.56698607559679, 1214.4168475223005)\n",
      "877.843352675\n",
      "(array([ -2.13319018e-04,   3.56490250e-01,   2.92926741e+02]), array([ -1.87261276e-04,   3.80238565e-01,   8.05256883e+02])) (770.29217016612324, 877.84335267512347)\n"
     ]
    },
    {
     "name": "stderr",
     "output_type": "stream",
     "text": [
      "\n",
      "\n",
      "\n",
      "\n",
      "\n",
      "\n",
      "\n",
      "\n",
      " 16%|█▌        | 204/1261 [00:14<01:11, 14.86it/s]\u001b[A\u001b[A\u001b[A\u001b[A\u001b[A\u001b[A\u001b[A\u001b[A\n",
      "\n",
      "\n",
      "\n",
      "\n",
      "\n",
      "\n",
      "\n",
      " 16%|█▋        | 206/1261 [00:14<01:13, 14.37it/s]"
     ]
    },
    {
     "name": "stdout",
     "output_type": "stream",
     "text": [
      "710.105600088\n",
      "(array([ -2.35048430e-04,   3.73110042e-01,   2.89531334e+02]), array([ -2.31493334e-04,   4.21848326e-01,   7.95721437e+02])) (699.05993354999202, 710.10560008786115)\n",
      "547.139191737\n",
      "(array([ -2.42425410e-04,   3.76430404e-01,   2.91627690e+02]), array([ -3.00498156e-04,   5.05989921e-01,   7.68235721e+02])) (677.76969844715165, 547.13919173652198)\n",
      "729.956908761\n",
      "(array([ -2.51471084e-04,   3.80074320e-01,   2.93136680e+02]), array([ -2.25231229e-04,   4.30682989e-01,   7.84175891e+02])) (653.36718656745484, 729.95690876067567)\n"
     ]
    },
    {
     "name": "stderr",
     "output_type": "stream",
     "text": [
      "\u001b[A\u001b[A\u001b[A\u001b[A\u001b[A\u001b[A\u001b[A\u001b[A\n",
      "\n",
      "\n",
      "\n",
      "\n",
      "\n",
      "\n",
      "\n",
      " 16%|█▋        | 208/1261 [00:14<01:11, 14.68it/s]\u001b[A\u001b[A\u001b[A\u001b[A\u001b[A\u001b[A\u001b[A\u001b[A"
     ]
    },
    {
     "name": "stdout",
     "output_type": "stream",
     "text": [
      "514.079826064\n",
      "(array([ -2.85118516e-04,   4.06135521e-01,   2.92572307e+02]), array([ -3.19907406e-04,   5.48588528e-01,   7.44561929e+02])) (576.23843590328011, 514.07982606354904)\n",
      "1400.47587601\n",
      "(array([ -2.88615492e-04,   4.05567264e-01,   2.95354866e+02]), array([ -1.17455846e-04,   3.72414635e-01,   7.79349970e+02])) (569.24243855331963, 1400.4758760143172)\n",
      "2889.73371019\n",
      "(array([ -2.79788695e-04,   4.01053780e-01,   2.94324700e+02]), array([ -5.69086053e-05,   2.92305830e-01,   8.06999378e+02])) (587.21559092992879, 2889.7337101910312)\n"
     ]
    },
    {
     "name": "stderr",
     "output_type": "stream",
     "text": [
      "\n",
      "\n",
      "\n",
      "\n",
      "\n",
      "\n",
      "\n",
      "\n",
      " 17%|█▋        | 210/1261 [00:14<01:12, 14.43it/s]\u001b[A\u001b[A\u001b[A\u001b[A\u001b[A\u001b[A\u001b[A\u001b[A\n",
      "\n",
      "\n",
      "\n",
      "\n",
      "\n",
      "\n",
      "\n",
      " 17%|█▋        | 212/1261 [00:15<01:12, 14.48it/s]"
     ]
    },
    {
     "name": "stdout",
     "output_type": "stream",
     "text": [
      "736.459535407\n",
      "(array([ -2.64061427e-04,   3.90586373e-01,   2.93911496e+02]), array([ -2.23313605e-04,   4.57673814e-01,   7.68215096e+02])) (622.20838168700436, 736.45953540653579)\n",
      "928.582508814\n",
      "(array([ -2.50436167e-04,   3.84666174e-01,   2.90554952e+02]), array([ -1.77090737e-04,   4.03747392e-01,   7.88187296e+02])) (656.0922162804294, 928.58250881366632)\n",
      "627.803855349\n",
      "(array([ -2.65242129e-04,   3.96225925e-01,   2.89431027e+02]), array([ -2.61894980e-04,   4.71443474e-01,   7.74418112e+02])) (619.45744671750936, 627.80385534934931)\n"
     ]
    },
    {
     "name": "stderr",
     "output_type": "stream",
     "text": [
      "\u001b[A\u001b[A\u001b[A\u001b[A\u001b[A\u001b[A\u001b[A\u001b[A\n",
      "\n",
      "\n",
      "\n",
      "\n",
      "\n",
      "\n",
      "\n",
      " 17%|█▋        | 214/1261 [00:15<01:15, 13.91it/s]\u001b[A\u001b[A\u001b[A\u001b[A\u001b[A\u001b[A\u001b[A\u001b[A"
     ]
    },
    {
     "name": "stdout",
     "output_type": "stream",
     "text": [
      "863.930154825\n",
      "(array([ -2.76538907e-04,   4.06476006e-01,   2.86672400e+02]), array([ -1.90328100e-04,   4.09236836e-01,   7.86281737e+02])) (594.14983237735589, 863.9301548253228)\n",
      "720.864256054\n",
      "(array([ -2.84988811e-04,   4.12940503e-01,   2.85778997e+02]), array([ -2.28116527e-04,   4.51482470e-01,   7.72439450e+02])) (576.52689428781184, 720.86425605404975)\n",
      "919.680297587\n",
      "(array([ -2.87547653e-04,   4.16198824e-01,   2.84338139e+02]), array([ -1.78806097e-04,   4.05977575e-01,   7.79148778e+02])) (571.39956158706968, 919.68029758723083)\n"
     ]
    },
    {
     "name": "stderr",
     "output_type": "stream",
     "text": [
      "\n",
      "\n",
      "\n",
      "\n",
      "\n",
      "\n",
      "\n",
      "\n",
      " 17%|█▋        | 216/1261 [00:15<01:17, 13.40it/s]\u001b[A\u001b[A\u001b[A\u001b[A\u001b[A\u001b[A\u001b[A\u001b[A\n",
      "\n",
      "\n",
      "\n",
      "\n",
      "\n",
      "\n",
      "\n",
      " 17%|█▋        | 218/1261 [00:15<01:20, 12.90it/s]"
     ]
    },
    {
     "name": "stdout",
     "output_type": "stream",
     "text": [
      "747.126704578\n",
      "(array([ -2.77368397e-04,   4.08984975e-01,   2.84259723e+02]), array([ -2.20107713e-04,   4.47719404e-01,   7.67540526e+02])) (592.37993246742042, 747.12670457769013)\n",
      "765.626409554\n",
      "(array([ -3.02985530e-04,   4.32396443e-01,   2.78906429e+02]), array([ -2.14791960e-04,   4.43705146e-01,   7.65449942e+02])) (542.29038960861135, 765.62640955392374)\n",
      "816.240649407\n",
      "(array([ -2.90084459e-04,   4.24813254e-01,   2.77341323e+02]), array([ -2.01442397e-04,   4.17268856e-01,   7.76710651e+02])) (566.42683403500223, 816.24064940658866)\n"
     ]
    },
    {
     "name": "stderr",
     "output_type": "stream",
     "text": [
      "\u001b[A\u001b[A\u001b[A\u001b[A\u001b[A\u001b[A\u001b[A\u001b[A\n",
      "\n",
      "\n",
      "\n",
      "\n",
      "\n",
      "\n",
      "\n",
      " 17%|█▋        | 220/1261 [00:15<01:23, 12.47it/s]\u001b[A\u001b[A\u001b[A\u001b[A\u001b[A\u001b[A\u001b[A\u001b[A"
     ]
    },
    {
     "name": "stdout",
     "output_type": "stream",
     "text": [
      "767.095772812\n",
      "(array([ -2.88649500e-04,   4.23117107e-01,   2.78849550e+02]), array([ -2.14386883e-04,   4.45889726e-01,   7.61200928e+02])) (569.24142411567516, 767.09577281169425)\n",
      "773.079125384\n",
      "(array([ -2.40607640e-04,   3.89717766e-01,   2.79932642e+02]), array([ -2.12697194e-04,   4.31586646e-01,   7.70405142e+02])) (682.96511104706633, 773.07912538425057)\n",
      "1417.89872301\n",
      "(array([ -2.38505108e-04,   3.89079475e-01,   2.79478846e+02]), array([ -1.16001119e-04,   3.63010035e-01,   7.80950451e+02])) (688.99307747147964, 1417.8987230109092)\n"
     ]
    },
    {
     "name": "stderr",
     "output_type": "stream",
     "text": [
      "\n",
      "\n",
      "\n",
      "\n",
      "\n",
      "\n",
      "\n",
      "\n",
      " 18%|█▊        | 222/1261 [00:15<01:19, 12.99it/s]\u001b[A\u001b[A\u001b[A\u001b[A\u001b[A\u001b[A\u001b[A\u001b[A\n",
      "\n",
      "\n",
      "\n",
      "\n",
      "\n",
      "\n",
      "\n",
      " 18%|█▊        | 224/1261 [00:15<01:15, 13.66it/s]"
     ]
    },
    {
     "name": "stdout",
     "output_type": "stream",
     "text": [
      "1627.56156001\n",
      "(array([ -2.41951225e-04,   3.94971976e-01,   2.77241393e+02]), array([ -1.01056358e-04,   3.47460512e-01,   7.83780146e+02])) (679.19340398747931, 1627.5615600149492)\n",
      "1573.06659443\n",
      "(array([ -2.39260660e-04,   3.91766328e-01,   2.77777863e+02]), array([ -1.04545507e-04,   3.41371413e-01,   7.87506517e+02])) (686.8278051163403, 1573.0665944299039)\n",
      "2013.04207916\n",
      "(array([ -2.34430675e-04,   3.84389139e-01,   2.82153565e+02]), array([ -8.17070946e-05,   3.31078580e-01,   7.81368196e+02])) (700.96365035089934, 2013.0420791566041)\n",
      "11166.4359397\n",
      "(array([ -2.13880279e-04,   3.68171042e-01,   2.83393430e+02]), array([ -1.47290888e-05,   2.62556330e-01,   7.98543213e+02])) (768.3357583542296, 11166.435939723753)\n"
     ]
    },
    {
     "name": "stderr",
     "output_type": "stream",
     "text": [
      "\u001b[A\u001b[A\u001b[A\u001b[A\u001b[A\u001b[A\u001b[A\u001b[A\n",
      "\n",
      "\n",
      "\n",
      "\n",
      "\n",
      "\n",
      "\n",
      " 18%|█▊        | 226/1261 [00:16<01:13, 14.14it/s]\u001b[A\u001b[A\u001b[A\u001b[A\u001b[A\u001b[A\u001b[A\u001b[A\n",
      "\n",
      "\n",
      "\n",
      "\n",
      "\n",
      "\n",
      "\n",
      " 18%|█▊        | 228/1261 [00:16<01:14, 13.95it/s]"
     ]
    },
    {
     "name": "stdout",
     "output_type": "stream",
     "text": [
      "5773.37822794\n",
      "(array([ -2.34574341e-04,   3.82210737e-01,   2.82831533e+02]), array([ -2.84877013e-05,   2.75179238e-01,   7.91636685e+02])) (700.52195701905885, 5773.3782279373972)\n",
      "6358.14692012\n",
      "(array([ -2.10842998e-04,   3.64611051e-01,   2.83722387e+02]), array([ -2.58634688e-05,   2.58770447e-01,   7.98840672e+02])) (779.4000155833229, 6358.1469201248683)\n",
      "4725.98826017\n",
      "(array([ -2.08159768e-04,   3.63299971e-01,   2.81671484e+02]), array([ -3.47895767e-05,   2.51380279e-01,   8.05638119e+02])) (789.45451702000025, 4725.9882601715735)\n"
     ]
    },
    {
     "name": "stderr",
     "output_type": "stream",
     "text": [
      "\u001b[A\u001b[A\u001b[A\u001b[A\u001b[A\u001b[A\u001b[A\u001b[A\n",
      "\n",
      "\n",
      "\n",
      "\n",
      "\n",
      "\n",
      "\n",
      " 18%|█▊        | 230/1261 [00:16<01:14, 13.85it/s]\u001b[A\u001b[A\u001b[A\u001b[A\u001b[A\u001b[A\u001b[A\u001b[A"
     ]
    },
    {
     "name": "stdout",
     "output_type": "stream",
     "text": [
      "7435.28143003\n",
      "(array([ -1.95462734e-04,   3.47112640e-01,   2.85708749e+02]), array([ -2.21102173e-05,   2.27656216e-01,   8.13103121e+02])) (840.71038217180717, 7435.2814300304317)\n",
      "1594.89710085\n",
      "(array([ -1.95700115e-04,   3.49748509e-01,   2.81477037e+02]), array([ -1.03068212e-04,   2.97597780e-01,   8.02044739e+02])) (839.70629049305523, 1594.8971008478657)\n",
      "1340.86130806\n",
      "(array([ -1.96322876e-04,   3.48156278e-01,   2.82317422e+02]), array([ -1.22598598e-04,   3.19197534e-01,   7.94455839e+02])) (837.02841070353145, 1340.8613080574803)\n"
     ]
    },
    {
     "name": "stderr",
     "output_type": "stream",
     "text": [
      "\n",
      "\n",
      "\n",
      "\n",
      "\n",
      "\n",
      "\n",
      "\n",
      " 18%|█▊        | 232/1261 [00:16<01:18, 13.12it/s]\u001b[A\u001b[A\u001b[A\u001b[A\u001b[A\u001b[A\u001b[A\u001b[A\n",
      "\n",
      "\n",
      "\n",
      "\n",
      "\n",
      "\n",
      "\n",
      " 19%|█▊        | 234/1261 [00:16<01:14, 13.78it/s]"
     ]
    },
    {
     "name": "stdout",
     "output_type": "stream",
     "text": [
      "956.944493429\n",
      "(array([ -1.76100980e-04,   3.33550665e-01,   2.81161614e+02]), array([ -1.71776025e-04,   3.61597840e-01,   7.87755005e+02])) (933.18052441811028, 956.9444934289852)\n",
      "880.850741163\n",
      "(array([ -1.70497919e-04,   3.29299257e-01,   2.80623223e+02]), array([ -1.86644961e-04,   3.92023551e-01,   7.75809666e+02])) (963.85622798500788, 880.85074116300848)\n",
      "874.956016894\n",
      "(array([ -1.79230284e-04,   3.37723685e-01,   2.77839835e+02]), array([ -1.87900118e-04,   3.92032549e-01,   7.74495341e+02])) (916.89602433022719, 874.95601689378736)\n",
      "1009.65549513\n",
      "(array([ -2.07443820e-04,   3.58586319e-01,   2.73935689e+02]), array([ -1.62839901e-04,   3.72607074e-01,   7.77009256e+02])) (792.1543004824639, 1009.6554951311517)\n"
     ]
    },
    {
     "name": "stderr",
     "output_type": "stream",
     "text": [
      "\u001b[A\u001b[A\u001b[A\u001b[A\u001b[A\u001b[A\u001b[A\u001b[A\n",
      "\n",
      "\n",
      "\n",
      "\n",
      "\n",
      "\n",
      "\n",
      " 19%|█▊        | 236/1261 [00:16<01:11, 14.34it/s]\u001b[A\u001b[A\u001b[A\u001b[A\u001b[A\u001b[A\u001b[A\u001b[A\n",
      "\n",
      "\n",
      "\n",
      "\n",
      "\n",
      "\n",
      "\n",
      " 19%|█▉        | 238/1261 [00:16<01:08, 14.84it/s]"
     ]
    },
    {
     "name": "stdout",
     "output_type": "stream",
     "text": [
      "939.303101226\n",
      "(array([ -2.21386630e-04,   3.65800943e-01,   2.75794748e+02]), array([ -1.75067146e-04,   4.00588979e-01,   7.61027609e+02])) (742.23029197784581, 939.30310122645187)\n",
      "881.618369784\n",
      "(array([ -2.23727127e-04,   3.66637241e-01,   2.75292333e+02]), array([ -1.86510245e-04,   4.05946261e-01,   7.61203466e+02])) (734.45790340116753, 881.61836978389931)\n",
      "840.526497204\n",
      "(array([ -2.36215366e-04,   3.73752876e-01,   2.75432264e+02]), array([ -1.95635319e-04,   4.17912712e-01,   7.56022681e+02])) (695.60412152152128, 840.52649720380089)\n",
      "810.531696492\n",
      "(array([ -2.35665196e-04,   3.68541212e-01,   2.77983347e+02]), array([ -2.02880911e-04,   4.27450705e-01,   7.51120501e+02])) (697.20524210190717, 810.53169649225401)\n"
     ]
    },
    {
     "name": "stderr",
     "output_type": "stream",
     "text": [
      "\u001b[A\u001b[A\u001b[A\u001b[A\u001b[A\u001b[A\u001b[A\u001b[A\n",
      "\n",
      "\n",
      "\n",
      "\n",
      "\n",
      "\n",
      "\n",
      " 19%|█▉        | 240/1261 [00:17<01:09, 14.74it/s]\u001b[A\u001b[A\u001b[A\u001b[A\u001b[A\u001b[A\u001b[A\u001b[A\n",
      "\n",
      "\n",
      "\n",
      "\n",
      "\n",
      "\n",
      "\n",
      " 19%|█▉        | 242/1261 [00:17<01:07, 15.11it/s]"
     ]
    },
    {
     "name": "stdout",
     "output_type": "stream",
     "text": [
      "781.204911232\n",
      "(array([ -2.30023464e-04,   3.60422051e-01,   2.79537009e+02]), array([ -2.10479787e-04,   4.27275678e-01,   7.54684000e+02])) (714.29229897528535, 781.20491123222553)\n",
      "791.507435734\n",
      "(array([ -2.43310713e-04,   3.69918834e-01,   2.78307106e+02]), array([ -2.07731291e-04,   4.20693775e-01,   7.56750089e+02])) (675.26999205819311, 791.50743573397074)\n",
      "736.774993838\n",
      "(array([ -2.40480390e-04,   3.68084872e-01,   2.75758130e+02]), array([ -2.23135724e-04,   4.23752827e-01,   7.63619248e+02])) (683.22153549028292, 736.7749938384693)\n",
      "759.519748188\n",
      "(array([ -2.65636402e-04,   3.84703497e-01,   2.76258407e+02]), array([ -2.16477412e-04,   4.27952343e-01,   7.56377055e+02])) (618.48982246574906, 759.5197481877492)\n"
     ]
    },
    {
     "name": "stderr",
     "output_type": "stream",
     "text": [
      "\u001b[A\u001b[A\u001b[A\u001b[A\u001b[A\u001b[A\u001b[A\u001b[A\n",
      "\n",
      "\n",
      "\n",
      "\n",
      "\n",
      "\n",
      "\n",
      " 19%|█▉        | 244/1261 [00:17<01:08, 14.83it/s]\u001b[A\u001b[A\u001b[A\u001b[A\u001b[A\u001b[A\u001b[A\u001b[A\n",
      "\n",
      "\n",
      "\n",
      "\n",
      "\n",
      "\n",
      "\n",
      " 20%|█▉        | 246/1261 [00:17<01:10, 14.42it/s]"
     ]
    },
    {
     "name": "stdout",
     "output_type": "stream",
     "text": [
      "524.952316838\n",
      "(array([ -2.56104111e-04,   3.77145292e-01,   2.76259593e+02]), array([ -3.13228420e-04,   5.27109713e-01,   7.33114006e+02])) (641.51668108496676, 524.952316837946)\n",
      "657.161504364\n",
      "(array([ -2.63724573e-04,   3.78879860e-01,   2.78302397e+02]), array([ -2.50286195e-04,   4.92231559e-01,   7.31858722e+02])) (622.9581513291439, 657.16150436445389)\n",
      "669.184174307\n",
      "(array([ -2.59900505e-04,   3.71641895e-01,   2.81451686e+02]), array([ -2.45803558e-04,   4.92587263e-01,   7.28478068e+02])) (632.11061457051994, 669.18417430668774)\n"
     ]
    },
    {
     "name": "stderr",
     "output_type": "stream",
     "text": [
      "\u001b[A\u001b[A\u001b[A\u001b[A\u001b[A\u001b[A\u001b[A\u001b[A\n",
      "\n",
      "\n",
      "\n",
      "\n",
      "\n",
      "\n",
      "\n",
      " 20%|█▉        | 248/1261 [00:17<01:08, 14.84it/s]\u001b[A\u001b[A\u001b[A\u001b[A\u001b[A\u001b[A\u001b[A\u001b[A\n",
      "\n",
      "\n",
      "\n",
      "\n",
      "\n",
      "\n",
      "\n",
      " 20%|█▉        | 250/1261 [00:17<01:06, 15.12it/s]"
     ]
    },
    {
     "name": "stdout",
     "output_type": "stream",
     "text": [
      "739.151929652\n",
      "(array([ -2.50410846e-04,   3.62912267e-01,   2.82118296e+02]), array([ -2.22526071e-04,   4.66641287e-01,   7.35673537e+02])) (656.06677795719952, 739.15192965180881)\n",
      "773.666442727\n",
      "(array([ -2.67713768e-04,   3.75071697e-01,   2.83109990e+02]), array([ -2.12622928e-04,   4.66261216e-01,   7.29519790e+02])) (613.64789774268593, 773.66644272671829)\n",
      "812.524008631\n",
      "(array([ -2.58315852e-04,   3.68265513e-01,   2.82402398e+02]), array([ -2.02420564e-04,   4.42812247e-01,   7.41382355e+02])) (635.98142945044276, 812.52400863130777)\n",
      "832.809290241\n",
      "(array([ -2.64868364e-04,   3.71055087e-01,   2.83600793e+02]), array([ -1.97484206e-04,   4.35581363e-01,   7.42503686e+02])) (620.23562087528592, 832.80929024101931)\n"
     ]
    },
    {
     "name": "stderr",
     "output_type": "stream",
     "text": [
      "\u001b[A\u001b[A\u001b[A\u001b[A\u001b[A\u001b[A\u001b[A\u001b[A\n",
      "\n",
      "\n",
      "\n",
      "\n",
      "\n",
      "\n",
      "\n",
      " 20%|█▉        | 252/1261 [00:17<01:06, 15.22it/s]\u001b[A\u001b[A\u001b[A\u001b[A\u001b[A\u001b[A\u001b[A\u001b[A\n",
      "\n",
      "\n",
      "\n",
      "\n",
      "\n",
      "\n",
      "\n",
      " 20%|██        | 254/1261 [00:18<01:05, 15.44it/s]"
     ]
    },
    {
     "name": "stdout",
     "output_type": "stream",
     "text": [
      "890.456800009\n",
      "(array([ -2.74297880e-04,   3.79916771e-01,   2.80610079e+02]), array([ -1.84673049e-04,   4.11032583e-01,   7.53131062e+02])) (598.91318873945863, 890.45680000926961)\n",
      "928.137909457\n",
      "(array([ -2.65890967e-04,   3.75067646e-01,   2.80347019e+02]), array([ -1.77155904e-04,   3.93749247e-01,   7.60871479e+02])) (617.86092029266797, 928.13790945695428)\n",
      "793.250161566\n",
      "(array([ -2.65330593e-04,   3.70677807e-01,   2.82661110e+02]), array([ -2.07276996e-04,   4.21195575e-01,   7.54596703e+02])) (619.15226083288849, 793.25016156570962)\n",
      "649.185069481\n",
      "(array([ -2.36452299e-04,   3.48264137e-01,   2.85027326e+02]), array([ -2.53247709e-04,   4.54940220e-01,   7.53537669e+02])) (694.79142798793112, 649.18506948079335)\n"
     ]
    },
    {
     "name": "stderr",
     "output_type": "stream",
     "text": [
      "\u001b[A\u001b[A\u001b[A\u001b[A\u001b[A\u001b[A\u001b[A\u001b[A\n",
      "\n",
      "\n",
      "\n",
      "\n",
      "\n",
      "\n",
      "\n",
      " 20%|██        | 256/1261 [00:18<01:04, 15.60it/s]\u001b[A\u001b[A\u001b[A\u001b[A\u001b[A\u001b[A\u001b[A\u001b[A\n",
      "\n",
      "\n",
      "\n",
      "\n",
      "\n",
      "\n",
      "\n",
      " 20%|██        | 258/1261 [00:18<01:03, 15.70it/s]"
     ]
    },
    {
     "name": "stdout",
     "output_type": "stream",
     "text": [
      "846.333019648\n",
      "(array([ -2.43931290e-04,   3.50857351e-01,   2.88197296e+02]), array([ -1.94256849e-04,   3.99113441e-01,   7.63833618e+02])) (673.47121987395053, 846.33301964751251)\n",
      "675.468386294\n",
      "(array([ -2.33350832e-04,   3.40996227e-01,   2.90549694e+02]), array([ -2.43399904e-04,   4.48035807e-01,   7.53443015e+02])) (704.00853510850175, 675.46838629411354)\n",
      "1158.32659845\n",
      "(array([ -2.30579403e-04,   3.33760860e-01,   2.95136165e+02]), array([ -1.41985181e-04,   3.81548172e-01,   7.61905998e+02])) (712.4522611346639, 1158.326598448127)\n",
      "1008.99920582\n",
      "(array([ -2.39632493e-04,   3.34932137e-01,   2.98695680e+02]), array([ -1.62979338e-04,   3.91631351e-01,   7.60536821e+02])) (685.50945348319988, 1008.9992058169927)\n"
     ]
    },
    {
     "name": "stderr",
     "output_type": "stream",
     "text": [
      "\u001b[A\u001b[A\u001b[A\u001b[A\u001b[A\u001b[A\u001b[A\u001b[A\n",
      "\n",
      "\n",
      "\n",
      "\n",
      "\n",
      "\n",
      "\n",
      " 21%|██        | 260/1261 [00:18<01:03, 15.78it/s]\u001b[A\u001b[A\u001b[A\u001b[A\u001b[A\u001b[A\u001b[A\u001b[A"
     ]
    },
    {
     "name": "stdout",
     "output_type": "stream",
     "text": [
      "909.130635517\n",
      "(array([ -2.35013576e-04,   3.31773552e-01,   2.99215460e+02]), array([ -1.80855040e-04,   3.94890614e-01,   7.65531237e+02])) (698.98687991686995, 909.13063551700964)\n",
      "947.709186953\n",
      "(array([ -2.23322477e-04,   3.16312859e-01,   3.06032813e+02]), array([ -1.73494693e-04,   3.88766439e-01,   7.65488583e+02])) (735.56371600858074, 947.70918695261628)\n",
      "1023.30159444\n",
      "(array([ -2.07437216e-04,   3.04395914e-01,   3.06634223e+02]), array([ -1.60646087e-04,   3.56771659e-01,   7.82615874e+02])) (791.90538676216431, 1023.3015944375908)\n",
      "742.378456366\n",
      "(array([ -2.06769189e-04,   2.99977332e-01,   3.10172594e+02]), array([ -2.21415569e-04,   4.05384830e-01,   7.74936616e+02])) (794.44889023839357, 742.37845636596637)\n"
     ]
    },
    {
     "name": "stderr",
     "output_type": "stream",
     "text": [
      "\n",
      "\n",
      "\n",
      "\n",
      "\n",
      "\n",
      "\n",
      "\n",
      " 21%|██        | 262/1261 [00:18<01:05, 15.36it/s]\u001b[A\u001b[A\u001b[A\u001b[A\u001b[A\u001b[A\u001b[A\u001b[A\n",
      "\n",
      "\n",
      "\n",
      "\n",
      "\n",
      "\n",
      "\n",
      " 21%|██        | 264/1261 [00:18<01:07, 14.77it/s]\u001b[A\u001b[A\u001b[A\u001b[A\u001b[A\u001b[A\u001b[A\u001b[A"
     ]
    },
    {
     "name": "stdout",
     "output_type": "stream",
     "text": [
      "750.160196766\n",
      "(array([ -2.01290125e-04,   2.94047079e-01,   3.11785997e+02]), array([ -2.19106366e-04,   3.97005707e-01,   7.79926650e+02])) (816.07090884158072, 750.1601967658213)\n",
      "696.234870169\n",
      "(array([ -2.06598252e-04,   2.93297980e-01,   3.13290124e+02]), array([ -2.36063189e-04,   4.06787085e-01,   7.81479719e+02])) (795.08164449541619, 696.2348701693229)\n",
      "575.397809815\n",
      "(array([ -2.05081571e-04,   2.92331746e-01,   3.13296215e+02]), array([ -2.85631240e-04,   4.51668777e-01,   7.73527360e+02])) (800.96347473167361, 575.39780981539832)\n"
     ]
    },
    {
     "name": "stderr",
     "output_type": "stream",
     "text": [
      "\n",
      "\n",
      "\n",
      "\n",
      "\n",
      "\n",
      "\n",
      "\n",
      " 21%|██        | 266/1261 [00:18<01:14, 13.36it/s]\u001b[A\u001b[A\u001b[A\u001b[A\u001b[A\u001b[A\u001b[A\u001b[A"
     ]
    },
    {
     "name": "stdout",
     "output_type": "stream",
     "text": [
      "835.112981815\n",
      "(array([ -2.02769929e-04,   2.94143468e-01,   3.09657542e+02]), array([ -1.96774132e-04,   3.49225655e-01,   8.05146115e+02])) (810.11007777955172, 835.11298181464554)\n",
      "669.188313624\n",
      "(array([ -1.92984563e-04,   2.78360964e-01,   3.16865178e+02]), array([ -2.45584070e-04,   4.06265659e-01,   7.89071997e+02])) (851.16178617310425, 669.18831362429648)\n"
     ]
    },
    {
     "name": "stderr",
     "output_type": "stream",
     "text": [
      "\n",
      "\n",
      "\n",
      "\n",
      "\n",
      "\n",
      "\n",
      "\n",
      "\r",
      " 21%|██▏       | 268/1261 [00:19<01:24, 11.70it/s]"
     ]
    },
    {
     "name": "stdout",
     "output_type": "stream",
     "text": [
      "678.620062632\n",
      "(array([ -1.96841645e-04,   2.82349750e-01,   3.15349041e+02]), array([ -2.42164643e-04,   3.99844805e-01,   7.92637925e+02])) (834.48447482640302, 678.6200626321147)\n",
      "680.998547834\n",
      "(array([ -2.05926156e-04,   2.91580768e-01,   3.11783692e+02]), array([ -2.41297973e-04,   3.87935210e-01,   8.01965480e+02])) (797.67271317531049, 680.998547834021)\n",
      "1055.26571243\n",
      "(array([ -1.76671557e-04,   2.62969066e-01,   3.18842972e+02]), array([ -1.55752380e-04,   3.32964210e-01,   8.07846064e+02])) (929.75511726125694, 1055.2657124309974)\n"
     ]
    },
    {
     "name": "stderr",
     "output_type": "stream",
     "text": [
      "\u001b[A\u001b[A\u001b[A\u001b[A\u001b[A\u001b[A\u001b[A\u001b[A\n",
      "\n",
      "\n",
      "\n",
      "\n",
      "\n",
      "\n",
      "\n",
      " 21%|██▏       | 270/1261 [00:19<01:27, 11.39it/s]\u001b[A\u001b[A\u001b[A\u001b[A\u001b[A\u001b[A\u001b[A\u001b[A\n",
      "\n",
      "\n",
      "\n",
      "\n",
      "\n",
      "\n",
      "\n",
      " 22%|██▏       | 272/1261 [00:19<01:20, 12.31it/s]\u001b[A\u001b[A\u001b[A\u001b[A\u001b[A\u001b[A\u001b[A\u001b[A"
     ]
    },
    {
     "name": "stdout",
     "output_type": "stream",
     "text": [
      "1218.16765702\n",
      "(array([ -1.82207230e-04,   2.60423005e-01,   3.23549652e+02]), array([ -1.34928031e-04,   3.16254193e-01,   8.08970542e+02])) (901.47745542055941, 1218.1676570207487)\n",
      "1076.3239529\n",
      "(array([ -1.96130177e-04,   2.66049292e-01,   3.28113520e+02]), array([ -1.52728832e-04,   3.46857232e-01,   7.94089876e+02])) (837.45756700578363, 1076.3239528987108)\n",
      "1020.452887\n",
      "(array([ -1.84726342e-04,   2.55750432e-01,   3.31239616e+02]), array([ -1.61080586e-04,   3.48116861e-01,   7.95283716e+02])) (889.15907080083309, 1020.4528869991989)\n"
     ]
    },
    {
     "name": "stderr",
     "output_type": "stream",
     "text": [
      "\n",
      "\n",
      "\n",
      "\n",
      "\n",
      "\n",
      "\n",
      "\n",
      " 22%|██▏       | 274/1261 [00:19<01:18, 12.65it/s]\u001b[A\u001b[A\u001b[A\u001b[A\u001b[A\u001b[A\u001b[A\u001b[A\n",
      "\n",
      "\n",
      "\n",
      "\n",
      "\n",
      "\n",
      "\n",
      " 22%|██▏       | 276/1261 [00:19<01:13, 13.39it/s]"
     ]
    },
    {
     "name": "stdout",
     "output_type": "stream",
     "text": [
      "1841.47351014\n",
      "(array([ -1.99127310e-04,   2.61281447e-01,   3.35650689e+02]), array([ -8.92764330e-05,   2.94865392e-01,   8.00060645e+02])) (824.8301969375392, 1841.4735101387753)\n",
      "1351.21755707\n",
      "(array([ -1.99539521e-04,   2.60565502e-01,   3.36174471e+02]), array([ -1.21648686e-04,   3.09407117e-01,   8.03361512e+02])) (823.1231814382478, 1351.2175570684747)\n",
      "758.918753224\n",
      "(array([ -1.78175114e-04,   2.46573458e-01,   3.36453350e+02]), array([ -2.16564529e-04,   3.87688978e-01,   7.93545606e+02])) (921.84220510267619, 758.91875322418673)\n",
      "831.322069796\n",
      "(array([ -1.80777364e-04,   2.48664148e-01,   3.36329382e+02]), array([ -1.97696477e-04,   3.65720112e-01,   8.00163581e+02]))"
     ]
    },
    {
     "name": "stderr",
     "output_type": "stream",
     "text": [
      "\u001b[A\u001b[A\u001b[A\u001b[A\u001b[A\u001b[A\u001b[A\u001b[A\n",
      "\n",
      "\n",
      "\n",
      "\n",
      "\n",
      "\n",
      "\n",
      " 22%|██▏       | 278/1261 [00:19<01:11, 13.70it/s]\u001b[A\u001b[A\u001b[A\u001b[A\u001b[A\u001b[A\u001b[A\u001b[A"
     ]
    },
    {
     "name": "stdout",
     "output_type": "stream",
     "text": [
      " (908.57114277063499, 831.32206979595367)\n",
      "801.279171291\n",
      "(array([ -1.57828732e-04,   2.33414214e-01,   3.37042698e+02]), array([ -2.05089246e-04,   3.61177263e-01,   8.07411824e+02])) (1040.7060558933092, 801.27917129089633)\n",
      "824.848789384\n",
      "(array([ -1.66925830e-04,   2.37605134e-01,   3.40419521e+02]), array([ -1.99240604e-04,   3.62794644e-01,   8.02741811e+02])) (983.97264021075739, 824.84878938388613)\n"
     ]
    },
    {
     "name": "stderr",
     "output_type": "stream",
     "text": [
      "\n",
      "\n",
      "\n",
      "\n",
      "\n",
      "\n",
      "\n",
      "\n",
      " 22%|██▏       | 280/1261 [00:19<01:11, 13.75it/s]\u001b[A\u001b[A\u001b[A\u001b[A\u001b[A\u001b[A\u001b[A\u001b[A\n",
      "\n",
      "\n",
      "\n",
      "\n",
      "\n",
      "\n",
      "\n",
      " 22%|██▏       | 282/1261 [00:20<01:08, 14.33it/s]"
     ]
    },
    {
     "name": "stdout",
     "output_type": "stream",
     "text": [
      "797.116118939\n",
      "(array([ -1.74309807e-04,   2.37974384e-01,   3.43218810e+02]), array([ -2.06168314e-04,   3.67013246e-01,   8.02655040e+02])) (942.26773704471964, 797.11611893916427)\n",
      "1249.9146614\n",
      "(array([ -1.65330173e-04,   2.27668294e-01,   3.47192067e+02]), array([ -1.31499767e-04,   3.11963288e-01,   8.13413622e+02])) (993.43980380836149, 1249.914661398215)\n",
      "1291.18408285\n",
      "(array([ -1.64817274e-04,   2.19746606e-01,   3.53442767e+02]), array([ -1.27300518e-04,   3.11240359e-01,   8.10984735e+02])) (996.50799888819779, 1291.1840828521806)\n"
     ]
    },
    {
     "name": "stderr",
     "output_type": "stream",
     "text": [
      "\u001b[A\u001b[A\u001b[A\u001b[A\u001b[A\u001b[A\u001b[A\u001b[A\n",
      "\n",
      "\n",
      "\n",
      "\n",
      "\n",
      "\n",
      "\n",
      " 23%|██▎       | 284/1261 [00:20<01:09, 13.99it/s]\u001b[A\u001b[A\u001b[A\u001b[A\u001b[A\u001b[A\u001b[A\u001b[A"
     ]
    },
    {
     "name": "stdout",
     "output_type": "stream",
     "text": [
      "1510.67048537\n",
      "(array([ -1.56004046e-04,   2.17507364e-01,   3.51711579e+02]), array([ -1.08793758e-04,   2.81854730e-01,   8.24046009e+02])) (1052.8247459892054, 1510.6704853656449)\n",
      "1449.29353674\n",
      "(array([ -1.54428623e-04,   2.13202303e-01,   3.55708030e+02]), array([ -1.13399987e-04,   2.85098725e-01,   8.24097962e+02])) (1063.5557565169445, 1449.2935367369284)\n",
      "1303.93513229\n",
      "(array([ -1.22836729e-04,   1.91882381e-01,   3.57802383e+02]), array([ -1.26022922e-04,   2.78993923e-01,   8.33532961e+02])) (1337.1278509329627, 1303.9351322854409)\n"
     ]
    },
    {
     "name": "stderr",
     "output_type": "stream",
     "text": [
      "\n",
      "\n",
      "\n",
      "\n",
      "\n",
      "\n",
      "\n",
      "\n",
      " 23%|██▎       | 286/1261 [00:20<01:10, 13.87it/s]\u001b[A\u001b[A\u001b[A\u001b[A\u001b[A\u001b[A\u001b[A\u001b[A\n",
      "\n",
      "\n",
      "\n",
      "\n",
      "\n",
      "\n",
      "\n",
      " 23%|██▎       | 288/1261 [00:20<01:14, 13.00it/s]"
     ]
    },
    {
     "name": "stdout",
     "output_type": "stream",
     "text": [
      "5061.06893819\n",
      "(array([ -1.42123370e-04,   2.07420900e-01,   3.54778994e+02]), array([ -3.24674964e-05,   1.84746544e-01,   8.59840826e+02])) (1155.6628701414647, 5061.0689381938046)\n",
      "1028.18345695\n",
      "(array([ -1.24375455e-04,   1.88685089e-01,   3.60299577e+02]), array([ -1.59801846e-04,   2.94470118e-01,   8.39253551e+02])) (1320.5640681785169, 1028.183456953868)\n",
      "2035.98080006\n",
      "(array([ -1.37660531e-04,   1.98153462e-01,   3.59139367e+02]), array([ -8.06957021e-05,   2.08600226e-01,   8.64342694e+02])) (1193.1088300717738, 2035.9808000625112)\n"
     ]
    },
    {
     "name": "stderr",
     "output_type": "stream",
     "text": [
      "\u001b[A\u001b[A\u001b[A\u001b[A\u001b[A\u001b[A\u001b[A\u001b[A\n",
      "\n",
      "\n",
      "\n",
      "\n",
      "\n",
      "\n",
      "\n",
      " 23%|██▎       | 290/1261 [00:20<01:11, 13.60it/s]\u001b[A\u001b[A\u001b[A\u001b[A\u001b[A\u001b[A\u001b[A\u001b[A"
     ]
    },
    {
     "name": "stdout",
     "output_type": "stream",
     "text": [
      "1948.97436486\n",
      "(array([ -1.32802876e-04,   1.83421212e-01,   3.68963290e+02]), array([ -8.43006883e-05,   2.16766167e-01,   8.58567740e+02])) (1236.7136356227086, 1948.974364855773)\n",
      "1092.36476329\n",
      "(array([ -1.28504857e-04,   1.79756266e-01,   3.69617720e+02]), array([ -1.50405184e-04,   2.77831188e-01,   8.47780320e+02])) (1278.0787969408223, 1092.3647632859659)\n",
      "1070.16547145\n",
      "(array([ -1.36832739e-04,   1.76810044e-01,   3.76646480e+02]), array([ -1.53533899e-04,   2.89400017e-01,   8.40593696e+02])) (1200.2603895664063, 1070.1654714461893)\n"
     ]
    },
    {
     "name": "stderr",
     "output_type": "stream",
     "text": [
      "\n",
      "\n",
      "\n",
      "\n",
      "\n",
      "\n",
      "\n",
      "\n",
      " 23%|██▎       | 292/1261 [00:20<01:09, 13.89it/s]\u001b[A\u001b[A\u001b[A\u001b[A\u001b[A\u001b[A\u001b[A\u001b[A\n",
      "\n",
      "\n",
      "\n",
      "\n",
      "\n",
      "\n",
      "\n",
      " 23%|██▎       | 294/1261 [00:20<01:06, 14.51it/s]"
     ]
    },
    {
     "name": "stdout",
     "output_type": "stream",
     "text": [
      "975.881082512\n",
      "(array([ -1.31356660e-04,   1.70047285e-01,   3.80132699e+02]), array([ -1.68372338e-04,   3.07760400e-01,   8.34406752e+02])) (1250.2935339660467, 975.88108251241681)\n",
      "1332.77650035\n",
      "(array([ -1.30654432e-04,   1.70606608e-01,   3.79517647e+02]), array([ -1.23295058e-04,   2.75606949e-01,   8.41424140e+02])) (1257.0168194354203, 1332.7765003451871)\n",
      "1639.39928689\n",
      "(array([ -1.00687603e-04,   1.43851255e-01,   3.86171923e+02]), array([ -1.00235086e-04,   2.53928009e-01,   8.44709248e+02])) (1631.1397945940021, 1639.399286890033)\n",
      "918.899046053\n",
      "(array([ -1.11538010e-04,   1.59300277e-01,   3.81203769e+02]), array([ -1.78805174e-04,   3.11175455e-01,   8.37390435e+02])) (1472.4804452308319, 918.89904605345919)\n"
     ]
    },
    {
     "name": "stderr",
     "output_type": "stream",
     "text": [
      "\u001b[A\u001b[A\u001b[A\u001b[A\u001b[A\u001b[A\u001b[A\u001b[A\n",
      "\n",
      "\n",
      "\n",
      "\n",
      "\n",
      "\n",
      "\n",
      " 23%|██▎       | 296/1261 [00:21<01:04, 14.93it/s]\u001b[A\u001b[A\u001b[A\u001b[A\u001b[A\u001b[A\u001b[A\u001b[A\n",
      "\n",
      "\n",
      "\n",
      "\n",
      "\n",
      "\n",
      "\n",
      " 24%|██▎       | 298/1261 [00:21<01:02, 15.30it/s]"
     ]
    },
    {
     "name": "stdout",
     "output_type": "stream",
     "text": [
      "1706.49791926\n",
      "(array([ -1.12615540e-04,   1.53960343e-01,   3.85424223e+02]), array([ -9.62950259e-05,   2.51683602e-01,   8.44954369e+02])) (1458.3694296626363, 1706.4979192607859)\n",
      "1093.47136925\n",
      "(array([ -1.00293530e-04,   1.44883614e-01,   3.85614468e+02]), array([ -1.50263130e-04,   2.87808647e-01,   8.41489402e+02])) (1637.5541988964414, 1093.4713692537948)\n",
      "1562.7753215\n",
      "(array([ -9.86575747e-05,   1.48107192e-01,   3.82414083e+02]), array([ -1.05141340e-04,   2.47844285e-01,   8.50284579e+02])) (1664.7280251531661, 1562.7753214956344)\n",
      "1081.89909521\n",
      "(array([ -9.70314611e-05,   1.48223778e-01,   3.81562124e+02]), array([ -1.51867280e-04,   2.86368054e-01,   8.43684477e+02])) (1692.6340078718927, 1081.8990952069532)\n"
     ]
    },
    {
     "name": "stderr",
     "output_type": "stream",
     "text": [
      "\u001b[A\u001b[A\u001b[A\u001b[A\u001b[A\u001b[A\u001b[A\u001b[A\n",
      "\n",
      "\n",
      "\n",
      "\n",
      "\n",
      "\n",
      "\n",
      " 24%|██▍       | 300/1261 [00:21<01:01, 15.51it/s]\u001b[A\u001b[A\u001b[A\u001b[A\u001b[A\u001b[A\u001b[A\u001b[A\n",
      "\n",
      "\n",
      "\n",
      "\n",
      "\n",
      "\n",
      "\n",
      " 24%|██▍       | 302/1261 [00:21<01:06, 14.51it/s]"
     ]
    },
    {
     "name": "stdout",
     "output_type": "stream",
     "text": [
      "1294.04327936\n",
      "(array([ -9.17018270e-05,   1.45993213e-01,   3.79350234e+02]), array([ -1.26966808e-04,   2.58340286e-01,   8.53184293e+02])) (1791.0225950580857, 1294.0432793582029)\n",
      "1182.3333289\n",
      "(array([ -8.83064450e-05,   1.43691521e-01,   3.79794345e+02]), array([ -1.38965627e-04,   2.72738380e-01,   8.47993324e+02])) (1859.8924230198472, 1182.3333288983522)\n",
      "1239.94913352\n",
      "(array([ -9.17966061e-05,   1.51508322e-01,   3.74401974e+02]), array([ -1.32497017e-04,   2.53090597e-01,   8.59392924e+02])) (1789.2018057199348, 1239.9491335229184)\n"
     ]
    },
    {
     "name": "stderr",
     "output_type": "stream",
     "text": [
      "\u001b[A\u001b[A\u001b[A\u001b[A\u001b[A\u001b[A\u001b[A\u001b[A\n",
      "\n",
      "\n",
      "\n",
      "\n",
      "\n",
      "\n",
      "\n",
      " 24%|██▍       | 304/1261 [00:21<01:05, 14.52it/s]\u001b[A\u001b[A\u001b[A\u001b[A\u001b[A\u001b[A\u001b[A\u001b[A"
     ]
    },
    {
     "name": "stdout",
     "output_type": "stream",
     "text": [
      "1190.66709162\n",
      "(array([ -7.62044308e-05,   1.38571796e-01,   3.76299521e+02]), array([ -1.37986177e-04,   2.64270666e-01,   8.54058676e+02])) (2155.3036918807243, 1190.6670916235335)\n",
      "1115.2042849\n",
      "(array([ -7.18071017e-05,   1.33414096e-01,   3.77958139e+02]), array([ -1.47324319e-04,   2.74294240e-01,   8.50711962e+02])) (2287.2836376899622, 1115.2042848961958)\n",
      "4156.9887043\n",
      "(array([ -6.21367599e-05,   1.27456319e-01,   3.76770380e+02]), array([ -3.95307967e-05,   1.98619960e-01,   8.65324437e+02])) (2643.2815805820478, 4156.9887042971714)\n",
      "2922.89240304\n",
      "(array([ -5.94401254e-05,   1.13764874e-01,   3.86064156e+02]), array([ -5.62227950e-05,   2.17834441e-01,   8.54592476e+02])) (2763.1077768732357, 2922.8924030449243)\n"
     ]
    },
    {
     "name": "stderr",
     "output_type": "stream",
     "text": [
      "\n",
      "\n",
      "\n",
      "\n",
      "\n",
      "\n",
      "\n",
      "\n",
      " 24%|██▍       | 306/1261 [00:21<01:04, 14.87it/s]\u001b[A\u001b[A\u001b[A\u001b[A\u001b[A\u001b[A\u001b[A\u001b[A\n",
      "\n",
      "\n",
      "\n",
      "\n",
      "\n",
      "\n",
      "\n",
      " 24%|██▍       | 308/1261 [00:21<01:06, 14.34it/s]\u001b[A\u001b[A\u001b[A\u001b[A\u001b[A\u001b[A\u001b[A\u001b[A"
     ]
    },
    {
     "name": "stdout",
     "output_type": "stream",
     "text": [
      "4044.8451992\n",
      "(array([ -6.26964613e-05,   1.21114072e-01,   3.81940690e+02]), array([ -4.06233305e-05,   1.88283951e-01,   8.68717904e+02])) (2619.6285828846521, 4044.8451991975171)\n",
      "6436.91189089\n",
      "(array([ -7.23188725e-05,   1.13859198e-01,   3.93380958e+02]), array([ -2.55308956e-05,   1.93630181e-01,   8.57302781e+02])) (2270.9777922925841, 6436.911890886392)\n",
      "19938.0177148\n",
      "(array([ -5.86306602e-05,   9.96265380e-02,   3.97410161e+02]), array([  8.24193992e-06,   1.51867860e-01,   8.70422963e+02])) (2801.1653444413141, 19938.017714825241)\n"
     ]
    },
    {
     "name": "stderr",
     "output_type": "stream",
     "text": [
      "\n",
      "\n",
      "\n",
      "\n",
      "\n",
      "\n",
      "\n",
      "\n",
      " 25%|██▍       | 310/1261 [00:22<01:05, 14.45it/s]\u001b[A\u001b[A\u001b[A\u001b[A\u001b[A\u001b[A\u001b[A\u001b[A\n",
      "\n",
      "\n",
      "\n",
      "\n",
      "\n",
      "\n",
      "\n",
      " 25%|██▍       | 312/1261 [00:22<01:04, 14.68it/s]"
     ]
    },
    {
     "name": "stdout",
     "output_type": "stream",
     "text": [
      "23744.0132395\n",
      "(array([ -3.59430034e-05,   7.78918290e-02,   4.03631296e+02]), array([ -6.92066312e-06,   1.63535004e-01,   8.67713262e+02])) (4569.295100649274, 23744.013239466694)\n",
      "53062.5214358\n",
      "(array([ -1.50233349e-05,   4.74878857e-02,   4.15852791e+02]), array([  3.09679849e-06,   1.53612246e-01,   8.66867475e+02])) (10931.731322094794, 53062.521435784867)\n",
      "3396.42234548\n",
      "(array([ -5.69955066e-06,   3.35896942e-02,   4.20959938e+02]), array([  4.83775323e-05,   9.89475087e-02,   8.82450515e+02])) (28814.527788841617, 3396.4223454829553)\n"
     ]
    },
    {
     "name": "stderr",
     "output_type": "stream",
     "text": [
      "\u001b[A\u001b[A\u001b[A\u001b[A\u001b[A\u001b[A\u001b[A\u001b[A\n",
      "\n",
      "\n",
      "\n",
      "\n",
      "\n",
      "\n",
      "\n",
      " 25%|██▍       | 314/1261 [00:22<01:05, 14.42it/s]\u001b[A\u001b[A\u001b[A\u001b[A\u001b[A\u001b[A\u001b[A\u001b[A"
     ]
    },
    {
     "name": "stdout",
     "output_type": "stream",
     "text": [
      "10339.3569327\n",
      "(array([ -2.83218064e-05,   4.26388764e-02,   4.26721987e+02]), array([ -1.58929513e-05,   1.71002304e-01,   8.59199506e+02])) (5798.6298774464831, 10339.356932650486)\n",
      "3551.44109149\n",
      "(array([ -1.56731535e-05,   3.22288215e-02,   4.28234478e+02]), array([ -4.62653696e-05,   1.88237585e-01,   8.60996741e+02])) (10478.29319446796, 3551.4410914922846)\n",
      "5172.86186267\n",
      "(array([  1.60155659e-05,   5.40072281e-03,   4.33437062e+02]), array([ -3.17618114e-05,   1.65940681e-01,   8.69116879e+02])) (10254.301301205462, 5172.8618626727512)\n"
     ]
    },
    {
     "name": "stderr",
     "output_type": "stream",
     "text": [
      "\n",
      "\n",
      "\n",
      "\n",
      "\n",
      "\n",
      "\n",
      "\n",
      " 25%|██▌       | 316/1261 [00:22<01:06, 14.19it/s]\u001b[A\u001b[A\u001b[A\u001b[A\u001b[A\u001b[A\u001b[A\u001b[A\n",
      "\n",
      "\n",
      "\n",
      "\n",
      "\n",
      "\n",
      "\n",
      " 25%|██▌       | 318/1261 [00:22<01:07, 14.01it/s]"
     ]
    },
    {
     "name": "stdout",
     "output_type": "stream",
     "text": [
      "5757.06875309\n",
      "(array([ -1.23985828e-05,   2.75602003e-02,   4.29832110e+02]), array([ -2.85361139e-05,   1.47975531e-01,   8.79864940e+02])) (13245.68311639825, 5757.0687530941905)\n",
      "4095.23197498\n",
      "(array([  2.21346671e-06,   1.66488076e-02,   4.30792812e+02]), array([  4.01181819e-05,   9.10334039e-02,   8.94237694e+02])) (74194.982609180472, 4095.2319749839821)\n",
      "5136.92644164\n",
      "(array([ -1.37028139e-06,   6.62564238e-03,   4.40645714e+02]), array([  3.19833311e-05,   1.01500171e-01,   8.86756028e+02])) (119848.98887111167, 5136.9264416406795)\n"
     ]
    },
    {
     "name": "stderr",
     "output_type": "stream",
     "text": [
      "\u001b[A\u001b[A\u001b[A\u001b[A\u001b[A\u001b[A\u001b[A\u001b[A\n",
      "\n",
      "\n",
      "\n",
      "\n",
      "\n",
      "\n",
      "\n",
      " 25%|██▌       | 320/1261 [00:22<01:07, 13.92it/s]\u001b[A\u001b[A\u001b[A\u001b[A\u001b[A\u001b[A\u001b[A\u001b[A"
     ]
    },
    {
     "name": "stdout",
     "output_type": "stream",
     "text": [
      "5349.86900563\n",
      "(array([ -2.63758541e-07,   9.09263230e-03,   4.38910695e+02]), array([  3.07083855e-05,   9.26286744e-02,   8.93464750e+02])) (622641.58621499327, 5349.8690056324376)\n",
      "5636.76085504\n",
      "(array([  3.07558388e-05,  -2.76849624e-02,   4.51173842e+02]), array([  2.91455818e-05,   9.49882158e-02,   8.90807899e+02])) (5339.6930913987389, 5636.7608550390096)\n",
      "19587.8056627\n",
      "(array([  3.48714737e-05,  -2.77320444e-02,   4.49161465e+02]), array([ -8.38631318e-06,   1.11888853e-01,   8.94508126e+02])) (4709.4900218630837, 19587.805662696155)\n"
     ]
    },
    {
     "name": "stderr",
     "output_type": "stream",
     "text": [
      "\n",
      "\n",
      "\n",
      "\n",
      "\n",
      "\n",
      "\n",
      "\n",
      " 26%|██▌       | 322/1261 [00:22<01:06, 14.02it/s]\u001b[A\u001b[A\u001b[A\u001b[A\u001b[A\u001b[A\u001b[A\u001b[A\n",
      "\n",
      "\n",
      "\n",
      "\n",
      "\n",
      "\n",
      "\n",
      " 26%|██▌       | 324/1261 [00:23<01:05, 14.40it/s]"
     ]
    },
    {
     "name": "stdout",
     "output_type": "stream",
     "text": [
      "8531.26999601\n",
      "(array([  3.70475019e-05,  -2.77528371e-02,   4.48558514e+02]), array([ -1.92546286e-05,   1.18565211e-01,   8.94793119e+02])) (4432.8756407417477, 8531.2699960055816)\n",
      "992599.51945\n",
      "(array([  3.55259761e-05,  -3.09986267e-02,   4.51268827e+02]), array([ -1.65488860e-07,   9.73342734e-02,   9.00213192e+02])) (4622.7235143080516, 992599.51945039083)\n",
      "1836.80845828\n",
      "(array([  2.88981246e-05,  -2.12457917e-02,   4.45717957e+02]), array([ -8.94231694e-05,   1.67616072e-01,   8.93822695e+02])) (5682.9602634490584, 1836.8084582764584)\n",
      "1855.7607769\n",
      "(array([  3.44784869e-05,  -3.10769104e-02,   4.50301686e+02]), array([ -8.85117527e-05,   1.71834377e-01,   8.90378752e+02])) (4763.1656058806648, 1855.7607768978901)\n"
     ]
    },
    {
     "name": "stderr",
     "output_type": "stream",
     "text": [
      "\u001b[A\u001b[A\u001b[A\u001b[A\u001b[A\u001b[A\u001b[A\u001b[A\n",
      "\n",
      "\n",
      "\n",
      "\n",
      "\n",
      "\n",
      "\n",
      " 26%|██▌       | 326/1261 [00:23<01:08, 13.65it/s]\u001b[A\u001b[A\u001b[A\u001b[A\u001b[A\u001b[A\u001b[A\u001b[A\n",
      "\n",
      "\n",
      "\n",
      "\n",
      "\n",
      "\n",
      "\n",
      " 26%|██▌       | 328/1261 [00:23<01:07, 13.79it/s]"
     ]
    },
    {
     "name": "stdout",
     "output_type": "stream",
     "text": [
      "1791.63659405\n",
      "(array([  1.85781704e-05,  -1.87914288e-02,   4.48136112e+02]), array([ -9.16792330e-05,   1.73749499e-01,   8.90612133e+02])) (8839.7687718391007, 1791.6365940494534)\n",
      "1803.23681134\n",
      "(array([  2.77778622e-05,  -2.49690917e-02,   4.46984159e+02]), array([ -9.10869050e-05,   1.66110073e-01,   8.97004245e+02])) (5912.1446158555673, 1803.2368113371072)\n",
      "1730.04411221\n",
      "(array([  1.14044224e-05,  -1.62651682e-02,   4.46761998e+02]), array([ -9.49392753e-05,   1.66322864e-01,   8.98389431e+02])) (14400.276730673182, 1730.0441122125017)\n"
     ]
    },
    {
     "name": "stderr",
     "output_type": "stream",
     "text": [
      "\u001b[A\u001b[A\u001b[A\u001b[A\u001b[A\u001b[A\u001b[A\u001b[A\n",
      "\n",
      "\n",
      "\n",
      "\n",
      "\n",
      "\n",
      "\n",
      " 26%|██▌       | 330/1261 [00:23<01:07, 13.69it/s]\u001b[A\u001b[A\u001b[A\u001b[A\u001b[A\u001b[A\u001b[A\u001b[A"
     ]
    },
    {
     "name": "stdout",
     "output_type": "stream",
     "text": [
      "25962.3728909\n",
      "(array([ -6.78889433e-06,   1.20780662e-02,   4.33934126e+02]), array([  6.32691736e-06,   8.79682095e-02,   9.18934977e+02])) (24190.514877440939, 25962.372890878974)\n",
      "1948.22773229\n",
      "(array([ -9.86532259e-06,   6.66099494e-03,   4.39680707e+02]), array([ -8.43086047e-05,   1.61349763e-01,   9.01271504e+02])) (16646.871560774522, 1948.2277322853222)\n",
      "2938.12975734\n",
      "(array([  1.42715377e-05,  -1.98311377e-02,   4.48263390e+02]), array([ -5.59064670e-05,   1.45906740e-01,   9.00232259e+02])) (11507.300700424714, 2938.1297573427528)\n"
     ]
    },
    {
     "name": "stderr",
     "output_type": "stream",
     "text": [
      "\n",
      "\n",
      "\n",
      "\n",
      "\n",
      "\n",
      "\n",
      "\n",
      " 26%|██▋       | 332/1261 [00:23<01:06, 14.03it/s]\u001b[A\u001b[A\u001b[A\u001b[A\u001b[A\u001b[A\u001b[A\u001b[A\n",
      "\n",
      "\n",
      "\n",
      "\n",
      "\n",
      "\n",
      "\n",
      " 26%|██▋       | 334/1261 [00:23<01:07, 13.64it/s]"
     ]
    },
    {
     "name": "stdout",
     "output_type": "stream",
     "text": [
      "13783.8667685\n",
      "(array([  1.24774302e-05,  -2.96084236e-02,   4.57721428e+02]), array([ -1.19187144e-05,   1.33686433e-01,   8.88860926e+02])) (13162.001858389587, 13783.866768511034)\n",
      "5230.23526681\n",
      "(array([  1.10960471e-05,  -3.21806057e-02,   4.60462481e+02]), array([ -3.14097190e-05,   1.46312913e-01,   8.84955324e+02])) (14800.63684279979, 5230.2352668108415)\n",
      "15972.0541094\n",
      "(array([  6.03061279e-06,  -2.81546895e-02,   4.59681948e+02]), array([ -1.02855126e-05,   1.26623082e-01,   8.89783766e+02])) (27232.507753776881, 15972.054109417222)\n"
     ]
    },
    {
     "name": "stderr",
     "output_type": "stream",
     "text": [
      "\u001b[A\u001b[A\u001b[A\u001b[A\u001b[A\u001b[A\u001b[A\u001b[A\n",
      "\n",
      "\n",
      "\n",
      "\n",
      "\n",
      "\n",
      "\n",
      " 27%|██▋       | 336/1261 [00:23<01:16, 12.07it/s]"
     ]
    },
    {
     "name": "stdout",
     "output_type": "stream",
     "text": [
      "21046.4811966\n",
      "(array([  7.44367474e-06,  -2.84893334e-02,   4.59935071e+02]), array([ -7.80553804e-06,   1.22440995e-01,   8.91398605e+02])) (22062.830298221965, 21046.481196618548)\n",
      "16570.6518808\n",
      "(array([  7.35940104e-06,  -1.32774321e-02,   4.48432396e+02]), array([ -9.91274137e-06,   1.01933279e-01,   9.08561682e+02])) (22315.250784644049, 16570.651880759149)\n",
      "9644.38530713\n",
      "(array([ -2.24241064e-06,  -7.85401860e-03,   4.48339360e+02]), array([ -1.70313361e-05,   1.03399681e-01,   9.10483077e+02])) (73236.864186897437, 9644.3853071309695)\n"
     ]
    },
    {
     "name": "stderr",
     "output_type": "stream",
     "text": [
      "\u001b[A\u001b[A\u001b[A\u001b[A\u001b[A\u001b[A\u001b[A\u001b[A\n",
      "\n",
      "\n",
      "\n",
      "\n",
      "\n",
      "\n",
      "\n",
      " 27%|██▋       | 338/1261 [00:24<01:18, 11.77it/s]\u001b[A\u001b[A\u001b[A\u001b[A\u001b[A\u001b[A\u001b[A\u001b[A\n",
      "\n",
      "\n",
      "\n",
      "\n",
      "\n",
      "\n",
      "\n",
      " 27%|██▋       | 340/1261 [00:24<01:15, 12.16it/s]"
     ]
    },
    {
     "name": "stdout",
     "output_type": "stream",
     "text": [
      "6127.24081054\n",
      "(array([  1.06047986e-06,  -1.06382457e-02,   4.48630341e+02]), array([ -2.68069398e-05,   1.06482319e-01,   9.12365376e+02])) (154861.11576704006, 6127.2408105389413)\n",
      "8131.5215154\n",
      "(array([  3.12594978e-06,  -9.84009728e-03,   4.48151341e+02]), array([ -2.01995573e-05,   1.01008094e-01,   9.12641700e+02])) (52536.64442478487, 8131.5215153988729)\n",
      "4582.64168627\n",
      "(array([  1.09053926e-05,  -2.97318336e-02,   4.58703423e+02]), array([ -3.58432161e-05,   1.21239686e-01,   9.04037554e+02])) (15059.356743806184, 4582.6416862674978)\n"
     ]
    },
    {
     "name": "stderr",
     "output_type": "stream",
     "text": [
      "\u001b[A\u001b[A\u001b[A\u001b[A\u001b[A\u001b[A\u001b[A\u001b[A\n",
      "\n",
      "\n",
      "\n",
      "\n",
      "\n",
      "\n",
      "\n",
      " 27%|██▋       | 342/1261 [00:24<01:12, 12.74it/s]\u001b[A\u001b[A\u001b[A\u001b[A\u001b[A\u001b[A\u001b[A\u001b[A"
     ]
    },
    {
     "name": "stdout",
     "output_type": "stream",
     "text": [
      "2085.48132631\n",
      "(array([  4.82218802e-08,  -1.74386672e-02,   4.56387214e+02]), array([  7.87733248e-05,   4.06217665e-02,   9.17235663e+02])) (3405672.3885025, 2085.4813263121928)\n",
      "77608.2988886\n",
      "(array([  1.26120927e-05,  -3.88774681e-02,   4.67165741e+02]), array([  2.11675451e-06,   1.11377561e-01,   8.96548031e+02])) (13021.595397388484, 77608.298888579811)\n",
      "19509.146907\n",
      "(array([ -5.95924646e-06,  -1.64828352e-02,   4.59157933e+02]), array([ -8.41991638e-06,   1.06832337e-01,   9.03220037e+02])) (27558.632176322113, 19509.146907041613)\n"
     ]
    },
    {
     "name": "stderr",
     "output_type": "stream",
     "text": [
      "\n",
      "\n",
      "\n",
      "\n",
      "\n",
      "\n",
      "\n",
      "\n",
      " 27%|██▋       | 344/1261 [00:24<01:13, 12.56it/s]\u001b[A\u001b[A\u001b[A\u001b[A\u001b[A\u001b[A\u001b[A\u001b[A\n",
      "\n",
      "\n",
      "\n",
      "\n",
      "\n",
      "\n",
      "\n",
      " 27%|██▋       | 346/1261 [00:24<01:09, 13.11it/s]"
     ]
    },
    {
     "name": "stdout",
     "output_type": "stream",
     "text": [
      "14962.2522476\n",
      "(array([  2.07963443e-05,  -3.56910136e-02,   4.59968186e+02]), array([ -1.09781684e-05,   9.95337983e-02,   9.09302780e+02])) (7896.9507784147036, 14962.252247615923)\n",
      "7311.7080094\n",
      "(array([  4.71794342e-06,  -1.79193409e-02,   4.54936295e+02]), array([ -2.24643187e-05,   1.02256217e-01,   9.11384922e+02])) (34809.115526875838, 7311.708009397822)\n",
      "9676.11656017\n",
      "(array([ -5.11520463e-06,  -3.12057153e-03,   4.48539783e+02]), array([ -1.69744993e-05,   8.82180084e-02,   9.19534264e+02])) (32105.652530312924, 9676.116560174145)\n"
     ]
    },
    {
     "name": "stderr",
     "output_type": "stream",
     "text": [
      "\u001b[A\u001b[A\u001b[A\u001b[A\u001b[A\u001b[A\u001b[A\u001b[A\n",
      "\n",
      "\n",
      "\n",
      "\n",
      "\n",
      "\n",
      "\n",
      " 28%|██▊       | 348/1261 [00:24<01:08, 13.37it/s]\u001b[A\u001b[A\u001b[A\u001b[A\u001b[A\u001b[A\u001b[A\u001b[A"
     ]
    },
    {
     "name": "stdout",
     "output_type": "stream",
     "text": [
      "12035.9166259\n",
      "(array([  6.58717663e-07,  -1.12899973e-02,   4.52336424e+02]), array([ -1.36469641e-05,   9.56211955e-02,   9.12678206e+02])) (249313.455783087, 12035.916625866797)\n",
      "9798.76326155\n",
      "(array([  4.57922504e-06,  -7.96251002e-03,   4.47946000e+02]), array([ -1.67619975e-05,   8.73295203e-02,   9.20882303e+02])) (35863.443173992353, 9798.7632615455313)\n",
      "10817.0262004\n",
      "(array([ -1.32795332e-05,   6.28969608e-05,   4.50224074e+02]), array([ -1.51844116e-05,   9.14896094e-02,   9.16502563e+02])) (12366.953170863126, 10817.026200432423)\n"
     ]
    },
    {
     "name": "stderr",
     "output_type": "stream",
     "text": [
      "\n",
      "\n",
      "\n",
      "\n",
      "\n",
      "\n",
      "\n",
      "\n",
      " 28%|██▊       | 350/1261 [00:25<01:08, 13.38it/s]\u001b[A\u001b[A\u001b[A\u001b[A\u001b[A\u001b[A\u001b[A\u001b[A\n",
      "\n",
      "\n",
      "\n",
      "\n",
      "\n",
      "\n",
      "\n",
      " 28%|██▊       | 352/1261 [00:25<01:08, 13.23it/s]"
     ]
    },
    {
     "name": "stdout",
     "output_type": "stream",
     "text": [
      "11017.6210759\n",
      "(array([  1.71295047e-05,  -1.85274785e-02,   4.49332423e+02]), array([ -1.49073450e-05,   7.93153284e-02,   9.25033713e+02])) (9587.3609282543839, 11017.621075893489)\n",
      "8275.02826324\n",
      "(array([ -1.28328925e-05,   3.06538984e-03,   4.47127416e+02]), array([ -1.98481272e-05,   8.47053427e-02,   9.23268008e+02])) (12797.353839428433, 8275.0282632407616)\n",
      "7790.4518501\n",
      "(array([ -7.49777412e-06,   2.75209797e-03,   4.45315050e+02]), array([ -2.10825405e-05,   8.33500577e-02,   9.24353399e+02])) (21903.407914306728, 7790.4518500961221)\n"
     ]
    },
    {
     "name": "stderr",
     "output_type": "stream",
     "text": [
      "\u001b[A\u001b[A\u001b[A\u001b[A\u001b[A\u001b[A\u001b[A\u001b[A\n",
      "\n",
      "\n",
      "\n",
      "\n",
      "\n",
      "\n",
      "\n",
      " 28%|██▊       | 354/1261 [00:25<01:07, 13.37it/s]\u001b[A\u001b[A\u001b[A\u001b[A\u001b[A\u001b[A\u001b[A\u001b[A"
     ]
    },
    {
     "name": "stdout",
     "output_type": "stream",
     "text": [
      "7540.06134799\n",
      "(array([ -1.91897258e-05,   1.77295236e-02,   4.39067761e+02]), array([  2.17828399e-05,   4.50004149e-02,   9.36513745e+02])) (8558.0549906973592, 7540.0613479943577)\n",
      "2772.91029306\n",
      "(array([ -2.05748756e-05,   1.50124804e-02,   4.41810619e+02]), array([  5.92350872e-05,   2.54410568e-02,   9.35764707e+02])) (7981.9104896083973, 2772.9102930562753)\n",
      "2401.53125722\n",
      "(array([ -1.46941716e-05,   1.17819862e-02,   4.41212807e+02]), array([ -6.83878058e-05,   1.12569716e-01,   9.25113197e+02])) (11176.318892197845, 2401.5312572207499)\n"
     ]
    },
    {
     "name": "stderr",
     "output_type": "stream",
     "text": [
      "\n",
      "\n",
      "\n",
      "\n",
      "\n",
      "\n",
      "\n",
      "\n",
      " 28%|██▊       | 356/1261 [00:25<01:08, 13.31it/s]\u001b[A\u001b[A\u001b[A\u001b[A\u001b[A\u001b[A\u001b[A\u001b[A\n",
      "\n",
      "\n",
      "\n",
      "\n",
      "\n",
      "\n",
      "\n",
      " 28%|██▊       | 358/1261 [00:25<01:05, 13.87it/s]"
     ]
    },
    {
     "name": "stdout",
     "output_type": "stream",
     "text": [
      "2275.60552952\n",
      "(array([ -6.80867634e-06,   4.52868307e-03,   4.43424475e+02]), array([ -7.21724360e-05,   1.17635888e-01,   9.23494114e+02])) (24120.215823428207, 2275.6055295247361)\n",
      "2955.58206927\n",
      "(array([ -9.44082403e-06,  -1.40427604e-03,   4.49774804e+02]), array([ -5.55697469e-05,   1.13240310e-01,   9.18068970e+02])) (17395.426556970262, 2955.5820692718821)\n",
      "2954.01692523\n",
      "(array([  3.09729522e-05,  -2.52432996e-02,   4.49737662e+02]), array([ -5.55985780e-05,   1.09332921e-01,   9.21617747e+02])) (5302.2652031065409, 2954.0169252348969)\n",
      "3390.10638421\n",
      "(array([  3.12989506e-05,  -2.98883368e-02,   4.54475762e+02]), array([ -4.84483746e-05,   1.14669930e-01,   9.14638222e+02])) (5247.0362039364309, 3390.1063842078452)\n"
     ]
    },
    {
     "name": "stderr",
     "output_type": "stream",
     "text": [
      "\u001b[A\u001b[A\u001b[A\u001b[A\u001b[A\u001b[A\u001b[A\u001b[A\n",
      "\n",
      "\n",
      "\n",
      "\n",
      "\n",
      "\n",
      "\n",
      " 29%|██▊       | 360/1261 [00:25<01:03, 14.22it/s]\u001b[A\u001b[A\u001b[A\u001b[A\u001b[A\u001b[A\u001b[A\u001b[A\n",
      "\n",
      "\n",
      "\n",
      "\n",
      "\n",
      "\n",
      "\n",
      " 29%|██▊       | 362/1261 [00:25<01:05, 13.68it/s]"
     ]
    },
    {
     "name": "stdout",
     "output_type": "stream",
     "text": [
      "3780.10776279\n",
      "(array([  3.56719484e-05,  -3.08991777e-02,   4.52780809e+02]), array([ -4.34491783e-05,   1.04940574e-01,   9.20054797e+02])) (4603.8071470429995, 3780.1077627858235)\n",
      "3081.42983094\n",
      "(array([  6.85537101e-05,  -5.44724821e-02,   4.55799348e+02]), array([ -5.33005259e-05,   1.12892974e-01,   9.19103959e+02])) (2395.59954034764, 3081.4298309391802)\n",
      "3062.70228269\n",
      "(array([  8.44767491e-05,  -7.56726078e-02,   4.63867361e+02]), array([ -5.36270438e-05,   1.16856135e-01,   9.14820525e+02])) (1944.0478602950843, 3062.7022826886073)\n"
     ]
    },
    {
     "name": "stderr",
     "output_type": "stream",
     "text": [
      "\u001b[A\u001b[A\u001b[A\u001b[A\u001b[A\u001b[A\u001b[A\u001b[A\n",
      "\n",
      "\n",
      "\n",
      "\n",
      "\n",
      "\n",
      "\n",
      " 29%|██▉       | 364/1261 [00:26<01:08, 13.04it/s]\u001b[A\u001b[A\u001b[A\u001b[A\u001b[A\u001b[A\u001b[A\u001b[A"
     ]
    },
    {
     "name": "stdout",
     "output_type": "stream",
     "text": [
      "3038.93785109\n",
      "(array([  8.55271933e-05,  -7.43103014e-02,   4.63133952e+02]), array([ -5.40457397e-05,   1.13226380e-01,   9.18022899e+02])) (1920.1725355026761, 3038.9378510867855)\n",
      "2486.07951689\n",
      "(array([  1.07356717e-04,  -1.04083295e-01,   4.75373653e+02]), array([ -6.60683480e-05,   1.41942533e-01,   9.02424106e+02])) (1529.729442375763, 2486.0795168889995)\n",
      "2508.09104839\n",
      "(array([  1.20507700e-04,  -1.13201280e-01,   4.75333691e+02]), array([ -6.54869144e-05,   1.34631879e-01,   9.08474975e+02])) (1362.7905217857542, 2508.0910483915109)\n"
     ]
    },
    {
     "name": "stderr",
     "output_type": "stream",
     "text": [
      "\n",
      "\n",
      "\n",
      "\n",
      "\n",
      "\n",
      "\n",
      "\n",
      " 29%|██▉       | 366/1261 [00:26<01:05, 13.58it/s]\u001b[A\u001b[A\u001b[A\u001b[A\u001b[A\u001b[A\u001b[A\u001b[A\n",
      "\n",
      "\n",
      "\n",
      "\n",
      "\n",
      "\n",
      "\n",
      " 29%|██▉       | 368/1261 [00:26<01:03, 14.03it/s]"
     ]
    },
    {
     "name": "stdout",
     "output_type": "stream",
     "text": [
      "10156.2616477\n",
      "(array([  1.31176166e-04,  -1.28183076e-01,   4.80364828e+02]), array([ -1.61729502e-05,   1.02497207e-01,   9.12188279e+02])) (1251.9556844274812, 10156.261647716608)\n",
      "12683.5153755\n",
      "(array([  1.34746429e-04,  -1.29260479e-01,   4.78518316e+02]), array([ -1.29500688e-05,   9.28997351e-02,   9.17191977e+02])) (1218.7835134624552, 12683.515375527346)\n",
      "5835.76231227\n",
      "(array([  1.24821631e-04,  -1.19960043e-01,   4.74867227e+02]), array([ -2.81447646e-05,   9.70267524e-02,   9.20564764e+02])) (1315.6912418777345, 5835.7623122713348)\n",
      "5738.13613248\n",
      "(array([  1.09108832e-04,  -1.16758303e-01,   4.79346226e+02]), array([ -2.86244128e-05,   1.05368524e-01,   9.12924546e+02])) (1505.169613563683, 5738.1361324817171)\n"
     ]
    },
    {
     "name": "stderr",
     "output_type": "stream",
     "text": [
      "\u001b[A\u001b[A\u001b[A\u001b[A\u001b[A\u001b[A\u001b[A\u001b[A\n",
      "\n",
      "\n",
      "\n",
      "\n",
      "\n",
      "\n",
      "\n",
      " 29%|██▉       | 370/1261 [00:26<01:04, 13.81it/s]\u001b[A\u001b[A\u001b[A\u001b[A\u001b[A\u001b[A\u001b[A\u001b[A\n",
      "\n",
      "\n",
      "\n",
      "\n",
      "\n",
      "\n",
      "\n",
      " 30%|██▉       | 372/1261 [00:26<01:06, 13.38it/s]"
     ]
    },
    {
     "name": "stdout",
     "output_type": "stream",
     "text": [
      "46459.4617164\n",
      "(array([  9.92698834e-05,  -1.06989974e-01,   4.75015996e+02]), array([ -3.53530872e-06,   7.75720387e-02,   9.22269517e+02])) (1654.3513800630997, 46459.461716432437)\n",
      "9992.75404299\n",
      "(array([  7.36751542e-05,  -9.24312056e-02,   4.74419368e+02]), array([ -1.64368138e-05,   9.07981088e-02,   9.18399017e+02])) (2229.0906053818949, 9992.7540429873425)\n",
      "24356.0469752\n",
      "(array([  7.58477616e-05,  -8.84335543e-02,   4.69103597e+02]), array([ -6.74348042e-06,   7.34796147e-02,   9.25835751e+02])) (2165.2279569554635, 24356.046975218542)\n"
     ]
    },
    {
     "name": "stderr",
     "output_type": "stream",
     "text": [
      "\u001b[A\u001b[A\u001b[A\u001b[A\u001b[A\u001b[A\u001b[A\u001b[A\n",
      "\n",
      "\n",
      "\n",
      "\n",
      "\n",
      "\n",
      "\n",
      " 30%|██▉       | 374/1261 [00:26<01:07, 13.15it/s]\u001b[A\u001b[A\u001b[A\u001b[A\u001b[A\u001b[A\u001b[A\u001b[A"
     ]
    },
    {
     "name": "stdout",
     "output_type": "stream",
     "text": [
      "13707.291269\n",
      "(array([  4.71765701e-05,  -6.46803240e-02,   4.63398585e+02]), array([ -1.19821036e-05,   7.39445917e-02,   9.27551108e+02])) (3481.1394098950536, 13707.291268974715)\n",
      "12590.7890834\n",
      "(array([  4.80776939e-05,  -7.62249287e-02,   4.69420017e+02]), array([ -1.30448017e-05,   7.91911247e-02,   9.22197771e+02])) (3415.9357106095063, 12590.789083351849)\n",
      "24335.4972719\n",
      "(array([  1.02483579e-05,  -4.93834971e-02,   4.66791912e+02]), array([ -6.74926456e-06,   7.74762761e-02,   9.19642785e+02])) (16025.291877203055, 24335.497271874072)\n"
     ]
    },
    {
     "name": "stderr",
     "output_type": "stream",
     "text": [
      "\n",
      "\n",
      "\n",
      "\n",
      "\n",
      "\n",
      "\n",
      "\n",
      " 30%|██▉       | 376/1261 [00:26<01:09, 12.78it/s]\u001b[A\u001b[A\u001b[A\u001b[A\u001b[A\u001b[A\u001b[A\u001b[A\n",
      "\n",
      "\n",
      "\n",
      "\n",
      "\n",
      "\n",
      "\n",
      " 30%|██▉       | 378/1261 [00:27<01:07, 13.15it/s]"
     ]
    },
    {
     "name": "stdout",
     "output_type": "stream",
     "text": [
      "9094.34986096\n",
      "(array([ -3.57012071e-05,  -2.43533368e-02,   4.69922409e+02]), array([ -1.80612468e-05,   1.02231620e-01,   9.05933700e+02])) (4600.4145492840526, 9094.3498609626149)\n",
      "5954.97748357\n",
      "(array([ -3.39908421e-05,  -2.54348665e-02,   4.69591196e+02]), array([ -2.75826695e-05,   1.09688922e-01,   9.05695149e+02])) (4831.8924524421682, 5954.9774835680191)\n",
      "26010.1596091\n",
      "(array([ -5.66241627e-05,  -4.61216916e-03,   4.66207486e+02]), array([  6.31523342e-06,   8.58656280e-02,   9.08208712e+02])) (2900.5376018164297, 26010.159609066792)\n"
     ]
    },
    {
     "name": "stderr",
     "output_type": "stream",
     "text": [
      "\u001b[A\u001b[A\u001b[A\u001b[A\u001b[A\u001b[A\u001b[A\u001b[A\n",
      "\n",
      "\n",
      "\n",
      "\n",
      "\n",
      "\n",
      "\n",
      " 30%|███       | 380/1261 [00:27<01:04, 13.61it/s]\u001b[A\u001b[A\u001b[A\u001b[A\u001b[A\u001b[A\u001b[A\u001b[A"
     ]
    },
    {
     "name": "stdout",
     "output_type": "stream",
     "text": [
      "71439.8917791\n",
      "(array([ -5.53258636e-05,   1.12072238e-03,   4.61732823e+02]), array([ -2.29916487e-06,   8.21922735e-02,   9.14583858e+02])) (2968.5472993820749, 71439.891779112892)\n",
      "28110.8561617\n",
      "(array([ -5.34380963e-05,   1.16497283e-04,   4.61341589e+02]), array([ -5.84293063e-06,   8.18701840e-02,   9.17773469e+02])) (3073.4087476864051, 28110.85616171559)\n",
      "17664.5725328\n",
      "(array([ -4.17709612e-05,  -5.42456206e-03,   4.60305183e+02]), array([ -9.29795090e-06,   7.55586525e-02,   9.23431683e+02])) (3931.797063657591, 17664.572532827147)\n",
      "113123.67654\n",
      "(array([ -4.93345423e-05,   4.14355100e-03,   4.57223816e+02]), array([ -1.45188728e-06,   6.51224497e-02,   9.26632069e+02])) (3328.9886450792847, 113123.67653989776)\n"
     ]
    },
    {
     "name": "stderr",
     "output_type": "stream",
     "text": [
      "\n",
      "\n",
      "\n",
      "\n",
      "\n",
      "\n",
      "\n",
      "\n",
      " 30%|███       | 382/1261 [00:27<01:02, 13.97it/s]\u001b[A\u001b[A\u001b[A\u001b[A\u001b[A\u001b[A\u001b[A\u001b[A\n",
      "\n",
      "\n",
      "\n",
      "\n",
      "\n",
      "\n",
      "\n",
      " 30%|███       | 384/1261 [00:27<01:08, 12.86it/s]\u001b[A\u001b[A\u001b[A\u001b[A\u001b[A\u001b[A\u001b[A\u001b[A"
     ]
    },
    {
     "name": "stdout",
     "output_type": "stream",
     "text": [
      "216689.150375\n",
      "(array([ -6.65830793e-05,   1.77589093e-02,   4.56523108e+02]), array([  7.57978841e-07,   6.86188580e-02,   9.22835176e+02])) (2466.620284203123, 216689.15037491627)\n",
      "151780.745841\n",
      "(array([ -6.27606134e-05,   1.90975290e-02,   4.55114182e+02]), array([ -1.08212398e-06,   7.00096231e-02,   9.22322010e+02])) (2616.8233799986047, 151780.74584109613)\n",
      "29700.5438915\n",
      "(array([ -5.21420679e-05,   1.20296360e-02,   4.55401078e+02]), array([  5.53003986e-06,   6.29383742e-02,   9.24653997e+02])) (3149.7112745927716, 29700.543891503701)\n"
     ]
    },
    {
     "name": "stderr",
     "output_type": "stream",
     "text": [
      "\n",
      "\n",
      "\n",
      "\n",
      "\n",
      "\n",
      "\n",
      "\n",
      " 31%|███       | 386/1261 [00:27<01:06, 13.25it/s]\u001b[A\u001b[A\u001b[A\u001b[A\u001b[A\u001b[A\u001b[A\u001b[A\n",
      "\n",
      "\n",
      "\n",
      "\n",
      "\n",
      "\n",
      "\n",
      " 31%|███       | 388/1261 [00:27<01:04, 13.62it/s]"
     ]
    },
    {
     "name": "stdout",
     "output_type": "stream",
     "text": [
      "9366.81462634\n",
      "(array([ -4.44289711e-05,   1.15684819e-02,   4.51800156e+02]), array([  1.75345595e-05,   4.71737959e-02,   9.29678204e+02])) (3696.4744558292637, 9366.8146263377257)\n",
      "21725.368439\n",
      "(array([ -3.47622829e-05,   1.20028432e-02,   4.47117790e+02]), array([  7.55975551e-06,   4.71778706e-02,   9.35057536e+02])) (4724.3311819445098, 21725.368438974412)\n",
      "74795.0036643\n",
      "(array([ -3.99380642e-05,   1.86063680e-02,   4.46420039e+02]), array([ -2.19588336e-06,   6.23297599e-02,   9.28583222e+02])) (4112.0738788241824, 74795.003664252959)\n",
      "10829.8947178\n"
     ]
    },
    {
     "name": "stderr",
     "output_type": "stream",
     "text": [
      "\u001b[A\u001b[A\u001b[A\u001b[A\u001b[A\u001b[A\u001b[A\u001b[A\n",
      "\n",
      "\n",
      "\n",
      "\n",
      "\n",
      "\n",
      "\n",
      " 31%|███       | 390/1261 [00:27<01:01, 14.16it/s]\u001b[A\u001b[A\u001b[A\u001b[A\u001b[A\u001b[A\u001b[A\u001b[A"
     ]
    },
    {
     "name": "stdout",
     "output_type": "stream",
     "text": [
      "(array([ -5.19390966e-05,   3.69549132e-02,   4.38732120e+02]), array([  1.51655624e-05,   4.63712995e-02,   9.33739184e+02])) (3161.9222870140807, 10829.894717843665)\n",
      "1894.2197737\n",
      "(array([ -1.93338734e-05,   1.66228030e-02,   4.38305361e+02]), array([  8.67108890e-05,  -7.48252428e-03,   9.43927000e+02])) (8494.2493483472699, 1894.2197736964567)\n",
      "1944.11800781\n",
      "(array([ -4.09142510e-05,   3.65496095e-02,   4.33778883e+02]), array([  8.44845138e-05,  -8.08480001e-03,   9.43210298e+02])) (4013.9255244034498, 1944.1180078084742)\n",
      "2041.19941903\n",
      "(array([ -3.57044686e-05,   4.01609488e-02,   4.28773997e+02]), array([  8.04651339e-05,  -8.64324664e-03,   9.44384636e+02])) (4599.6165262513541, 2041.1994190312414)\n"
     ]
    },
    {
     "name": "stderr",
     "output_type": "stream",
     "text": [
      "\n",
      "\n",
      "\n",
      "\n",
      "\n",
      "\n",
      "\n",
      "\n",
      " 31%|███       | 392/1261 [00:28<00:59, 14.53it/s]\u001b[A\u001b[A\u001b[A\u001b[A\u001b[A\u001b[A\u001b[A\u001b[A\n",
      "\n",
      "\n",
      "\n",
      "\n",
      "\n",
      "\n",
      "\n",
      " 31%|███       | 394/1261 [00:28<00:58, 14.84it/s]\u001b[A\u001b[A\u001b[A\u001b[A\u001b[A\u001b[A\u001b[A\u001b[A"
     ]
    },
    {
     "name": "stdout",
     "output_type": "stream",
     "text": [
      "30026.543192\n",
      "(array([ -2.76034285e-05,   2.95119899e-02,   4.33560635e+02]), array([ -5.46990884e-06,   6.82367271e-02,   9.24016235e+02])) (5949.5059744407999, 30026.543191986082)\n",
      "263586.383653\n",
      "(array([ -4.06200324e-05,   4.78327699e-02,   4.25909559e+02]), array([ -6.23099827e-07,   5.98188221e-02,   9.27753915e+02])) (4043.0060373746674, 263586.38365297805)\n",
      "18372.7787384\n",
      "(array([ -2.47523866e-05,   3.61362882e-02,   4.27209582e+02]), array([  8.93947162e-06,   5.53576945e-02,   9.25849727e+02])) (6634.8080499719863, 18372.77873835139)\n",
      "7112.99856543\n",
      "(array([ -1.23323653e-05,   2.81470682e-02,   4.26690606e+02]), array([  2.30905792e-05,   4.24054835e-02,   9.27539151e+02])) (13316.81123822627, 7112.9985654255388)\n"
     ]
    },
    {
     "name": "stderr",
     "output_type": "stream",
     "text": [
      "\n",
      "\n",
      "\n",
      "\n",
      "\n",
      "\n",
      "\n",
      "\n",
      " 31%|███▏      | 396/1261 [00:28<00:58, 14.90it/s]\u001b[A\u001b[A\u001b[A\u001b[A\u001b[A\u001b[A\u001b[A\u001b[A\n",
      "\n",
      "\n",
      "\n",
      "\n",
      "\n",
      "\n",
      "\n",
      " 32%|███▏      | 398/1261 [00:28<00:59, 14.39it/s]\u001b[A\u001b[A\u001b[A\u001b[A\u001b[A\u001b[A\u001b[A\u001b[A"
     ]
    },
    {
     "name": "stdout",
     "output_type": "stream",
     "text": [
      "6557.52587983\n",
      "(array([ -2.26349990e-05,   4.02721735e-02,   4.21790474e+02]), array([  2.50462231e-05,   3.64956023e-02,   9.31347621e+02])) (7255.4935884341739, 6557.5258798300492)\n",
      "6701.14502063\n",
      "(array([ -1.52499621e-05,   3.29226823e-02,   4.22716903e+02]), array([  2.45093307e-05,   3.55843665e-02,   9.31356914e+02])) (10769.079366140453, 6701.145020629986)\n",
      "4572.25402953\n",
      "(array([ -3.74628148e-05,   5.54658889e-02,   4.16169771e+02]), array([  3.59207611e-05,   2.08044216e-02,   9.36266910e+02])) (4383.7665529390479, 4572.2540295330946)\n"
     ]
    },
    {
     "name": "stderr",
     "output_type": "stream",
     "text": [
      "\n",
      "\n",
      "\n",
      "\n",
      "\n",
      "\n",
      "\n",
      "\n",
      " 32%|███▏      | 400/1261 [00:28<01:03, 13.53it/s]\u001b[A\u001b[A\u001b[A\u001b[A\u001b[A\u001b[A\u001b[A\u001b[A\n",
      "\n",
      "\n",
      "\n",
      "\n",
      "\n",
      "\n",
      "\n",
      " 32%|███▏      | 402/1261 [00:28<01:01, 13.96it/s]"
     ]
    },
    {
     "name": "stdout",
     "output_type": "stream",
     "text": [
      "5712.61723819\n",
      "(array([ -1.71252431e-05,   3.69048580e-02,   4.20251869e+02]), array([  2.87503801e-05,   3.00821229e-02,   9.32834179e+02])) (9589.8426485195941, 5712.617238192749)\n",
      "5262.57906337\n",
      "(array([ -9.16697362e-06,   3.47237903e-02,   4.17818731e+02]), array([  3.12087265e-05,   2.42824044e-02,   9.36638372e+02])) (17915.33363486802, 5262.5790633651022)\n",
      "1266.6166555\n",
      "(array([ -2.81037172e-05,   5.14664636e-02,   4.14276193e+02]), array([  1.29680011e-04,  -4.02491052e-02,   9.44833584e+02])) (5843.6790651571309, 1266.6166554983538)\n"
     ]
    },
    {
     "name": "stderr",
     "output_type": "stream",
     "text": [
      "\u001b[A\u001b[A\u001b[A\u001b[A\u001b[A\u001b[A\u001b[A\u001b[A\n",
      "\n",
      "\n",
      "\n",
      "\n",
      "\n",
      "\n",
      "\n",
      " 32%|███▏      | 404/1261 [00:28<01:01, 13.93it/s]\u001b[A\u001b[A\u001b[A\u001b[A\u001b[A\u001b[A\u001b[A\u001b[A"
     ]
    },
    {
     "name": "stdout",
     "output_type": "stream",
     "text": [
      "1366.69125841\n",
      "(array([ -1.15394090e-05,   3.51350944e-02,   4.18714304e+02]), array([  1.20183114e-04,  -3.36403345e-02,   9.40499171e+02])) (14232.013166276782, 1366.691258410691)\n",
      "1427.1224345\n",
      "(array([ -8.58989336e-06,   3.82197484e-02,   4.14281310e+02]), array([  1.15088290e-04,  -4.24431988e-02,   9.47022595e+02])) (19119.013643483246, 1427.1224345004744)\n",
      "5833.4324489\n",
      "(array([ -2.08450240e-06,   2.76361836e-02,   4.18563086e+02]), array([ -2.81542426e-05,   7.50595710e-02,   9.22894766e+02])) (78785.868328643628, 5833.4324489013225)\n",
      "4859.4997813\n",
      "(array([  2.92929944e-05,   3.65495363e-03,   4.19976645e+02]), array([ -3.37962927e-05,   7.24676744e-02,   9.26923406e+02])) (5606.484856770925, 4859.4997812960282)\n"
     ]
    },
    {
     "name": "stderr",
     "output_type": "stream",
     "text": [
      "\n",
      "\n",
      "\n",
      "\n",
      "\n",
      "\n",
      "\n",
      "\n",
      " 32%|███▏      | 406/1261 [00:29<00:59, 14.38it/s]\u001b[A\u001b[A\u001b[A\u001b[A\u001b[A\u001b[A\u001b[A\u001b[A\n",
      "\n",
      "\n",
      "\n",
      "\n",
      "\n",
      "\n",
      "\n",
      " 32%|███▏      | 408/1261 [00:29<01:02, 13.64it/s]\u001b[A\u001b[A\u001b[A\u001b[A\u001b[A\u001b[A\u001b[A\u001b[A"
     ]
    },
    {
     "name": "stdout",
     "output_type": "stream",
     "text": [
      "4916.6234176\n",
      "(array([  5.68089855e-06,   2.28014686e-02,   4.15594938e+02]), array([ -3.34038445e-05,   7.52653397e-02,   9.25540359e+02])) (28909.140024022017, 4916.6234175991949)\n",
      "194562.958579\n",
      "(array([  1.80497276e-05,   1.12231348e-02,   4.17526142e+02]), array([ -8.44124865e-07,   4.76687187e-02,   9.29323522e+02])) (9098.7499408018448, 194562.9585792608)\n",
      "200917.230324\n",
      "(array([ -6.36528888e-06,   3.15716973e-02,   4.13148043e+02]), array([  8.17429036e-07,   4.64669131e-02,   9.29140520e+02])) (25800.760917216438, 200917.23032398461)\n"
     ]
    },
    {
     "name": "stderr",
     "output_type": "stream",
     "text": [
      "\n",
      "\n",
      "\n",
      "\n",
      "\n",
      "\n",
      "\n",
      "\n",
      " 33%|███▎      | 410/1261 [00:29<01:01, 13.76it/s]\u001b[A\u001b[A\u001b[A\u001b[A\u001b[A\u001b[A\u001b[A\u001b[A\n",
      "\n",
      "\n",
      "\n",
      "\n",
      "\n",
      "\n",
      "\n",
      " 33%|███▎      | 412/1261 [00:29<01:00, 14.02it/s]"
     ]
    },
    {
     "name": "stdout",
     "output_type": "stream",
     "text": [
      "14212.4700093\n",
      "(array([ -1.17235532e-05,   3.03674858e-02,   4.15692249e+02]), array([  1.15559547e-05,   4.37711511e-02,   9.25114977e+02])) (14008.395954113023, 14212.470009338645)\n",
      "8239.9034926\n",
      "(array([ -2.59183659e-05,   3.95031806e-02,   4.13807710e+02]), array([  1.99320374e-05,   3.43430990e-02,   9.27531985e+02])) (6336.3398283928018, 8239.9034926047771)\n",
      "6635.58552548\n",
      "(array([ -2.68294712e-05,   4.15864727e-02,   4.12731499e+02]), array([  2.47512835e-05,   3.24622789e-02,   9.26559785e+02])) (6121.1687228991323, 6635.5855254776934)\n"
     ]
    },
    {
     "name": "stderr",
     "output_type": "stream",
     "text": [
      "\u001b[A\u001b[A\u001b[A\u001b[A\u001b[A\u001b[A\u001b[A\u001b[A\n",
      "\n",
      "\n",
      "\n",
      "\n",
      "\n",
      "\n",
      "\n",
      " 33%|███▎      | 414/1261 [00:29<01:01, 13.72it/s]\u001b[A\u001b[A\u001b[A\u001b[A\u001b[A\u001b[A\u001b[A\u001b[A"
     ]
    },
    {
     "name": "stdout",
     "output_type": "stream",
     "text": [
      "27719.8203911\n",
      "(array([ -2.22226439e-05,   3.53928357e-02,   4.13892296e+02]), array([  5.92490924e-06,   4.62479293e-02,   9.24012995e+02])) (7390.0977388978863, 27719.820391125446)\n",
      "23253.1015429\n",
      "(array([ -2.37943270e-05,   3.49842755e-02,   4.14267186e+02]), array([  7.06305143e-06,   4.61945182e-02,   9.23466646e+02])) (6901.9523414081305, 23253.101542862187)\n",
      "1714.93749008\n",
      "(array([ -3.93522534e-05,   3.69786146e-02,   4.19768557e+02]), array([  9.57799079e-05,  -5.20782350e-03,   9.23497008e+02])) (4173.2484235389584, 1714.9374900830837)\n"
     ]
    },
    {
     "name": "stderr",
     "output_type": "stream",
     "text": [
      "\n",
      "\n",
      "\n",
      "\n",
      "\n",
      "\n",
      "\n",
      "\n",
      " 33%|███▎      | 416/1261 [00:29<01:01, 13.85it/s]\u001b[A\u001b[A\u001b[A\u001b[A\u001b[A\u001b[A\u001b[A\u001b[A\n",
      "\n",
      "\n",
      "\n",
      "\n",
      "\n",
      "\n",
      "\n",
      " 33%|███▎      | 418/1261 [00:29<01:00, 14.05it/s]"
     ]
    },
    {
     "name": "stdout",
     "output_type": "stream",
     "text": [
      "2220.45465435\n",
      "(array([ -5.36630969e-05,   5.52556189e-02,   4.11326407e+02]), array([  7.39691352e-05,  -2.91295479e-03,   9.30172094e+02])) (3060.3299385058244, 2220.454654345137)\n",
      "13549.0436149\n",
      "(array([ -5.47123447e-05,   5.20784321e-02,   4.14205305e+02]), array([ -1.21219309e-05,   7.07311164e-02,   9.13502022e+02])) (3001.6393616442801, 13549.043614884085)\n",
      "383994.56516\n",
      "(array([ -6.18076938e-05,   6.22621992e-02,   4.09804759e+02]), array([ -4.27713199e-07,   5.72714297e-02,   9.17476589e+02])) (2657.0601570841914, 383994.56516008056)\n"
     ]
    },
    {
     "name": "stderr",
     "output_type": "stream",
     "text": [
      "\u001b[A\u001b[A\u001b[A\u001b[A\u001b[A\u001b[A\u001b[A\u001b[A\n",
      "\n",
      "\n",
      "\n",
      "\n",
      "\n",
      "\n",
      "\n",
      " 33%|███▎      | 420/1261 [00:30<00:59, 14.12it/s]\u001b[A\u001b[A\u001b[A\u001b[A\u001b[A\u001b[A\u001b[A\u001b[A"
     ]
    },
    {
     "name": "stdout",
     "output_type": "stream",
     "text": [
      "29748.8916949\n",
      "(array([ -4.40152005e-05,   5.04015549e-02,   4.10245360e+02]), array([  5.52085603e-06,   5.11244463e-02,   9.19612245e+02])) (3731.1426018059392, 29748.891694865983)\n",
      "10549.4379981\n",
      "(array([ -4.34979408e-05,   4.74671638e-02,   4.13366206e+02]), array([  1.55688261e-05,   4.78615969e-02,   9.15913525e+02])) (3775.5087477868583, 10549.437998058433)\n",
      "11873.0018427\n",
      "(array([ -5.15116996e-05,   5.54722804e-02,   4.11289422e+02]), array([  1.38331725e-05,   4.73144369e-02,   9.16489407e+02])) (3188.1469964933131, 11873.001842653188)\n"
     ]
    },
    {
     "name": "stderr",
     "output_type": "stream",
     "text": [
      "\n",
      "\n",
      "\n",
      "\n",
      "\n",
      "\n",
      "\n",
      "\n",
      " 33%|███▎      | 422/1261 [00:30<00:58, 14.46it/s]\u001b[A\u001b[A\u001b[A\u001b[A\u001b[A\u001b[A\u001b[A\u001b[A\n",
      "\n",
      "\n",
      "\n",
      "\n",
      "\n",
      "\n",
      "\n",
      " 34%|███▎      | 424/1261 [00:30<00:58, 14.41it/s]"
     ]
    },
    {
     "name": "stdout",
     "output_type": "stream",
     "text": [
      "17372.1813763\n",
      "(array([ -4.27586260e-05,   4.10904523e-02,   4.18080565e+02]), array([  9.45452776e-06,   6.02337897e-02,   9.07820134e+02])) (3840.7858743524876, 17372.18137630773)\n",
      "8795.80961162\n",
      "(array([ -3.53637537e-05,   4.06946222e-02,   4.13940549e+02]), array([  1.86726726e-05,   4.26482585e-02,   9.15196204e+02])) (4643.933125888685, 8795.8096116175202)\n",
      "11740.1512107\n",
      "(array([ -4.14852214e-05,   4.88708676e-02,   4.10702348e+02]), array([  1.39896673e-05,   4.61712399e-02,   9.14239883e+02])) (3958.6880663673874, 11740.151210685708)\n"
     ]
    },
    {
     "name": "stderr",
     "output_type": "stream",
     "text": [
      "\u001b[A\u001b[A\u001b[A\u001b[A\u001b[A\u001b[A\u001b[A\u001b[A\n",
      "\n",
      "\n",
      "\n",
      "\n",
      "\n",
      "\n",
      "\n",
      " 34%|███▍      | 426/1261 [00:30<00:58, 14.24it/s]\u001b[A\u001b[A\u001b[A\u001b[A\u001b[A\u001b[A\u001b[A\u001b[A"
     ]
    },
    {
     "name": "stdout",
     "output_type": "stream",
     "text": [
      "3695.61657995\n",
      "(array([ -4.05561261e-05,   5.00877444e-02,   4.09213271e+02]), array([  4.44431898e-05,   2.52064542e-02,   9.16762083e+02])) (4049.3813294677016, 3695.6165799535993)\n",
      "2046.15019788\n",
      "(array([ -3.78726722e-05,   5.85202453e-02,   4.01081849e+02]), array([  8.02695421e-05,  -1.19360532e-02,   9.29641025e+02])) (4336.3371142728929, 2046.1501978770993)\n",
      "2755.0599108\n",
      "(array([ -2.78741736e-05,   4.72204018e-02,   4.04380735e+02]), array([  5.96146439e-05,   4.66759703e-03,   9.24223698e+02])) (5891.7759696056055, 2755.0599108025754)\n",
      "2027.19257487\n",
      "(array([ -9.62627041e-06,   3.39242905e-02,   4.05253520e+02]), array([  8.10197335e-05,  -1.44975329e-02,   9.26930779e+02])) (17060.516169294449, 2027.1925748654037)\n"
     ]
    },
    {
     "name": "stderr",
     "output_type": "stream",
     "text": [
      "\n",
      "\n",
      "\n",
      "\n",
      "\n",
      "\n",
      "\n",
      "\n",
      " 34%|███▍      | 428/1261 [00:30<00:57, 14.42it/s]\u001b[A\u001b[A\u001b[A\u001b[A\u001b[A\u001b[A\u001b[A\u001b[A\n",
      "\n",
      "\n",
      "\n",
      "\n",
      "\n",
      "\n",
      "\n",
      " 34%|███▍      | 430/1261 [00:30<00:56, 14.61it/s]\u001b[A\u001b[A\u001b[A\u001b[A\u001b[A\u001b[A\u001b[A\u001b[A"
     ]
    },
    {
     "name": "stdout",
     "output_type": "stream",
     "text": [
      "5334.64242603\n",
      "(array([ -7.50188915e-06,   2.92289543e-02,   4.07407596e+02]), array([ -3.07866361e-05,   7.71183505e-02,   9.08124184e+02])) (21891.639150103736, 5334.6424260312106)\n",
      "4250.53850798\n",
      "(array([ -1.51068169e-06,   2.58391773e-02,   4.06500846e+02]), array([ -3.86387037e-05,   8.35915339e-02,   9.06320572e+02])) (108711.90561743488, 4250.5385079841317)\n",
      "6598.18771422\n",
      "(array([  1.05186446e-05,   2.39204120e-02,   4.00927094e+02]), array([ -2.48906239e-05,   6.37029458e-02,   9.15233904e+02])) (15613.353371065306, 6598.1877142233561)\n",
      "8600.4966582\n",
      "(array([ -2.44445529e-05,   4.84667820e-02,   3.98072950e+02]), array([ -1.90959688e-05,   6.35031553e-02,   9.12912083e+02])) (6718.4376421808793, 8600.4966582015531)\n"
     ]
    },
    {
     "name": "stderr",
     "output_type": "stream",
     "text": [
      "\n",
      "\n",
      "\n",
      "\n",
      "\n",
      "\n",
      "\n",
      "\n",
      " 34%|███▍      | 432/1261 [00:30<00:56, 14.74it/s]\u001b[A\u001b[A\u001b[A\u001b[A\u001b[A\u001b[A\u001b[A\u001b[A\n",
      "\n",
      "\n",
      "\n",
      "\n",
      "\n",
      "\n",
      "\n",
      " 34%|███▍      | 434/1261 [00:31<00:55, 14.85it/s]\u001b[A\u001b[A\u001b[A\u001b[A\u001b[A\u001b[A\u001b[A\u001b[A"
     ]
    },
    {
     "name": "stdout",
     "output_type": "stream",
     "text": [
      "8959.25972347\n",
      "(array([  1.00913913e-05,   2.90094081e-02,   3.94967379e+02]), array([ -1.83309195e-05,   5.21848159e-02,   9.21632256e+02])) (16274.531198387609, 8959.2597234657205)\n",
      "12662.6588532\n",
      "(array([  4.53205728e-06,   2.85905560e-02,   3.96982765e+02]), array([ -1.29698971e-05,   5.34268623e-02,   9.17950138e+02])) (36237.633048961907, 12662.658853206134)\n",
      "14863.9858566\n",
      "(array([  1.14702729e-05,   2.09611549e-02,   3.98773972e+02]), array([ -1.10490685e-05,   5.10076374e-02,   9.18756834e+02])) (14317.948724041978, 14863.985856639087)\n",
      "23661.4389806\n",
      "(array([  2.69892978e-05,   1.76553662e-04,   4.05877092e+02]), array([ -6.94103127e-06,   5.17566736e-02,   9.15830107e+02])) (6084.9832369994547, 23661.438980580377)\n"
     ]
    },
    {
     "name": "stderr",
     "output_type": "stream",
     "text": [
      "\n",
      "\n",
      "\n",
      "\n",
      "\n",
      "\n",
      "\n",
      "\n",
      " 35%|███▍      | 436/1261 [00:31<00:55, 14.99it/s]\u001b[A\u001b[A\u001b[A\u001b[A\u001b[A\u001b[A\u001b[A\u001b[A\n",
      "\n",
      "\n",
      "\n",
      "\n",
      "\n",
      "\n",
      "\n",
      " 35%|███▍      | 438/1261 [00:31<00:54, 15.11it/s]\u001b[A\u001b[A\u001b[A\u001b[A\u001b[A\u001b[A\u001b[A\u001b[A"
     ]
    },
    {
     "name": "stdout",
     "output_type": "stream",
     "text": [
      "4166.81711479\n",
      "(array([  3.39667260e-05,  -1.66257713e-02,   4.15124429e+02]), array([  3.94180342e-05,   3.49623006e-02,   9.10017513e+02])) (4834.9593503966871, 4166.8171147932126)\n",
      "4804.81129591\n",
      "(array([  3.54119780e-05,  -1.34241174e-02,   4.10749068e+02]), array([  3.41826622e-05,   2.76938573e-02,   9.16538557e+02])) (4637.6512538705274, 4804.8112959092805)\n",
      "3019.86733366\n",
      "(array([  4.42364133e-05,  -3.04486307e-02,   4.19635973e+02]), array([  5.43894708e-05,   2.27182790e-02,   9.10379862e+02])) (3712.4912983973932, 3019.8673336642755)\n"
     ]
    },
    {
     "name": "stderr",
     "output_type": "stream",
     "text": [
      "\n",
      "\n",
      "\n",
      "\n",
      "\n",
      "\n",
      "\n",
      "\n",
      " 35%|███▍      | 440/1261 [00:31<00:56, 14.64it/s]\u001b[A\u001b[A\u001b[A\u001b[A\u001b[A\u001b[A\u001b[A\u001b[A\n",
      "\n",
      "\n",
      "\n",
      "\n",
      "\n",
      "\n",
      "\n",
      " 35%|███▌      | 442/1261 [00:31<00:55, 14.72it/s]"
     ]
    },
    {
     "name": "stdout",
     "output_type": "stream",
     "text": [
      "3722.18300696\n",
      "(array([  3.82177333e-05,  -3.83920472e-02,   4.28148447e+02]), array([ -4.41258177e-05,   1.09070326e-01,   8.89426551e+02])) (4297.1344510615099, 3722.1830069610401)\n",
      "4112.46627708\n",
      "(array([  2.14865206e-05,  -2.26866155e-02,   4.22959755e+02]), array([ -3.99377235e-05,   1.01500059e-01,   8.94055074e+02])) (7643.2451232559397, 4112.4662770837249)\n",
      "4693.1845676\n",
      "(array([  3.27993833e-05,  -3.13629735e-02,   4.23770612e+02]), array([ -3.49958318e-05,   9.54576529e-02,   8.95527031e+02])) (5007.00655012881, 4693.184567598626)\n"
     ]
    },
    {
     "name": "stderr",
     "output_type": "stream",
     "text": [
      "\u001b[A\u001b[A\u001b[A\u001b[A\u001b[A\u001b[A\u001b[A\u001b[A\n",
      "\n",
      "\n",
      "\n",
      "\n",
      "\n",
      "\n",
      "\n",
      " 35%|███▌      | 444/1261 [00:31<00:55, 14.71it/s]\u001b[A\u001b[A\u001b[A\u001b[A\u001b[A\u001b[A\u001b[A\u001b[A"
     ]
    },
    {
     "name": "stdout",
     "output_type": "stream",
     "text": [
      "3978.22947218\n",
      "(array([  2.41986833e-05,  -1.00318860e-02,   4.09768417e+02]), array([ -4.12829611e-05,   7.97035274e-02,   9.10429646e+02])) (6786.6261785807746, 3978.2294721801286)\n",
      "4464.82479755\n",
      "(array([  5.34567653e-05,  -4.15934295e-02,   4.17716710e+02]), array([ -3.67841911e-05,   8.09090350e-02,   9.07689023e+02])) (3072.1481327632687, 4464.8247975494605)\n",
      "5635.33177212\n",
      "(array([  3.88848374e-05,  -2.66719902e-02,   4.12131229e+02]), array([ -2.91435807e-05,   7.00577556e-02,   9.12127941e+02])) (4223.4245474083891, 5635.3317721166668)\n"
     ]
    },
    {
     "name": "stderr",
     "output_type": "stream",
     "text": [
      "\n",
      "\n",
      "\n",
      "\n",
      "\n",
      "\n",
      "\n",
      "\n",
      " 35%|███▌      | 446/1261 [00:31<00:56, 14.47it/s]\u001b[A\u001b[A\u001b[A\u001b[A\u001b[A\u001b[A\u001b[A\u001b[A"
     ]
    },
    {
     "name": "stdout",
     "output_type": "stream",
     "text": [
      "7167.23311542\n",
      "(array([  3.37906185e-05,  -3.06552954e-02,   4.16004063e+02]), array([ -2.29147765e-05,   6.91617079e-02,   9.09467249e+02])) (4860.1282422251979, 7167.2331154233261)\n",
      "5412.13470398\n",
      "(array([  4.43712058e-05,  -5.13158645e-02,   4.25812077e+02]), array([ -3.03467254e-05,   8.82165090e-02,   8.98786966e+02])) (3701.2072369127868, 5412.1347039830744)\n"
     ]
    },
    {
     "name": "stderr",
     "output_type": "stream",
     "text": [
      "\n",
      "\n",
      "\n",
      "\n",
      "\n",
      "\n",
      "\n",
      "\n",
      "\r",
      " 36%|███▌      | 448/1261 [00:32<01:05, 12.45it/s]"
     ]
    },
    {
     "name": "stdout",
     "output_type": "stream",
     "text": [
      "7397.54467349\n",
      "(array([  5.86120507e-05,  -6.09024787e-02,   4.25572192e+02]), array([ -2.22018698e-05,   7.76836787e-02,   9.02727902e+02])) (2801.9291262161946, 7397.5446734875241)\n",
      "64414.8452102\n",
      "(array([  4.48815184e-05,  -6.11950165e-02,   4.31068668e+02]), array([  2.54989941e-06,   7.64043952e-02,   8.96474679e+02])) (3659.1459574699925, 64414.84521020636)\n",
      "5517.51134793\n",
      "(array([  5.75568386e-05,  -6.96967898e-02,   4.31187119e+02]), array([  2.97690338e-05,   4.96413437e-02,   9.03252258e+02])) (2853.3108744402784, 5517.5113479325237)\n"
     ]
    },
    {
     "name": "stderr",
     "output_type": "stream",
     "text": [
      "\u001b[A\u001b[A\u001b[A\u001b[A\u001b[A\u001b[A\u001b[A\u001b[A\n",
      "\n",
      "\n",
      "\n",
      "\n",
      "\n",
      "\n",
      "\n",
      " 36%|███▌      | 450/1261 [00:32<01:09, 11.68it/s]\u001b[A\u001b[A\u001b[A\u001b[A\u001b[A\u001b[A\u001b[A\u001b[A\n",
      "\n",
      "\n",
      "\n",
      "\n",
      "\n",
      "\n",
      "\n",
      " 36%|███▌      | 452/1261 [00:32<01:16, 10.51it/s]"
     ]
    },
    {
     "name": "stdout",
     "output_type": "stream",
     "text": [
      "3604.27405035\n",
      "(array([  1.70205064e-05,  -4.50150271e-02,   4.30553646e+02]), array([  4.55713840e-05,   3.57104884e-02,   9.05563519e+02])) (9648.9483016990343, 3604.2740503451178)\n",
      "3127.62024938\n",
      "(array([  2.43392899e-05,  -4.94728977e-02,   4.30772197e+02]), array([ -5.25123964e-05,   1.05676279e-01,   8.96187442e+02])) (6747.5028724351896, 3127.6202493766773)\n",
      "3438.35763728\n",
      "(array([  3.42997712e-05,  -5.72192905e-02,   4.30911882e+02]), array([ -4.77662371e-05,   9.77577814e-02,   9.00848143e+02])) (4788.0513582296653, 3438.357637282933)\n"
     ]
    },
    {
     "name": "stderr",
     "output_type": "stream",
     "text": [
      "\u001b[A\u001b[A\u001b[A\u001b[A\u001b[A\u001b[A\u001b[A\u001b[A\n",
      "\n",
      "\n",
      "\n",
      "\n",
      "\n",
      "\n",
      "\n",
      " 36%|███▌      | 454/1261 [00:32<01:13, 10.96it/s]\u001b[A\u001b[A\u001b[A\u001b[A\u001b[A\u001b[A\u001b[A\u001b[A\n",
      "\n",
      "\n",
      "\n",
      "\n",
      "\n",
      "\n",
      "\n",
      " 36%|███▌      | 456/1261 [00:32<01:08, 11.77it/s]"
     ]
    },
    {
     "name": "stdout",
     "output_type": "stream",
     "text": [
      "6351.04323368\n",
      "(array([ -9.16681825e-06,  -2.89323956e-02,   4.32198849e+02]), array([ -2.58607268e-05,   8.80915776e-02,   8.97598111e+02])) (17915.962373779548, 6351.043233675985)\n",
      "14411.3033135\n",
      "(array([ -1.11811062e-05,  -2.83854216e-02,   4.33330564e+02]), array([ -1.13967479e-05,   7.29905634e-02,   9.01837986e+02])) (14688.420831611236, 14411.303313465121)\n",
      "21556.6229402\n",
      "(array([ -7.99870320e-06,  -3.20248952e-02,   4.35088829e+02]), array([ -7.61905503e-06,   6.75201119e-02,   9.04149389e+02])) (20532.450309758548, 21556.622940221692)\n"
     ]
    },
    {
     "name": "stderr",
     "output_type": "stream",
     "text": [
      "\u001b[A\u001b[A\u001b[A\u001b[A\u001b[A\u001b[A\u001b[A\u001b[A\n",
      "\n",
      "\n",
      "\n",
      "\n",
      "\n",
      "\n",
      "\n",
      " 36%|███▋      | 458/1261 [00:32<01:05, 12.34it/s]\u001b[A\u001b[A\u001b[A\u001b[A\u001b[A\u001b[A\u001b[A\u001b[A"
     ]
    },
    {
     "name": "stdout",
     "output_type": "stream",
     "text": [
      "17075.6386292\n",
      "(array([ -2.14974449e-06,  -4.29170346e-02,   4.40302214e+02]), array([ -9.61842239e-06,   6.86138155e-02,   9.03933123e+02])) (76397.333748891178, 17075.63862915328)\n",
      "13662.9816937\n",
      "(array([ -2.41530465e-05,  -2.40267869e-02,   4.37143697e+02]), array([ -1.20207087e-05,   6.65486355e-02,   9.07094884e+02])) (6799.7866622630472, 13662.981693673102)\n",
      "10384.3463375\n",
      "(array([ -4.25348726e-05,  -1.71270318e-02,   4.42458959e+02]), array([ -1.58163840e-05,   7.88773250e-02,   8.99320745e+02])) (3861.3033125402249, 10384.346337460634)\n"
     ]
    },
    {
     "name": "stderr",
     "output_type": "stream",
     "text": [
      "\n",
      "\n",
      "\n",
      "\n",
      "\n",
      "\n",
      "\n",
      "\n",
      " 36%|███▋      | 460/1261 [00:33<01:02, 12.90it/s]\u001b[A\u001b[A\u001b[A\u001b[A\u001b[A\u001b[A\u001b[A\u001b[A\n",
      "\n",
      "\n",
      "\n",
      "\n",
      "\n",
      "\n",
      "\n",
      " 37%|███▋      | 462/1261 [00:33<00:59, 13.47it/s]"
     ]
    },
    {
     "name": "stdout",
     "output_type": "stream",
     "text": [
      "25547.9028067\n",
      "(array([ -5.10927518e-05,  -5.32081470e-03,   4.37866371e+02]), array([ -6.42869058e-06,   6.30727140e-02,   9.06030063e+02])) (3214.515558592494, 25547.902806659236)\n",
      "2210.01114558\n",
      "(array([ -5.03365187e-05,  -2.84335917e-03,   4.36788085e+02]), array([  7.43227908e-05,   1.18908376e-02,   9.13349780e+02])) (3262.782359973728, 2210.0111455848728)\n",
      "2805.3251465\n",
      "(array([ -6.63809222e-05,   1.78857720e-02,   4.28833906e+02]), array([  5.85470291e-05,   8.74979009e-03,   9.20736700e+02])) (2474.1303901637966, 2805.325146504968)\n"
     ]
    },
    {
     "name": "stderr",
     "output_type": "stream",
     "text": [
      "\u001b[A\u001b[A\u001b[A\u001b[A\u001b[A\u001b[A\u001b[A\u001b[A\n",
      "\n",
      "\n",
      "\n",
      "\n",
      "\n",
      "\n",
      "\n",
      " 37%|███▋      | 464/1261 [00:33<00:57, 13.85it/s]\u001b[A\u001b[A\u001b[A\u001b[A\u001b[A\u001b[A\u001b[A\u001b[A"
     ]
    },
    {
     "name": "stdout",
     "output_type": "stream",
     "text": [
      "2519.89828989\n",
      "(array([ -6.89132875e-05,   2.80284576e-02,   4.22976869e+02]), array([  6.51773635e-05,  -3.99914449e-03,   9.28103196e+02])) (2383.1759585815917, 2519.898289889697)\n",
      "4203.09009768\n",
      "(array([ -7.42323913e-05,   2.57505439e-02,   4.28880510e+02]), array([  3.90758554e-05,   1.88960391e-02,   9.19385842e+02])) (2212.4430508343553, 4203.0900976762678)\n",
      "3659.42621786\n",
      "(array([ -5.74495311e-05,   1.77969542e-02,   4.28031227e+02]), array([  4.48808492e-05,   1.06087207e-02,   9.22088823e+02])) (2858.7223450571505, 3659.4262178569334)\n"
     ]
    },
    {
     "name": "stderr",
     "output_type": "stream",
     "text": [
      "\n",
      "\n",
      "\n",
      "\n",
      "\n",
      "\n",
      "\n",
      "\n",
      " 37%|███▋      | 466/1261 [00:33<01:02, 12.67it/s]\u001b[A\u001b[A\u001b[A\u001b[A\u001b[A\u001b[A\u001b[A\u001b[A\n",
      "\n",
      "\n",
      "\n",
      "\n",
      "\n",
      "\n",
      "\n",
      " 37%|███▋      | 468/1261 [00:33<01:00, 13.17it/s]"
     ]
    },
    {
     "name": "stdout",
     "output_type": "stream",
     "text": [
      "2780.97465453\n",
      "(array([ -8.67257602e-05,   3.62090804e-02,   4.29147798e+02]), array([  5.90593437e-05,   6.45628661e-03,   9.17934102e+02])) (1893.7337800974128, 2780.974654529311)\n",
      "2699.78554605\n",
      "(array([ -5.29579494e-05,   9.01300267e-03,   4.33053272e+02]), array([  6.08342470e-05,  -1.81426649e-03,   9.21703611e+02])) (3101.208864916191, 2699.7855460546839)\n",
      "2656.72151836\n",
      "(array([ -3.11880475e-05,  -3.19554778e-03,   4.33414570e+02]), array([  6.18195125e-05,  -7.87587851e-03,   9.24475781e+02])) (5265.8339514235986, 2656.721518362951)\n"
     ]
    },
    {
     "name": "stderr",
     "output_type": "stream",
     "text": [
      "\u001b[A\u001b[A\u001b[A\u001b[A\u001b[A\u001b[A\u001b[A\u001b[A\n",
      "\n",
      "\n",
      "\n",
      "\n",
      "\n",
      "\n",
      "\n",
      " 37%|███▋      | 470/1261 [00:33<01:02, 12.62it/s]\u001b[A\u001b[A\u001b[A\u001b[A\u001b[A\u001b[A\u001b[A\u001b[A"
     ]
    },
    {
     "name": "stdout",
     "output_type": "stream",
     "text": [
      "2777.08330138\n",
      "(array([ -5.18606351e-05,   1.47615522e-02,   4.30661223e+02]), array([  5.91398715e-05,  -7.50601417e-03,   9.24215606e+02])) (3166.7870946246048, 2777.0833013766483)\n",
      "2756.73510476\n",
      "(array([ -5.13014692e-05,   2.67947922e-02,   4.21053458e+02]), array([  5.95747191e-05,  -2.17031806e-02,   9.34315714e+02])) (3201.2479983787248, 2756.7351047648008)\n",
      "2515.43631854\n",
      "(array([ -1.14709039e-05,  -7.42987783e-03,   4.29393208e+02]), array([  6.52902937e-05,  -2.11127850e-02,   9.29967657e+02])) (14316.925325191047, 2515.4363185445959)\n"
     ]
    },
    {
     "name": "stderr",
     "output_type": "stream",
     "text": [
      "\n",
      "\n",
      "\n",
      "\n",
      "\n",
      "\n",
      "\n",
      "\n",
      " 37%|███▋      | 472/1261 [00:34<01:00, 13.11it/s]\u001b[A\u001b[A\u001b[A\u001b[A\u001b[A\u001b[A\u001b[A\u001b[A\n",
      "\n",
      "\n",
      "\n",
      "\n",
      "\n",
      "\n",
      "\n",
      " 38%|███▊      | 474/1261 [00:34<00:58, 13.53it/s]"
     ]
    },
    {
     "name": "stdout",
     "output_type": "stream",
     "text": [
      "2572.23933056\n",
      "(array([  1.69574077e-06,  -1.40659937e-02,   4.28236717e+02]), array([  6.38479441e-05,  -2.41612562e-02,   9.32706575e+02])) (96846.96087128442, 2572.2393305552846)\n",
      "1463.3799345\n",
      "(array([ -6.68352549e-06,  -2.41830428e-03,   4.25041761e+02]), array([  1.12230975e-04,  -5.79463694e-02,   9.38349351e+02])) (24571.917393624986, 1463.379934497714)\n",
      "1917.16385893\n",
      "(array([  9.24141391e-07,  -1.13480632e-02,   4.28977764e+02]), array([  8.56650081e-05,  -3.98267197e-02,   9.34064326e+02])) (177707.82918753914, 1917.163858933963)\n"
     ]
    },
    {
     "name": "stderr",
     "output_type": "stream",
     "text": [
      "\u001b[A\u001b[A\u001b[A\u001b[A\u001b[A\u001b[A\u001b[A\u001b[A\n",
      "\n",
      "\n",
      "\n",
      "\n",
      "\n",
      "\n",
      "\n",
      " 38%|███▊      | 476/1261 [00:34<00:56, 13.98it/s]\u001b[A\u001b[A\u001b[A\u001b[A\u001b[A\u001b[A\u001b[A\u001b[A"
     ]
    },
    {
     "name": "stdout",
     "output_type": "stream",
     "text": [
      "1456.86602956\n",
      "(array([ -2.87340817e-06,   4.37025076e-03,   4.18916232e+02]), array([  1.12729174e-04,  -7.42411707e-02,   9.48266777e+02])) (57153.988324760816, 1456.8660295598499)\n",
      "1565.49169899\n",
      "(array([  5.02025440e-06,  -6.56477333e-03,   4.23256038e+02]), array([  1.04906422e-04,  -7.13992104e-02,   9.48104139e+02])) (32712.831989434337, 1565.4916989901419)\n",
      "20648.4264656\n",
      "(array([  2.10187793e-05,  -8.22631733e-03,   4.17406387e+02]), array([ -7.95347420e-06,   7.96752761e-03,   9.41521454e+02])) (7813.3601774759545, 20648.426465635883)\n",
      "4599.53571505\n",
      "(array([  2.87184548e-05,  -1.28179831e-02,   4.16829790e+02]), array([ -3.57050981e-05,   2.81810042e-02,   9.40753536e+02])) (5718.5385025547603, 4599.5357150524578)\n"
     ]
    },
    {
     "name": "stderr",
     "output_type": "stream",
     "text": [
      "\n",
      "\n",
      "\n",
      "\n",
      "\n",
      "\n",
      "\n",
      "\n",
      " 38%|███▊      | 478/1261 [00:34<00:54, 14.28it/s]\u001b[A\u001b[A\u001b[A\u001b[A\u001b[A\u001b[A\u001b[A\u001b[A\n",
      "\n",
      "\n",
      "\n",
      "\n",
      "\n",
      "\n",
      "\n",
      " 38%|███▊      | 480/1261 [00:34<00:55, 13.99it/s]\u001b[A\u001b[A\u001b[A\u001b[A\u001b[A\u001b[A\u001b[A\u001b[A"
     ]
    },
    {
     "name": "stdout",
     "output_type": "stream",
     "text": [
      "4707.69450907\n",
      "(array([  2.22812100e-05,  -4.67388445e-03,   4.13481292e+02]), array([ -3.48847745e-05,   2.76621588e-02,   9.42124969e+02])) (7370.6874310894164, 4707.6945090726012)\n",
      "9164.88259767\n",
      "(array([  2.82692968e-05,  -7.47488889e-03,   4.11490829e+02]), array([ -1.79191796e-05,   6.54382997e-03,   9.51545342e+02])) (5809.4214640934933, 9164.8825976659245)\n",
      "17425.6571992\n",
      "(array([  4.68389608e-05,  -2.85742591e-02,   4.18217811e+02]), array([ -9.42442342e-06,   5.67611436e-03,   9.48734883e+02])) (3506.2219374538236, 17425.657199239871)\n"
     ]
    },
    {
     "name": "stderr",
     "output_type": "stream",
     "text": [
      "\n",
      "\n",
      "\n",
      "\n",
      "\n",
      "\n",
      "\n",
      "\n",
      " 38%|███▊      | 482/1261 [00:34<01:01, 12.65it/s]\u001b[A\u001b[A\u001b[A\u001b[A\u001b[A\u001b[A\u001b[A\u001b[A\n",
      "\n",
      "\n",
      "\n",
      "\n",
      "\n",
      "\n",
      "\n",
      " 38%|███▊      | 484/1261 [00:34<00:59, 13.00it/s]"
     ]
    },
    {
     "name": "stdout",
     "output_type": "stream",
     "text": [
      "25745.878285\n",
      "(array([  4.72670532e-05,  -2.71956984e-02,   4.14234514e+02]), array([ -6.37877356e-06,  -3.93445266e-03,   9.55298336e+02])) (3474.4716690909709, 25745.8782850356)\n",
      "26396.1393028\n",
      "(array([  3.49604233e-05,  -1.61044053e-02,   4.10435809e+02]), array([ -6.22164045e-06,  -5.92589326e-03,   9.57713510e+02])) (4697.5385140308363, 26396.139302828498)\n",
      "46842.2131426\n",
      "(array([  3.16617697e-05,  -1.91554226e-02,   4.14927908e+02]), array([ -3.50595635e-06,   7.03436246e-04,   9.52296765e+02])) (5186.9250815745163, 46842.213142610846)\n"
     ]
    },
    {
     "name": "stderr",
     "output_type": "stream",
     "text": [
      "\u001b[A\u001b[A\u001b[A\u001b[A\u001b[A\u001b[A\u001b[A\u001b[A\n",
      "\n",
      "\n",
      "\n",
      "\n",
      "\n",
      "\n",
      "\n",
      " 39%|███▊      | 486/1261 [00:35<00:58, 13.16it/s]\u001b[A\u001b[A\u001b[A\u001b[A\u001b[A\u001b[A\u001b[A\u001b[A"
     ]
    },
    {
     "name": "stdout",
     "output_type": "stream",
     "text": [
      "4444.77936061\n",
      "(array([  2.89876537e-05,  -1.93458717e-02,   4.15106044e+02]), array([  3.69484676e-05,  -1.91239794e-02,   9.54075244e+02])) (5665.4123781340786, 4444.7793606101513)\n",
      "3616.52563504\n",
      "(array([  7.13837897e-06,  -1.11739963e-02,   4.19676396e+02]), array([  4.54108349e-05,  -1.73909119e-02,   9.47956295e+02])) (23006.17570057897, 3616.5256350416062)\n",
      "4185.95366207\n",
      "(array([ -5.12423769e-06,  -3.26413912e-03,   4.19844131e+02]), array([  3.92334351e-05,  -1.19820643e-02,   9.46418785e+02])) (32049.058254719625, 4185.9536620661584)\n",
      "2692.46098412\n",
      "(array([  1.45452734e-05,  -3.16745494e-02,   4.31601630e+02]), array([ -6.09954276e-05,   7.50791449e-02,   9.26172205e+02])) (11290.813569625692, 2692.4609841238821)\n"
     ]
    },
    {
     "name": "stderr",
     "output_type": "stream",
     "text": [
      "\n",
      "\n",
      "\n",
      "\n",
      "\n",
      "\n",
      "\n",
      "\n",
      " 39%|███▊      | 488/1261 [00:35<00:56, 13.72it/s]\u001b[A\u001b[A\u001b[A\u001b[A\u001b[A\u001b[A\u001b[A\u001b[A\n",
      "\n",
      "\n",
      "\n",
      "\n",
      "\n",
      "\n",
      "\n",
      " 39%|███▉      | 490/1261 [00:35<00:58, 13.24it/s]\u001b[A\u001b[A\u001b[A\u001b[A\u001b[A\u001b[A\u001b[A\u001b[A"
     ]
    },
    {
     "name": "stdout",
     "output_type": "stream",
     "text": [
      "3835.72941641\n",
      "(array([  2.25538691e-06,  -2.75389543e-02,   4.35000315e+02]), array([ -4.28156914e-05,   6.71040963e-02,   9.23695811e+02])) (72816.454722286318, 3835.7294164133496)\n",
      "4100.32119421\n",
      "(array([  8.69364536e-06,  -3.36005174e-02,   4.36425984e+02]), array([ -4.00528495e-05,   6.51273149e-02,   9.24606803e+02])) (18890.724018829933, 4100.321194205444)\n",
      "5894.16260973\n",
      "(array([ -1.17767667e-05,  -1.90770512e-02,   4.35731758e+02]), array([ -2.78633498e-05,   6.00191073e-02,   9.22969389e+02])) (13945.286571036877, 5894.162609732015)\n"
     ]
    },
    {
     "name": "stderr",
     "output_type": "stream",
     "text": [
      "\n",
      "\n",
      "\n",
      "\n",
      "\n",
      "\n",
      "\n",
      "\n",
      " 39%|███▉      | 492/1261 [00:35<00:57, 13.47it/s]\u001b[A\u001b[A\u001b[A\u001b[A\u001b[A\u001b[A\u001b[A\u001b[A\n",
      "\n",
      "\n",
      "\n",
      "\n",
      "\n",
      "\n",
      "\n",
      " 39%|███▉      | 494/1261 [00:35<00:54, 13.97it/s]"
     ]
    },
    {
     "name": "stdout",
     "output_type": "stream",
     "text": [
      "5072.24685447\n",
      "(array([ -8.55428995e-06,  -1.45889141e-02,   4.30755679e+02]), array([ -3.23779658e-05,   5.52127032e-02,   9.29218092e+02])) (19198.412570949346, 5072.2468544736776)\n",
      "7224.80696825\n",
      "(array([ -5.96341680e-06,  -1.52811154e-02,   4.30194193e+02]), array([ -2.27313743e-05,   4.96257242e-02,   9.28975121e+02])) (27539.325445875416, 7224.8069682473324)\n",
      "6146.58189322\n",
      "(array([  3.61214763e-06,  -1.37271265e-02,   4.24362083e+02]), array([ -2.67186140e-05,   4.45921991e-02,   9.35325324e+02])) (45465.235845243071, 6146.5818932154871)\n",
      "8575.37913038\n",
      "(array([ -3.12531759e-06,  -5.43752881e-03,   4.20978407e+02]), array([ -1.91510998e-05,   3.58881178e-02,   9.38618441e+02])) (52547.302562258425, 8575.3791303761518)\n"
     ]
    },
    {
     "name": "stderr",
     "output_type": "stream",
     "text": [
      "\u001b[A\u001b[A\u001b[A\u001b[A\u001b[A\u001b[A\u001b[A\u001b[A\n",
      "\n",
      "\n",
      "\n",
      "\n",
      "\n",
      "\n",
      "\n",
      " 39%|███▉      | 496/1261 [00:35<00:53, 14.34it/s]\u001b[A\u001b[A\u001b[A\u001b[A\u001b[A\u001b[A\u001b[A\u001b[A\n",
      "\n",
      "\n",
      "\n",
      "\n",
      "\n",
      "\n",
      "\n",
      " 39%|███▉      | 498/1261 [00:35<00:52, 14.41it/s]"
     ]
    },
    {
     "name": "stdout",
     "output_type": "stream",
     "text": [
      "7372.47834583\n",
      "(array([ -3.62696444e-06,  -4.61945383e-03,   4.21297102e+02]), array([ -2.22758816e-05,   4.22624152e-02,   9.35154403e+02])) (45279.458785749521, 7372.4783458317333)\n",
      "9943.16188513\n",
      "(array([ -1.92297829e-05,   6.10108984e-03,   4.20081393e+02]), array([  1.65171524e-05,   2.30253412e-02,   9.35591241e+02])) (8540.2592997422053, 9943.1618851299445)\n",
      "5110.14248132\n",
      "(array([  3.61878978e-07,  -7.88854168e-03,   4.23046579e+02]), array([  3.21391300e-05,   1.62796114e-02,   9.32352452e+02])) (453817.33220403385, 5110.1424813189606)\n"
     ]
    },
    {
     "name": "stderr",
     "output_type": "stream",
     "text": [
      "\u001b[A\u001b[A\u001b[A\u001b[A\u001b[A\u001b[A\u001b[A\u001b[A\n",
      "\n",
      "\n",
      "\n",
      "\n",
      "\n",
      "\n",
      "\n",
      " 40%|███▉      | 500/1261 [00:36<00:57, 13.15it/s]\u001b[A\u001b[A\u001b[A\u001b[A\u001b[A\u001b[A\u001b[A\u001b[A"
     ]
    },
    {
     "name": "stdout",
     "output_type": "stream",
     "text": [
      "3649.39499314\n",
      "(array([ -1.57276707e-05,   7.75135551e-03,   4.17350053e+02]), array([  4.50033163e-05,   2.13968033e-03,   9.37570347e+02])) (10441.911188335964, 3649.3949931375209)\n",
      "12615.576479\n",
      "(array([ -8.67924695e-07,   3.92575434e-03,   4.12574546e+02]), array([  1.30180017e-05,   1.44087520e-02,   9.42418309e+02])) (189217.7577917061, 12615.576478955954)\n",
      "2524.60053936\n",
      "(array([ -1.20285998e-05,   2.19613471e-02,   4.04815715e+02]), array([  6.50519323e-05,  -3.30921553e-02,   9.55058214e+02])) (13653.056783962411, 2524.6005393558826)\n"
     ]
    },
    {
     "name": "stderr",
     "output_type": "stream",
     "text": [
      "\n",
      "\n",
      "\n",
      "\n",
      "\n",
      "\n",
      "\n",
      "\n",
      " 40%|███▉      | 502/1261 [00:36<00:56, 13.51it/s]\u001b[A\u001b[A\u001b[A\u001b[A\u001b[A\u001b[A\u001b[A\u001b[A\n",
      "\n",
      "\n",
      "\n",
      "\n",
      "\n",
      "\n",
      "\n",
      " 40%|███▉      | 504/1261 [00:36<00:57, 13.27it/s]"
     ]
    },
    {
     "name": "stdout",
     "output_type": "stream",
     "text": [
      "2620.46603944\n",
      "(array([ -1.88760922e-05,   3.63307101e-02,   3.97091356e+02]), array([  6.26712442e-05,  -4.32035358e-02,   9.64551144e+02])) (8700.3199399075638, 2620.4660394378125)\n",
      "5432.41483335\n",
      "(array([ -2.94290166e-05,   3.46841761e-02,   4.04136696e+02]), array([ -3.02310780e-05,   4.51385086e-02,   9.42919719e+02])) (5580.4409933448906, 5432.414833352761)\n",
      "8265.63793251\n",
      "(array([ -1.51702027e-05,   2.51526423e-02,   4.05035924e+02]), array([ -1.98687076e-05,   3.34253292e-02,   9.46628853e+02])) (10825.641170295352, 8265.6379325075322)\n"
     ]
    },
    {
     "name": "stderr",
     "output_type": "stream",
     "text": [
      "\u001b[A\u001b[A\u001b[A\u001b[A\u001b[A\u001b[A\u001b[A\u001b[A\n",
      "\n",
      "\n",
      "\n",
      "\n",
      "\n",
      "\n",
      "\n",
      " 40%|████      | 506/1261 [00:36<01:02, 11.99it/s]"
     ]
    },
    {
     "name": "stdout",
     "output_type": "stream",
     "text": [
      "30313.0787094\n",
      "(array([ -1.65607113e-05,   2.73659180e-02,   4.04410789e+02]), array([ -5.41772329e-06,   2.22018565e-02,   9.48196822e+02])) (9916.67840381721, 30313.078709441768)\n",
      "84841.9941406\n",
      "(array([ -2.52752625e-05,   3.06383525e-02,   4.05176932e+02]), array([  1.93569262e-06,   1.62150608e-02,   9.48453422e+02])) (6497.5344211413676, 84841.994140571085)\n",
      "12623.1698473\n",
      "(array([ -2.02320564e-05,   3.24823577e-02,   4.01257247e+02]), array([  1.30100255e-05,   3.67210490e-03,   9.52688706e+02])) (8117.18788586958, 12623.169847302986)\n"
     ]
    },
    {
     "name": "stderr",
     "output_type": "stream",
     "text": [
      "\u001b[A\u001b[A\u001b[A\u001b[A\u001b[A\u001b[A\u001b[A\u001b[A\n",
      "\n",
      "\n",
      "\n",
      "\n",
      "\n",
      "\n",
      "\n",
      " 40%|████      | 508/1261 [00:36<01:02, 11.96it/s]\u001b[A\u001b[A\u001b[A\u001b[A\u001b[A\u001b[A\u001b[A\u001b[A"
     ]
    },
    {
     "name": "stdout",
     "output_type": "stream",
     "text": [
      "10476.0688661\n",
      "(array([ -2.93383784e-05,   3.75191075e-02,   4.01861874e+02]), array([  1.56765684e-05,   7.87761637e-03,   9.48230970e+02])) (5597.6874890674626, 10476.068866115907)\n",
      "1375.88634121\n",
      "(array([ -3.13959204e-05,   4.67879674e-02,   3.95815411e+02]), array([  1.19372144e-04,  -5.15148745e-02,   9.55376027e+02])) (5230.8651370464495, 1375.8863412111914)\n"
     ]
    },
    {
     "name": "stderr",
     "output_type": "stream",
     "text": [
      "\n",
      "\n",
      "\n",
      "\n",
      "\n",
      "\n",
      "\n",
      "\n",
      " 40%|████      | 510/1261 [00:36<01:13, 10.23it/s]\u001b[A\u001b[A\u001b[A\u001b[A\u001b[A\u001b[A\u001b[A\u001b[A\n",
      "\n",
      "\n",
      "\n",
      "\n",
      "\n",
      "\n",
      "\n",
      " 41%|████      | 512/1261 [00:37<01:08, 10.91it/s]"
     ]
    },
    {
     "name": "stdout",
     "output_type": "stream",
     "text": [
      "1716.7608607\n",
      "(array([ -3.19811257e-05,   4.67568654e-02,   3.96592312e+02]), array([  9.56672701e-05,  -3.89299700e-02,   9.51454018e+02])) (5135.1459651680789, 1716.7608607047416)\n",
      "1998.61802182\n",
      "(array([ -4.14341740e-05,   5.29614688e-02,   3.95613738e+02]), array([  8.21741689e-05,  -3.38300080e-02,   9.49998120e+02])) (3963.5740298323317, 1998.6180218212062)\n",
      "2102.08088013\n",
      "(array([ -2.09434557e-05,   3.67812543e-02,   3.99152833e+02]), array([  7.81292407e-05,  -3.22208265e-02,   9.47902501e+02])) (7841.4866949091438, 2102.0808801309008)\n"
     ]
    },
    {
     "name": "stderr",
     "output_type": "stream",
     "text": [
      "\u001b[A\u001b[A\u001b[A\u001b[A\u001b[A\u001b[A\u001b[A\u001b[A\n",
      "\n",
      "\n",
      "\n",
      "\n",
      "\n",
      "\n",
      "\n",
      " 41%|████      | 514/1261 [00:37<01:05, 11.40it/s]\u001b[A\u001b[A\u001b[A\u001b[A\u001b[A\u001b[A\u001b[A\u001b[A"
     ]
    },
    {
     "name": "stdout",
     "output_type": "stream",
     "text": [
      "1857.82017926\n",
      "(array([  8.09951855e-06,   4.86911023e-03,   4.09955202e+02]), array([ -8.83986128e-05,   1.07323529e-01,   9.17217567e+02])) (20276.187960239571, 1857.8201792556008)\n",
      "2460.2251893\n",
      "(array([  1.63904875e-05,   4.42568900e-03,   4.06442750e+02]), array([ -6.67537226e-05,   8.90097403e-02,   9.21542613e+02])) (10019.734772557109, 2460.2251892981412)\n",
      "2908.86942773\n",
      "(array([  4.87908787e-05,  -2.89600518e-02,   4.15294260e+02]), array([ -5.64585806e-05,   8.56154194e-02,   9.19925705e+02])) (3365.9568854965601, 2908.8694277325512)\n"
     ]
    },
    {
     "name": "stderr",
     "output_type": "stream",
     "text": [
      "\n",
      "\n",
      "\n",
      "\n",
      "\n",
      "\n",
      "\n",
      "\n",
      " 41%|████      | 516/1261 [00:37<01:02, 11.99it/s]\u001b[A\u001b[A\u001b[A\u001b[A\u001b[A\u001b[A\u001b[A\u001b[A\n",
      "\n",
      "\n",
      "\n",
      "\n",
      "\n",
      "\n",
      "\n",
      " 41%|████      | 518/1261 [00:37<01:01, 12.07it/s]"
     ]
    },
    {
     "name": "stdout",
     "output_type": "stream",
     "text": [
      "3670.25681243\n",
      "(array([  5.15769141e-05,  -2.36401522e-02,   4.09941627e+02]), array([ -4.47461244e-05,   7.06532678e-02,   9.25968199e+02])) (3184.1645363863836, 3670.2568124286709)\n",
      "4180.63677514\n",
      "(array([  2.17306651e-05,   9.11698143e-03,   4.00320772e+02]), array([ -3.92832331e-05,   6.12805784e-02,   9.30847572e+02])) (7557.5362510221476, 4180.636775135632)\n",
      "4939.83955533\n",
      "(array([  2.55004809e-05,   9.58089449e-04,   4.04017911e+02]), array([ -3.32457996e-05,   5.54153522e-02,   9.31550068e+02])) (6440.242947720526, 4939.8395553250448)\n"
     ]
    },
    {
     "name": "stderr",
     "output_type": "stream",
     "text": [
      "\u001b[A\u001b[A\u001b[A\u001b[A\u001b[A\u001b[A\u001b[A\u001b[A\n",
      "\n",
      "\n",
      "\n",
      "\n",
      "\n",
      "\n",
      "\n",
      " 41%|████      | 520/1261 [00:37<00:58, 12.75it/s]\u001b[A\u001b[A\u001b[A\u001b[A\u001b[A\u001b[A\u001b[A\u001b[A"
     ]
    },
    {
     "name": "stdout",
     "output_type": "stream",
     "text": [
      "5711.19246155\n",
      "(array([  8.79287946e-06,   1.53109313e-02,   4.00646389e+02]), array([ -2.87554065e-05,   4.29558955e-02,   9.39298605e+02])) (18677.495126141344, 5711.1924615453718)\n",
      "6114.41221706\n",
      "(array([ -6.82604752e-06,   1.80125262e-02,   4.06284628e+02]), array([ -2.68593246e-05,   4.96378678e-02,   9.33802501e+02])) (24058.907728272628, 6114.4122170578657)\n",
      "3106.35088374\n",
      "(array([ -1.48209503e-05,   2.22344288e-02,   4.06849316e+02]), array([  5.28715651e-05,   1.69396360e-03,   9.40206328e+02])) (11080.732181957528, 3106.3508837403219)\n",
      "3728.67991535\n",
      "(array([ -1.06595707e-05,   1.67548583e-02,   4.09182623e+02]), array([  4.40468500e-05,   7.63286878e-03,   9.39943636e+02])) (15406.520591070943, 3728.6799153543193)\n"
     ]
    },
    {
     "name": "stderr",
     "output_type": "stream",
     "text": [
      "\n",
      "\n",
      "\n",
      "\n",
      "\n",
      "\n",
      "\n",
      "\n",
      " 41%|████▏     | 522/1261 [00:37<00:54, 13.46it/s]\u001b[A\u001b[A\u001b[A\u001b[A\u001b[A\u001b[A\u001b[A\u001b[A\n",
      "\n",
      "\n",
      "\n",
      "\n",
      "\n",
      "\n",
      "\n",
      " 42%|████▏     | 524/1261 [00:38<00:52, 14.06it/s]\u001b[A\u001b[A\u001b[A\u001b[A\u001b[A\u001b[A\u001b[A\u001b[A"
     ]
    },
    {
     "name": "stdout",
     "output_type": "stream",
     "text": [
      "2541.00162539\n",
      "(array([ -8.32805255e-06,   1.14908721e-02,   4.12765277e+02]), array([ -6.46310144e-05,   7.61247629e-02,   9.31819909e+02])) (19719.709273043765, 2541.0016253943622)\n",
      "2356.86588796\n",
      "(array([ -4.81380111e-05,   3.70697836e-02,   4.12389161e+02]), array([ -6.96807213e-05,   8.56082560e-02,   9.27119710e+02])) (3411.5879367340272, 2356.8658879571458)\n",
      "2674.40089098\n",
      "(array([  1.05843456e-05,  -1.62829830e-02,   4.25125291e+02]), array([ -6.14079953e-05,   8.58611699e-02,   9.23257783e+02])) (15516.015896162509, 2674.4008909765657)\n",
      "2930.59519387\n",
      "(array([ -1.37957016e-04,   1.18100000e-01,   3.94953303e+02]), array([ -5.60388565e-05,   6.47641992e-02,   9.36233863e+02])) (1190.4254398194296, 2930.5951938659564)\n"
     ]
    },
    {
     "name": "stderr",
     "output_type": "stream",
     "text": [
      "\n",
      "\n",
      "\n",
      "\n",
      "\n",
      "\n",
      "\n",
      "\n",
      " 42%|████▏     | 526/1261 [00:38<00:50, 14.53it/s]\u001b[A\u001b[A\u001b[A\u001b[A\u001b[A\u001b[A\u001b[A\u001b[A\n",
      "\n",
      "\n",
      "\n",
      "\n",
      "\n",
      "\n",
      "\n",
      " 42%|████▏     | 528/1261 [00:38<00:49, 14.86it/s]\u001b[A\u001b[A\u001b[A\u001b[A\u001b[A\u001b[A\u001b[A\u001b[A"
     ]
    },
    {
     "name": "stdout",
     "output_type": "stream",
     "text": [
      "4686.44487725\n",
      "(array([ -1.22645990e-04,   1.10950693e-01,   3.92776156e+02]), array([ -3.50430411e-05,   4.54609887e-02,   9.41567738e+02])) (1339.0320367157535, 4686.4448772542091)\n",
      "5480.53655675\n",
      "(array([ -8.80039611e-05,   8.97315461e-02,   3.91353999e+02]), array([ -2.99654473e-05,   2.95508896e-02,   9.51313588e+02])) (1866.1300453820404, 5480.5365567516674)\n",
      "3278.36636698\n",
      "(array([ -8.10244240e-05,   8.09594238e-02,   3.95246782e+02]), array([ -5.00941259e-05,   5.46561146e-02,   9.42925872e+02])) (2026.8797797685304, 3278.3663669840698)\n",
      "3721.92672348\n",
      "(array([ -1.34116584e-04,   1.15755773e-01,   3.97009789e+02]), array([ -4.41247317e-05,   6.64008295e-02,   9.30197021e+02])) (1224.5122250500219, 3721.9267234842696)\n"
     ]
    },
    {
     "name": "stderr",
     "output_type": "stream",
     "text": [
      "\n",
      "\n",
      "\n",
      "\n",
      "\n",
      "\n",
      "\n",
      "\n",
      " 42%|████▏     | 530/1261 [00:38<00:48, 14.98it/s]\u001b[A\u001b[A\u001b[A\u001b[A\u001b[A\u001b[A\u001b[A\u001b[A\n",
      "\n",
      "\n",
      "\n",
      "\n",
      "\n",
      "\n",
      "\n",
      " 42%|████▏     | 532/1261 [00:38<00:48, 15.02it/s]\u001b[A\u001b[A\u001b[A\u001b[A\u001b[A\u001b[A\u001b[A\u001b[A\n",
      "\n",
      "\n",
      "\n",
      "\n",
      "\n",
      "\n",
      "\n",
      " 42%|████▏     | 534/1261 [00:38<00:47, 15.27it/s]"
     ]
    },
    {
     "name": "stdout",
     "output_type": "stream",
     "text": [
      "3731.35615152\n",
      "(array([ -1.22576712e-04,   9.85898937e-02,   4.05203899e+02]), array([ -4.40137091e-05,   7.44033720e-02,   9.23335469e+02])) (1339.7991220392923, 3731.3561515239439)\n",
      "28453.7629008\n",
      "(array([ -1.55365263e-04,   1.21890369e-01,   4.07053172e+02]), array([  5.77210981e-06,   4.83588426e-02,   9.17562745e+02])) (1057.0552897162688, 28453.762900837402)\n",
      "2077.14496043\n",
      "(array([ -1.14842014e-04,   7.99459318e-02,   4.17811409e+02]), array([  7.90769239e-05,   7.38418353e-03,   9.21801906e+02])) (1430.0547442247016, 2077.1449604325389)\n",
      "1755.42677825\n",
      "(array([ -1.34704215e-04,   1.03854368e-01,   4.11250256e+02]), array([  9.35694555e-05,  -6.38675954e-03,   9.25341281e+02])) (1219.1845450391584, 1755.4267782524703)\n"
     ]
    },
    {
     "name": "stderr",
     "output_type": "stream",
     "text": [
      "\u001b[A\u001b[A\u001b[A\u001b[A\u001b[A\u001b[A\u001b[A\u001b[A\n",
      "\n",
      "\n",
      "\n",
      "\n",
      "\n",
      "\n",
      "\n",
      " 43%|████▎     | 536/1261 [00:38<00:46, 15.50it/s]\u001b[A\u001b[A\u001b[A\u001b[A\u001b[A\u001b[A\u001b[A\u001b[A\n",
      "\n",
      "\n",
      "\n",
      "\n",
      "\n",
      "\n",
      "\n",
      " 43%|████▎     | 538/1261 [00:38<00:45, 15.81it/s]"
     ]
    },
    {
     "name": "stdout",
     "output_type": "stream",
     "text": [
      "1846.47438722\n",
      "(array([ -9.79614206e-05,   8.08944888e-02,   4.11027439e+02]), array([  8.89507846e-05,  -1.68613961e-02,   9.33921767e+02])) (1676.44988335328, 1846.4743872248894)\n",
      "2301.40111888\n",
      "(array([ -2.05279350e-04,   1.93781404e-01,   3.80793138e+02]), array([  7.13633236e-05,  -2.11112065e-02,   9.44541965e+02])) (800.01602655124907, 2301.4011188844806)\n",
      "1758.15435848\n",
      "(array([ -8.62525335e-05,   8.86850080e-02,   4.01384547e+02]), array([  9.34138199e-05,  -4.15355986e-02,   9.48707280e+02])) (1904.0236519552282, 1758.1543584786382)\n",
      "1899.37979101\n",
      "(array([ -9.37399669e-05,   1.00760570e-01,   3.95310153e+02]), array([  8.64653060e-05,  -5.23404683e-02,   9.58955482e+02])) (1751.9441486486808, 1899.379791013765)\n"
     ]
    },
    {
     "name": "stderr",
     "output_type": "stream",
     "text": [
      "\u001b[A\u001b[A\u001b[A\u001b[A\u001b[A\u001b[A\u001b[A\u001b[A\n",
      "\n",
      "\n",
      "\n",
      "\n",
      "\n",
      "\n",
      "\n",
      " 43%|████▎     | 540/1261 [00:39<00:45, 15.95it/s]\u001b[A\u001b[A\u001b[A\u001b[A\u001b[A\u001b[A\u001b[A\u001b[A"
     ]
    },
    {
     "name": "stdout",
     "output_type": "stream",
     "text": [
      "1956.7247665\n",
      "(array([ -7.07430268e-05,   7.54354576e-02,   4.03469111e+02]), array([  8.39313137e-05,  -4.98034748e-02,   9.56409083e+02])) (2321.4577955425211, 1956.7247664977697)\n",
      "1934.0473674\n",
      "(array([ -6.12877188e-05,   6.44817802e-02,   4.05974054e+02]), array([  8.49149585e-05,  -5.48221865e-02,   9.58459908e+02])) (2679.604598149469, 1934.0473674014174)\n",
      "1833.20762872\n",
      "(array([ -2.49935163e-05,   2.47353366e-02,   4.17631764e+02]), array([  8.95858966e-05,  -5.93205432e-02,   9.57893930e+02])) (6570.7732712206434, 1833.2076287208599)\n",
      "2034.70214264\n",
      "(array([ -1.53966578e-05,   9.45802495e-03,   4.23615863e+02]), array([  8.07141224e-05,  -5.25191343e-02,   9.55046142e+02])) (10666.395329496561, 2034.7021426408407)\n"
     ]
    },
    {
     "name": "stderr",
     "output_type": "stream",
     "text": [
      "\n",
      "\n",
      "\n",
      "\n",
      "\n",
      "\n",
      "\n",
      "\n",
      " 43%|████▎     | 542/1261 [00:39<00:46, 15.60it/s]\u001b[A\u001b[A\u001b[A\u001b[A\u001b[A\u001b[A\u001b[A\u001b[A\n",
      "\n",
      "\n",
      "\n",
      "\n",
      "\n",
      "\n",
      "\n",
      " 43%|████▎     | 544/1261 [00:39<00:52, 13.64it/s]\u001b[A\u001b[A\u001b[A\u001b[A\u001b[A\u001b[A\u001b[A\u001b[A"
     ]
    },
    {
     "name": "stdout",
     "output_type": "stream",
     "text": [
      "2008.68806072\n",
      "(array([ -2.14254366e-05,   1.75259249e-02,   4.21012927e+02]), array([  8.17588838e-05,  -5.99189154e-02,   9.59425223e+02])) (7665.036972095666, 2008.6880607179828)\n",
      "7031.15282135\n",
      "(array([ -5.69852707e-05,   5.11887312e-02,   4.15243576e+02]), array([  2.33571753e-05,  -5.44574916e-03,   9.46100451e+02])) (2881.9162172330339, 7031.152821352237)\n",
      "3356.94115573\n",
      "(array([ -7.11545800e-05,   6.69252162e-02,   4.10212876e+02]), array([ -4.89216659e-05,   3.65885395e-02,   9.44362767e+02])) (2308.0275973191974, 3356.941155730422)\n"
     ]
    },
    {
     "name": "stderr",
     "output_type": "stream",
     "text": [
      "\n",
      "\n",
      "\n",
      "\n",
      "\n",
      "\n",
      "\n",
      "\n",
      " 43%|████▎     | 546/1261 [00:39<00:50, 14.06it/s]\u001b[A\u001b[A\u001b[A\u001b[A\u001b[A\u001b[A\u001b[A\u001b[A\n",
      "\n",
      "\n",
      "\n",
      "\n",
      "\n",
      "\n",
      "\n",
      " 43%|████▎     | 548/1261 [00:39<00:48, 14.60it/s]"
     ]
    },
    {
     "name": "stdout",
     "output_type": "stream",
     "text": [
      "5019.03979509\n",
      "(array([ -9.78806004e-05,   1.01561378e-01,   3.99558541e+02]), array([ -3.27207491e-05,   2.94627901e-02,   9.43402282e+02])) (1677.8294659324495, 5019.0397950873312)\n",
      "23526.9187461\n",
      "(array([ -1.01712032e-04,   1.10816972e-01,   3.94369943e+02]), array([ -6.98038076e-06,   1.10385082e-03,   9.52714980e+02])) (1614.631137584784, 23526.918746136977)\n",
      "28204.5909825\n",
      "(array([ -5.74946347e-05,   7.45196476e-02,   4.00178511e+02]), array([ -5.82270141e-06,  -1.24113017e-03,   9.54731361e+02])) (2856.4092626575834, 28204.590982477312)\n",
      "21674.879754\n",
      "(array([ -5.90485039e-05,   7.79616867e-02,   3.98341194e+02]), array([  7.57683374e-06,  -1.49482492e-02,   9.59233774e+02])) (2781.2477895852367, 21674.87975397164)\n"
     ]
    },
    {
     "name": "stderr",
     "output_type": "stream",
     "text": [
      "\u001b[A\u001b[A\u001b[A\u001b[A\u001b[A\u001b[A\u001b[A\u001b[A\n",
      "\n",
      "\n",
      "\n",
      "\n",
      "\n",
      "\n",
      "\n",
      " 44%|████▎     | 550/1261 [00:39<00:47, 14.89it/s]\u001b[A\u001b[A\u001b[A\u001b[A\u001b[A\u001b[A\u001b[A\u001b[A\n",
      "\n",
      "\n",
      "\n",
      "\n",
      "\n",
      "\n",
      "\n",
      " 44%|████▍     | 552/1261 [00:39<00:46, 15.25it/s]"
     ]
    },
    {
     "name": "stdout",
     "output_type": "stream",
     "text": [
      "45895.5772197\n",
      "(array([ -6.89237348e-05,   9.54540269e-02,   3.87521245e+02]), array([  3.57833395e-06,  -3.08315225e-02,   9.75250037e+02])) (2382.7804398288104, 45895.577219749583)\n",
      "16347.4657641\n",
      "(array([ -8.02391982e-05,   1.04370036e-01,   3.86257846e+02]), array([  1.00461649e-05,  -3.53026579e-02,   9.76662990e+02])) (2046.7513841913724, 16347.465764126613)\n",
      "10242.5177074\n",
      "(array([ -3.73441144e-05,   6.58557857e-02,   3.91649965e+02]), array([  1.60342528e-05,  -4.86754557e-02,   9.84774808e+02])) (4397.7558085882902, 10242.517707357303)\n",
      "14577.1223857\n",
      "(array([ -4.99758057e-05,   7.64209118e-02,   3.90602363e+02]), array([  1.12663430e-05,  -4.31107217e-02,   9.83883323e+02])) (3286.1888248332002, 14577.122385684326)\n"
     ]
    },
    {
     "name": "stderr",
     "output_type": "stream",
     "text": [
      "\u001b[A\u001b[A\u001b[A\u001b[A\u001b[A\u001b[A\u001b[A\u001b[A\n",
      "\n",
      "\n",
      "\n",
      "\n",
      "\n",
      "\n",
      "\n",
      " 44%|████▍     | 554/1261 [00:39<00:47, 14.97it/s]\u001b[A\u001b[A\u001b[A\u001b[A\u001b[A\u001b[A\u001b[A\u001b[A\n",
      "\n",
      "\n",
      "\n",
      "\n",
      "\n",
      "\n",
      "\n",
      " 44%|████▍     | 556/1261 [00:40<00:45, 15.45it/s]"
     ]
    },
    {
     "name": "stdout",
     "output_type": "stream",
     "text": [
      "5161.2590483\n",
      "(array([ -8.09787546e-05,   1.06246352e-01,   3.82778735e+02]), array([  3.18198625e-05,  -6.16159675e-02,   9.88362475e+02])) (2028.0621631218769, 5161.259048304848)\n",
      "2952.1590604\n",
      "(array([ -8.34862796e-05,   1.04097502e-01,   3.85792510e+02]), array([  5.56298091e-05,  -7.16406814e-02,   9.86788282e+02])) (1967.1376129271498, 2952.1590604022313)\n",
      "2264.74550887\n",
      "(array([ -7.86964922e-05,   9.43097768e-02,   3.92232974e+02]), array([  7.25144469e-05,  -7.28409767e-02,   9.80131472e+02])) (2086.8544140314621, 2264.745508866697)\n",
      "1662.97602457\n",
      "(array([ -9.02672809e-05,   1.01039840e-01,   3.93102290e+02]), array([  9.87547279e-05,  -9.26653563e-02,   9.81090427e+02])) (1819.3474439693402, 1662.9760245728116)\n"
     ]
    },
    {
     "name": "stderr",
     "output_type": "stream",
     "text": [
      "\u001b[A\u001b[A\u001b[A\u001b[A\u001b[A\u001b[A\u001b[A\u001b[A\n",
      "\n",
      "\n",
      "\n",
      "\n",
      "\n",
      "\n",
      "\n",
      " 44%|████▍     | 558/1261 [00:40<00:44, 15.86it/s]\u001b[A\u001b[A\u001b[A\u001b[A\u001b[A\u001b[A\u001b[A\u001b[A\n",
      "\n",
      "\n",
      "\n",
      "\n",
      "\n",
      "\n",
      "\n",
      " 44%|████▍     | 560/1261 [00:40<00:45, 15.40it/s]"
     ]
    },
    {
     "name": "stdout",
     "output_type": "stream",
     "text": [
      "1341.67964605\n",
      "(array([ -7.48461235e-05,   8.81827164e-02,   3.92777879e+02]), array([  1.22403849e-04,  -1.20090019e-01,   9.90715127e+02])) (2194.2056076720405, 1341.6796460451317)\n",
      "1771.87121951\n",
      "(array([ -7.29922646e-05,   1.08128157e-01,   3.73457322e+02]), array([  9.26883520e-05,  -1.24836283e-01,   1.01231232e+03])) (2249.998253676843, 1771.871219512238)\n",
      "1502.65876148\n",
      "(array([ -4.79828557e-05,   1.30958319e-01,   3.40698565e+02]), array([  1.09308718e-04,  -1.87425495e-01,   1.05816512e+03])) (3423.208062276547, 1502.6587614798407)\n"
     ]
    },
    {
     "name": "stderr",
     "output_type": "stream",
     "text": [
      "\u001b[A\u001b[A\u001b[A\u001b[A\u001b[A\u001b[A\u001b[A\u001b[A\n",
      "\n",
      "\n",
      "\n",
      "\n",
      "\n",
      "\n",
      "\n",
      " 45%|████▍     | 562/1261 [00:40<00:47, 14.66it/s]\u001b[A\u001b[A\u001b[A\u001b[A\u001b[A\u001b[A\u001b[A\u001b[A"
     ]
    },
    {
     "name": "stdout",
     "output_type": "stream",
     "text": [
      "2781.80099988\n",
      "(array([ -3.53524538e-05,   1.26776843e-01,   3.33891614e+02]), array([  5.90539699e-05,  -1.68618756e-01,   1.06651999e+03])) (4646.3789129057723, 2781.800999883767)\n",
      "2913.87745471\n",
      "(array([ -1.34056185e-05,   1.22105394e-01,   3.25571562e+02]), array([  5.63825788e-05,  -1.82366720e-01,   1.08115633e+03])) (12254.118107005557, 2913.8774547101953)\n",
      "4969.22091908\n",
      "(array([ -3.81744700e-05,   9.97303662e-02,   3.54329837e+02]), array([ -3.30535956e-05,  -4.58997605e-02,   1.02174234e+03])) (4302.4173650586499, 4969.2209190794511)\n"
     ]
    },
    {
     "name": "stderr",
     "output_type": "stream",
     "text": [
      "\n",
      "\n",
      "\n",
      "\n",
      "\n",
      "\n",
      "\n",
      "\n",
      " 45%|████▍     | 564/1261 [00:40<00:47, 14.62it/s]\u001b[A\u001b[A\u001b[A\u001b[A\u001b[A\u001b[A\u001b[A\u001b[A\n",
      "\n",
      "\n",
      "\n",
      "\n",
      "\n",
      "\n",
      "\n",
      " 45%|████▍     | 566/1261 [00:40<00:46, 14.92it/s]"
     ]
    },
    {
     "name": "stdout",
     "output_type": "stream",
     "text": [
      "4118.44936592\n",
      "(array([ -4.14672847e-05,   6.94122392e-02,   3.80771447e+02]), array([  3.98765587e-05,  -6.51457517e-02,   9.96390995e+02])) (3960.4763655585989, 4118.4493659170184)\n",
      "1657.19489111\n",
      "(array([ -2.16903213e-05,   3.65637959e-02,   3.97474282e+02]), array([  9.91002407e-05,  -7.45140863e-02,   9.79572907e+02])) (7571.4742309735584, 1657.1948911068221)\n",
      "1432.24025232\n",
      "(array([ -1.42158751e-06,  -1.16335071e-02,   4.24073507e+02]), array([ -1.14664781e-04,   9.59769975e-02,   9.38295987e+02])) (115523.94434952985, 1432.2402523239459)\n",
      "1086.55330468\n",
      "(array([ -5.61748097e-05,   4.16355540e-02,   4.14543010e+02]), array([ -1.51144657e-04,   1.45180161e-01,   9.19622579e+02])) (2923.5047964757332, 1086.5533046822713)\n"
     ]
    },
    {
     "name": "stderr",
     "output_type": "stream",
     "text": [
      "\u001b[A\u001b[A\u001b[A\u001b[A\u001b[A\u001b[A\u001b[A\u001b[A\n",
      "\n",
      "\n",
      "\n",
      "\n",
      "\n",
      "\n",
      "\n",
      " 45%|████▌     | 568/1261 [00:40<00:45, 15.36it/s]\u001b[A\u001b[A\u001b[A\u001b[A\u001b[A\u001b[A\u001b[A\u001b[A\n",
      "\n",
      "\n",
      "\n",
      "\n",
      "\n",
      "\n",
      "\n",
      " 45%|████▌     | 570/1261 [00:41<00:43, 15.85it/s]"
     ]
    },
    {
     "name": "stdout",
     "output_type": "stream",
     "text": [
      "1374.67502893\n",
      "(array([ -6.05221127e-05,   5.21138015e-02,   4.11719215e+02]), array([ -1.19466422e-04,   1.28717065e-01,   9.20391301e+02])) (2713.5019155499995, 1374.6750289345437)\n",
      "1245.71178658\n",
      "(array([ -6.23005528e-05,   6.70357493e-02,   4.00697242e+02]), array([ -1.31833759e-04,   1.20600421e-01,   9.33409714e+02])) (2636.0429615522867, 1245.7117865798984)\n",
      "1453.26103918\n",
      "(array([ -4.31542564e-05,   5.23695891e-02,   4.01933987e+02]), array([ -1.13005857e-04,   1.00034048e-01,   9.43154333e+02])) (3805.5852430023679, 1453.2610391846026)\n",
      "1352.20837709\n",
      "(array([  5.18913967e-06,   1.70113842e-02,   4.02317044e+02]), array([ -1.21453744e-04,   8.46613784e-02,   9.60244896e+02])) (31648.530332029568, 1352.2083770866748)\n"
     ]
    },
    {
     "name": "stderr",
     "output_type": "stream",
     "text": [
      "\u001b[A\u001b[A\u001b[A\u001b[A\u001b[A\u001b[A\u001b[A\u001b[A\n",
      "\n",
      "\n",
      "\n",
      "\n",
      "\n",
      "\n",
      "\n",
      " 45%|████▌     | 572/1261 [00:41<00:42, 16.17it/s]\u001b[A\u001b[A\u001b[A\u001b[A\u001b[A\u001b[A\u001b[A\u001b[A\n",
      "\n",
      "\n",
      "\n",
      "\n",
      "\n",
      "\n",
      "\n",
      " 46%|████▌     | 574/1261 [00:41<00:42, 16.25it/s]"
     ]
    },
    {
     "name": "stdout",
     "output_type": "stream",
     "text": [
      "1634.44549053\n",
      "(array([  9.82417331e-06,   9.38430016e-03,   4.06434729e+02]), array([ -1.00479651e-04,   7.52374083e-02,   9.59232876e+02])) (16716.737894423906, 1634.4454905321916)\n",
      "1899.12324165\n",
      "(array([  1.00887809e-05,   1.63852668e-02,   4.00198008e+02]), array([ -8.64762933e-05,   5.83525895e-02,   9.66807447e+02])) (16278.420804956804, 1899.1232416470143)\n",
      "2184.76053845\n",
      "(array([ -3.16707724e-05,   5.82182215e-02,   3.92584266e+02]), array([ -7.51695357e-05,   5.87942497e-02,   9.63341116e+02])) (5185.5316852313654, 2184.7605384469412)\n",
      "1834.58048896\n",
      "(array([  2.53048516e-05,  -9.84941067e-03,   4.13436623e+02]), array([ -8.95174617e-05,   7.78086530e-02,   9.57634157e+02])) (6489.963129342641, 1834.5804889649869)\n"
     ]
    },
    {
     "name": "stderr",
     "output_type": "stream",
     "text": [
      "\u001b[A\u001b[A\u001b[A\u001b[A\u001b[A\u001b[A\u001b[A\u001b[A\n",
      "\n",
      "\n",
      "\n",
      "\n",
      "\n",
      "\n",
      "\n",
      " 46%|████▌     | 576/1261 [00:41<00:41, 16.59it/s]\u001b[A\u001b[A\u001b[A\u001b[A\u001b[A\u001b[A\u001b[A\u001b[A\n",
      "\n",
      "\n",
      "\n",
      "\n",
      "\n",
      "\n",
      "\n",
      " 46%|████▌     | 578/1261 [00:41<00:44, 15.52it/s]"
     ]
    },
    {
     "name": "stdout",
     "output_type": "stream",
     "text": [
      "1684.62010525\n",
      "(array([  9.74693555e-05,  -9.15641271e-02,   4.37268615e+02]), array([ -9.74859236e-05,   9.58434917e-02,   9.49072176e+02])) (1684.9064177680364, 1684.6201052490605)\n",
      "6272.80260493\n",
      "(array([  9.05881678e-05,  -9.18237096e-02,   4.40733974e+02]), array([ -2.61817338e-05,   6.44292131e-02,   9.44876590e+02])) (1812.8948225383813, 6272.8026049287073)\n",
      "8783.94904774\n",
      "(array([  6.02135170e-05,  -6.38218420e-02,   4.36373667e+02]), array([ -1.86976325e-05,   7.37061734e-02,   9.34846704e+02])) (2727.4087035216344, 8783.9490477378422)\n"
     ]
    },
    {
     "name": "stderr",
     "output_type": "stream",
     "text": [
      "\u001b[A\u001b[A\u001b[A\u001b[A\u001b[A\u001b[A\u001b[A\u001b[A\n",
      "\n",
      "\n",
      "\n",
      "\n",
      "\n",
      "\n",
      "\n",
      " 46%|████▌     | 580/1261 [00:41<00:44, 15.22it/s]\u001b[A\u001b[A\u001b[A\u001b[A\u001b[A\u001b[A\u001b[A\u001b[A"
     ]
    },
    {
     "name": "stdout",
     "output_type": "stream",
     "text": [
      "5003.90492753\n",
      "(array([ -1.79555525e-05,   1.29585443e-02,   4.19528588e+02]), array([ -3.28225738e-05,   9.15944009e-02,   9.25978057e+02])) (9146.2960728882572, 5003.9049275252491)\n",
      "23470.6274862\n",
      "(array([ -4.44349812e-05,   4.73484549e-02,   4.08603887e+02]), array([  6.99784595e-06,   5.89756763e-02,   9.32667772e+02])) (3695.890253388834, 23470.627486193283)\n",
      "6096.81733348\n",
      "(array([ -4.67714203e-05,   5.14722338e-02,   4.07000099e+02]), array([  2.69393370e-05,   4.05596245e-02,   9.36811380e+02])) (3511.2660042442772, 6096.8173334760741)\n"
     ]
    },
    {
     "name": "stderr",
     "output_type": "stream",
     "text": [
      "\n",
      "\n",
      "\n",
      "\n",
      "\n",
      "\n",
      "\n",
      "\n",
      " 46%|████▌     | 582/1261 [00:41<00:44, 15.19it/s]\u001b[A\u001b[A\u001b[A\u001b[A\u001b[A\u001b[A\u001b[A\u001b[A\n",
      "\n",
      "\n",
      "\n",
      "\n",
      "\n",
      "\n",
      "\n",
      " 46%|████▋     | 584/1261 [00:41<00:43, 15.63it/s]"
     ]
    },
    {
     "name": "stdout",
     "output_type": "stream",
     "text": [
      "3530.26514593\n",
      "(array([ -2.98878056e-05,   3.50528401e-02,   4.09594217e+02]), array([  4.65242786e-05,   1.94831848e-02,   9.40887417e+02])) (5494.7790091312309, 3530.2651459250751)\n",
      "2430.68906425\n",
      "(array([  6.24072212e-07,  -1.09960864e-03,   4.19746248e+02]), array([  6.75708123e-05,   4.38555212e-04,   9.41324686e+02])) (263153.40526790958, 2430.6890642473368)\n",
      "15677.1293462\n",
      "(array([ -7.99053904e-05,   7.93412532e-02,   4.02562967e+02]), array([  1.04769513e-05,   6.40871889e-02,   9.19801131e+02])) (2055.265024871524, 15677.129346150838)\n",
      "2167.55244037\n",
      "(array([ -6.94045183e-05,   7.91291460e-02,   3.95212974e+02]), array([  7.57713849e-05,  -1.83597365e-02,   9.45392142e+02])) (2366.2342188796165, 2167.5524403650797)\n"
     ]
    },
    {
     "name": "stderr",
     "output_type": "stream",
     "text": [
      "\u001b[A\u001b[A\u001b[A\u001b[A\u001b[A\u001b[A\u001b[A\u001b[A\n",
      "\n",
      "\n",
      "\n",
      "\n",
      "\n",
      "\n",
      "\n",
      " 46%|████▋     | 586/1261 [00:42<00:43, 15.62it/s]\u001b[A\u001b[A\u001b[A\u001b[A\u001b[A\u001b[A\u001b[A\u001b[A\n",
      "\n",
      "\n",
      "\n",
      "\n",
      "\n",
      "\n",
      "\n",
      " 47%|████▋     | 588/1261 [00:42<00:42, 15.85it/s]"
     ]
    },
    {
     "name": "stdout",
     "output_type": "stream",
     "text": [
      "1834.44626028\n",
      "(array([ -8.70611511e-05,   9.53384789e-02,   3.95234073e+02]), array([  8.95324971e-05,  -2.27646321e-02,   9.41030630e+02])) (1886.3439429868422, 1834.4462602804651)\n",
      "1766.95813618\n",
      "(array([ -1.05310850e-04,   1.24307138e-01,   3.82551574e+02]), array([  9.29495567e-05,  -3.59633765e-02,   9.47427912e+02])) (1559.4676316528323, 1766.9581361782973)\n",
      "1794.35133604\n",
      "(array([ -6.26191196e-05,   7.69455287e-02,   3.96839979e+02]), array([  9.15309433e-05,  -3.29809066e-02,   9.44547504e+02])) (2622.6470558545011, 1794.3513360429388)\n",
      "1150.3533029\n",
      "(array([ -4.65016842e-05,   6.56369972e-02,   3.96764005e+02]), array([  1.42776470e-04,  -7.22438943e-02,   9.53318617e+02])) (3531.667228261414, 1150.3533029015709)\n"
     ]
    },
    {
     "name": "stderr",
     "output_type": "stream",
     "text": [
      "\u001b[A\u001b[A\u001b[A\u001b[A\u001b[A\u001b[A\u001b[A\u001b[A\n",
      "\n",
      "\n",
      "\n",
      "\n",
      "\n",
      "\n",
      "\n",
      " 47%|████▋     | 590/1261 [00:42<00:41, 16.00it/s]\u001b[A\u001b[A\u001b[A\u001b[A\u001b[A\u001b[A\u001b[A\u001b[A\n",
      "\n",
      "\n",
      "\n",
      "\n",
      "\n",
      "\n",
      "\n",
      " 47%|████▋     | 592/1261 [00:42<00:41, 16.07it/s]"
     ]
    },
    {
     "name": "stdout",
     "output_type": "stream",
     "text": [
      "1183.74289908\n",
      "(array([ -6.72526377e-05,   1.02999931e-01,   3.78549046e+02]), array([  1.38741830e-04,  -8.84685941e-02,   9.67264055e+02])) (2442.0244208920781, 1183.7428990828603)\n",
      "1260.94401734\n",
      "(array([ -7.82861134e-05,   1.18428600e-01,   3.69710846e+02]), array([  1.30243531e-04,  -9.71854468e-02,   9.75113727e+02])) (2097.8707883771363, 1260.9440173377113)\n",
      "1514.58831058\n",
      "(array([ -1.36205835e-04,   1.77939277e-01,   3.55091315e+02]), array([  1.08431131e-04,  -8.28013217e-02,   9.71458154e+02])) (1205.789399343422, 1514.5883105778394)\n",
      "1980.43770587\n",
      "(array([ -1.32567111e-04,   1.81383563e-01,   3.49632446e+02]), array([  8.29246814e-05,  -6.90839572e-02,   9.70622898e+02])) (1238.9071251736789, 1980.4377058659077)\n"
     ]
    },
    {
     "name": "stderr",
     "output_type": "stream",
     "text": [
      "\u001b[A\u001b[A\u001b[A\u001b[A\u001b[A\u001b[A\u001b[A\u001b[A\n",
      "\n",
      "\n",
      "\n",
      "\n",
      "\n",
      "\n",
      "\n",
      " 47%|████▋     | 594/1261 [00:42<00:41, 16.11it/s]\u001b[A\u001b[A\u001b[A\u001b[A\u001b[A\u001b[A\u001b[A\u001b[A\n",
      "\n",
      "\n",
      "\n",
      "\n",
      "\n",
      "\n",
      "\n",
      " 47%|████▋     | 596/1261 [00:42<00:40, 16.44it/s]"
     ]
    },
    {
     "name": "stdout",
     "output_type": "stream",
     "text": [
      "1854.30672838\n",
      "(array([ -1.00504375e-04,   1.51967507e-01,   3.53772222e+02]), array([  8.85650513e-05,  -8.16958231e-02,   9.76058623e+02])) (1634.1470788819227, 1854.3067283842356)\n",
      "1206.0764122\n",
      "(array([  5.14451352e-05,  -1.72755984e-03,   3.91102161e+02]), array([  1.36166407e-04,  -1.21128355e-01,   9.80643088e+02])) (3192.4443543213511, 1206.0764122013406)\n",
      "1337.87967246\n",
      "(array([  7.47161127e-05,  -1.73632297e-02,   3.89975606e+02]), array([  1.22751595e-04,  -1.23732070e-01,   9.89235754e+02])) (2198.1663293927609, 1337.8796724568167)\n",
      "1377.85069016\n",
      "(array([  6.18598040e-05,   4.93384234e-04,   3.82568853e+02]), array([  1.19191055e-04,  -1.28189500e-01,   9.93988982e+02])) (2655.0511029580593, 1377.8506901632354)\n"
     ]
    },
    {
     "name": "stderr",
     "output_type": "stream",
     "text": [
      "\u001b[A\u001b[A\u001b[A\u001b[A\u001b[A\u001b[A\u001b[A\u001b[A\n",
      "\n",
      "\n",
      "\n",
      "\n",
      "\n",
      "\n",
      "\n",
      " 47%|████▋     | 598/1261 [00:42<00:39, 16.61it/s]\u001b[A\u001b[A\u001b[A\u001b[A\u001b[A\u001b[A\u001b[A\u001b[A\n",
      "\n",
      "\n",
      "\n",
      "\n",
      "\n",
      "\n",
      "\n",
      " 48%|████▊     | 600/1261 [00:42<00:39, 16.71it/s]"
     ]
    },
    {
     "name": "stdout",
     "output_type": "stream",
     "text": [
      "1700.31412571\n",
      "(array([  6.49126400e-05,  -2.66720627e-03,   3.81316102e+02]), array([  9.65868705e-05,  -1.10786824e-01,   9.91936691e+02])) (2530.1825920322408, 1700.314125713307)\n",
      "2043.95465302\n",
      "(array([  1.63199594e-05,   4.38982506e-02,   3.69674443e+02]), array([  8.03483499e-05,  -9.75779137e-02,   9.89875403e+02])) (10063.799096403442, 2043.9546530222606)\n",
      "1389.97705858\n",
      "(array([ -2.59627596e-05,   7.77210781e-02,   3.63709771e+02]), array([  1.18153717e-04,  -1.46090378e-01,   1.00419064e+03])) (6325.8983152146493, 1389.9770585828326)\n",
      "6109.49344707\n",
      "(array([  1.82379531e-05,   2.95681176e-02,   3.72622048e+02]), array([  2.68818549e-05,  -7.01348976e-02,   9.94116398e+02])) (9005.1505011521003, 6109.493447067638)\n"
     ]
    },
    {
     "name": "stderr",
     "output_type": "stream",
     "text": [
      "\u001b[A\u001b[A\u001b[A\u001b[A\u001b[A\u001b[A\u001b[A\u001b[A\n",
      "\n",
      "\n",
      "\n",
      "\n",
      "\n",
      "\n",
      "\n",
      " 48%|████▊     | 602/1261 [00:43<00:39, 16.54it/s]\u001b[A\u001b[A\u001b[A\u001b[A\u001b[A\u001b[A\u001b[A\u001b[A\n",
      "\n",
      "\n",
      "\n",
      "\n",
      "\n",
      "\n",
      "\n",
      " 48%|████▊     | 604/1261 [00:43<00:40, 16.31it/s]"
     ]
    },
    {
     "name": "stdout",
     "output_type": "stream",
     "text": [
      "1811.9128778\n",
      "(array([  1.69561819e-05,   3.51238520e-02,   3.67673692e+02]), array([  9.06417091e-05,  -1.32366620e-01,   1.01397264e+03])) (9685.9778031748901, 1811.9128778007857)\n",
      "1710.67554692\n",
      "(array([  2.98558926e-05,   1.72422604e-02,   3.72842481e+02]), array([  9.60048920e-05,  -1.32639727e-01,   1.01333429e+03])) (5500.9268244949244, 1710.6755469199059)\n",
      "1333.95572385\n",
      "(array([  1.11147691e-04,  -5.77895356e-02,   3.88774047e+02]), array([  1.23114620e-04,  -1.44409246e-01,   1.01125751e+03])) (1477.6394327386886, 1333.9557238488712)\n",
      "780.921813131\n",
      "(array([  1.35474909e-04,  -1.03199645e-01,   4.09454715e+02]), array([  2.10298762e-04,  -1.95456152e-01,   1.00634703e+03])) (1212.2509426935858, 780.92181313078561)\n"
     ]
    },
    {
     "name": "stderr",
     "output_type": "stream",
     "text": [
      "\u001b[A\u001b[A\u001b[A\u001b[A\u001b[A\u001b[A\u001b[A\u001b[A\n",
      "\n",
      "\n",
      "\n",
      "\n",
      "\n",
      "\n",
      "\n",
      " 48%|████▊     | 606/1261 [00:43<00:40, 16.15it/s]\u001b[A\u001b[A\u001b[A\u001b[A\u001b[A\u001b[A\u001b[A\u001b[A\n",
      "\n",
      "\n",
      "\n",
      "\n",
      "\n",
      "\n",
      "\n",
      " 48%|████▊     | 608/1261 [00:43<00:40, 16.21it/s]"
     ]
    },
    {
     "name": "stdout",
     "output_type": "stream",
     "text": [
      "681.320375572\n",
      "(array([  1.22429893e-04,  -1.22920892e-01,   4.28035046e+02]), array([  2.41043753e-04,  -2.13340006e-01,   9.98261315e+02])) (1341.3949645945711, 681.32037557231774)\n",
      "1056.93763146\n",
      "(array([  1.44854217e-04,  -1.61692362e-01,   4.43925757e+02]), array([  1.55379904e-04,  -1.43191879e-01,   9.82226777e+02])) (1133.7519948967899, 1056.937631462599)\n",
      "1101.60425995\n",
      "(array([  1.63938575e-04,  -1.70491026e-01,   4.38610927e+02]), array([  1.49079607e-04,  -1.43994978e-01,   9.84969623e+02])) (1001.7618347365042, 1101.6042599499847)\n"
     ]
    },
    {
     "name": "stderr",
     "output_type": "stream",
     "text": [
      "\u001b[A\u001b[A\u001b[A\u001b[A\u001b[A\u001b[A\u001b[A\u001b[A\n",
      "\n",
      "\n",
      "\n",
      "\n",
      "\n",
      "\n",
      "\n",
      " 48%|████▊     | 610/1261 [00:43<00:42, 15.34it/s]\u001b[A\u001b[A\u001b[A\u001b[A\u001b[A\u001b[A\u001b[A\u001b[A"
     ]
    },
    {
     "name": "stdout",
     "output_type": "stream",
     "text": [
      "1476.240234\n",
      "(array([  1.94665189e-04,  -1.89743730e-01,   4.36677810e+02]), array([  1.11246828e-04,  -1.15732127e-01,   9.81091434e+02])) (843.63701854534202, 1476.2402339986074)\n",
      "1887.1476769\n",
      "(array([  2.08471626e-04,  -2.01026892e-01,   4.36753179e+02]), array([  8.70241243e-05,  -9.63215771e-02,   9.77602902e+02])) (787.76538227939568, 1887.1476769025589)\n",
      "759.883431575\n",
      "(array([  1.96054525e-04,  -1.88943662e-01,   4.31465948e+02]), array([  2.16123046e-04,  -2.27536706e-01,   1.00575987e+03])) (837.65844847478331, 759.88343157532063)\n"
     ]
    },
    {
     "name": "stderr",
     "output_type": "stream",
     "text": [
      "\n",
      "\n",
      "\n",
      "\n",
      "\n",
      "\n",
      "\n",
      "\n",
      " 49%|████▊     | 612/1261 [00:43<00:43, 15.06it/s]\u001b[A\u001b[A\u001b[A\u001b[A\u001b[A\u001b[A\u001b[A\u001b[A\n",
      "\n",
      "\n",
      "\n",
      "\n",
      "\n",
      "\n",
      "\n",
      " 49%|████▊     | 614/1261 [00:43<00:43, 15.04it/s]"
     ]
    },
    {
     "name": "stdout",
     "output_type": "stream",
     "text": [
      "683.025768632\n",
      "(array([  2.05063539e-04,  -2.14294167e-01,   4.45547824e+02]), array([  2.40441599e-04,  -2.47340930e-01,   1.00552858e+03])) (800.86363785099002, 683.02576863234526)\n",
      "652.216859226\n",
      "(array([  2.11795568e-04,  -2.27619700e-01,   4.50051337e+02]), array([  2.51801939e-04,  -2.68035757e-01,   1.01228298e+03])) (775.41314055914552, 652.21685922570271)\n",
      "232.721821676\n",
      "(array([  3.57132929e-04,  -3.66038016e-01,   4.80927286e+02]), array([  7.05714829e-04,  -7.23828985e-01,   1.11674811e+03])) (459.85358781141377, 232.72182167616549)\n",
      "625.61379252\n",
      "(array([  3.73984877e-04,  -3.84352154e-01,   4.83697539e+02]), array([  2.62513802e-04,  -2.89357493e-01,   1.01795357e+03])) (439.13345030861188, 625.61379251977826)\n"
     ]
    },
    {
     "name": "stderr",
     "output_type": "stream",
     "text": [
      "\u001b[A\u001b[A\u001b[A\u001b[A\u001b[A\u001b[A\u001b[A\u001b[A\n",
      "\n",
      "\n",
      "\n",
      "\n",
      "\n",
      "\n",
      "\n",
      " 49%|████▉     | 616/1261 [00:43<00:42, 15.21it/s]\u001b[A\u001b[A\u001b[A\u001b[A\u001b[A\u001b[A\u001b[A\u001b[A\n",
      "\n",
      "\n",
      "\n",
      "\n",
      "\n",
      "\n",
      "\n",
      " 49%|████▉     | 618/1261 [00:44<00:41, 15.59it/s]"
     ]
    },
    {
     "name": "stdout",
     "output_type": "stream",
     "text": [
      "634.169209956\n",
      "(array([  3.72245276e-04,  -4.11237858e-01,   5.01110185e+02]), array([  2.58973601e-04,  -2.88660265e-01,   1.01647033e+03])) (441.20972604073688, 634.16920995552744)\n",
      "679.779173447\n",
      "(array([  3.93439392e-04,  -4.59390305e-01,   5.23266548e+02]), array([  2.41603702e-04,  -2.83253176e-01,   1.01639008e+03])) (417.4802641786095, 679.77917344745606)\n",
      "822.670319027\n",
      "(array([  3.54671223e-04,  -4.27734355e-01,   5.18338178e+02]), array([  1.99650913e-04,  -2.62964917e-01,   1.01759679e+03])) (463.12442463788858, 822.67031902737244)\n",
      "533.306645396\n",
      "(array([  3.48853187e-04,  -4.61440669e-01,   5.43604219e+02]), array([  3.07959130e-04,  -3.45673360e-01,   1.02757121e+03])) (470.94369879096928, 533.30664539618999)\n"
     ]
    },
    {
     "name": "stderr",
     "output_type": "stream",
     "text": [
      "\u001b[A\u001b[A\u001b[A\u001b[A\u001b[A\u001b[A\u001b[A\u001b[A\n",
      "\n",
      "\n",
      "\n",
      "\n",
      "\n",
      "\n",
      "\n",
      " 49%|████▉     | 620/1261 [00:44<00:40, 15.77it/s]\u001b[A\u001b[A\u001b[A\u001b[A\u001b[A\u001b[A\u001b[A\u001b[A\n",
      "\n",
      "\n",
      "\n",
      "\n",
      "\n",
      "\n",
      "\n",
      " 49%|████▉     | 622/1261 [00:44<00:40, 15.80it/s]"
     ]
    },
    {
     "name": "stdout",
     "output_type": "stream",
     "text": [
      "686.537999535\n",
      "(array([  3.32151666e-04,  -4.47317441e-01,   5.41081257e+02]), array([  2.39240188e-04,  -3.02023460e-01,   1.02580138e+03])) (494.62988758419937, 686.53799953457542)\n",
      "565.233937939\n",
      "(array([  3.45220092e-04,  -4.79716604e-01,   5.57507765e+02]), array([  2.90586713e-04,  -3.54709306e-01,   1.03934255e+03])) (475.96860901829092, 565.23393793904995)\n",
      "937.865717401\n",
      "(array([  3.66881158e-04,  -4.86545909e-01,   5.53479472e+02]), array([  1.75145687e-04,  -2.63972134e-01,   1.02980760e+03])) (447.82424093744044, 937.86571740122497)\n",
      "1184.82145225\n",
      "(array([  3.02359604e-04,  -4.35930947e-01,   5.48843512e+02]), array([  1.38644463e-04,  -2.36280845e-01,   1.03022906e+03])) (543.42857873692503, 1184.8214522517885)\n"
     ]
    },
    {
     "name": "stderr",
     "output_type": "stream",
     "text": [
      "\u001b[A\u001b[A\u001b[A\u001b[A\u001b[A\u001b[A\u001b[A\u001b[A\n",
      "\n",
      "\n",
      "\n",
      "\n",
      "\n",
      "\n",
      "\n",
      " 49%|████▉     | 624/1261 [00:44<00:41, 15.35it/s]\u001b[A\u001b[A\u001b[A\u001b[A\u001b[A\u001b[A\u001b[A\u001b[A\n",
      "\n",
      "\n",
      "\n",
      "\n",
      "\n",
      "\n",
      "\n",
      " 50%|████▉     | 626/1261 [00:44<00:42, 14.93it/s]"
     ]
    },
    {
     "name": "stdout",
     "output_type": "stream",
     "text": [
      "842.282489929\n",
      "(array([  3.35735929e-04,  -4.71730065e-01,   5.60585153e+02]), array([  1.95041039e-04,  -3.02780876e-01,   1.05131518e+03])) (489.41811851863275, 842.28248992871636)\n",
      "911.97018891\n",
      "(array([  3.73801607e-04,  -5.59930591e-01,   6.09460180e+02]), array([  1.80116921e-04,  -2.66246941e-01,   1.03148151e+03])) (439.770830593423, 911.97018891043729)\n",
      "764.122950171\n",
      "(array([  2.97244176e-04,  -4.97777645e-01,   6.03708557e+02]), array([  2.14984215e-04,  -3.16012544e-01,   1.05032412e+03])) (553.09962469355662, 764.12295017075121)\n"
     ]
    },
    {
     "name": "stderr",
     "output_type": "stream",
     "text": [
      "\u001b[A\u001b[A\u001b[A\u001b[A\u001b[A\u001b[A\u001b[A\u001b[A\n",
      "\n",
      "\n",
      "\n",
      "\n",
      "\n",
      "\n",
      "\n",
      " 50%|████▉     | 628/1261 [00:44<00:42, 14.84it/s]\u001b[A\u001b[A\u001b[A\u001b[A\u001b[A\u001b[A\u001b[A\u001b[A\n",
      "\n",
      "\n",
      "\n",
      "\n",
      "\n",
      "\n",
      "\n",
      " 50%|████▉     | 630/1261 [00:44<00:41, 15.12it/s]"
     ]
    },
    {
     "name": "stdout",
     "output_type": "stream",
     "text": [
      "821.458217103\n",
      "(array([  2.95063029e-04,  -4.98292028e-01,   6.06466218e+02]), array([  1.99984200e-04,  -3.06443518e-01,   1.05218557e+03])) (557.20319990428015, 821.45821710256996)\n",
      "1112.05483236\n",
      "(array([  2.88411611e-04,  -5.20813475e-01,   6.28384920e+02]), array([  1.47713051e-04,  -2.40075267e-01,   1.03070099e+03])) (570.23599385149464, 1112.0548323592582)\n",
      "802.333840685\n",
      "(array([  2.59076632e-04,  -4.86089418e-01,   6.17219182e+02]), array([  2.04722829e-04,  -2.82543024e-01,   1.04399495e+03])) (634.75487123304026, 802.33384068532553)\n",
      "909.84036309\n",
      "(array([  2.28428749e-04,  -4.18030749e-01,   5.81305511e+02]), array([  1.80554146e-04,  -2.84191644e-01,   1.06222565e+03])) (719.62627456148732, 909.84036309014857)\n"
     ]
    },
    {
     "name": "stderr",
     "output_type": "stream",
     "text": [
      "\u001b[A\u001b[A\u001b[A\u001b[A\u001b[A\u001b[A\u001b[A\u001b[A\n",
      "\n",
      "\n",
      "\n",
      "\n",
      "\n",
      "\n",
      "\n",
      " 50%|█████     | 632/1261 [00:44<00:41, 15.20it/s]\u001b[A\u001b[A\u001b[A\u001b[A\u001b[A\u001b[A\u001b[A\u001b[A"
     ]
    },
    {
     "name": "stdout",
     "output_type": "stream",
     "text": [
      "1011.72303599\n",
      "(array([  2.04864124e-04,  -3.68521034e-01,   5.54031196e+02]), array([  1.62389821e-04,  -2.85694960e-01,   1.07508900e+03])) (802.20887062574343, 1011.7230359881599)\n",
      "1085.78094192\n",
      "(array([  1.85157183e-04,  -3.27712650e-01,   5.32970157e+02]), array([  1.51324480e-04,  -2.85993705e-01,   1.08214524e+03])) (887.43997356208502, 1085.7809419158386)\n",
      "1069.84616278\n",
      "(array([  1.75849830e-04,  -3.19045555e-01,   5.29911753e+02]), array([  1.53576430e-04,  -2.86277378e-01,   1.08059876e+03])) (934.41207690422232, 1069.846162781367)\n"
     ]
    },
    {
     "name": "stderr",
     "output_type": "stream",
     "text": [
      "\n",
      "\n",
      "\n",
      "\n",
      "\n",
      "\n",
      "\n",
      "\n",
      " 50%|█████     | 634/1261 [00:45<00:42, 14.86it/s]\u001b[A\u001b[A\u001b[A\u001b[A\u001b[A\u001b[A\u001b[A\u001b[A\n",
      "\n",
      "\n",
      "\n",
      "\n",
      "\n",
      "\n",
      "\n",
      " 50%|█████     | 636/1261 [00:45<00:42, 14.86it/s]"
     ]
    },
    {
     "name": "stdout",
     "output_type": "stream",
     "text": [
      "1107.8148032\n",
      "(array([  2.19319103e-04,  -3.78556808e-01,   5.53425586e+02]), array([  1.48299710e-04,  -2.67308637e-01,   1.06732770e+03])) (749.31293775647089, 1107.8148031951773)\n",
      "802.40969046\n",
      "(array([  2.37326931e-04,  -4.27741695e-01,   5.83492612e+02]), array([  2.04715809e-04,  -2.95993318e-01,   1.05804357e+03])) (692.65285906511644, 802.40969045954796)\n",
      "688.646375495\n",
      "(array([  2.27913310e-04,  -4.49975765e-01,   6.08088909e+02]), array([  2.38516676e-04,  -3.11376290e-01,   1.04961573e+03])) (721.49642468899572, 688.64637549458428)\n",
      "623.224911494\n",
      "(array([  2.63846825e-04,  -5.18062782e-01,   6.44939979e+02]), array([  2.63535817e-04,  -3.15239643e-01,   1.03772587e+03])) (623.48566700989954, 623.22491149412849)\n"
     ]
    },
    {
     "name": "stderr",
     "output_type": "stream",
     "text": [
      "\u001b[A\u001b[A\u001b[A\u001b[A\u001b[A\u001b[A\u001b[A\u001b[A\n",
      "\n",
      "\n",
      "\n",
      "\n",
      "\n",
      "\n",
      "\n",
      " 51%|█████     | 638/1261 [00:45<00:42, 14.54it/s]\u001b[A\u001b[A\u001b[A\u001b[A\u001b[A\u001b[A\u001b[A\u001b[A\n",
      "\n",
      "\n",
      "\n",
      "\n",
      "\n",
      "\n",
      "\n",
      " 51%|█████     | 640/1261 [00:45<00:41, 14.86it/s]"
     ]
    },
    {
     "name": "stdout",
     "output_type": "stream",
     "text": [
      "640.75585108\n",
      "(array([  2.50636447e-04,  -5.02804420e-01,   6.43470452e+02]), array([  2.56330164e-04,  -3.14066736e-01,   1.04032657e+03])) (656.326446747658, 640.75585108043333)\n",
      "689.92722316\n",
      "(array([  2.45181621e-04,  -4.76703860e-01,   6.29032604e+02]), array([  2.38070041e-04,  -3.06799598e-01,   1.04679074e+03])) (670.75851809368669, 689.92722316026459)\n",
      "758.585633954\n",
      "(array([  1.81432257e-04,  -3.84885622e-01,   5.93103862e+02]), array([  2.16540603e-04,  -3.05607620e-01,   1.06065030e+03])) (906.13858496915702, 758.58563395413569)\n",
      "859.685454311\n",
      "(array([  1.25347035e-04,  -3.00140512e-01,   5.57832433e+02]), array([  1.91093670e-04,  -2.99857863e-01,   1.07394381e+03])) (1311.199036127404, 859.68545431149516)\n"
     ]
    },
    {
     "name": "stderr",
     "output_type": "stream",
     "text": [
      "\u001b[A\u001b[A\u001b[A\u001b[A\u001b[A\u001b[A\u001b[A\u001b[A\n",
      "\n",
      "\n",
      "\n",
      "\n",
      "\n",
      "\n",
      "\n",
      " 51%|█████     | 642/1261 [00:45<00:40, 15.11it/s]\u001b[A\u001b[A\u001b[A\u001b[A\u001b[A\u001b[A\u001b[A\u001b[A\n",
      "\n",
      "\n",
      "\n",
      "\n",
      "\n",
      "\n",
      "\n",
      " 51%|█████     | 644/1261 [00:45<00:40, 15.09it/s]"
     ]
    },
    {
     "name": "stdout",
     "output_type": "stream",
     "text": [
      "620.941332218\n",
      "(array([  1.26040944e-04,  -2.90197671e-01,   5.51611045e+02]), array([  2.64537334e-04,  -3.48501675e-01,   1.08394784e+03])) (1303.8638466126506, 620.94133221834647)\n",
      "749.375259868\n",
      "(array([  1.21653424e-04,  -2.89681699e-01,   5.56567193e+02]), array([  2.19216484e-04,  -3.21261565e-01,   1.07943666e+03])) (1350.9298621517653, 749.37525986827836)\n",
      "856.478770723\n",
      "(array([  1.36706341e-04,  -3.15687409e-01,   5.71067946e+02]), array([  1.91801437e-04,  -2.93164482e-01,   1.06947417e+03])) (1202.2969501750133, 856.47877072297229)\n"
     ]
    },
    {
     "name": "stderr",
     "output_type": "stream",
     "text": [
      "\u001b[A\u001b[A\u001b[A\u001b[A\u001b[A\u001b[A\u001b[A\u001b[A\n",
      "\n",
      "\n",
      "\n",
      "\n",
      "\n",
      "\n",
      "\n",
      " 51%|█████     | 646/1261 [00:45<00:40, 15.05it/s]\u001b[A\u001b[A\u001b[A\u001b[A\u001b[A\u001b[A\u001b[A\u001b[A"
     ]
    },
    {
     "name": "stdout",
     "output_type": "stream",
     "text": [
      "779.94498048\n",
      "(array([  1.42664863e-04,  -3.22724591e-01,   5.75539481e+02]), array([  2.10616638e-04,  -3.05928694e-01,   1.06963636e+03])) (1152.0955209324577, 779.94498048025378)\n",
      "704.698863081\n",
      "(array([  1.38200759e-04,  -3.30763683e-01,   5.85553803e+02]), array([  2.33092645e-04,  -3.15550153e-01,   1.06562001e+03])) (1189.4457806674898, 704.69886308083198)\n",
      "696.408892455\n",
      "(array([  1.14128097e-04,  -3.02683699e-01,   5.78233519e+02]), array([  2.35867403e-04,  -3.18261256e-01,   1.06668194e+03])) (1440.2640885078104, 696.40889245500205)\n"
     ]
    },
    {
     "name": "stderr",
     "output_type": "stream",
     "text": [
      "\n",
      "\n",
      "\n",
      "\n",
      "\n",
      "\n",
      "\n",
      "\n",
      " 51%|█████▏    | 648/1261 [00:46<00:44, 13.91it/s]\u001b[A\u001b[A\u001b[A\u001b[A\u001b[A\u001b[A\u001b[A\u001b[A\n",
      "\n",
      "\n",
      "\n",
      "\n",
      "\n",
      "\n",
      "\n",
      " 52%|█████▏    | 650/1261 [00:46<00:43, 13.89it/s]"
     ]
    },
    {
     "name": "stdout",
     "output_type": "stream",
     "text": [
      "722.349176644\n",
      "(array([  9.22810480e-05,  -2.76630278e-01,   5.70982666e+02]), array([  2.27398879e-04,  -3.11814105e-01,   1.06570108e+03])) (1781.1557660130688, 722.34917664419686)\n",
      "712.132070361\n",
      "(array([  1.77245353e-04,  -3.44371435e-01,   5.82592647e+02]), array([  2.30659724e-04,  -3.13303675e-01,   1.06427054e+03])) (927.22917508071089, 712.13207036065205)\n",
      "742.472176596\n",
      "(array([  1.43748190e-04,  -3.04018930e-01,   5.69312414e+02]), array([  2.21238518e-04,  -3.08626848e-01,   1.06625638e+03])) (1143.2213894197171, 742.47217659560749)\n"
     ]
    },
    {
     "name": "stderr",
     "output_type": "stream",
     "text": [
      "\u001b[A\u001b[A\u001b[A\u001b[A\u001b[A\u001b[A\u001b[A\u001b[A\n",
      "\n",
      "\n",
      "\n",
      "\n",
      "\n",
      "\n",
      "\n",
      " 52%|█████▏    | 652/1261 [00:46<00:43, 14.09it/s]\u001b[A\u001b[A\u001b[A\u001b[A\u001b[A\u001b[A\u001b[A\u001b[A"
     ]
    },
    {
     "name": "stdout",
     "output_type": "stream",
     "text": [
      "720.554769747\n",
      "(array([  2.20109369e-04,  -3.64824895e-01,   5.79553339e+02]), array([  2.27965228e-04,  -3.12411152e-01,   1.06547735e+03])) (746.53872224853546, 720.55476974679027)\n",
      "747.11969351\n",
      "(array([  2.37735861e-04,  -3.78588069e-01,   5.81666339e+02]), array([  2.19859371e-04,  -3.04404857e-01,   1.06380008e+03])) (691.17196452431187, 747.11969351014454)\n",
      "757.963037771\n",
      "(array([  2.49904660e-04,  -3.89793219e-01,   5.85775149e+02]), array([  2.16709204e-04,  -2.96240704e-01,   1.05951025e+03])) (657.51392618852742, 757.96303777147216)\n"
     ]
    },
    {
     "name": "stderr",
     "output_type": "stream",
     "text": [
      "\n",
      "\n",
      "\n",
      "\n",
      "\n",
      "\n",
      "\n",
      "\n",
      " 52%|█████▏    | 654/1261 [00:46<00:42, 14.19it/s]\u001b[A\u001b[A\u001b[A\u001b[A\u001b[A\u001b[A\u001b[A\u001b[A\n",
      "\n",
      "\n",
      "\n",
      "\n",
      "\n",
      "\n",
      "\n",
      " 52%|█████▏    | 656/1261 [00:46<00:41, 14.47it/s]"
     ]
    },
    {
     "name": "stdout",
     "output_type": "stream",
     "text": [
      "654.259400634\n",
      "(array([  2.60310624e-04,  -3.93440498e-01,   5.85336739e+02]), array([  2.51050701e-04,  -3.21295534e-01,   1.06397169e+03])) (631.20134199110623, 654.25940063417056)\n",
      "886.740641922\n",
      "(array([  2.61272756e-04,  -3.93766106e-01,   5.86726671e+02]), array([  1.85242824e-04,  -2.72614329e-01,   1.05588632e+03])) (628.87435592533143, 886.7406419217325)\n",
      "1096.22740469\n",
      "(array([  2.47033642e-04,  -3.78877387e-01,   5.83453887e+02]), array([  1.49848259e-04,  -2.45600336e-01,   1.05252866e+03])) (665.1173448979539, 1096.2274046912216)\n",
      "971.6949722\n",
      "(array([  2.49212585e-04,  -3.82765568e-01,   5.85658769e+02]), array([  1.69048605e-04,  -2.58832264e-01,   1.05477315e+03])) (659.31016850835294, 971.69497219952825)\n"
     ]
    },
    {
     "name": "stderr",
     "output_type": "stream",
     "text": [
      "\u001b[A\u001b[A\u001b[A\u001b[A\u001b[A\u001b[A\u001b[A\u001b[A\n",
      "\n",
      "\n",
      "\n",
      "\n",
      "\n",
      "\n",
      "\n",
      " 52%|█████▏    | 658/1261 [00:46<00:41, 14.70it/s]\u001b[A\u001b[A\u001b[A\u001b[A\u001b[A\u001b[A\u001b[A\u001b[A\n",
      "\n",
      "\n",
      "\n",
      "\n",
      "\n",
      "\n",
      "\n",
      " 52%|█████▏    | 660/1261 [00:46<00:40, 14.87it/s]"
     ]
    },
    {
     "name": "stdout",
     "output_type": "stream",
     "text": [
      "930.334747701\n",
      "(array([  2.64558883e-04,  -3.98536913e-01,   5.91115756e+02]), array([  1.76559122e-04,  -2.59843689e-01,   1.05184973e+03])) (621.06997176760649, 930.3347477006414)\n",
      "924.028270075\n",
      "(array([  2.97805334e-04,  -4.24131699e-01,   5.93200838e+02]), array([  1.77766526e-04,  -2.64035991e-01,   1.05486742e+03])) (551.71103655165155, 924.02827007524695)\n",
      "971.452337172\n",
      "(array([  2.97289801e-04,  -4.22468911e-01,   5.93046530e+02]), array([  1.69087401e-04,  -2.54419380e-01,   1.05140446e+03])) (552.66347595031118, 971.45233717177234)\n",
      "1006.73799883\n",
      "(array([  2.36831418e-04,  -3.66299553e-01,   5.79625479e+02]), array([  1.63163091e-04,  -2.51607493e-01,   1.05329993e+03])) (693.75618854583934, 1006.7379988300009)\n"
     ]
    },
    {
     "name": "stderr",
     "output_type": "stream",
     "text": [
      "\u001b[A\u001b[A\u001b[A\u001b[A\u001b[A\u001b[A\u001b[A\u001b[A\n",
      "\n",
      "\n",
      "\n",
      "\n",
      "\n",
      "\n",
      "\n",
      " 52%|█████▏    | 662/1261 [00:47<00:39, 15.03it/s]\u001b[A\u001b[A\u001b[A\u001b[A\u001b[A\u001b[A\u001b[A\u001b[A\n",
      "\n",
      "\n",
      "\n",
      "\n",
      "\n",
      "\n",
      "\n",
      " 53%|█████▎    | 664/1261 [00:47<00:39, 15.12it/s]"
     ]
    },
    {
     "name": "stdout",
     "output_type": "stream",
     "text": [
      "1116.7379743\n",
      "(array([  2.03355793e-04,  -3.31875479e-01,   5.69776271e+02]), array([  1.47092519e-04,  -2.37914230e-01,   1.05255407e+03])) (807.94729334758233, 1116.7379743044332)\n",
      "1044.5499382\n",
      "(array([  2.17704459e-04,  -3.46074424e-01,   5.72575665e+02]), array([  1.57256437e-04,  -2.45561628e-01,   1.05385434e+03])) (754.69847526344404, 1044.5499381954585)\n",
      "1097.72172391\n",
      "(array([  2.02506023e-04,  -3.35502663e-01,   5.71045332e+02]), array([  1.49637173e-04,  -2.35231374e-01,   1.05123275e+03])) (811.36182186296912, 1097.7217239138515)\n",
      "1095.04682593\n",
      "(array([  2.08265737e-04,  -3.41701890e-01,   5.73765419e+02]), array([  1.49998202e-04,  -2.28531009e-01,   1.04716746e+03])) (788.92672740304931, 1095.0468259306649)\n"
     ]
    },
    {
     "name": "stderr",
     "output_type": "stream",
     "text": [
      "\u001b[A\u001b[A\u001b[A\u001b[A\u001b[A\u001b[A\u001b[A\u001b[A\n",
      "\n",
      "\n",
      "\n",
      "\n",
      "\n",
      "\n",
      "\n",
      " 53%|█████▎    | 666/1261 [00:47<00:39, 15.24it/s]\u001b[A\u001b[A\u001b[A\u001b[A\u001b[A\u001b[A\u001b[A\u001b[A\n",
      "\n",
      "\n",
      "\n",
      "\n",
      "\n",
      "\n",
      "\n",
      " 53%|█████▎    | 668/1261 [00:47<00:40, 14.62it/s]"
     ]
    },
    {
     "name": "stdout",
     "output_type": "stream",
     "text": [
      "1081.3475759\n",
      "(array([  2.65717318e-04,  -4.01735974e-01,   5.89959827e+02]), array([  1.51894699e-04,  -2.24010059e-01,   1.04299860e+03])) (618.37139237456915, 1081.3475759045782)\n",
      "954.066794764\n",
      "(array([  1.99856613e-04,  -3.53259512e-01,   5.84595742e+02]), array([  1.72150737e-04,  -2.29925717e-01,   1.04099401e+03])) (822.23951019730714, 954.06679476374643)\n",
      "1041.3310886\n",
      "(array([  1.92073459e-04,  -3.39771271e-01,   5.78046536e+02]), array([  1.57729849e-04,  -2.26367853e-01,   1.04513290e+03])) (855.51875577175315, 1041.3310886034305)\n"
     ]
    },
    {
     "name": "stderr",
     "output_type": "stream",
     "text": [
      "\u001b[A\u001b[A\u001b[A\u001b[A\u001b[A\u001b[A\u001b[A\u001b[A\n",
      "\n",
      "\n",
      "\n",
      "\n",
      "\n",
      "\n",
      "\n",
      " 53%|█████▎    | 670/1261 [00:47<00:40, 14.66it/s]\u001b[A\u001b[A\u001b[A\u001b[A\u001b[A\u001b[A\u001b[A\u001b[A\n",
      "\n",
      "\n",
      "\n",
      "\n",
      "\n",
      "\n",
      "\n",
      " 53%|█████▎    | 672/1261 [00:47<00:39, 14.95it/s]"
     ]
    },
    {
     "name": "stdout",
     "output_type": "stream",
     "text": [
      "1025.02747856\n",
      "(array([  1.72125362e-04,  -3.20404763e-01,   5.73377738e+02]), array([  1.60236326e-04,  -2.24694707e-01,   1.04531466e+03])) (954.66570527423653, 1025.0274785624201)\n",
      "1028.91547011\n",
      "(array([  1.45420367e-04,  -2.96537730e-01,   5.68552239e+02]), array([  1.59632608e-04,  -2.27288476e-01,   1.04727647e+03])) (1129.9955666373157, 1028.9154701112318)\n",
      "1085.93527059\n",
      "(array([  1.14549021e-04,  -2.66709866e-01,   5.61384899e+02]), array([  1.51252228e-04,  -2.22034555e-01,   1.04781213e+03])) (1434.5310860867289, 1085.9352705867414)\n",
      "911.51198753\n",
      "(array([  1.58550578e-04,  -3.10286481e-01,   5.73645872e+02]), array([  1.80190624e-04,  -2.42552124e-01,   1.04828812e+03])) (1036.4251015032148, 911.51198753029644)\n"
     ]
    },
    {
     "name": "stderr",
     "output_type": "stream",
     "text": [
      "\u001b[A\u001b[A\u001b[A\u001b[A\u001b[A\u001b[A\u001b[A\u001b[A\n",
      "\n",
      "\n",
      "\n",
      "\n",
      "\n",
      "\n",
      "\n",
      " 53%|█████▎    | 674/1261 [00:47<00:38, 15.20it/s]\u001b[A\u001b[A\u001b[A\u001b[A\u001b[A\u001b[A\u001b[A\u001b[A"
     ]
    },
    {
     "name": "stdout",
     "output_type": "stream",
     "text": [
      "897.708668779\n",
      "(array([  1.66072307e-04,  -3.12262816e-01,   5.72149404e+02]), array([  1.82961622e-04,  -2.45791454e-01,   1.04934201e+03])) (989.44451400282674, 897.70866877871117)\n",
      "932.339086432\n",
      "(array([  1.37970696e-04,  -2.91179070e-01,   5.70539344e+02]), array([  1.76164583e-04,  -2.37245552e-01,   1.04632277e+03])) (1191.0254787711121, 932.33908643182406)\n",
      "920.450262971\n",
      "(array([  1.43242769e-04,  -2.95886792e-01,   5.72488305e+02]), array([  1.78440051e-04,  -2.39550270e-01,   1.04634862e+03])) (1147.1864938738363, 920.45026297070115)\n",
      "934.704921731\n",
      "(array([  1.72734754e-04,  -3.24562056e-01,   5.80234696e+02]), array([  1.75716572e-04,  -2.33041000e-01,   1.04285476e+03])) (951.32347626969795, 934.70492173095761)\n"
     ]
    },
    {
     "name": "stderr",
     "output_type": "stream",
     "text": [
      "\n",
      "\n",
      "\n",
      "\n",
      "\n",
      "\n",
      "\n",
      "\n",
      " 54%|█████▎    | 676/1261 [00:47<00:38, 15.33it/s]\u001b[A\u001b[A\u001b[A\u001b[A\u001b[A\u001b[A\u001b[A\u001b[A\n",
      "\n",
      "\n",
      "\n",
      "\n",
      "\n",
      "\n",
      "\n",
      " 54%|█████▍    | 678/1261 [00:48<00:38, 15.25it/s]\u001b[A\u001b[A\u001b[A\u001b[A\u001b[A\u001b[A\u001b[A\u001b[A"
     ]
    },
    {
     "name": "stdout",
     "output_type": "stream",
     "text": [
      "940.72722124\n",
      "(array([  1.99003733e-04,  -3.45020217e-01,   5.83759700e+02]), array([  1.74590814e-04,  -2.30345923e-01,   1.04167937e+03])) (825.71679405884765, 940.72722124015365)\n",
      "963.031789243\n",
      "(array([  1.78018845e-04,  -3.22016897e-01,   5.77396056e+02]), array([  1.70548614e-04,  -2.29230817e-01,   1.04357482e+03])) (923.03298997361014, 963.0317892433967)\n",
      "655.871371588\n",
      "(array([  1.55088792e-04,  -3.01313642e-01,   5.74698316e+02]), array([  2.50404047e-04,  -2.79675467e-01,   1.04820000e+03])) (1059.5146216644157, 655.8713715875208)\n"
     ]
    },
    {
     "name": "stderr",
     "output_type": "stream",
     "text": [
      "\n",
      "\n",
      "\n",
      "\n",
      "\n",
      "\n",
      "\n",
      "\n",
      " 54%|█████▍    | 680/1261 [00:48<00:40, 14.44it/s]\u001b[A\u001b[A\u001b[A\u001b[A\u001b[A\u001b[A\u001b[A\u001b[A\n",
      "\n",
      "\n",
      "\n",
      "\n",
      "\n",
      "\n",
      "\n",
      " 54%|█████▍    | 682/1261 [00:48<00:39, 14.75it/s]"
     ]
    },
    {
     "name": "stdout",
     "output_type": "stream",
     "text": [
      "892.114448951\n",
      "(array([  1.61971177e-04,  -3.06472848e-01,   5.75227133e+02]), array([  1.84102229e-04,  -2.35162920e-01,   1.04246947e+03])) (1014.4835902988336, 892.11444895113141)\n",
      "877.666487432\n",
      "(array([  1.27208309e-04,  -2.75815451e-01,   5.70078289e+02]), array([  1.87130906e-04,  -2.34198511e-01,   1.04039369e+03])) (1291.7425212681353, 877.66648743163091)\n",
      "825.858674038\n",
      "(array([  1.41440128e-04,  -2.84339160e-01,   5.70034733e+02]), array([  1.98870701e-04,  -2.46767568e-01,   1.04373421e+03])) (1161.7228106677526, 825.85867403757868)\n"
     ]
    },
    {
     "name": "stderr",
     "output_type": "stream",
     "text": [
      "\u001b[A\u001b[A\u001b[A\u001b[A\u001b[A\u001b[A\u001b[A\u001b[A\n",
      "\n",
      "\n",
      "\n",
      "\n",
      "\n",
      "\n",
      "\n",
      " 54%|█████▍    | 684/1261 [00:48<00:40, 14.38it/s]\u001b[A\u001b[A\u001b[A\u001b[A\u001b[A\u001b[A\u001b[A\u001b[A"
     ]
    },
    {
     "name": "stdout",
     "output_type": "stream",
     "text": [
      "817.768636185\n",
      "(array([  1.88426094e-04,  -3.20437322e-01,   5.75270979e+02]), array([  2.00838040e-04,  -2.48559503e-01,   1.04406595e+03])) (871.98078016327884, 817.7686361854669)\n",
      "849.683086473\n",
      "(array([  1.90493164e-04,  -3.12789207e-01,   5.69688584e+02]), array([  1.93296346e-04,  -2.44797389e-01,   1.04486737e+03])) (862.46475948465286, 849.68308647262415)\n",
      "884.8031078\n",
      "(array([  2.04144956e-04,  -3.22189969e-01,   5.70789375e+02]), array([  1.85624197e-04,  -2.37921651e-01,   1.04323832e+03])) (804.77069855646653, 884.80310780029879)\n"
     ]
    },
    {
     "name": "stderr",
     "output_type": "stream",
     "text": [
      "\n",
      "\n",
      "\n",
      "\n",
      "\n",
      "\n",
      "\n",
      "\n",
      " 54%|█████▍    | 686/1261 [00:48<00:40, 14.34it/s]\u001b[A\u001b[A\u001b[A\u001b[A\u001b[A\u001b[A\u001b[A\u001b[A\n",
      "\n",
      "\n",
      "\n",
      "\n",
      "\n",
      "\n",
      "\n",
      " 55%|█████▍    | 688/1261 [00:48<00:40, 14.22it/s]"
     ]
    },
    {
     "name": "stdout",
     "output_type": "stream",
     "text": [
      "853.991075618\n",
      "(array([  2.19655791e-04,  -3.39543374e-01,   5.76581874e+02]), array([  1.92318998e-04,  -2.39600721e-01,   1.04013737e+03])) (747.95372706832131, 853.9910756181273)\n",
      "867.994885349\n",
      "(array([  2.27296010e-04,  -3.45502283e-01,   5.77247504e+02]), array([  1.89216605e-04,  -2.37392558e-01,   1.03950013e+03])) (722.80622574856795, 867.99488534946693)\n",
      "890.049514219\n",
      "(array([  2.29059595e-04,  -3.42736290e-01,   5.74058304e+02]), array([  1.84529833e-04,  -2.36493282e-01,   1.04129769e+03])) (717.22186324240329, 890.0495142192666)\n"
     ]
    },
    {
     "name": "stderr",
     "output_type": "stream",
     "text": [
      "\u001b[A\u001b[A\u001b[A\u001b[A\u001b[A\u001b[A\u001b[A\u001b[A\n",
      "\n",
      "\n",
      "\n",
      "\n",
      "\n",
      "\n",
      "\n",
      " 55%|█████▍    | 690/1261 [00:48<00:39, 14.28it/s]\u001b[A\u001b[A\u001b[A\u001b[A\u001b[A\u001b[A\u001b[A\u001b[A"
     ]
    },
    {
     "name": "stdout",
     "output_type": "stream",
     "text": [
      "905.330486416\n",
      "(array([  2.21563475e-04,  -3.19852835e-01,   5.61741130e+02]), array([  1.81419640e-04,  -2.41553769e-01,   1.04718519e+03])) (741.42294749565417, 905.33048641603807)\n",
      "904.917652715\n",
      "(array([  2.41520091e-04,  -3.42133337e-01,   5.67811052e+02]), array([  1.81501439e-04,  -2.39974565e-01,   1.04576163e+03])) (680.17089481715857, 904.91765271462884)\n",
      "893.92150233\n",
      "(array([  2.51630924e-04,  -3.51724555e-01,   5.69916313e+02]), array([  1.83732990e-04,  -2.40198465e-01,   1.04460626e+03])) (652.84040964369183, 893.92150233004202)\n"
     ]
    },
    {
     "name": "stderr",
     "output_type": "stream",
     "text": [
      "\n",
      "\n",
      "\n",
      "\n",
      "\n",
      "\n",
      "\n",
      "\n",
      " 55%|█████▍    | 692/1261 [00:49<00:39, 14.39it/s]\u001b[A\u001b[A\u001b[A\u001b[A\u001b[A\u001b[A\u001b[A\u001b[A\n",
      "\n",
      "\n",
      "\n",
      "\n",
      "\n",
      "\n",
      "\n",
      " 55%|█████▌    | 694/1261 [00:49<00:38, 14.58it/s]"
     ]
    },
    {
     "name": "stdout",
     "output_type": "stream",
     "text": [
      "766.945828911\n",
      "(array([  2.03416611e-04,  -3.19664612e-01,   5.68591544e+02]), array([  2.14142783e-04,  -2.53718900e-01,   1.04284604e+03])) (807.64330538461547, 766.94582891103369)\n",
      "884.080718238\n",
      "(array([  2.28457178e-04,  -3.37226553e-01,   5.69978249e+02]), array([  1.85773939e-04,  -2.34339832e-01,   1.03981204e+03])) (719.09249643557803, 884.080718238023)\n",
      "910.168465842\n",
      "(array([  2.44790905e-04,  -3.53364584e-01,   5.72865383e+02]), array([  1.80450096e-04,  -2.31067369e-01,   1.03928713e+03])) (671.11264282807474, 910.16846584161169)\n"
     ]
    },
    {
     "name": "stderr",
     "output_type": "stream",
     "text": [
      "\u001b[A\u001b[A\u001b[A\u001b[A\u001b[A\u001b[A\u001b[A\u001b[A\n",
      "\n",
      "\n",
      "\n",
      "\n",
      "\n",
      "\n",
      "\n",
      " 55%|█████▌    | 696/1261 [00:49<00:38, 14.63it/s]\u001b[A\u001b[A\u001b[A\u001b[A\u001b[A\u001b[A\u001b[A\u001b[A"
     ]
    },
    {
     "name": "stdout",
     "output_type": "stream",
     "text": [
      "886.242506091\n",
      "(array([  2.44648453e-04,  -3.55686431e-01,   5.73904598e+02]), array([  1.85320835e-04,  -2.34003836e-01,   1.03926935e+03])) (671.51294309938567, 886.24250609140927)\n",
      "905.335701738\n",
      "(array([  2.48211188e-04,  -3.57056465e-01,   5.73003124e+02]), array([  1.81413930e-04,  -2.33115997e-01,   1.03992558e+03])) (661.86643694477561, 905.33570173796465)\n",
      "832.392000109\n",
      "(array([  2.41499217e-04,  -3.60310031e-01,   5.77867110e+02]), array([  1.97309025e-04,  -2.43805987e-01,   1.03924042e+03])) (680.30100681504655, 832.39200010857348)\n"
     ]
    },
    {
     "name": "stderr",
     "output_type": "stream",
     "text": [
      "\n",
      "\n",
      "\n",
      "\n",
      "\n",
      "\n",
      "\n",
      "\n",
      " 55%|█████▌    | 698/1261 [00:49<00:40, 14.03it/s]\u001b[A\u001b[A\u001b[A\u001b[A\u001b[A\u001b[A\u001b[A\u001b[A\n",
      "\n",
      "\n",
      "\n",
      "\n",
      "\n",
      "\n",
      "\n",
      " 56%|█████▌    | 700/1261 [00:49<00:40, 13.75it/s]"
     ]
    },
    {
     "name": "stdout",
     "output_type": "stream",
     "text": [
      "846.195667969\n",
      "(array([  2.63272658e-04,  -3.84258537e-01,   5.85017026e+02]), array([  1.94089480e-04,  -2.38883023e-01,   1.03625642e+03])) (624.0499938655156, 846.19566796947015)\n",
      "862.523219497\n",
      "(array([  2.82165942e-04,  -4.02880169e-01,   5.89960873e+02]), array([  1.90416679e-04,  -2.38001988e-01,   1.03656470e+03])) (582.26660953248313, 862.52321949744044)\n",
      "848.201502272\n",
      "(array([  2.25730209e-04,  -3.70681799e-01,   5.91138895e+02]), array([  1.93628215e-04,  -2.33573602e-01,   1.03134807e+03])) (727.95187643017096, 848.2015022722029)\n"
     ]
    },
    {
     "name": "stderr",
     "output_type": "stream",
     "text": [
      "\u001b[A\u001b[A\u001b[A\u001b[A\u001b[A\u001b[A\u001b[A\u001b[A\n",
      "\n",
      "\n",
      "\n",
      "\n",
      "\n",
      "\n",
      "\n",
      " 56%|█████▌    | 702/1261 [00:49<00:41, 13.48it/s]\u001b[A\u001b[A\u001b[A\u001b[A\u001b[A\u001b[A\u001b[A\u001b[A"
     ]
    },
    {
     "name": "stdout",
     "output_type": "stream",
     "text": [
      "838.193435551\n",
      "(array([  2.63889586e-04,  -4.03408115e-01,   5.97279407e+02]), array([  1.95939848e-04,  -2.35130748e-01,   1.03066459e+03])) (622.66958765736081, 838.19343555083981)\n",
      "933.425454889\n",
      "(array([  2.58300575e-04,  -3.92576144e-01,   5.92212631e+02]), array([  1.75951019e-04,  -2.20213087e-01,   1.03012777e+03])) (636.11795061344276, 933.42545488868564)\n",
      "813.975848497\n",
      "(array([  2.14309704e-04,  -3.61625805e-01,   5.88252952e+02]), array([  2.01769189e-04,  -2.40058140e-01,   1.03357115e+03])) (766.75516948435927, 813.97584849729355)\n"
     ]
    },
    {
     "name": "stderr",
     "output_type": "stream",
     "text": [
      "\n",
      "\n",
      "\n",
      "\n",
      "\n",
      "\n",
      "\n",
      "\n",
      " 56%|█████▌    | 704/1261 [00:49<00:40, 13.62it/s]\u001b[A\u001b[A\u001b[A\u001b[A\u001b[A\u001b[A\u001b[A\u001b[A\n",
      "\n",
      "\n",
      "\n",
      "\n",
      "\n",
      "\n",
      "\n",
      " 56%|█████▌    | 706/1261 [00:50<00:41, 13.53it/s]"
     ]
    },
    {
     "name": "stdout",
     "output_type": "stream",
     "text": [
      "680.86371237\n",
      "(array([  2.34985713e-04,  -3.80282376e-01,   5.91820680e+02]), array([  2.41209420e-04,  -2.63382156e-01,   1.03596414e+03])) (699.28338369385744, 680.86371236965817)\n",
      "659.90406999\n",
      "(array([  2.12313799e-04,  -3.68568527e-01,   5.92790399e+02]), array([  2.48870037e-04,  -2.69148935e-01,   1.03537525e+03])) (774.01627587304858, 659.90406998989886)\n",
      "644.826844482\n",
      "(array([  2.51329120e-04,  -3.95394029e-01,   5.94562487e+02]), array([  2.54691030e-04,  -2.79611097e-01,   1.03939249e+03])) (653.80763211247836, 644.8268444820867)\n"
     ]
    },
    {
     "name": "stderr",
     "output_type": "stream",
     "text": [
      "\u001b[A\u001b[A\u001b[A\u001b[A\u001b[A\u001b[A\u001b[A\u001b[A\n",
      "\n",
      "\n",
      "\n",
      "\n",
      "\n",
      "\n",
      "\n",
      " 56%|█████▌    | 708/1261 [00:50<00:39, 13.91it/s]\u001b[A\u001b[A\u001b[A\u001b[A\u001b[A\u001b[A\u001b[A\u001b[A"
     ]
    },
    {
     "name": "stdout",
     "output_type": "stream",
     "text": [
      "674.681047955\n",
      "(array([  2.52508904e-04,  -3.92270179e-01,   5.91566126e+02]), array([  2.43423895e-04,  -2.74987170e-01,   1.04014382e+03])) (650.73256403305334, 674.68104795548606)\n",
      "653.434385358\n",
      "(array([  2.57151593e-04,  -3.96191652e-01,   5.91713259e+02]), array([  2.51339196e-04,  -2.83145322e-01,   1.04129359e+03])) (638.98158049773542, 653.43438535809605)\n",
      "647.521942424\n",
      "(array([  2.36122557e-04,  -3.80691803e-01,   5.90247870e+02]), array([  2.53633854e-04,  -2.84778995e-01,   1.03956846e+03])) (695.9130549606075, 647.52194242416954)\n",
      "646.910073392\n"
     ]
    },
    {
     "name": "stderr",
     "output_type": "stream",
     "text": [
      "\n",
      "\n",
      "\n",
      "\n",
      "\n",
      "\n",
      "\n",
      "\n",
      " 56%|█████▋    | 710/1261 [00:50<00:38, 14.17it/s]\u001b[A\u001b[A\u001b[A\u001b[A\u001b[A\u001b[A\u001b[A\u001b[A\n",
      "\n",
      "\n",
      "\n",
      "\n",
      "\n",
      "\n",
      "\n",
      " 56%|█████▋    | 712/1261 [00:50<00:39, 13.75it/s]"
     ]
    },
    {
     "name": "stdout",
     "output_type": "stream",
     "text": [
      "(array([  2.42857521e-04,  -3.89518266e-01,   5.93455531e+02]), array([  2.53874531e-04,  -2.86528470e-01,   1.03946194e+03])) (676.62584687316041, 646.91007339224552)\n",
      "674.789229991\n",
      "(array([  2.46546010e-04,  -3.91259829e-01,   5.93469245e+02]), array([  2.43387989e-04,  -2.80946037e-01,   1.03990166e+03])) (666.49408396513411, 674.78922999092799)\n",
      "697.134188568\n",
      "(array([  2.43932294e-04,  -3.88708415e-01,   5.91702537e+02]), array([  2.35590254e-04,  -2.79541813e-01,   1.04196540e+03])) (673.63530547945675, 697.1341885675281)\n"
     ]
    },
    {
     "name": "stderr",
     "output_type": "stream",
     "text": [
      "\u001b[A\u001b[A\u001b[A\u001b[A\u001b[A\u001b[A\u001b[A\u001b[A\n",
      "\n",
      "\n",
      "\n",
      "\n",
      "\n",
      "\n",
      "\n",
      " 57%|█████▋    | 714/1261 [00:50<00:39, 13.78it/s]\u001b[A\u001b[A\u001b[A\u001b[A\u001b[A\u001b[A\u001b[A\u001b[A"
     ]
    },
    {
     "name": "stdout",
     "output_type": "stream",
     "text": [
      "740.231175735\n",
      "(array([  2.18643106e-04,  -3.57218924e-01,   5.81657258e+02]), array([  2.21877735e-04,  -2.72619249e-01,   1.04297115e+03])) (751.51133953253952, 740.23117573512593)\n",
      "709.786274082\n",
      "(array([  2.22919175e-04,  -3.66346436e-01,   5.87155029e+02]), array([  2.31392921e-04,  -2.78943204e-01,   1.04173600e+03])) (737.12250743933294, 709.78627408185366)\n",
      "732.107190674\n",
      "(array([  2.00576677e-04,  -3.60703478e-01,   5.92130732e+02]), array([  2.24337722e-04,  -2.71589888e-01,   1.03928763e+03])) (819.33168700912461, 732.10719067363959)\n"
     ]
    },
    {
     "name": "stderr",
     "output_type": "stream",
     "text": [
      "\n",
      "\n",
      "\n",
      "\n",
      "\n",
      "\n",
      "\n",
      "\n",
      " 57%|█████▋    | 716/1261 [00:50<00:39, 13.90it/s]\u001b[A\u001b[A\u001b[A\u001b[A\u001b[A\u001b[A\u001b[A\u001b[A\n",
      "\n",
      "\n",
      "\n",
      "\n",
      "\n",
      "\n",
      "\n",
      " 57%|█████▋    | 718/1261 [00:50<00:42, 12.90it/s]"
     ]
    },
    {
     "name": "stdout",
     "output_type": "stream",
     "text": [
      "718.624571265\n",
      "(array([  1.94721566e-04,  -3.51797768e-01,   5.89591517e+02]), array([  2.28545978e-04,  -2.74488140e-01,   1.04107690e+03])) (843.94601566045264, 718.6245712653207)\n",
      "754.691847372\n",
      "(array([  2.00128968e-04,  -3.47405644e-01,   5.84511312e+02]), array([  2.17629938e-04,  -2.74048235e-01,   1.04577395e+03])) (821.08215677390911, 754.69184737210981)\n",
      "861.822568621\n",
      "(array([  1.79653119e-04,  -3.24591574e-01,   5.77780445e+02]), array([  1.90583485e-04,  -2.58165581e-01,   1.04761149e+03])) (914.64304983114073, 861.82256862100201)\n"
     ]
    },
    {
     "name": "stderr",
     "output_type": "stream",
     "text": [
      "\u001b[A\u001b[A\u001b[A\u001b[A\u001b[A\u001b[A\u001b[A\u001b[A\n",
      "\n",
      "\n",
      "\n",
      "\n",
      "\n",
      "\n",
      "\n",
      " 57%|█████▋    | 720/1261 [00:51<00:46, 11.55it/s]"
     ]
    },
    {
     "name": "stdout",
     "output_type": "stream",
     "text": [
      "821.833792286\n",
      "(array([  1.91354990e-04,  -3.39310954e-01,   5.82805843e+02]), array([  1.99858915e-04,  -2.69806536e-01,   1.05186043e+03])) (858.73239828973635, 821.83379228561762)\n",
      "832.883989805\n",
      "(array([  1.81250685e-04,  -3.26639099e-01,   5.78934417e+02]), array([  1.97211459e-04,  -2.72671357e-01,   1.05536057e+03])) (906.58469764232359, 832.88398980455895)\n",
      "809.556959917\n",
      "(array([  2.16894943e-04,  -3.57820677e-01,   5.86026958e+02]), array([  2.02895174e-04,  -2.79527865e-01,   1.05902298e+03])) (757.5808611196536, 809.55695991713139)\n"
     ]
    },
    {
     "name": "stderr",
     "output_type": "stream",
     "text": [
      "\u001b[A\u001b[A\u001b[A\u001b[A\u001b[A\u001b[A\u001b[A\u001b[A\n",
      "\n",
      "\n",
      "\n",
      "\n",
      "\n",
      "\n",
      "\n",
      " 57%|█████▋    | 722/1261 [00:51<00:44, 12.12it/s]\u001b[A\u001b[A\u001b[A\u001b[A\u001b[A\u001b[A\u001b[A\u001b[A\n",
      "\n",
      "\n",
      "\n",
      "\n",
      "\n",
      "\n",
      "\n",
      " 57%|█████▋    | 724/1261 [00:51<00:43, 12.38it/s]"
     ]
    },
    {
     "name": "stdout",
     "output_type": "stream",
     "text": [
      "795.627932299\n",
      "(array([  2.21086297e-04,  -3.63479545e-01,   5.87661552e+02]), array([  2.06452744e-04,  -2.89214002e-01,   1.06455661e+03])) (743.22746529048993, 795.62793229878844)\n",
      "836.57793\n",
      "(array([  1.96680712e-04,  -3.41917938e-01,   5.84330759e+02]), array([  1.96348861e-04,  -2.81642489e-01,   1.06535022e+03])) (835.46404031307975, 836.57793000048935)\n",
      "833.380560618\n",
      "(array([  2.01001733e-04,  -3.41541181e-01,   5.82909314e+02]), array([  1.97105605e-04,  -2.86158801e-01,   1.06833851e+03])) (817.47678063918011, 833.38056061814189)\n"
     ]
    },
    {
     "name": "stderr",
     "output_type": "stream",
     "text": [
      "\u001b[A\u001b[A\u001b[A\u001b[A\u001b[A\u001b[A\u001b[A\u001b[A\n",
      "\n",
      "\n",
      "\n",
      "\n",
      "\n",
      "\n",
      "\n",
      " 58%|█████▊    | 726/1261 [00:51<00:41, 12.90it/s]\u001b[A\u001b[A\u001b[A\u001b[A\u001b[A\u001b[A\u001b[A\u001b[A"
     ]
    },
    {
     "name": "stdout",
     "output_type": "stream",
     "text": [
      "892.472779865\n",
      "(array([  1.80683967e-04,  -3.17103962e-01,   5.74886953e+02]), array([  1.84062793e-04,  -2.82415430e-01,   1.07321361e+03])) (909.36975566190154, 892.47277986517531)\n",
      "858.380883821\n",
      "(array([  1.66950091e-04,  -3.11259877e-01,   5.77749517e+02]), array([  1.91370903e-04,  -2.87130175e-01,   1.07322902e+03])) (984.22893415541864, 858.38088382083993)\n",
      "908.22590156\n",
      "(array([  1.52212157e-04,  -3.05682828e-01,   5.80028288e+02]), array([  1.80868658e-04,  -2.77626507e-01,   1.07249951e+03])) (1079.5961840788054, 908.22590156005276)\n"
     ]
    },
    {
     "name": "stderr",
     "output_type": "stream",
     "text": [
      "\n",
      "\n",
      "\n",
      "\n",
      "\n",
      "\n",
      "\n",
      "\n",
      " 58%|█████▊    | 728/1261 [00:51<00:42, 12.64it/s]\u001b[A\u001b[A\u001b[A\u001b[A\u001b[A\u001b[A\u001b[A\u001b[A\n",
      "\n",
      "\n",
      "\n",
      "\n",
      "\n",
      "\n",
      "\n",
      " 58%|█████▊    | 730/1261 [00:51<00:40, 13.14it/s]"
     ]
    },
    {
     "name": "stdout",
     "output_type": "stream",
     "text": [
      "689.170763235\n",
      "(array([  1.75391880e-04,  -3.28328303e-01,   5.86928181e+02]), array([  2.38337456e-04,  -3.13562050e-01,   1.07706670e+03])) (936.9200114444825, 689.17076323481342)\n",
      "615.096487804\n",
      "(array([  1.78227755e-04,  -3.33856045e-01,   5.90117449e+02]), array([  2.67038156e-04,  -3.39651758e-01,   1.08305570e+03])) (922.03232604534969, 615.09648780355315)\n",
      "848.78066344\n",
      "(array([  1.95700242e-04,  -3.48015528e-01,   5.93497435e+02]), array([  1.93532822e-04,  -2.86477249e-01,   1.07624803e+03])) (839.69443676995081, 848.78066344030913)\n"
     ]
    },
    {
     "name": "stderr",
     "output_type": "stream",
     "text": [
      "\u001b[A\u001b[A\u001b[A\u001b[A\u001b[A\u001b[A\u001b[A\u001b[A\n",
      "\n",
      "\n",
      "\n",
      "\n",
      "\n",
      "\n",
      "\n",
      " 58%|█████▊    | 732/1261 [00:52<00:43, 12.03it/s]\u001b[A\u001b[A\u001b[A\u001b[A\u001b[A\u001b[A\u001b[A\u001b[A"
     ]
    },
    {
     "name": "stdout",
     "output_type": "stream",
     "text": [
      "948.256326445\n",
      "(array([  2.27282769e-04,  -3.81820324e-01,   6.04133400e+02]), array([  1.73232282e-04,  -2.69084254e-01,   1.07239434e+03])) (723.03272377470978, 948.25632644485734)\n",
      "815.7318999\n",
      "(array([  2.15373522e-04,  -3.77750372e-01,   6.07672998e+02]), array([  2.01369216e-04,  -2.89353745e-01,   1.07316252e+03])) (763.0587426618988, 815.73189989997206)\n"
     ]
    },
    {
     "name": "stderr",
     "output_type": "stream",
     "text": [
      "\n",
      "\n",
      "\n",
      "\n",
      "\n",
      "\n",
      "\n",
      "\n",
      " 58%|█████▊    | 734/1261 [00:52<00:44, 11.91it/s]\u001b[A\u001b[A\u001b[A\u001b[A\u001b[A\u001b[A\u001b[A\u001b[A"
     ]
    },
    {
     "name": "stdout",
     "output_type": "stream",
     "text": [
      "712.711234219\n",
      "(array([  2.93247597e-04,  -4.53713657e-01,   6.27366277e+02]), array([  2.30466175e-04,  -3.06931031e-01,   1.07289671e+03])) (560.42842107027764, 712.71123421905872)\n",
      "693.278444264\n",
      "(array([  2.91464269e-04,  -4.55524987e-01,   6.29009868e+02]), array([  2.36928777e-04,  -3.15718725e-01,   1.07559947e+03])) (563.87408535130339, 693.27844426418119)\n",
      "728.152221776\n",
      "(array([  2.85743030e-04,  -4.49313349e-01,   6.27613598e+02]), array([  2.25585678e-04,  -3.09151084e-01,   1.07657335e+03])) (575.16065402792026, 728.15222177627413)\n"
     ]
    },
    {
     "name": "stderr",
     "output_type": "stream",
     "text": [
      "\n",
      "\n",
      "\n",
      "\n",
      "\n",
      "\n",
      "\n",
      "\n",
      " 58%|█████▊    | 736/1261 [00:52<00:49, 10.62it/s]\u001b[A\u001b[A\u001b[A\u001b[A\u001b[A\u001b[A\u001b[A\u001b[A\n",
      "\n",
      "\n",
      "\n",
      "\n",
      "\n",
      "\n",
      "\n",
      " 59%|█████▊    | 738/1261 [00:52<00:45, 11.47it/s]"
     ]
    },
    {
     "name": "stdout",
     "output_type": "stream",
     "text": [
      "769.507142268\n",
      "(array([  2.78643260e-04,  -4.45828517e-01,   6.28805844e+02]), array([  2.13464593e-04,  -2.99957030e-01,   1.07579892e+03])) (589.83237073367388, 769.50714226839034)\n",
      "818.377720298\n",
      "(array([  2.64576006e-04,  -4.31629510e-01,   6.25696087e+02]), array([  2.00721858e-04,  -2.92599041e-01,   1.07652334e+03])) (621.18949031316913, 818.37772029784287)\n",
      "843.858970519\n",
      "(array([  2.73643807e-04,  -4.43213861e-01,   6.30447356e+02]), array([  1.94658024e-04,  -2.83731108e-01,   1.07349924e+03])) (600.61992841660663, 843.85897051854784)\n"
     ]
    },
    {
     "name": "stderr",
     "output_type": "stream",
     "text": [
      "\u001b[A\u001b[A\u001b[A\u001b[A\u001b[A\u001b[A\u001b[A\u001b[A\n",
      "\n",
      "\n",
      "\n",
      "\n",
      "\n",
      "\n",
      "\n",
      " 59%|█████▊    | 740/1261 [00:52<00:42, 12.22it/s]\u001b[A\u001b[A\u001b[A\u001b[A\u001b[A\u001b[A\u001b[A\u001b[A"
     ]
    },
    {
     "name": "stdout",
     "output_type": "stream",
     "text": [
      "878.480690605\n",
      "(array([  2.17874402e-04,  -3.93604402e-01,   6.20572590e+02]), array([  1.86991622e-04,  -2.82197606e-01,   1.07660555e+03])) (754.38697027694707, 878.48069060453554)\n",
      "612.604403619\n",
      "(array([  2.39262718e-04,  -4.21857077e-01,   6.31373011e+02]), array([  2.68111923e-04,  -3.28090807e-01,   1.07865555e+03])) (686.99854556875505, 612.60440361934536)\n",
      "628.94490862\n",
      "(array([  2.12683204e-04,  -4.02355180e-01,   6.29769324e+02]), array([  2.61151842e-04,  -3.27525352e-01,   1.07984945e+03])) (772.89812011473896, 628.9449086202128)\n"
     ]
    },
    {
     "name": "stderr",
     "output_type": "stream",
     "text": [
      "\n",
      "\n",
      "\n",
      "\n",
      "\n",
      "\n",
      "\n",
      "\n",
      " 59%|█████▉    | 742/1261 [00:52<00:40, 12.83it/s]\u001b[A\u001b[A\u001b[A\u001b[A\u001b[A\u001b[A\u001b[A\u001b[A\n",
      "\n",
      "\n",
      "\n",
      "\n",
      "\n",
      "\n",
      "\n",
      " 59%|█████▉    | 744/1261 [00:53<00:39, 13.20it/s]"
     ]
    },
    {
     "name": "stdout",
     "output_type": "stream",
     "text": [
      "624.252335519\n",
      "(array([  2.16560087e-04,  -4.08135097e-01,   6.33245966e+02]), array([  2.63113934e-04,  -3.28361696e-01,   1.07858867e+03])) (759.07662798151728, 624.25233551875976)\n",
      "599.96126358\n",
      "(array([  2.26409527e-04,  -4.13087001e-01,   6.34011475e+02]), array([  2.73768662e-04,  -3.40407091e-01,   1.08164697e+03])) (726.02346331783724, 599.9612635799441)\n",
      "590.196016529\n",
      "(array([  2.44960779e-04,  -4.30705916e-01,   6.38911687e+02]), array([  2.78297692e-04,  -3.44096170e-01,   1.08150302e+03])) (671.03939771944135, 590.19601652924177)\n"
     ]
    },
    {
     "name": "stderr",
     "output_type": "stream",
     "text": [
      "\u001b[A\u001b[A\u001b[A\u001b[A\u001b[A\u001b[A\u001b[A\u001b[A\n",
      "\n",
      "\n",
      "\n",
      "\n",
      "\n",
      "\n",
      "\n",
      " 59%|█████▉    | 746/1261 [00:53<00:38, 13.51it/s]\u001b[A\u001b[A\u001b[A\u001b[A\u001b[A\u001b[A\u001b[A\u001b[A"
     ]
    },
    {
     "name": "stdout",
     "output_type": "stream",
     "text": [
      "615.883491073\n",
      "(array([  2.30435783e-04,  -4.11626752e-01,   6.33467299e+02]), array([  2.66699432e-04,  -3.41634120e-01,   1.08479556e+03])) (713.30273576467755, 615.88349107297279)\n",
      "624.107554985\n",
      "(array([  2.19564723e-04,  -3.99696622e-01,   6.30426725e+02]), array([  2.63192041e-04,  -3.44471901e-01,   1.08861204e+03])) (748.60945178382008, 624.10755498456354)\n",
      "663.193851422\n",
      "(array([  2.39531584e-04,  -4.08585228e-01,   6.29867659e+02]), array([  2.47687626e-04,  -3.35920987e-01,   1.09078040e+03])) (686.144359836641, 663.19385142215947)\n"
     ]
    },
    {
     "name": "stderr",
     "output_type": "stream",
     "text": [
      "\n",
      "\n",
      "\n",
      "\n",
      "\n",
      "\n",
      "\n",
      "\n",
      " 59%|█████▉    | 748/1261 [00:53<00:37, 13.86it/s]\u001b[A\u001b[A\u001b[A\u001b[A\u001b[A\u001b[A\u001b[A\u001b[A\n",
      "\n",
      "\n",
      "\n",
      "\n",
      "\n",
      "\n",
      "\n",
      " 59%|█████▉    | 750/1261 [00:53<00:36, 14.00it/s]"
     ]
    },
    {
     "name": "stdout",
     "output_type": "stream",
     "text": [
      "667.480230716\n",
      "(array([  2.32944004e-04,  -3.94579225e-01,   6.24318677e+02]), array([  2.46105337e-04,  -3.41275681e-01,   1.09557212e+03])) (705.50258332517967, 667.48023071633008)\n",
      "699.19589666\n",
      "(array([  2.00478133e-04,  -3.62595447e-01,   6.17348551e+02]), array([  2.34954521e-04,  -3.40644140e-01,   1.10090644e+03])) (819.74771612969471, 699.19589666043407)\n",
      "707.691229128\n",
      "(array([  2.01004859e-04,  -3.74875514e-01,   6.25187349e+02]), array([  2.32135412e-04,  -3.38982218e-01,   1.10152944e+03])) (817.68136940899478, 707.69122912799082)\n"
     ]
    },
    {
     "name": "stderr",
     "output_type": "stream",
     "text": [
      "\u001b[A\u001b[A\u001b[A\u001b[A\u001b[A\u001b[A\u001b[A\u001b[A\n",
      "\n",
      "\n",
      "\n",
      "\n",
      "\n",
      "\n",
      "\n",
      " 60%|█████▉    | 752/1261 [00:53<00:35, 14.26it/s]\u001b[A\u001b[A\u001b[A\u001b[A\u001b[A\u001b[A\u001b[A\u001b[A"
     ]
    },
    {
     "name": "stdout",
     "output_type": "stream",
     "text": [
      "706.273039459\n",
      "(array([  1.63060396e-04,  -3.40782393e-01,   6.19528879e+02]), array([  2.32607351e-04,  -3.43811624e-01,   1.10600157e+03])) (1007.9781528943083, 706.27303945931408)\n",
      "547.838670334\n",
      "(array([  1.75590980e-04,  -3.50898055e-01,   6.21504093e+02]), array([  2.99849549e-04,  -3.91335105e-01,   1.11595000e+03])) (936.03062525342023, 547.83867033408262)\n",
      "568.337204981\n",
      "(array([  1.72301590e-04,  -3.51903974e-01,   6.24996235e+02]), array([  2.89040637e-04,  -3.84986732e-01,   1.11595211e+03])) (953.93562081856192, 568.33720498125842)\n",
      "779.513735723\n",
      "(array([  2.01163657e-04,  -3.80263398e-01,   6.35041324e+02]), array([  2.10757517e-04,  -3.27031024e-01,   1.10586512e+03])) (817.07398418292075, 779.51373572296666)\n"
     ]
    },
    {
     "name": "stderr",
     "output_type": "stream",
     "text": [
      "\n",
      "\n",
      "\n",
      "\n",
      "\n",
      "\n",
      "\n",
      "\n",
      " 60%|█████▉    | 754/1261 [00:53<00:35, 14.43it/s]\u001b[A\u001b[A\u001b[A\u001b[A\u001b[A\u001b[A\u001b[A\u001b[A\n",
      "\n",
      "\n",
      "\n",
      "\n",
      "\n",
      "\n",
      "\n",
      " 60%|█████▉    | 756/1261 [00:53<00:34, 14.57it/s]\u001b[A\u001b[A\u001b[A\u001b[A\u001b[A\u001b[A\u001b[A\u001b[A"
     ]
    },
    {
     "name": "stdout",
     "output_type": "stream",
     "text": [
      "789.348198421\n",
      "(array([  2.02006785e-04,  -3.86630754e-01,   6.40368886e+02]), array([  2.08132732e-04,  -3.25335442e-01,   1.10693420e+03])) (813.70515275316495, 789.34819842139882)\n",
      "852.428151724\n",
      "(array([  1.45941553e-04,  -3.34128051e-01,   6.28727272e+02]), array([  1.92742698e-04,  -3.20332072e-01,   1.11228146e+03])) (1126.3138113454604, 852.42815172446194)\n",
      "864.490157227\n",
      "(array([  1.50301279e-04,  -3.26489196e-01,   6.24181833e+02]), array([  1.90056231e-04,  -3.20007903e-01,   1.11514401e+03])) (1093.525931834801, 864.49015722714182)\n",
      "855.117255438"
     ]
    },
    {
     "name": "stderr",
     "output_type": "stream",
     "text": [
      "\n",
      "\n",
      "\n",
      "\n",
      "\n",
      "\n",
      "\n",
      "\n",
      " 60%|██████    | 758/1261 [00:54<00:34, 14.70it/s]\u001b[A\u001b[A\u001b[A\u001b[A\u001b[A\u001b[A\u001b[A\u001b[A\n",
      "\n",
      "\n",
      "\n",
      "\n",
      "\n",
      "\n",
      "\n",
      " 60%|██████    | 760/1261 [00:54<00:33, 14.86it/s]"
     ]
    },
    {
     "name": "stdout",
     "output_type": "stream",
     "text": [
      "\n",
      "(array([  2.04835556e-04,  -3.68103195e-01,   6.30167847e+02]), array([  1.92139426e-04,  -3.22005970e-01,   1.11686631e+03])) (802.31815976606242, 855.11725543812724)\n",
      "877.924485639\n",
      "(array([  1.85130045e-04,  -3.44906041e-01,   6.23808672e+02]), array([  1.87151604e-04,  -3.20153721e-01,   1.11851722e+03])) (887.68702466905961, 877.92448563851508)\n",
      "912.057287256\n",
      "(array([  1.92355981e-04,  -3.47733463e-01,   6.23503265e+02]), array([  1.80146498e-04,  -3.12483232e-01,   1.11709569e+03])) (854.31270151888816, 912.05728725563131)\n",
      "904.306744538\n",
      "(array([  1.74164792e-04,  -3.31816734e-01,   6.20633440e+02]), array([  1.81690027e-04,  -3.13594873e-01,   1.11684690e+03])) (943.55561583750386, 904.30674453787253)\n"
     ]
    },
    {
     "name": "stderr",
     "output_type": "stream",
     "text": [
      "\u001b[A\u001b[A\u001b[A\u001b[A\u001b[A\u001b[A\u001b[A\u001b[A\n",
      "\n",
      "\n",
      "\n",
      "\n",
      "\n",
      "\n",
      "\n",
      " 60%|██████    | 762/1261 [00:54<00:33, 14.87it/s]\u001b[A\u001b[A\u001b[A\u001b[A\u001b[A\u001b[A\u001b[A\u001b[A\n",
      "\n",
      "\n",
      "\n",
      "\n",
      "\n",
      "\n",
      "\n",
      " 61%|██████    | 764/1261 [00:54<00:33, 14.82it/s]"
     ]
    },
    {
     "name": "stdout",
     "output_type": "stream",
     "text": [
      "879.853967462\n",
      "(array([  1.64681050e-04,  -3.18115260e-01,   6.14721388e+02]), array([  1.86734905e-04,  -3.14699939e-01,   1.11906086e+03])) (997.85767630498947, 879.85396746178571)\n",
      "822.654542378\n",
      "(array([  1.75401992e-04,  -3.25423248e-01,   6.15120143e+02]), array([  1.99703597e-04,  -3.15089614e-01,   1.11687962e+03])) (936.84511102392889, 822.65454237810911)\n",
      "712.167362493\n",
      "(array([  2.12571259e-04,  -3.52371175e-01,   6.17956928e+02]), array([  2.30674732e-04,  -3.36292422e-01,   1.12116769e+03])) (772.98278551923158, 712.16736249269877)\n"
     ]
    },
    {
     "name": "stderr",
     "output_type": "stream",
     "text": [
      "\u001b[A\u001b[A\u001b[A\u001b[A\u001b[A\u001b[A\u001b[A\u001b[A\n",
      "\n",
      "\n",
      "\n",
      "\n",
      "\n",
      "\n",
      "\n",
      " 61%|██████    | 766/1261 [00:54<00:32, 15.00it/s]\u001b[A\u001b[A\u001b[A\u001b[A\u001b[A\u001b[A\u001b[A\u001b[A\n",
      "\n",
      "\n",
      "\n",
      "\n",
      "\n",
      "\n",
      "\n",
      " 61%|██████    | 768/1261 [00:54<00:32, 15.26it/s]"
     ]
    },
    {
     "name": "stdout",
     "output_type": "stream",
     "text": [
      "813.483901473\n",
      "(array([  2.68287612e-04,  -3.98521276e-01,   6.25889579e+02]), array([  2.01954312e-04,  -3.16748731e-01,   1.11841811e+03])) (612.42301407870571, 813.48390147254668)\n",
      "1440.30900525\n",
      "(array([  2.61877119e-04,  -3.92398689e-01,   6.25379605e+02]), array([  1.14073538e-04,  -2.46515497e-01,   1.10395522e+03])) (627.41465951471787, 1440.3090052463569)\n",
      "1340.82383606\n",
      "(array([  2.52387631e-04,  -3.83533516e-01,   6.22940073e+02]), array([  1.22533540e-04,  -2.49714127e-01,   1.10468419e+03])) (651.00582141061557, 1340.8238360554342)\n",
      "1117.49781957\n",
      "(array([  2.76702602e-04,  -4.08500793e-01,   6.29431751e+02]), array([  1.47013322e-04,  -2.64502229e-01,   1.10524386e+03])) (593.80593580779612, 1117.4978195716669)\n"
     ]
    },
    {
     "name": "stderr",
     "output_type": "stream",
     "text": [
      "\u001b[A\u001b[A\u001b[A\u001b[A\u001b[A\u001b[A\u001b[A\u001b[A\n",
      "\n",
      "\n",
      "\n",
      "\n",
      "\n",
      "\n",
      "\n",
      " 61%|██████    | 770/1261 [00:54<00:31, 15.41it/s]\u001b[A\u001b[A\u001b[A\u001b[A\u001b[A\u001b[A\u001b[A\u001b[A\n",
      "\n",
      "\n",
      "\n",
      "\n",
      "\n",
      "\n",
      "\n",
      " 61%|██████    | 772/1261 [00:54<00:31, 15.58it/s]"
     ]
    },
    {
     "name": "stdout",
     "output_type": "stream",
     "text": [
      "1004.90899326\n",
      "(array([  2.42146608e-04,  -3.83266893e-01,   6.28094378e+02]), array([  1.63473341e-04,  -2.68226355e-01,   1.10165465e+03])) (678.58432677468534, 1004.9089932564463)\n",
      "1019.18644824\n",
      "(array([  2.97906385e-04,  -4.33265606e-01,   6.39266859e+02]), array([  1.61179227e-04,  -2.61221500e-01,   1.09856136e+03])) (551.55823541383143, 1019.1864482449402)\n",
      "1103.39673838\n",
      "(array([  2.75487133e-04,  -4.17666532e-01,   6.37601252e+02]), array([  1.48879048e-04,  -2.50558114e-01,   1.09814927e+03])) (596.46987847258765, 1103.3967383752251)\n",
      "1093.93384621\n",
      "(array([  2.41046358e-04,  -3.79641173e-01,   6.26231338e+02]), array([  1.50169093e-04,  -2.54570749e-01,   1.10296518e+03])) (681.66906722477268, 1093.9338462125418)\n"
     ]
    },
    {
     "name": "stderr",
     "output_type": "stream",
     "text": [
      "\u001b[A\u001b[A\u001b[A\u001b[A\u001b[A\u001b[A\u001b[A\u001b[A\n",
      "\n",
      "\n",
      "\n",
      "\n",
      "\n",
      "\n",
      "\n",
      " 61%|██████▏   | 774/1261 [00:55<00:31, 15.67it/s]\u001b[A\u001b[A\u001b[A\u001b[A\u001b[A\u001b[A\u001b[A\u001b[A\n",
      "\n",
      "\n",
      "\n",
      "\n",
      "\n",
      "\n",
      "\n",
      " 62%|██████▏   | 776/1261 [00:55<00:30, 15.83it/s]"
     ]
    },
    {
     "name": "stdout",
     "output_type": "stream",
     "text": [
      "1215.34321473\n",
      "(array([  2.45055891e-04,  -3.82144598e-01,   6.24733688e+02]), array([  1.35171733e-04,  -2.45737674e-01,   1.10314497e+03])) (670.50937063924744, 1215.3432147315041)\n",
      "689.865737777\n",
      "(array([  2.13570235e-04,  -3.56319917e-01,   6.20491080e+02]), array([  2.38082095e-04,  -2.95854511e-01,   1.10548465e+03])) (769.38378277327365, 689.86573777680258)\n",
      "700.019375837\n",
      "(array([  2.10518360e-04,  -3.51639211e-01,   6.18339643e+02]), array([  2.34631896e-04,  -2.96534133e-01,   1.10597368e+03])) (780.52758442633626, 700.01937583713254)\n",
      "661.1240604\n",
      "(array([  1.65837300e-04,  -3.26767872e-01,   6.19462269e+02]), array([  2.48429064e-04,  -3.01432198e-01,   1.10224663e+03])) (990.95949741631603, 661.12406039983614)\n"
     ]
    },
    {
     "name": "stderr",
     "output_type": "stream",
     "text": [
      "\u001b[A\u001b[A\u001b[A\u001b[A\u001b[A\u001b[A\u001b[A\u001b[A\n",
      "\n",
      "\n",
      "\n",
      "\n",
      "\n",
      "\n",
      "\n",
      " 62%|██████▏   | 778/1261 [00:55<00:30, 15.67it/s]\u001b[A\u001b[A\u001b[A\u001b[A\u001b[A\u001b[A\u001b[A\u001b[A"
     ]
    },
    {
     "name": "stdout",
     "output_type": "stream",
     "text": [
      "1024.0444813\n",
      "(array([  2.35300695e-04,  -3.90235044e-01,   6.33442872e+02]), array([  1.60396207e-04,  -2.35156904e-01,   1.08947868e+03])) (698.39918207700146, 1024.0444812965777)\n",
      "781.226007335\n",
      "(array([  1.97814922e-04,  -3.63152220e-01,   6.31500320e+02]), array([  2.10234255e-04,  -2.60698994e-01,   1.08675774e+03])) (830.80552976135266, 781.22600733457659)\n",
      "758.253960192\n",
      "(array([  2.14283754e-04,  -3.74057559e-01,   6.32965393e+02]), array([  2.16602227e-04,  -2.64693751e-01,   1.08641367e+03])) (766.92275888794575, 758.25396019151276)\n"
     ]
    },
    {
     "name": "stderr",
     "output_type": "stream",
     "text": [
      "\n",
      "\n",
      "\n",
      "\n",
      "\n",
      "\n",
      "\n",
      "\n",
      " 62%|██████▏   | 780/1261 [00:55<00:31, 15.03it/s]\u001b[A\u001b[A\u001b[A\u001b[A\u001b[A\u001b[A\u001b[A\u001b[A\n",
      "\n",
      "\n",
      "\n",
      "\n",
      "\n",
      "\n",
      "\n",
      " 62%|██████▏   | 782/1261 [00:55<00:31, 15.03it/s]"
     ]
    },
    {
     "name": "stdout",
     "output_type": "stream",
     "text": [
      "752.445550989\n",
      "(array([  2.04892388e-04,  -3.62012445e-01,   6.28654829e+02]), array([  2.18275300e-04,  -2.68011381e-01,   1.08763217e+03])) (802.05556416501497, 752.44555098898309)\n",
      "744.662082736\n",
      "(array([  1.65275547e-04,  -3.24233639e-01,   6.19818080e+02]), array([  2.20556004e-04,  -2.68924271e-01,   1.08833212e+03])) (994.31171380565627, 744.6620827360681)\n",
      "827.98292743\n",
      "(array([  1.48126262e-04,  -2.94365616e-01,   6.06345323e+02]), array([  1.98368633e-04,  -2.59872274e-01,   1.09139776e+03])) (1109.3139228394407, 827.98292742999593)\n",
      "821.009536455\n"
     ]
    },
    {
     "name": "stderr",
     "output_type": "stream",
     "text": [
      "\u001b[A\u001b[A\u001b[A\u001b[A\u001b[A\u001b[A\u001b[A\u001b[A\n",
      "\n",
      "\n",
      "\n",
      "\n",
      "\n",
      "\n",
      "\n",
      " 62%|██████▏   | 784/1261 [00:55<00:31, 15.06it/s]\u001b[A\u001b[A\u001b[A\u001b[A\u001b[A\u001b[A\u001b[A\u001b[A\n",
      "\n",
      "\n",
      "\n",
      "\n",
      "\n",
      "\n",
      "\n",
      " 62%|██████▏   | 786/1261 [00:55<00:31, 15.02it/s]"
     ]
    },
    {
     "name": "stdout",
     "output_type": "stream",
     "text": [
      "(array([  1.68722517e-04,  -3.14006871e-01,   6.10696411e+02]), array([  2.00051169e-04,  -2.57900089e-01,   1.08777554e+03])) (973.89707854364485, 821.009536455432)\n",
      "807.552442876\n",
      "(array([  1.63743821e-04,  -2.97951843e-01,   6.02806510e+02]), array([  2.03384412e-04,  -2.60447513e-01,   1.08795653e+03])) (1003.4288650840047, 807.55244287622861)\n",
      "778.827704801\n",
      "(array([  1.65265905e-04,  -2.89252628e-01,   5.96105250e+02]), array([  2.10884218e-04,  -2.65469370e-01,   1.08978308e+03])) (994.12123397440325, 778.82770480148326)\n",
      "540.407095231\n",
      "(array([  1.63523853e-04,  -2.91823018e-01,   5.98969313e+02]), array([  3.03896659e-04,  -3.09023094e-01,   1.08991627e+03])) (1004.7391053647252, 540.40709523102532)\n"
     ]
    },
    {
     "name": "stderr",
     "output_type": "stream",
     "text": [
      "\u001b[A\u001b[A\u001b[A\u001b[A\u001b[A\u001b[A\u001b[A\u001b[A\n",
      "\n",
      "\n",
      "\n",
      "\n",
      "\n",
      "\n",
      "\n",
      " 62%|██████▏   | 788/1261 [00:56<00:31, 14.92it/s]\u001b[A\u001b[A\u001b[A\u001b[A\u001b[A\u001b[A\u001b[A\u001b[A"
     ]
    },
    {
     "name": "stdout",
     "output_type": "stream",
     "text": [
      "543.700185319\n",
      "(array([  1.28409308e-04,  -2.65286072e-01,   5.94859042e+02]), array([  3.02057718e-04,  -3.13049230e-01,   1.09127441e+03])) (1279.5543140200909, 543.70018531883181)\n",
      "557.915230354\n",
      "(array([  1.50935892e-04,  -2.83883702e-01,   5.98922469e+02]), array([  2.94363379e-04,  -3.10487318e-01,   1.08908625e+03])) (1088.5635509349538, 557.91523035364685)\n",
      "1289.50909627\n",
      "(array([  1.62643573e-04,  -2.98172263e-01,   6.04606037e+02]), array([  1.27371250e-04,  -1.92696491e-01,   1.06834339e+03])) (1010.2256424205315, 1289.5090962712002)\n",
      "1176.4537961\n",
      "(array([  1.09237025e-04,  -2.54293856e-01,   5.98093785e+02]), array([  1.39608255e-04,  -1.97422981e-01,   1.06629963e+03])) (1504.2084004327423, 1176.4537960996749)\n"
     ]
    },
    {
     "name": "stderr",
     "output_type": "stream",
     "text": [
      "\n",
      "\n",
      "\n",
      "\n",
      "\n",
      "\n",
      "\n",
      "\n",
      " 63%|██████▎   | 790/1261 [00:56<00:31, 15.04it/s]\u001b[A\u001b[A\u001b[A\u001b[A\u001b[A\u001b[A\u001b[A\u001b[A\n",
      "\n",
      "\n",
      "\n",
      "\n",
      "\n",
      "\n",
      "\n",
      " 63%|██████▎   | 792/1261 [00:56<00:31, 15.12it/s]\u001b[A\u001b[A\u001b[A\u001b[A\u001b[A\u001b[A\u001b[A\u001b[A"
     ]
    },
    {
     "name": "stdout",
     "output_type": "stream",
     "text": [
      "1113.73628243\n",
      "(array([  1.35298963e-04,  -2.69609501e-01,   5.98490397e+02]), array([  1.47468212e-04,  -2.00935936e-01,   1.06739089e+03])) (1214.3783013107977, 1113.7362824251811)\n",
      "1156.43683408\n",
      "(array([  1.32813900e-04,  -2.60855672e-01,   5.93428178e+02]), array([  1.42024755e-04,  -1.99737476e-01,   1.06919011e+03])) (1237.0484532922083, 1156.4368340830308)\n",
      "1078.34086642\n",
      "(array([  1.24337169e-04,  -2.53762251e-01,   5.93511147e+02]), array([  1.52307371e-04,  -2.02447436e-01,   1.06565819e+03])) (1321.393593773864, 1078.3408664241551)\n"
     ]
    },
    {
     "name": "stderr",
     "output_type": "stream",
     "text": [
      "\n",
      "\n",
      "\n",
      "\n",
      "\n",
      "\n",
      "\n",
      "\n",
      " 63%|██████▎   | 794/1261 [00:56<00:31, 14.72it/s]\u001b[A\u001b[A\u001b[A\u001b[A\u001b[A\u001b[A\u001b[A\u001b[A\n",
      "\n",
      "\n",
      "\n",
      "\n",
      "\n",
      "\n",
      "\n",
      " 63%|██████▎   | 796/1261 [00:56<00:31, 14.98it/s]"
     ]
    },
    {
     "name": "stdout",
     "output_type": "stream",
     "text": [
      "1068.97462356\n",
      "(array([  1.07159001e-04,  -2.40238727e-01,   5.91234447e+02]), array([  1.53640861e-04,  -2.01249474e-01,   1.06326897e+03])) (1533.2499800234409, 1068.9746235563694)\n",
      "1066.51319745\n",
      "(array([  9.69198228e-05,  -2.29183538e-01,   5.89060864e+02]), array([  1.53994295e-04,  -1.98612626e-01,   1.05912825e+03])) (1695.2177840212532, 1066.5131974521016)\n",
      "1166.13064633\n",
      "(array([  1.44942016e-04,  -2.67251410e-01,   5.96045047e+02]), array([  1.40836881e-04,  -1.78630908e-01,   1.05016737e+03])) (1133.5001089422772, 1166.1306463267947)\n",
      "1275.99833428\n",
      "(array([  1.24824738e-04,  -2.41453838e-01,   5.87118090e+02]), array([  1.28711859e-04,  -1.72232794e-01,   1.05016699e+03])) (1316.1282905179057, 1275.9983342755356)\n"
     ]
    },
    {
     "name": "stderr",
     "output_type": "stream",
     "text": [
      "\u001b[A\u001b[A\u001b[A\u001b[A\u001b[A\u001b[A\u001b[A\u001b[A\n",
      "\n",
      "\n",
      "\n",
      "\n",
      "\n",
      "\n",
      "\n",
      " 63%|██████▎   | 798/1261 [00:56<00:30, 15.07it/s]\u001b[A\u001b[A\u001b[A\u001b[A\u001b[A\u001b[A\u001b[A\u001b[A\n",
      "\n",
      "\n",
      "\n",
      "\n",
      "\n",
      "\n",
      "\n",
      " 63%|██████▎   | 800/1261 [00:56<00:30, 15.03it/s]"
     ]
    },
    {
     "name": "stdout",
     "output_type": "stream",
     "text": [
      "897.796632533\n",
      "(array([  1.40490455e-04,  -2.49652571e-01,   5.86245936e+02]), array([  1.82924410e-04,  -1.99123195e-01,   1.05142231e+03])) (1169.3246938887964, 897.79663253330011)\n",
      "757.822211451\n",
      "(array([  9.65654767e-05,  -2.04013690e-01,   5.72608646e+02]), array([  2.16711001e-04,  -2.28649463e-01,   1.05985328e+03])) (1701.1861039008083, 757.82221145140647)\n",
      "950.12160188\n",
      "(array([  7.62308698e-05,  -1.80709132e-01,   5.64638112e+02]), array([  1.72853526e-04,  -2.01953734e-01,   1.05802513e+03])) (2154.9349358908003, 950.12160187997699)\n",
      "1128.8376646\n",
      "(array([  5.95577166e-05,  -1.59020985e-01,   5.56517113e+02]), array([  1.45489748e-04,  -1.83398401e-01,   1.05599666e+03])) (2758.1287116371841, 1128.8376645962376)\n"
     ]
    },
    {
     "name": "stderr",
     "output_type": "stream",
     "text": [
      "\u001b[A\u001b[A\u001b[A\u001b[A\u001b[A\u001b[A\u001b[A\u001b[A\n",
      "\n",
      "\n",
      "\n",
      "\n",
      "\n",
      "\n",
      "\n",
      " 64%|██████▎   | 802/1261 [00:56<00:30, 15.02it/s]\u001b[A\u001b[A\u001b[A\u001b[A\u001b[A\u001b[A\u001b[A\u001b[A\n",
      "\n",
      "\n",
      "\n",
      "\n",
      "\n",
      "\n",
      "\n",
      " 64%|██████▍   | 804/1261 [00:57<00:30, 15.21it/s]"
     ]
    },
    {
     "name": "stdout",
     "output_type": "stream",
     "text": [
      "5854.4073587\n",
      "(array([  8.44108283e-05,  -1.71401911e-01,   5.54206138e+02]), array([  2.80551332e-05,  -9.69800207e-02,   1.04258106e+03])) (1945.9482227852836, 5854.4073586976865)\n",
      "3882.14033914\n",
      "(array([  7.50455467e-05,  -1.63529257e-01,   5.52465459e+02]), array([  4.23066948e-05,  -9.96138737e-02,   1.04029264e+03])) (2188.8028606011098, 3882.1403391449012)\n",
      "1868.57180058\n",
      "(array([  1.70666641e-04,  -2.51706586e-01,   5.72849506e+02]), array([  8.78907826e-05,  -1.14135750e-01,   1.03136243e+03])) (962.44546221150347, 1868.5718005814811)\n",
      "1709.40849618\n",
      "(array([  1.23296516e-04,  -2.15424697e-01,   5.69202560e+02]), array([  9.60729036e-05,  -1.08970290e-01,   1.02257452e+03])) (1332.2685750513137, 1709.4084961814262)\n"
     ]
    },
    {
     "name": "stderr",
     "output_type": "stream",
     "text": [
      "\u001b[A\u001b[A\u001b[A\u001b[A\u001b[A\u001b[A\u001b[A\u001b[A\n",
      "\n",
      "\n",
      "\n",
      "\n",
      "\n",
      "\n",
      "\n",
      " 64%|██████▍   | 806/1261 [00:57<00:29, 15.43it/s]\u001b[A\u001b[A\u001b[A\u001b[A\u001b[A\u001b[A\u001b[A\u001b[A\n",
      "\n",
      "\n",
      "\n",
      "\n",
      "\n",
      "\n",
      "\n",
      " 64%|██████▍   | 808/1261 [00:57<00:29, 15.53it/s]"
     ]
    },
    {
     "name": "stdout",
     "output_type": "stream",
     "text": [
      "1685.25573449\n",
      "(array([  1.44127965e-04,  -2.26631207e-01,   5.68114214e+02]), array([  9.74495875e-05,  -1.07300530e-01,   1.01965120e+03])) (1139.6651225811258, 1685.2557344877453)\n",
      "2015.49602831\n",
      "(array([  2.08581233e-04,  -2.72193928e-01,   5.71883522e+02]), array([  8.14824794e-05,  -9.31798878e-02,   1.01663634e+03])) (787.44981378229818, 2015.4960283124237)\n",
      "2095.49361039\n",
      "(array([  2.04181427e-04,  -2.71204928e-01,   5.72955673e+02]), array([  7.83715387e-05,  -8.43854861e-02,   1.01135775e+03])) (804.42742504515388, 2095.4936103920286)\n",
      "2269.61285156\n",
      "(array([  1.61561021e-04,  -2.25372993e-01,   5.58097831e+02]), array([  7.23595310e-05,  -8.82219533e-02,   1.01665372e+03])) (1016.6208610892244, 2269.6128515594664)\n"
     ]
    },
    {
     "name": "stderr",
     "output_type": "stream",
     "text": [
      "\u001b[A\u001b[A\u001b[A\u001b[A\u001b[A\u001b[A\u001b[A\u001b[A\n",
      "\n",
      "\n",
      "\n",
      "\n",
      "\n",
      "\n",
      "\n",
      " 64%|██████▍   | 810/1261 [00:57<00:29, 15.07it/s]\u001b[A\u001b[A\u001b[A\u001b[A\u001b[A\u001b[A\u001b[A\u001b[A\n",
      "\n",
      "\n",
      "\n",
      "\n",
      "\n",
      "\n",
      "\n",
      " 64%|██████▍   | 812/1261 [00:57<00:33, 13.55it/s]"
     ]
    },
    {
     "name": "stdout",
     "output_type": "stream",
     "text": [
      "916.439843624\n",
      "(array([  1.56772647e-04,  -2.13025498e-01,   5.50716832e+02]), array([  1.79202678e-04,  -1.51039853e-01,   1.02599416e+03])) (1047.6459218376779, 916.43984362364495)\n",
      "843.542131184\n",
      "(array([  2.05380633e-04,  -2.51020299e-01,   5.53982504e+02]), array([  1.94689893e-04,  -1.62296188e-01,   1.02755286e+03])) (799.67727218777782, 843.54213118391908)\n",
      "766.873285519\n",
      "(array([  1.95647848e-04,  -2.31563787e-01,   5.42591400e+02]), array([  2.14153347e-04,  -1.84550993e-01,   1.03649986e+03])) (839.43837804789086, 766.87328551949429)\n"
     ]
    },
    {
     "name": "stderr",
     "output_type": "stream",
     "text": [
      "\u001b[A\u001b[A\u001b[A\u001b[A\u001b[A\u001b[A\u001b[A\u001b[A\n",
      "\n",
      "\n",
      "\n",
      "\n",
      "\n",
      "\n",
      "\n",
      " 65%|██████▍   | 814/1261 [00:57<00:32, 13.76it/s]\u001b[A\u001b[A\u001b[A\u001b[A\u001b[A\u001b[A\u001b[A\u001b[A"
     ]
    },
    {
     "name": "stdout",
     "output_type": "stream",
     "text": [
      "909.520272568\n",
      "(array([  2.16483106e-04,  -2.53894441e-01,   5.45927149e+02]), array([  1.80564400e-04,  -1.65309828e-01,   1.03435439e+03])) (758.6510740889787, 909.52027256826148)\n",
      "778.254076414\n",
      "(array([  1.95399322e-04,  -2.31394703e-01,   5.37959623e+02]), array([  2.11020745e-04,  -1.86475137e-01,   1.03624630e+03])) (840.50617270676378, 778.25407641388335)\n",
      "841.8850912\n",
      "(array([  1.79822859e-04,  -2.24639008e-01,   5.37189315e+02]), array([  1.95070483e-04,  -1.80085101e-01,   1.03391230e+03])) (913.3290981639127, 841.88509119999435)\n"
     ]
    },
    {
     "name": "stderr",
     "output_type": "stream",
     "text": [
      "\n",
      "\n",
      "\n",
      "\n",
      "\n",
      "\n",
      "\n",
      "\n",
      " 65%|██████▍   | 816/1261 [00:57<00:32, 13.78it/s]\u001b[A\u001b[A\u001b[A\u001b[A\u001b[A\u001b[A\u001b[A\u001b[A\n",
      "\n",
      "\n",
      "\n",
      "\n",
      "\n",
      "\n",
      "\n",
      " 65%|██████▍   | 818/1261 [00:58<00:31, 14.12it/s]"
     ]
    },
    {
     "name": "stdout",
     "output_type": "stream",
     "text": [
      "682.894583175\n",
      "(array([  2.02112774e-04,  -2.57899841e-01,   5.49494801e+02]), array([  2.40489608e-04,  -2.06657554e-01,   1.02884017e+03])) (812.62997998781441, 682.89458317501555)\n",
      "621.990834066\n",
      "(array([  2.02192854e-04,  -2.71435065e-01,   5.58720152e+02]), array([  2.64040679e-04,  -2.21101889e-01,   1.02285153e+03])) (812.34539126594689, 621.9908340655461)\n",
      "643.311504529\n",
      "(array([  2.22204231e-04,  -2.90913583e-01,   5.62475075e+02]), array([  2.55288616e-04,  -2.15890879e-01,   1.02055278e+03])) (739.18753448171822, 643.3115045290773)\n",
      "671.297655222\n",
      "(array([  1.89384659e-04,  -2.58687210e-01,   5.53183596e+02]), array([  2.44642774e-04,  -2.16107160e-01,   1.02431856e+03])) (867.28332792787387, 671.29765522239893)\n"
     ]
    },
    {
     "name": "stderr",
     "output_type": "stream",
     "text": [
      "\u001b[A\u001b[A\u001b[A\u001b[A\u001b[A\u001b[A\u001b[A\u001b[A\n",
      "\n",
      "\n",
      "\n",
      "\n",
      "\n",
      "\n",
      "\n",
      " 65%|██████▌   | 820/1261 [00:58<00:33, 13.12it/s]\u001b[A\u001b[A\u001b[A\u001b[A\u001b[A\u001b[A\u001b[A\u001b[A\n",
      "\n",
      "\n",
      "\n",
      "\n",
      "\n",
      "\n",
      "\n",
      " 65%|██████▌   | 822/1261 [00:58<00:35, 12.45it/s]"
     ]
    },
    {
     "name": "stdout",
     "output_type": "stream",
     "text": [
      "661.466541077\n",
      "(array([  1.77019215e-04,  -2.49421773e-01,   5.50494502e+02]), array([  2.48277406e-04,  -2.27458495e-01,   1.02856424e+03])) (927.87538627591368, 661.46654107657753)\n",
      "666.534875225\n",
      "(array([  1.89151081e-04,  -2.49618976e-01,   5.44400855e+02]), array([  2.46388814e-04,  -2.34892494e-01,   1.03276612e+03])) (868.32745060806587, 666.53487522475905)\n",
      "551.082851413\n",
      "(array([  1.79775715e-04,  -2.35872793e-01,   5.36308606e+02]), array([  2.98009123e-04,  -2.70280040e-01,   1.04224846e+03])) (913.59728927846322, 551.08285141346119)\n"
     ]
    },
    {
     "name": "stderr",
     "output_type": "stream",
     "text": [
      "\u001b[A\u001b[A\u001b[A\u001b[A\u001b[A\u001b[A\u001b[A\u001b[A\n",
      "\n",
      "\n",
      "\n",
      "\n",
      "\n",
      "\n",
      "\n",
      " 65%|██████▌   | 824/1261 [00:58<00:34, 12.72it/s]\u001b[A\u001b[A\u001b[A\u001b[A\u001b[A\u001b[A\u001b[A\u001b[A"
     ]
    },
    {
     "name": "stdout",
     "output_type": "stream",
     "text": [
      "621.216935551\n",
      "(array([  1.72148899e-04,  -2.26013068e-01,   5.31793423e+02]), array([  2.64362948e-04,  -2.55654474e-01,   1.04177759e+03])) (954.06568571939806, 621.21693555133891)\n",
      "722.158000188\n",
      "(array([  1.77154769e-04,  -2.34289764e-01,   5.33681183e+02]), array([  2.27413944e-04,  -2.41180205e-01,   1.04124856e+03])) (927.11631645912246, 722.15800018807761)\n",
      "657.139309929\n",
      "(array([  1.63923675e-04,  -2.29141765e-01,   5.34508987e+02]), array([  2.49914457e-04,  -2.61735044e-01,   1.04343901e+03])) (1001.9733269604105, 657.13930992937208)\n"
     ]
    },
    {
     "name": "stderr",
     "output_type": "stream",
     "text": [
      "\n",
      "\n",
      "\n",
      "\n",
      "\n",
      "\n",
      "\n",
      "\n",
      " 66%|██████▌   | 826/1261 [00:58<00:35, 12.09it/s]\u001b[A\u001b[A\u001b[A\u001b[A\u001b[A\u001b[A\u001b[A\u001b[A\n",
      "\n",
      "\n",
      "\n",
      "\n",
      "\n",
      "\n",
      "\n",
      " 66%|██████▌   | 828/1261 [00:58<00:34, 12.68it/s]"
     ]
    },
    {
     "name": "stdout",
     "output_type": "stream",
     "text": [
      "758.912807943\n",
      "(array([  1.65517875e-04,  -2.37465323e-01,   5.38653262e+02]), array([  2.16400680e-04,  -2.32961653e-01,   1.03492552e+03])) (992.3471947550554, 758.91280794339525)\n",
      "746.26495269\n",
      "(array([  1.67656690e-04,  -2.38532185e-01,   5.38330368e+02]), array([  2.20068586e-04,  -2.37584022e-01,   1.03444905e+03])) (979.68406850835981, 746.26495269018756)\n",
      "703.92814588\n",
      "(array([  1.59857029e-04,  -2.38409800e-01,   5.40186477e+02]), array([  2.33304089e-04,  -2.49524062e-01,   1.03612194e+03])) (1027.5139912845384, 703.92814588011311)\n"
     ]
    },
    {
     "name": "stderr",
     "output_type": "stream",
     "text": [
      "\u001b[A\u001b[A\u001b[A\u001b[A\u001b[A\u001b[A\u001b[A\u001b[A\n",
      "\n",
      "\n",
      "\n",
      "\n",
      "\n",
      "\n",
      "\n",
      " 66%|██████▌   | 830/1261 [00:59<00:32, 13.08it/s]\u001b[A\u001b[A\u001b[A\u001b[A\u001b[A\u001b[A\u001b[A\u001b[A"
     ]
    },
    {
     "name": "stdout",
     "output_type": "stream",
     "text": [
      "659.032150877\n",
      "(array([  1.83191477e-04,  -2.56300448e-01,   5.43001866e+02]), array([  2.49198000e-04,  -2.65649225e-01,   1.03838323e+03])) (896.61581861524769, 659.03215087736487)\n",
      "656.237182095\n",
      "(array([  1.66345537e-04,  -2.37290183e-01,   5.36521676e+02]), array([  2.50262136e-04,  -2.74286716e-01,   1.04207563e+03])) (987.40610474973062, 656.23718209495007)\n",
      "699.097549204\n",
      "(array([  1.66039678e-04,  -2.35567167e-01,   5.34671145e+02]), array([  2.34922063e-04,  -2.66671604e-01,   1.04267142e+03])) (989.21973717151286, 699.09754920413434)\n"
     ]
    },
    {
     "name": "stderr",
     "output_type": "stream",
     "text": [
      "\n",
      "\n",
      "\n",
      "\n",
      "\n",
      "\n",
      "\n",
      "\n",
      " 66%|██████▌   | 832/1261 [00:59<00:33, 12.87it/s]\u001b[A\u001b[A\u001b[A\u001b[A\u001b[A\u001b[A\u001b[A\u001b[A\n",
      "\n",
      "\n",
      "\n",
      "\n",
      "\n",
      "\n",
      "\n",
      " 66%|██████▌   | 834/1261 [00:59<00:33, 12.84it/s]"
     ]
    },
    {
     "name": "stdout",
     "output_type": "stream",
     "text": [
      "749.000292903\n",
      "(array([  1.64159136e-04,  -2.32492640e-01,   5.32558985e+02]), array([  2.19273445e-04,  -2.58539578e-01,   1.04275328e+03])) (1000.5472157100531, 749.00029290346754)\n",
      "717.201814544\n",
      "(array([  1.95653578e-04,  -2.55021739e-01,   5.34159221e+02]), array([  2.28997399e-04,  -2.71602946e-01,   1.04593561e+03])) (839.4665108116601, 717.20181454389433)\n",
      "744.629274466\n",
      "(array([  2.31670025e-04,  -2.71070427e-01,   5.28592002e+02]), array([  2.20567292e-04,  -2.71459043e-01,   1.04959177e+03])) (708.92259898563111, 744.62927446616948)\n"
     ]
    },
    {
     "name": "stderr",
     "output_type": "stream",
     "text": [
      "\u001b[A\u001b[A\u001b[A\u001b[A\u001b[A\u001b[A\u001b[A\u001b[A\n",
      "\n",
      "\n",
      "\n",
      "\n",
      "\n",
      "\n",
      "\n",
      " 66%|██████▋   | 836/1261 [00:59<00:34, 12.47it/s]\u001b[A\u001b[A\u001b[A\u001b[A\u001b[A\u001b[A\u001b[A\u001b[A"
     ]
    },
    {
     "name": "stdout",
     "output_type": "stream",
     "text": [
      "550.695083077\n",
      "(array([  2.21731533e-04,  -2.62330550e-01,   5.24451418e+02]), array([  2.98225631e-04,  -3.20588370e-01,   1.05570900e+03])) (740.69946429741776, 550.69508307654849)\n",
      "540.321108164\n",
      "(array([  1.92107990e-04,  -2.34774380e-01,   5.15606367e+02]), array([  3.03953583e-04,  -3.30077830e-01,   1.06050651e+03])) (854.91903144761079, 540.32110816393538)\n",
      "598.789908377\n",
      "(array([  2.09965606e-04,  -2.41909746e-01,   5.10709559e+02]), array([  2.74286201e-04,  -3.20760055e-01,   1.06387069e+03])) (782.19086460578797, 598.78990837659626)\n"
     ]
    },
    {
     "name": "stderr",
     "output_type": "stream",
     "text": [
      "\n",
      "\n",
      "\n",
      "\n",
      "\n",
      "\n",
      "\n",
      "\n",
      " 66%|██████▋   | 838/1261 [00:59<00:33, 12.48it/s]\u001b[A\u001b[A\u001b[A\u001b[A\u001b[A\u001b[A\u001b[A\u001b[A\n",
      "\n",
      "\n",
      "\n",
      "\n",
      "\n",
      "\n",
      "\n",
      " 67%|██████▋   | 840/1261 [00:59<00:32, 12.97it/s]"
     ]
    },
    {
     "name": "stdout",
     "output_type": "stream",
     "text": [
      "569.566583027\n",
      "(array([  1.98556527e-04,  -2.42317241e-01,   5.13177370e+02]), array([  2.88358245e-04,  -3.32961745e-01,   1.06349542e+03])) (827.15651261459175, 569.56658302689641)\n",
      "605.104697582\n",
      "(array([  2.30663965e-04,  -2.72773365e-01,   5.19158406e+02]), array([  2.71427104e-04,  -3.22264249e-01,   1.06017311e+03])) (712.0192103918165, 605.10469758174656)\n",
      "894.481018944\n",
      "(array([  2.64536357e-04,  -3.07518715e-01,   5.26366165e+02]), array([  1.83623285e-04,  -2.48741873e-01,   1.04452836e+03])) (620.85265977840766, 894.48101894371007)\n"
     ]
    },
    {
     "name": "stderr",
     "output_type": "stream",
     "text": [
      "\u001b[A\u001b[A\u001b[A\u001b[A\u001b[A\u001b[A\u001b[A\u001b[A\n",
      "\n",
      "\n",
      "\n",
      "\n",
      "\n",
      "\n",
      "\n",
      " 67%|██████▋   | 842/1261 [00:59<00:31, 13.29it/s]\u001b[A\u001b[A\u001b[A\u001b[A\u001b[A\u001b[A\u001b[A\u001b[A"
     ]
    },
    {
     "name": "stdout",
     "output_type": "stream",
     "text": [
      "842.199867552\n",
      "(array([  2.55907009e-04,  -2.97718859e-01,   5.21911771e+02]), array([  1.95023654e-04,  -2.62002209e-01,   1.04875567e+03])) (641.7857285333763, 842.19986755184129)\n",
      "894.961312548\n",
      "(array([  2.28344118e-04,  -2.65187765e-01,   5.08224302e+02]), array([  1.83532358e-04,  -2.59679172e-01,   1.05293832e+03])) (719.24386981138309, 894.96131254839008)\n",
      "936.10988929\n",
      "(array([  2.25276561e-04,  -2.65524364e-01,   5.07186128e+02]), array([  1.75466240e-04,  -2.53910904e-01,   1.05157898e+03])) (729.04320588415965, 936.10988928971153)\n"
     ]
    },
    {
     "name": "stderr",
     "output_type": "stream",
     "text": [
      "\n",
      "\n",
      "\n",
      "\n",
      "\n",
      "\n",
      "\n",
      "\n",
      " 67%|██████▋   | 844/1261 [01:00<00:34, 12.00it/s]\u001b[A\u001b[A\u001b[A\u001b[A\u001b[A\u001b[A\u001b[A\u001b[A\n",
      "\n",
      "\n",
      "\n",
      "\n",
      "\n",
      "\n",
      "\n",
      " 67%|██████▋   | 846/1261 [01:00<00:35, 11.83it/s]"
     ]
    },
    {
     "name": "stdout",
     "output_type": "stream",
     "text": [
      "901.070129784\n",
      "(array([  2.91834944e-04,  -3.14253252e-01,   5.10326607e+02]), array([  1.82292692e-04,  -2.64525375e-01,   1.05597810e+03])) (562.75417774273922, 901.07012978436126)\n",
      "894.761414197\n",
      "(array([  2.42560465e-04,  -2.81804710e-01,   5.06869385e+02]), array([  1.83578117e-04,  -2.65921511e-01,   1.05539212e+03])) (677.09395402201278, 894.76141419651424)\n",
      "836.101908827\n",
      "(array([  2.19433438e-04,  -2.78003597e-01,   5.13049021e+02]), array([  1.96453272e-04,  -2.72978967e-01,   1.05335306e+03])) (748.49443665264971, 836.10190882700169)\n"
     ]
    },
    {
     "name": "stderr",
     "output_type": "stream",
     "text": [
      "\u001b[A\u001b[A\u001b[A\u001b[A\u001b[A\u001b[A\u001b[A\u001b[A\n",
      "\n",
      "\n",
      "\n",
      "\n",
      "\n",
      "\n",
      "\n",
      " 67%|██████▋   | 848/1261 [01:00<00:35, 11.63it/s]\u001b[A\u001b[A\u001b[A\u001b[A\u001b[A\u001b[A\u001b[A\u001b[A"
     ]
    },
    {
     "name": "stdout",
     "output_type": "stream",
     "text": [
      "687.805431845\n",
      "(array([  2.28221929e-04,  -2.87417036e-01,   5.14222144e+02]), array([  2.38795668e-04,  -2.97057695e-01,   1.05613777e+03])) (719.67331708626705, 687.8054318452223)\n",
      "713.921148002\n",
      "(array([  2.07049431e-04,  -2.65577688e-01,   5.06177894e+02]), array([  2.30071331e-04,  -3.01949092e-01,   1.06281963e+03])) (793.26188614594628, 713.9211480022534)\n",
      "748.36032423\n",
      "(array([  1.97605547e-04,  -2.63102801e-01,   5.07218598e+02]), array([  2.19490352e-04,  -2.99344687e-01,   1.06436358e+03])) (831.1916762073613, 748.36032422964661)\n"
     ]
    },
    {
     "name": "stderr",
     "output_type": "stream",
     "text": [
      "\n",
      "\n",
      "\n",
      "\n",
      "\n",
      "\n",
      "\n",
      "\n",
      " 67%|██████▋   | 850/1261 [01:00<00:34, 11.87it/s]\u001b[A\u001b[A\u001b[A\u001b[A\u001b[A\u001b[A\u001b[A\u001b[A\n",
      "\n",
      "\n",
      "\n",
      "\n",
      "\n",
      "\n",
      "\n",
      " 68%|██████▊   | 852/1261 [01:00<00:33, 12.36it/s]"
     ]
    },
    {
     "name": "stdout",
     "output_type": "stream",
     "text": [
      "750.147194289\n",
      "(array([  1.69725066e-04,  -2.49462776e-01,   5.08556332e+02]), array([  2.18972201e-04,  -3.03709601e-01,   1.06671602e+03])) (967.77931296460338, 750.14719428922092)\n",
      "901.35503142\n",
      "(array([  1.49211537e-04,  -2.37604435e-01,   5.09985011e+02]), array([  1.82249363e-04,  -2.81089146e-01,   1.06562643e+03])) (1100.8667900329176, 901.35503141984714)\n",
      "933.8003251\n",
      "(array([  1.90984145e-04,  -2.70744005e-01,   5.14463183e+02]), array([  1.75920898e-04,  -2.79222061e-01,   1.06835416e+03])) (860.05573594200177, 933.80032510044157)\n"
     ]
    },
    {
     "name": "stderr",
     "output_type": "stream",
     "text": [
      "\u001b[A\u001b[A\u001b[A\u001b[A\u001b[A\u001b[A\u001b[A\u001b[A\n",
      "\n",
      "\n",
      "\n",
      "\n",
      "\n",
      "\n",
      "\n",
      " 68%|██████▊   | 854/1261 [01:01<00:31, 12.86it/s]\u001b[A\u001b[A\u001b[A\u001b[A\u001b[A\u001b[A\u001b[A\u001b[A"
     ]
    },
    {
     "name": "stdout",
     "output_type": "stream",
     "text": [
      "1240.77453856\n",
      "(array([  1.60540729e-04,  -2.50944987e-01,   5.14958349e+02]), array([  1.32398280e-04,  -2.39053983e-01,   1.05929175e+03])) (1023.191405154296, 1240.7745385633323)\n",
      "1144.66796723\n",
      "(array([  1.49095342e-04,  -2.36503384e-01,   5.09345159e+02]), array([  1.43517034e-04,  -2.52989303e-01,   1.06578483e+03])) (1101.7197940484727, 1144.6679672283817)\n",
      "1176.53035742\n",
      "(array([  1.67175393e-04,  -2.51964844e-01,   5.11889597e+02]), array([  1.39635130e-04,  -2.55256224e-01,   1.06957361e+03])) (982.56027713862977, 1176.530357418887)\n"
     ]
    },
    {
     "name": "stderr",
     "output_type": "stream",
     "text": [
      "\n",
      "\n",
      "\n",
      "\n",
      "\n",
      "\n",
      "\n",
      "\n",
      " 68%|██████▊   | 856/1261 [01:01<00:30, 13.14it/s]\u001b[A\u001b[A\u001b[A\u001b[A\u001b[A\u001b[A\u001b[A\u001b[A\n",
      "\n",
      "\n",
      "\n",
      "\n",
      "\n",
      "\n",
      "\n",
      " 68%|██████▊   | 858/1261 [01:01<00:29, 13.49it/s]"
     ]
    },
    {
     "name": "stdout",
     "output_type": "stream",
     "text": [
      "1087.77544789\n",
      "(array([  1.53597454e-04,  -2.44108776e-01,   5.13221043e+02]), array([  1.51025634e-04,  -2.63035553e-01,   1.06988106e+03])) (1069.44326962641, 1087.7754478863633)\n",
      "1039.18679004\n",
      "(array([  1.60429239e-04,  -2.49088596e-01,   5.13969374e+02]), array([  1.58084939e-04,  -2.67442369e-01,   1.07002246e+03])) (1023.8941764277781, 1039.186790040967)\n",
      "988.69062466\n",
      "(array([  1.51727189e-04,  -2.52713324e-01,   5.19533372e+02]), array([  1.66153427e-04,  -2.69091745e-01,   1.06654272e+03])) (1082.6811160590926, 988.6906246604658)\n"
     ]
    },
    {
     "name": "stderr",
     "output_type": "stream",
     "text": [
      "\u001b[A\u001b[A\u001b[A\u001b[A\u001b[A\u001b[A\u001b[A\u001b[A\n",
      "\n",
      "\n",
      "\n",
      "\n",
      "\n",
      "\n",
      "\n",
      " 68%|██████▊   | 860/1261 [01:01<00:32, 12.40it/s]\u001b[A\u001b[A\u001b[A\u001b[A\u001b[A\u001b[A\u001b[A\u001b[A"
     ]
    },
    {
     "name": "stdout",
     "output_type": "stream",
     "text": [
      "1236.37848388\n",
      "(array([  1.31557166e-04,  -2.32070159e-01,   5.15628474e+02]), array([  1.32873851e-04,  -2.46030156e-01,   1.06119892e+03])) (1248.6669348175712, 1236.3784838763636)\n",
      "1079.25101445\n",
      "(array([  1.02548802e-04,  -2.11521524e-01,   5.12956694e+02]), array([  1.52213779e-04,  -2.58595659e-01,   1.06249238e+03])) (1601.9437912674807, 1079.2510144463017)\n"
     ]
    },
    {
     "name": "stderr",
     "output_type": "stream",
     "text": [
      "\n",
      "\n",
      "\n",
      "\n",
      "\n",
      "\n",
      "\n",
      "\n",
      " 68%|██████▊   | 862/1261 [01:01<00:32, 12.40it/s]\u001b[A\u001b[A\u001b[A\u001b[A\u001b[A\u001b[A\u001b[A\u001b[A"
     ]
    },
    {
     "name": "stdout",
     "output_type": "stream",
     "text": [
      "1135.93453781\n",
      "(array([  1.08683585e-04,  -2.14272092e-01,   5.13767243e+02]), array([  1.44615343e-04,  -2.47522643e-01,   1.05797796e+03])) (1511.4945055508531, 1135.9345378071973)\n",
      "1021.58928743\n",
      "(array([  8.44964237e-05,  -1.86650584e-01,   5.05682441e+02]), array([  1.60801807e-04,  -2.62877172e-01,   1.06214837e+03])) (1944.1163724386736, 1021.5892874255799)\n",
      "512.100983616\n",
      "(array([  9.52744980e-05,  -1.89935007e-01,   5.04228402e+02]), array([  3.20745700e-04,  -3.91145252e-01,   1.08447387e+03])) (1724.1252582557993, 512.10098361573432)\n"
     ]
    },
    {
     "name": "stderr",
     "output_type": "stream",
     "text": [
      "\n",
      "\n",
      "\n",
      "\n",
      "\n",
      "\n",
      "\n",
      "\n",
      " 69%|██████▊   | 864/1261 [01:01<00:30, 12.94it/s]\u001b[A\u001b[A\u001b[A\u001b[A\u001b[A\u001b[A\u001b[A\u001b[A\n",
      "\n",
      "\n",
      "\n",
      "\n",
      "\n",
      "\n",
      "\n",
      " 69%|██████▊   | 866/1261 [01:01<00:29, 13.36it/s]"
     ]
    },
    {
     "name": "stdout",
     "output_type": "stream",
     "text": [
      "568.032227126\n",
      "(array([  1.13487028e-04,  -1.91116314e-01,   4.98193331e+02]), array([  2.89178596e-04,  -3.72950769e-01,   1.08508642e+03])) (1447.3327594200268, 568.03222712636591)\n",
      "585.245983195\n",
      "(array([  1.06253444e-04,  -1.77039518e-01,   4.90284336e+02]), array([  2.80691673e-04,  -3.78285210e-01,   1.09201882e+03])) (1545.8232922470338, 585.24598319504196)\n",
      "880.181164586\n",
      "(array([  1.72787910e-04,  -2.35990322e-01,   5.03555106e+02]), array([  1.86637725e-04,  -2.89530427e-01,   1.07163732e+03])) (950.56543831833051, 880.18116458577538)\n"
     ]
    },
    {
     "name": "stderr",
     "output_type": "stream",
     "text": [
      "\u001b[A\u001b[A\u001b[A\u001b[A\u001b[A\u001b[A\u001b[A\u001b[A\n",
      "\n",
      "\n",
      "\n",
      "\n",
      "\n",
      "\n",
      "\n",
      " 69%|██████▉   | 868/1261 [01:02<00:28, 13.58it/s]\u001b[A\u001b[A\u001b[A\u001b[A\u001b[A\u001b[A\u001b[A\u001b[A"
     ]
    },
    {
     "name": "stdout",
     "output_type": "stream",
     "text": [
      "892.963443536\n",
      "(array([  1.29932315e-04,  -1.89658271e-01,   4.89429883e+02]), array([  1.83978257e-04,  -2.98746421e-01,   1.07996793e+03])) (1264.0691884121295, 892.96344353572113)\n",
      "860.644079825\n",
      "(array([  1.17297150e-04,  -1.84837506e-01,   4.90829646e+02]), array([  1.90887113e-04,  -3.05384599e-01,   1.08052269e+03])) (1400.2677027779605, 860.64407982535624)\n",
      "798.281677592\n",
      "(array([  1.42929060e-04,  -2.12943655e-01,   4.99678396e+02]), array([  2.05794597e-04,  -3.15699019e-01,   1.08030382e+03])) (1149.167732749504, 798.28167759179394)\n"
     ]
    },
    {
     "name": "stderr",
     "output_type": "stream",
     "text": [
      "\n",
      "\n",
      "\n",
      "\n",
      "\n",
      "\n",
      "\n",
      "\n",
      " 69%|██████▉   | 870/1261 [01:02<00:28, 13.71it/s]\u001b[A\u001b[A\u001b[A\u001b[A\u001b[A\u001b[A\u001b[A\u001b[A\n",
      "\n",
      "\n",
      "\n",
      "\n",
      "\n",
      "\n",
      "\n",
      " 69%|██████▉   | 872/1261 [01:02<00:28, 13.46it/s]"
     ]
    },
    {
     "name": "stdout",
     "output_type": "stream",
     "text": [
      "791.309725459\n",
      "(array([  1.50682900e-04,  -2.21914366e-01,   5.01348038e+02]), array([  2.07609181e-04,  -3.18618227e-01,   1.08278475e+03])) (1090.040008539311, 791.30972545944235)\n",
      "622.616588834\n",
      "(array([  1.52650983e-04,  -2.24071541e-01,   5.03064199e+02]), array([  2.63834989e-04,  -3.55365350e-01,   1.08701464e+03])) (1075.9875329890947, 622.61658883360997)\n",
      "703.236519862\n",
      "(array([  1.50445058e-04,  -2.09819181e-01,   4.93453643e+02]), array([  2.33609979e-04,  -3.43477841e-01,   1.09168661e+03])) (1091.7186684602868, 703.23651986249388)\n"
     ]
    },
    {
     "name": "stderr",
     "output_type": "stream",
     "text": [
      "\u001b[A\u001b[A\u001b[A\u001b[A\u001b[A\u001b[A\u001b[A\u001b[A\n",
      "\n",
      "\n",
      "\n",
      "\n",
      "\n",
      "\n",
      "\n",
      " 69%|██████▉   | 874/1261 [01:02<00:28, 13.54it/s]\u001b[A\u001b[A\u001b[A\u001b[A\u001b[A\u001b[A\u001b[A\u001b[A"
     ]
    },
    {
     "name": "stdout",
     "output_type": "stream",
     "text": [
      "714.70183851\n",
      "(array([  1.33104563e-04,  -2.00764529e-01,   4.93706389e+02]), array([  2.29872471e-04,  -3.47286714e-01,   1.09394425e+03])) (1233.9760515779226, 714.70183851023785)\n",
      "716.490992273\n",
      "(array([  9.03307139e-05,  -1.55436304e-01,   4.80613933e+02]), array([  2.29308629e-04,  -3.53808592e-01,   1.09942583e+03])) (1818.2680113974031, 716.49099227345505)\n",
      "801.063531367\n",
      "(array([  1.33448049e-04,  -1.90402465e-01,   4.86521291e+02]), array([  2.05108769e-04,  -3.37553075e-01,   1.09736180e+03])) (1230.7569194527402, 801.06353136668838)\n"
     ]
    },
    {
     "name": "stderr",
     "output_type": "stream",
     "text": [
      "\n",
      "\n",
      "\n",
      "\n",
      "\n",
      "\n",
      "\n",
      "\n",
      " 69%|██████▉   | 876/1261 [01:02<00:31, 12.06it/s]\u001b[A\u001b[A\u001b[A\u001b[A\u001b[A\u001b[A\u001b[A\u001b[A\n",
      "\n",
      "\n",
      "\n",
      "\n",
      "\n",
      "\n",
      "\n",
      " 70%|██████▉   | 878/1261 [01:02<00:30, 12.59it/s]"
     ]
    },
    {
     "name": "stdout",
     "output_type": "stream",
     "text": [
      "823.6387573\n",
      "(array([  1.72562412e-04,  -2.32496960e-01,   4.99914427e+02]), array([  1.99483731e-04,  -3.29782120e-01,   1.09363439e+03])) (951.79729142217468, 823.63875729981794)\n",
      "787.026239205\n",
      "(array([  1.86674887e-04,  -2.35104026e-01,   4.95882078e+02]), array([  2.08772171e-04,  -3.44630755e-01,   1.10059001e+03])) (879.81364493595322, 787.02623920459143)\n",
      "1615.53474751\n",
      "(array([  2.07277351e-04,  -2.54593002e-01,   4.99341635e+02]), array([  1.01709522e-04,  -2.47081702e-01,   1.08296075e+03])) (792.36339157511475, 1615.5347475062347)\n"
     ]
    },
    {
     "name": "stderr",
     "output_type": "stream",
     "text": [
      "\u001b[A\u001b[A\u001b[A\u001b[A\u001b[A\u001b[A\u001b[A\u001b[A\n",
      "\n",
      "\n",
      "\n",
      "\n",
      "\n",
      "\n",
      "\n",
      " 70%|██████▉   | 880/1261 [01:03<00:30, 12.64it/s]\u001b[A\u001b[A\u001b[A\u001b[A\u001b[A\u001b[A\u001b[A\u001b[A"
     ]
    },
    {
     "name": "stdout",
     "output_type": "stream",
     "text": [
      "1361.83469931\n",
      "(array([  2.06054150e-04,  -2.61632120e-01,   5.04313321e+02]), array([  1.20649758e-04,  -2.56358155e-01,   1.08142571e+03])) (797.0859788823019, 1361.8346993056903)\n",
      "1295.416578\n",
      "(array([  1.99190807e-04,  -2.59240413e-01,   5.05038514e+02]), array([  1.26833503e-04,  -2.59754670e-01,   1.08159445e+03])) (824.56148458654241, 1295.4165780027704)\n",
      "1212.442159\n",
      "(array([  2.22435029e-04,  -2.85618795e-01,   5.12682546e+02]), array([  1.35509172e-04,  -2.63256090e-01,   1.08097727e+03])) (738.40584082174655, 1212.4421590036834)\n"
     ]
    },
    {
     "name": "stderr",
     "output_type": "stream",
     "text": [
      "\n",
      "\n",
      "\n",
      "\n",
      "\n",
      "\n",
      "\n",
      "\n",
      " 70%|██████▉   | 882/1261 [01:03<00:28, 13.15it/s]\u001b[A\u001b[A\u001b[A\u001b[A\u001b[A\u001b[A\u001b[A\u001b[A\n",
      "\n",
      "\n",
      "\n",
      "\n",
      "\n",
      "\n",
      "\n",
      " 70%|███████   | 884/1261 [01:03<00:27, 13.49it/s]"
     ]
    },
    {
     "name": "stdout",
     "output_type": "stream",
     "text": [
      "863.314480733\n",
      "(array([  1.72105934e-04,  -2.36124007e-01,   4.98199812e+02]), array([  1.90283174e-04,  -2.92122810e-01,   1.08603658e+03])) (954.33464717088668, 863.31448073259833)\n",
      "807.032756266\n",
      "(array([  1.53120189e-04,  -2.30073697e-01,   5.01180619e+02]), array([  2.03549134e-04,  -3.00866815e-01,   1.08442373e+03])) (1072.7134714549511, 807.0327562657352)\n",
      "740.238741671\n",
      "(array([  1.45964592e-04,  -2.35466362e-01,   5.07507020e+02]), array([  2.21906734e-04,  -3.09943539e-01,   1.08175374e+03])) (1125.3603412751011, 740.23874167070437)\n"
     ]
    },
    {
     "name": "stderr",
     "output_type": "stream",
     "text": [
      "\u001b[A\u001b[A\u001b[A\u001b[A\u001b[A\u001b[A\u001b[A\u001b[A\n",
      "\n",
      "\n",
      "\n",
      "\n",
      "\n",
      "\n",
      "\n",
      " 70%|███████   | 886/1261 [01:03<00:27, 13.61it/s]\u001b[A\u001b[A\u001b[A\u001b[A\u001b[A\u001b[A\u001b[A\u001b[A"
     ]
    },
    {
     "name": "stdout",
     "output_type": "stream",
     "text": [
      "764.993083876\n",
      "(array([  1.45170007e-04,  -2.38601896e-01,   5.10746585e+02]), array([  2.14728340e-04,  -3.05282593e-01,   1.07908124e+03])) (1131.5406918279143, 764.99308387604003)\n",
      "849.739057942\n",
      "(array([  1.38228778e-04,  -2.52937142e-01,   5.24625963e+02]), array([  1.93308962e-04,  -2.80137443e-01,   1.06749830e+03])) (1188.493773863167, 849.73905794216046)\n",
      "614.224740485\n",
      "(array([  1.42765666e-04,  -2.47937086e-01,   5.20337609e+02]), array([  2.67420060e-04,  -3.42678257e-01,   1.07959003e+03])) (1150.6650961600212, 614.22474048468166)\n"
     ]
    },
    {
     "name": "stderr",
     "output_type": "stream",
     "text": [
      "\n",
      "\n",
      "\n",
      "\n",
      "\n",
      "\n",
      "\n",
      "\n",
      " 70%|███████   | 888/1261 [01:03<00:26, 13.98it/s]\u001b[A\u001b[A\u001b[A\u001b[A\u001b[A\u001b[A\u001b[A\u001b[A\n",
      "\n",
      "\n",
      "\n",
      "\n",
      "\n",
      "\n",
      "\n",
      " 71%|███████   | 890/1261 [01:03<00:25, 14.28it/s]"
     ]
    },
    {
     "name": "stdout",
     "output_type": "stream",
     "text": [
      "1263.82249897\n",
      "(array([  1.43931949e-04,  -2.60084953e-01,   5.28453024e+02]), array([  1.29975035e-04,  -2.23509480e-01,   1.05470419e+03])) (1141.4119591103101, 1263.8224989689038)\n",
      "1123.9724018\n",
      "(array([  9.67879532e-05,  -2.19921089e-01,   5.22768652e+02]), array([  1.46144426e-04,  -2.35026707e-01,   1.05519307e+03])) (1697.4289684043333, 1123.9724017957615)\n",
      "1190.17116125\n",
      "(array([  9.37118836e-05,  -2.06577778e-01,   5.14824217e+02]), array([  1.38019911e-04,  -2.33686126e-01,   1.05913274e+03])) (1753.0395657442184, 1190.1711612515439)\n"
     ]
    },
    {
     "name": "stderr",
     "output_type": "stream",
     "text": [
      "\u001b[A\u001b[A\u001b[A\u001b[A\u001b[A\u001b[A\u001b[A\u001b[A\n",
      "\n",
      "\n",
      "\n",
      "\n",
      "\n",
      "\n",
      "\n",
      " 71%|███████   | 892/1261 [01:03<00:25, 14.39it/s]\u001b[A\u001b[A\u001b[A\u001b[A\u001b[A\u001b[A\u001b[A\u001b[A"
     ]
    },
    {
     "name": "stdout",
     "output_type": "stream",
     "text": [
      "1247.54686651\n",
      "(array([  5.94292044e-05,  -1.73575980e-01,   5.07424040e+02]), array([  1.31673349e-04,  -2.29269838e-01,   1.05975751e+03])) (2764.3068369417751, 1247.5468665142514)\n",
      "1143.73106809\n",
      "(array([  5.84184614e-05,  -1.66605413e-01,   5.03464342e+02]), array([  1.43626460e-04,  -2.42410856e-01,   1.06462020e+03])) (2812.041791286862, 1143.7310680917938)\n",
      "1100.76549733\n",
      "(array([  5.03471868e-05,  -1.59354746e-01,   5.03585064e+02]), array([  1.49229782e-04,  -2.44044723e-01,   1.06358062e+03])) (3262.8554342413368, 1100.7654973349968)\n"
     ]
    },
    {
     "name": "stderr",
     "output_type": "stream",
     "text": [
      "\n",
      "\n",
      "\n",
      "\n",
      "\n",
      "\n",
      "\n",
      "\n",
      " 71%|███████   | 894/1261 [01:03<00:25, 14.37it/s]\u001b[A\u001b[A\u001b[A\u001b[A\u001b[A\u001b[A\u001b[A\u001b[A\n",
      "\n",
      "\n",
      "\n",
      "\n",
      "\n",
      "\n",
      "\n",
      " 71%|███████   | 896/1261 [01:04<00:25, 14.36it/s]"
     ]
    },
    {
     "name": "stdout",
     "output_type": "stream",
     "text": [
      "854.655845567\n",
      "(array([  3.71002017e-05,  -1.50091286e-01,   5.03970098e+02]), array([  1.92187271e-04,  -2.67403831e-01,   1.06539258e+03])) (4427.9726800987573, 854.6558455672141)\n",
      "832.027235154\n",
      "(array([  8.17876923e-05,  -1.91309634e-01,   5.15386841e+02]), array([  1.97413343e-04,  -2.71355226e-01,   1.06449720e+03])) (2008.58050707286, 832.02723515448781)\n",
      "774.926848163\n",
      "(array([  7.51831662e-05,  -1.88881185e-01,   5.18550699e+02]), array([  2.11959842e-04,  -2.85463974e-01,   1.06721211e+03])) (2185.0732303762361, 774.92684816344899)\n"
     ]
    },
    {
     "name": "stderr",
     "output_type": "stream",
     "text": [
      "\u001b[A\u001b[A\u001b[A\u001b[A\u001b[A\u001b[A\u001b[A\u001b[A\n",
      "\n",
      "\n",
      "\n",
      "\n",
      "\n",
      "\n",
      "\n",
      " 71%|███████   | 898/1261 [01:04<00:28, 12.67it/s]"
     ]
    },
    {
     "name": "stdout",
     "output_type": "stream",
     "text": [
      "826.626263108\n",
      "(array([  8.18114512e-05,  -1.87088883e-01,   5.15338624e+02]), array([  1.98711949e-04,  -2.83084530e-01,   1.07145264e+03])) (2007.9516750930006, 826.6262631078381)\n",
      "917.758569436\n",
      "(array([  8.22362747e-05,  -1.84601455e-01,   5.15179600e+02]), array([  1.78987978e-04,  -2.73553339e-01,   1.07175939e+03])) (1997.5489186959319, 917.7585694362491)\n",
      "860.659827446\n",
      "(array([  9.79395148e-05,  -1.91607319e-01,   5.14107635e+02]), array([  1.90863793e-04,  -2.86246031e-01,   1.07516782e+03])) (1677.2033234294252, 860.65982744571613)\n"
     ]
    },
    {
     "name": "stderr",
     "output_type": "stream",
     "text": [
      "\u001b[A\u001b[A\u001b[A\u001b[A\u001b[A\u001b[A\u001b[A\u001b[A\n",
      "\n",
      "\n",
      "\n",
      "\n",
      "\n",
      "\n",
      "\n",
      " 71%|███████▏  | 900/1261 [01:04<00:32, 11.19it/s]\u001b[A\u001b[A\u001b[A\u001b[A\u001b[A\u001b[A\u001b[A\u001b[A\n",
      "\n",
      "\n",
      "\n",
      "\n",
      "\n",
      "\n",
      "\n",
      " 72%|███████▏  | 902/1261 [01:04<00:31, 11.34it/s]"
     ]
    },
    {
     "name": "stdout",
     "output_type": "stream",
     "text": [
      "1182.54620283\n",
      "(array([  1.01269371e-04,  -1.97960183e-01,   5.18551971e+02]), array([  1.38911967e-04,  -2.37612604e-01,   1.06307577e+03])) (1622.0794022176487, 1182.5462028262837)\n",
      "954.477841446\n",
      "(array([  1.14641708e-04,  -2.09746017e-01,   5.23221097e+02]), array([  1.72098118e-04,  -2.61970000e-01,   1.06416348e+03])) (1432.8653081039326, 954.4778414457744)\n",
      "1059.16411722\n",
      "(array([  9.07355632e-05,  -1.81624539e-01,   5.13567834e+02]), array([  1.55091459e-04,  -2.50062447e-01,   1.06468253e+03])) (1810.3391655874375, 1059.1641172200516)\n"
     ]
    },
    {
     "name": "stderr",
     "output_type": "stream",
     "text": [
      "\u001b[A\u001b[A\u001b[A\u001b[A\u001b[A\u001b[A\u001b[A\u001b[A\n",
      "\n",
      "\n",
      "\n",
      "\n",
      "\n",
      "\n",
      "\n",
      " 72%|███████▏  | 904/1261 [01:04<00:30, 11.72it/s]\u001b[A\u001b[A\u001b[A\u001b[A\u001b[A\u001b[A\u001b[A\u001b[A"
     ]
    },
    {
     "name": "stdout",
     "output_type": "stream",
     "text": [
      "947.430110453\n",
      "(array([  1.25105337e-04,  -2.04604683e-01,   5.14919932e+02]), array([  1.73383307e-04,  -2.69177806e-01,   1.06957938e+03])) (1312.9338837086755, 947.43011045285573)\n",
      "907.284163233\n",
      "(array([  1.72769205e-04,  -2.33361635e-01,   5.14248848e+02]), array([  1.81055110e-04,  -2.76381141e-01,   1.07274279e+03])) (950.66010823166755, 907.28416323283386)\n",
      "869.706030029\n",
      "(array([  1.45168765e-04,  -2.05287263e-01,   5.06099511e+02]), array([  1.88877759e-04,  -2.83512038e-01,   1.07543812e+03])) (1131.4001098043984, 869.70603002867779)\n"
     ]
    },
    {
     "name": "stderr",
     "output_type": "stream",
     "text": [
      "\n",
      "\n",
      "\n",
      "\n",
      "\n",
      "\n",
      "\n",
      "\n",
      " 72%|███████▏  | 906/1261 [01:05<00:28, 12.34it/s]\u001b[A\u001b[A\u001b[A\u001b[A\u001b[A\u001b[A\u001b[A\u001b[A\n",
      "\n",
      "\n",
      "\n",
      "\n",
      "\n",
      "\n",
      "\n",
      " 72%|███████▏  | 908/1261 [01:05<00:29, 11.79it/s]"
     ]
    },
    {
     "name": "stdout",
     "output_type": "stream",
     "text": [
      "615.787582844\n",
      "(array([  1.36818322e-04,  -1.97433192e-01,   5.04359400e+02]), array([  2.66725647e-04,  -3.26397109e-01,   1.07815932e+03])) (1200.4535602687108, 615.78758284367461)\n",
      "643.528441806\n",
      "(array([  8.06313870e-05,  -1.47117780e-01,   4.92450619e+02]), array([  2.55236726e-04,  -3.25017331e-01,   1.08020271e+03])) (2036.9982270228302, 643.52844180633963)\n",
      "634.171651391\n",
      "(array([  1.41851945e-04,  -2.07362022e-01,   5.07341268e+02]), array([  2.59003869e-04,  -3.29914107e-01,   1.07755867e+03])) (1157.8749599886905, 634.1716513908118)\n"
     ]
    },
    {
     "name": "stderr",
     "output_type": "stream",
     "text": [
      "\u001b[A\u001b[A\u001b[A\u001b[A\u001b[A\u001b[A\u001b[A\u001b[A\n",
      "\n",
      "\n",
      "\n",
      "\n",
      "\n",
      "\n",
      "\n",
      " 72%|███████▏  | 910/1261 [01:05<00:29, 11.90it/s]\u001b[A\u001b[A\u001b[A\u001b[A\u001b[A\u001b[A\u001b[A\u001b[A"
     ]
    },
    {
     "name": "stdout",
     "output_type": "stream",
     "text": [
      "555.734126273\n",
      "(array([  1.07559770e-04,  -1.80049098e-01,   5.02845855e+02]), array([  2.95554753e-04,  -3.60125636e-01,   1.08139621e+03])) (1527.0589086882853, 555.73412627256857)\n",
      "516.943825333\n",
      "(array([  1.72840514e-04,  -2.42147477e-01,   5.17560065e+02]), array([  3.17731993e-04,  -3.80967648e-01,   1.08310151e+03])) (950.29663226688763, 516.94382533287808)\n",
      "826.672796742\n",
      "(array([  1.95972672e-04,  -2.56373119e-01,   5.18206723e+02]), array([  1.98702442e-04,  -2.84951352e-01,   1.06607663e+03])) (838.10250440110758, 826.67279674222152)\n"
     ]
    },
    {
     "name": "stderr",
     "output_type": "stream",
     "text": [
      "\n",
      "\n",
      "\n",
      "\n",
      "\n",
      "\n",
      "\n",
      "\n",
      " 72%|███████▏  | 912/1261 [01:05<00:30, 11.50it/s]\u001b[A\u001b[A\u001b[A\u001b[A\u001b[A\u001b[A\u001b[A\u001b[A\n",
      "\n",
      "\n",
      "\n",
      "\n",
      "\n",
      "\n",
      "\n",
      " 72%|███████▏  | 914/1261 [01:05<00:29, 11.83it/s]"
     ]
    },
    {
     "name": "stdout",
     "output_type": "stream",
     "text": [
      "907.467485384\n",
      "(array([  1.98039230e-04,  -2.53100906e-01,   5.13248358e+02]), array([  1.81015997e-04,  -2.73472581e-01,   1.06698520e+03])) (829.34302063185635, 907.46748538397867)\n",
      "809.449625044\n",
      "(array([  2.11393257e-04,  -2.69957318e-01,   5.19544834e+02]), array([  2.02932733e-04,  -2.91550635e-01,   1.06734658e+03])) (776.9620277212457, 809.44962504379544)\n",
      "809.839638094\n",
      "(array([  2.39213165e-04,  -2.90615051e-01,   5.21691165e+02]), array([  2.02838286e-04,  -2.94867577e-01,   1.06867153e+03])) (686.59040330186235, 809.83963809351349)\n"
     ]
    },
    {
     "name": "stderr",
     "output_type": "stream",
     "text": [
      "\u001b[A\u001b[A\u001b[A\u001b[A\u001b[A\u001b[A\u001b[A\u001b[A\n",
      "\n",
      "\n",
      "\n",
      "\n",
      "\n",
      "\n",
      "\n",
      " 73%|███████▎  | 916/1261 [01:05<00:33, 10.20it/s]"
     ]
    },
    {
     "name": "stdout",
     "output_type": "stream",
     "text": [
      "785.637897391\n",
      "(array([  2.35612150e-04,  -2.83201840e-01,   5.17200974e+02]), array([  2.09090385e-04,  -3.04392095e-01,   1.07292934e+03])) (697.07616259806866, 785.63789739079402)\n",
      "774.456374195\n",
      "(array([  2.67282097e-04,  -3.14267519e-01,   5.24843863e+02]), array([  2.12108312e-04,  -3.06438548e-01,   1.07274760e+03])) (614.48153864199423, 774.45637419457967)\n",
      "812.466272064\n",
      "(array([  2.18999092e-04,  -2.72002742e-01,   5.14403835e+02]), array([  2.02192851e-04,  -3.04305395e-01,   1.07590650e+03])) (749.96589342533343, 812.46627206352969)\n"
     ]
    },
    {
     "name": "stderr",
     "output_type": "stream",
     "text": [
      "\u001b[A\u001b[A\u001b[A\u001b[A\u001b[A\u001b[A\u001b[A\u001b[A\n",
      "\n",
      "\n",
      "\n",
      "\n",
      "\n",
      "\n",
      "\n",
      " 73%|███████▎  | 918/1261 [01:06<00:31, 11.00it/s]\u001b[A\u001b[A\u001b[A\u001b[A\u001b[A\u001b[A\u001b[A\u001b[A\n",
      "\n",
      "\n",
      "\n",
      "\n",
      "\n",
      "\n",
      "\n",
      " 73%|███████▎  | 920/1261 [01:06<00:28, 11.93it/s]"
     ]
    },
    {
     "name": "stdout",
     "output_type": "stream",
     "text": [
      "682.76853732\n",
      "(array([  2.54203749e-04,  -3.06332516e-01,   5.22093942e+02]), array([  2.40586988e-04,  -3.29508503e-01,   1.07832281e+03])) (646.10420726951702, 682.7685373201092)\n",
      "856.334159649\n",
      "(array([  2.49927548e-04,  -3.07520197e-01,   5.22511562e+02]), array([  1.91840721e-04,  -2.99828685e-01,   1.07640509e+03])) (657.16980360716923, 856.33415964939218)\n",
      "761.656375224\n",
      "(array([  2.37462984e-04,  -3.08191241e-01,   5.27080250e+02]), array([  2.15678598e-04,  -3.15064085e-01,   1.07602573e+03])) (691.69619623582309, 761.65637522352995)\n"
     ]
    },
    {
     "name": "stderr",
     "output_type": "stream",
     "text": [
      "\u001b[A\u001b[A\u001b[A\u001b[A\u001b[A\u001b[A\u001b[A\u001b[A\n",
      "\n",
      "\n",
      "\n",
      "\n",
      "\n",
      "\n",
      "\n",
      " 73%|███████▎  | 922/1261 [01:06<00:29, 11.45it/s]\u001b[A\u001b[A\u001b[A\u001b[A\u001b[A\u001b[A\u001b[A\u001b[A"
     ]
    },
    {
     "name": "stdout",
     "output_type": "stream",
     "text": [
      "780.897560576\n",
      "(array([  2.10911504e-04,  -2.97752766e-01,   5.30079963e+02]), array([  2.10364567e-04,  -3.10193837e-01,   1.07370948e+03])) (778.82292717041457, 780.89756057566956)\n",
      "869.840859719\n",
      "(array([  2.08272366e-04,  -2.97118676e-01,   5.29360301e+02]), array([  1.88858706e-04,  -2.93935399e-01,   1.07158786e+03])) (788.69879813643729, 869.8408597186193)\n",
      "1621.72559309\n",
      "(array([  1.97980880e-04,  -2.91255719e-01,   5.29234328e+02]), array([  1.01302091e-04,  -2.17646166e-01,   1.05686623e+03])) (829.71307110911141, 1621.7255930862207)\n"
     ]
    },
    {
     "name": "stderr",
     "output_type": "stream",
     "text": [
      "\n",
      "\n",
      "\n",
      "\n",
      "\n",
      "\n",
      "\n",
      "\n",
      " 73%|███████▎  | 924/1261 [01:06<00:27, 12.14it/s]\u001b[A\u001b[A\u001b[A\u001b[A\u001b[A\u001b[A\u001b[A\u001b[A\n",
      "\n",
      "\n",
      "\n",
      "\n",
      "\n",
      "\n",
      "\n",
      " 73%|███████▎  | 926/1261 [01:06<00:26, 12.65it/s]"
     ]
    },
    {
     "name": "stdout",
     "output_type": "stream",
     "text": [
      "1285.19617858\n",
      "(array([  1.71493415e-04,  -2.71669923e-01,   5.26279056e+02]), array([  1.27824024e-04,  -2.37480607e-01,   1.05998692e+03])) (957.8918633544647, 1285.1961785831982)\n",
      "1096.4936819\n",
      "(array([  1.82342402e-04,  -2.97049114e-01,   5.38731795e+02]), array([  1.49812346e-04,  -2.46212320e-01,   1.05553567e+03])) (900.97384336632842, 1096.4936819042007)\n",
      "1064.4467563\n",
      "(array([  1.72689379e-04,  -2.93423300e-01,   5.40585783e+02]), array([  1.54319443e-04,  -2.46183874e-01,   1.05353984e+03])) (951.36898183605058, 1064.446756299172)\n"
     ]
    },
    {
     "name": "stderr",
     "output_type": "stream",
     "text": [
      "\u001b[A\u001b[A\u001b[A\u001b[A\u001b[A\u001b[A\u001b[A\u001b[A\n",
      "\n",
      "\n",
      "\n",
      "\n",
      "\n",
      "\n",
      "\n",
      " 74%|███████▎  | 928/1261 [01:06<00:25, 13.13it/s]\u001b[A\u001b[A\u001b[A\u001b[A\u001b[A\u001b[A\u001b[A\u001b[A"
     ]
    },
    {
     "name": "stdout",
     "output_type": "stream",
     "text": [
      "1158.38593944\n",
      "(array([  1.46524058e-04,  -2.63765574e-01,   5.31102542e+02]), array([  1.41807851e-04,  -2.38442113e-01,   1.05506760e+03])) (1121.2275164267264, 1158.3859394373069)\n",
      "1092.50647619\n",
      "(array([  1.56098577e-04,  -2.72323438e-01,   5.32288343e+02]), array([  1.50359608e-04,  -2.47418714e-01,   1.05736586e+03])) (1052.4515458435133, 1092.5064761925594)\n",
      "1215.39804472\n",
      "(array([  1.22859054e-04,  -2.39543436e-01,   5.23593304e+02]), array([  1.35161388e-04,  -2.39972416e-01,   1.05887953e+03])) (1337.1855180901844, 1215.3980447207828)\n",
      "1004.32773075\n",
      "(array([  7.44731228e-05,  -2.03138894e-01,   5.19892629e+02]), array([  1.63555705e-04,  -2.53363314e-01,   1.05828147e+03])) "
     ]
    },
    {
     "name": "stderr",
     "output_type": "stream",
     "text": [
      "\n",
      "\n",
      "\n",
      "\n",
      "\n",
      "\n",
      "\n",
      "\n",
      " 74%|███████▍  | 930/1261 [01:06<00:24, 13.64it/s]\u001b[A\u001b[A\u001b[A\u001b[A\u001b[A\u001b[A\u001b[A\u001b[A\n",
      "\n",
      "\n",
      "\n",
      "\n",
      "\n",
      "\n",
      "\n",
      " 74%|███████▍  | 932/1261 [01:07<00:23, 14.00it/s]"
     ]
    },
    {
     "name": "stdout",
     "output_type": "stream",
     "text": [
      "(2206.1037292038718, 1004.3277307494909)\n",
      "692.712931158\n",
      "(array([  7.74212193e-05,  -2.10811896e-01,   5.24728630e+02]), array([  2.37106519e-04,  -2.98694368e-01,   1.06240671e+03])) (2122.1647476805229, 692.71293115844389)\n",
      "638.244227524\n",
      "(array([  8.19787696e-05,  -2.14650442e-01,   5.26180674e+02]), array([  2.57341349e-04,  -3.17904644e-01,   1.06700799e+03])) (2004.177463564143, 638.24422752362796)\n"
     ]
    },
    {
     "name": "stderr",
     "output_type": "stream",
     "text": [
      "\u001b[A\u001b[A\u001b[A\u001b[A\u001b[A\u001b[A\u001b[A\u001b[A\n",
      "\n",
      "\n",
      "\n",
      "\n",
      "\n",
      "\n",
      "\n",
      " 74%|███████▍  | 934/1261 [01:07<00:23, 14.13it/s]\u001b[A\u001b[A\u001b[A\u001b[A\u001b[A\u001b[A\u001b[A\u001b[A"
     ]
    },
    {
     "name": "stdout",
     "output_type": "stream",
     "text": [
      "726.11597318\n",
      "(array([  8.68959946e-05,  -2.21285930e-01,   5.30595590e+02]), array([  2.26204324e-04,  -2.94713664e-01,   1.06259247e+03])) (1890.7900461643105, 726.11597318028828)\n",
      "769.77547561\n",
      "(array([  8.99926357e-05,  -2.16487487e-01,   5.26780842e+02]), array([  2.13382198e-04,  -2.91337599e-01,   1.06599437e+03])) (1825.6363297591836, 769.77547561003212)\n",
      "684.23859859\n",
      "(array([  1.13186825e-04,  -2.40442078e-01,   5.34941681e+02]), array([  2.40054306e-04,  -3.14033793e-01,   1.06857089e+03])) (1451.5433032892674, 684.23859859034553)\n"
     ]
    },
    {
     "name": "stderr",
     "output_type": "stream",
     "text": [
      "\n",
      "\n",
      "\n",
      "\n",
      "\n",
      "\n",
      "\n",
      "\n",
      " 74%|███████▍  | 936/1261 [01:07<00:22, 14.18it/s]\u001b[A\u001b[A\u001b[A\u001b[A\u001b[A\u001b[A\u001b[A\u001b[A\n",
      "\n",
      "\n",
      "\n",
      "\n",
      "\n",
      "\n",
      "\n",
      " 74%|███████▍  | 938/1261 [01:07<00:23, 13.98it/s]"
     ]
    },
    {
     "name": "stdout",
     "output_type": "stream",
     "text": [
      "662.957040845\n",
      "(array([  1.56714295e-04,  -2.76930236e-01,   5.43281450e+02]), array([  2.47761298e-04,  -3.22445890e-01,   1.07041940e+03])) (1048.3418446151645, 662.9570408453576)\n",
      "681.775852327\n",
      "(array([  1.79628929e-04,  -2.87024271e-01,   5.41841770e+02]), array([  2.40930119e-04,  -3.23369352e-01,   1.07389679e+03])) (914.54520463323115, 681.77585232680258)\n",
      "645.703890002\n",
      "(array([  1.39534234e-04,  -2.65493123e-01,   5.43778661e+02]), array([  2.54391356e-04,  -3.37855454e-01,   1.07694053e+03])) (1177.4553096982436, 645.70389000181547)\n"
     ]
    },
    {
     "name": "stderr",
     "output_type": "stream",
     "text": [
      "\u001b[A\u001b[A\u001b[A\u001b[A\u001b[A\u001b[A\u001b[A\u001b[A\n",
      "\n",
      "\n",
      "\n",
      "\n",
      "\n",
      "\n",
      "\n",
      " 75%|███████▍  | 940/1261 [01:07<00:24, 13.28it/s]\u001b[A\u001b[A\u001b[A\u001b[A\u001b[A\u001b[A\u001b[A\u001b[A"
     ]
    },
    {
     "name": "stdout",
     "output_type": "stream",
     "text": [
      "654.632608544\n",
      "(array([  1.77353748e-04,  -2.95879250e-01,   5.48507706e+02]), array([  2.50928503e-04,  -3.40397019e-01,   1.07941842e+03])) (926.33671541158071, 654.63260854374778)\n",
      "672.366664318\n",
      "(array([  1.75555071e-04,  -2.96106111e-01,   5.49166705e+02]), array([  2.44312482e-04,  -3.36038614e-01,   1.07844914e+03])) (935.83881583809568, 672.36666431777121)\n",
      "500.715442849\n",
      "(array([  1.47903779e-04,  -2.72770352e-01,   5.45199602e+02]), array([  3.28030998e-04,  -3.91836249e-01,   1.08701966e+03])) (1110.8204160749779, 500.71544284888597)\n"
     ]
    },
    {
     "name": "stderr",
     "output_type": "stream",
     "text": [
      "\n",
      "\n",
      "\n",
      "\n",
      "\n",
      "\n",
      "\n",
      "\n",
      " 75%|███████▍  | 942/1261 [01:07<00:25, 12.64it/s]\u001b[A\u001b[A\u001b[A\u001b[A\u001b[A\u001b[A\u001b[A\u001b[A\n",
      "\n",
      "\n",
      "\n",
      "\n",
      "\n",
      "\n",
      "\n",
      " 75%|███████▍  | 944/1261 [01:08<00:25, 12.64it/s]"
     ]
    },
    {
     "name": "stdout",
     "output_type": "stream",
     "text": [
      "477.257020304\n",
      "(array([  1.39784737e-04,  -2.62886599e-01,   5.40942772e+02]), array([  3.44156913e-04,  -4.09126085e-01,   1.09192846e+03])) (1175.3242260159952, 477.257020303731)\n",
      "452.221517288\n",
      "(array([  1.69720723e-04,  -2.89245742e-01,   5.47642652e+02]), array([  3.63213976e-04,  -4.30364770e-01,   1.09544761e+03])) (968.00189602339628, 452.22151728835615)\n",
      "495.902077444\n",
      "(array([  1.32226473e-04,  -2.49952608e-01,   5.34128827e+02]), array([  3.31251828e-04,  -4.20614146e-01,   1.10155179e+03])) (1242.4646698771267, 495.90207744387635)\n"
     ]
    },
    {
     "name": "stderr",
     "output_type": "stream",
     "text": [
      "\u001b[A\u001b[A\u001b[A\u001b[A\u001b[A\u001b[A\u001b[A\u001b[A\n",
      "\n",
      "\n",
      "\n",
      "\n",
      "\n",
      "\n",
      "\n",
      " 75%|███████▌  | 946/1261 [01:08<00:24, 12.94it/s]\u001b[A\u001b[A\u001b[A\u001b[A\u001b[A\u001b[A\u001b[A\u001b[A"
     ]
    },
    {
     "name": "stdout",
     "output_type": "stream",
     "text": [
      "817.796051854\n",
      "(array([  1.77874892e-04,  -2.96264976e-01,   5.46975573e+02]), array([  2.00895165e-04,  -3.20455919e-01,   1.08344970e+03])) (923.62206064100451, 817.79605185351409)\n",
      "1042.57705563\n",
      "(array([  1.59289970e-04,  -2.82387090e-01,   5.45560873e+02]), array([  1.57588213e-04,  -2.85228752e-01,   1.07868103e+03])) (1031.4094574436579, 1042.5770556256637)\n",
      "994.399496104\n",
      "(array([  1.65203346e-04,  -2.80067509e-01,   5.40314787e+02]), array([  1.65225379e-04,  -2.94595728e-01,   1.08392606e+03])) (994.44248333979908, 994.39949610391955)\n"
     ]
    },
    {
     "name": "stderr",
     "output_type": "stream",
     "text": [
      "\n",
      "\n",
      "\n",
      "\n",
      "\n",
      "\n",
      "\n",
      "\n",
      " 75%|███████▌  | 948/1261 [01:08<00:23, 13.26it/s]\u001b[A\u001b[A\u001b[A\u001b[A\u001b[A\u001b[A\u001b[A\u001b[A\n",
      "\n",
      "\n",
      "\n",
      "\n",
      "\n",
      "\n",
      "\n",
      " 75%|███████▌  | 950/1261 [01:08<00:24, 12.94it/s]"
     ]
    },
    {
     "name": "stdout",
     "output_type": "stream",
     "text": [
      "933.618563345\n",
      "(array([  1.85752529e-04,  -3.01745447e-01,   5.47822531e+02]), array([  1.75973879e-04,  -2.97719324e-01,   1.08134230e+03])) (884.44082151084513, 933.61856334504955)\n",
      "960.835702815\n",
      "(array([  1.82727708e-04,  -2.96835064e-01,   5.44843198e+02]), array([  1.70994140e-04,  -2.97550879e-01,   1.08514942e+03])) (899.07093815218195, 960.83570281471737)\n",
      "922.611078089\n",
      "(array([  1.71608528e-04,  -2.90187387e-01,   5.44923986e+02]), array([  1.78078495e-04,  -3.04273547e-01,   1.08637823e+03])) (957.34818534475357, 922.61107808910947)\n"
     ]
    },
    {
     "name": "stderr",
     "output_type": "stream",
     "text": [
      "\u001b[A\u001b[A\u001b[A\u001b[A\u001b[A\u001b[A\u001b[A\u001b[A\n",
      "\n",
      "\n",
      "\n",
      "\n",
      "\n",
      "\n",
      "\n",
      " 75%|███████▌  | 952/1261 [01:08<00:23, 13.29it/s]\u001b[A\u001b[A\u001b[A\u001b[A\u001b[A\u001b[A\u001b[A\u001b[A"
     ]
    },
    {
     "name": "stdout",
     "output_type": "stream",
     "text": [
      "986.924995834\n",
      "(array([  1.83111349e-04,  -2.89780264e-01,   5.40283127e+02]), array([  1.66477235e-04,  -2.96270865e-01,   1.08713519e+03])) (897.14943276013423, 986.92499583396932)\n",
      "994.330573035\n",
      "(array([  1.94827773e-04,  -2.88912067e-01,   5.32849965e+02]), array([  1.65245324e-04,  -3.02232730e-01,   1.09463191e+03])) (843.14403135360578, 994.33057303461635)\n",
      "798.548705674\n",
      "(array([  1.68325255e-04,  -2.84416539e-01,   5.41315298e+02]), array([  2.05733208e-04,  -3.21810405e-01,   1.09274917e+03])) (976.00645291183378, 798.54870567432272)\n"
     ]
    },
    {
     "name": "stderr",
     "output_type": "stream",
     "text": [
      "\n",
      "\n",
      "\n",
      "\n",
      "\n",
      "\n",
      "\n",
      "\n",
      " 76%|███████▌  | 954/1261 [01:08<00:23, 13.14it/s]\u001b[A\u001b[A\u001b[A\u001b[A\u001b[A\u001b[A\u001b[A\u001b[A\n",
      "\n",
      "\n",
      "\n",
      "\n",
      "\n",
      "\n",
      "\n",
      " 76%|███████▌  | 956/1261 [01:08<00:22, 13.63it/s]"
     ]
    },
    {
     "name": "stdout",
     "output_type": "stream",
     "text": [
      "804.221877356\n",
      "(array([  1.73342793e-04,  -2.78084967e-01,   5.34413293e+02]), array([  2.04288508e-04,  -3.25688992e-01,   1.09856399e+03])) (947.69541507801353, 804.22187735600369)\n",
      "829.414474541\n",
      "(array([  1.57471134e-04,  -2.78380806e-01,   5.40776307e+02]), array([  1.98083509e-04,  -3.19773248e-01,   1.09602123e+03])) (1043.3079207798464, 829.41447454109414)\n",
      "870.597291536\n",
      "(array([  1.50465553e-04,  -2.81478634e-01,   5.47663236e+02]), array([  1.88713382e-04,  -3.10807248e-01,   1.09254168e+03])) (1091.9520740592079, 870.59729153567002)\n"
     ]
    },
    {
     "name": "stderr",
     "output_type": "stream",
     "text": [
      "\u001b[A\u001b[A\u001b[A\u001b[A\u001b[A\u001b[A\u001b[A\u001b[A\n",
      "\n",
      "\n",
      "\n",
      "\n",
      "\n",
      "\n",
      "\n",
      " 76%|███████▌  | 958/1261 [01:09<00:22, 13.26it/s]\u001b[A\u001b[A\u001b[A\u001b[A\u001b[A\u001b[A\u001b[A\u001b[A"
     ]
    },
    {
     "name": "stdout",
     "output_type": "stream",
     "text": [
      "1456.43415662\n",
      "(array([  1.24359487e-04,  -2.57802204e-01,   5.42339682e+02]), array([  1.12818386e-04,  -2.55436243e-01,   1.08739848e+03])) (1321.1914076107164, 1456.4341566154337)\n",
      "1840.44481875\n",
      "(array([  1.32622303e-04,  -2.71410343e-01,   5.50554602e+02]), array([  8.92739176e-05,  -2.25058634e-01,   1.07793677e+03])) (1238.924669933067, 1840.444818752499)\n",
      "2091.89232707\n",
      "(array([  1.32144590e-04,  -2.59969625e-01,   5.44478451e+02]), array([  7.85459589e-05,  -2.20061003e-01,   1.08231791e+03])) (1243.3121409797136, 2091.8923270655187)\n"
     ]
    },
    {
     "name": "stderr",
     "output_type": "stream",
     "text": [
      "\n",
      "\n",
      "\n",
      "\n",
      "\n",
      "\n",
      "\n",
      "\n",
      " 76%|███████▌  | 960/1261 [01:09<00:23, 12.61it/s]\u001b[A\u001b[A\u001b[A\u001b[A\u001b[A\u001b[A\u001b[A\u001b[A\n",
      "\n",
      "\n",
      "\n",
      "\n",
      "\n",
      "\n",
      "\n",
      " 76%|███████▋  | 962/1261 [01:09<00:23, 12.66it/s]"
     ]
    },
    {
     "name": "stdout",
     "output_type": "stream",
     "text": [
      "1353.90372215\n",
      "(array([  1.44274185e-04,  -2.85303120e-01,   5.58454162e+02]), array([  1.21349205e-04,  -2.47857939e-01,   1.08294227e+03])) (1138.8881880916492, 1353.9037221508283)\n",
      "1376.22219015\n",
      "(array([  1.32936483e-04,  -2.75422990e-01,   5.59748199e+02]), array([  1.19379295e-04,  -2.43343403e-01,   1.08266485e+03])) (1236.028922632051, 1376.2221901510054)\n",
      "1410.31885329\n",
      "(array([  1.21102627e-04,  -2.61731107e-01,   5.56620456e+02]), array([  1.16494640e-04,  -2.42666158e-01,   1.08557049e+03])) (1356.7883003725171, 1410.3188532915337)\n"
     ]
    },
    {
     "name": "stderr",
     "output_type": "stream",
     "text": [
      "\u001b[A\u001b[A\u001b[A\u001b[A\u001b[A\u001b[A\u001b[A\u001b[A\n",
      "\n",
      "\n",
      "\n",
      "\n",
      "\n",
      "\n",
      "\n",
      " 76%|███████▋  | 964/1261 [01:09<00:22, 13.22it/s]\u001b[A\u001b[A\u001b[A\u001b[A\u001b[A\u001b[A\u001b[A\u001b[A"
     ]
    },
    {
     "name": "stdout",
     "output_type": "stream",
     "text": [
      "1349.05948032\n",
      "(array([  1.48110290e-04,  -2.90341243e-01,   5.66312321e+02]), array([  1.21779673e-04,  -2.41250936e-01,   1.08302783e+03])) (1109.4013178366624, 1349.0594803225076)\n",
      "1155.57810109\n",
      "(array([  1.35429825e-04,  -2.70169227e-01,   5.59637554e+02]), array([  1.42164434e-04,  -2.54668176e-01,   1.08878030e+03])) (1213.2084408917462, 1155.5781010937812)\n",
      "635.648249366\n",
      "(array([  1.24813308e-04,  -2.69805097e-01,   5.65068372e+02]), array([  2.58393700e-04,  -3.20450752e-01,   1.09243774e+03])) (1316.4935309907262, 635.64824936568937)\n"
     ]
    },
    {
     "name": "stderr",
     "output_type": "stream",
     "text": [
      "\n",
      "\n",
      "\n",
      "\n",
      "\n",
      "\n",
      "\n",
      "\n",
      " 77%|███████▋  | 966/1261 [01:09<00:23, 12.57it/s]\u001b[A\u001b[A\u001b[A\u001b[A\u001b[A\u001b[A\u001b[A\u001b[A\n",
      "\n",
      "\n",
      "\n",
      "\n",
      "\n",
      "\n",
      "\n",
      " 77%|███████▋  | 968/1261 [01:09<00:22, 13.04it/s]"
     ]
    },
    {
     "name": "stdout",
     "output_type": "stream",
     "text": [
      "652.913237108\n",
      "(array([ -4.73532793e-05,  -1.23873121e-01,   5.40884540e+02]), array([  2.51563139e-04,  -3.16293479e-01,   1.08964807e+03])) (3470.5180294580073, 652.9132371077651)\n",
      "696.18086619\n",
      "(array([  7.23076521e-05,  -2.24141018e-01,   5.58840192e+02]), array([  2.35934391e-04,  -3.07919277e-01,   1.08944052e+03])) (2272.5345980551579, 696.18086619012706)\n",
      "1672.49527812\n",
      "(array([  5.40394783e-05,  -2.09111079e-01,   5.59130099e+02]), array([  9.82176840e-05,  -1.97077070e-01,   1.06827651e+03])) (3040.8277043357839, 1672.4952781176817)\n"
     ]
    },
    {
     "name": "stderr",
     "output_type": "stream",
     "text": [
      "\u001b[A\u001b[A\u001b[A\u001b[A\u001b[A\u001b[A\u001b[A\u001b[A\n",
      "\n",
      "\n",
      "\n",
      "\n",
      "\n",
      "\n",
      "\n",
      " 77%|███████▋  | 970/1261 [01:10<00:24, 11.79it/s]"
     ]
    },
    {
     "name": "stdout",
     "output_type": "stream",
     "text": [
      "1615.81725729\n",
      "(array([  2.69305836e-05,  -1.74424174e-01,   5.48681072e+02]), array([  1.01662078e-04,  -1.98810772e-01,   1.06928533e+03])) (6101.399139773258, 1615.8172572937046)\n",
      "1681.61439377\n",
      "(array([  4.70575750e-05,  -1.81105050e-01,   5.44641272e+02]), array([  9.76849354e-05,  -1.96296215e-01,   1.07146560e+03])) (3491.4672022762779, 1681.6143937687655)\n",
      "1606.85270526\n",
      "(array([  1.09562641e-04,  -2.27638665e-01,   5.51567933e+02]), array([  1.02226736e-04,  -1.94195197e-01,   1.06898987e+03])) (1499.4726064950905, 1606.8527052582192)\n"
     ]
    },
    {
     "name": "stderr",
     "output_type": "stream",
     "text": [
      "\u001b[A\u001b[A\u001b[A\u001b[A\u001b[A\u001b[A\u001b[A\u001b[A\n",
      "\n",
      "\n",
      "\n",
      "\n",
      "\n",
      "\n",
      "\n",
      " 77%|███████▋  | 972/1261 [01:10<00:23, 12.36it/s]\u001b[A\u001b[A\u001b[A\u001b[A\u001b[A\u001b[A\u001b[A\u001b[A\n",
      "\n",
      "\n",
      "\n",
      "\n",
      "\n",
      "\n",
      "\n",
      " 77%|███████▋  | 974/1261 [01:10<00:22, 12.98it/s]"
     ]
    },
    {
     "name": "stdout",
     "output_type": "stream",
     "text": [
      "1562.57482251\n",
      "(array([ -7.65464891e-06,  -1.16517926e-01,   5.26716200e+02]), array([  1.05123633e-04,  -1.97284211e-01,   1.06967036e+03])) (21462.45450581568, 1562.574822506753)\n",
      "1611.62693838\n",
      "(array([  4.80852297e-05,  -1.73521837e-01,   5.41919669e+02]), array([  1.01921110e-04,  -1.87798729e-01,   1.06345088e+03])) (3416.6631846226278, 1611.6269383818831)\n",
      "1919.04987044\n",
      "(array([  4.03788356e-05,  -1.44192897e-01,   5.27362784e+02]), array([  8.55962785e-05,  -1.78518888e-01,   1.06442138e+03])) (4068.2399714484627, 1919.0498704373565)\n"
     ]
    },
    {
     "name": "stderr",
     "output_type": "stream",
     "text": [
      "\u001b[A\u001b[A\u001b[A\u001b[A\u001b[A\u001b[A\u001b[A\u001b[A\n",
      "\n",
      "\n",
      "\n",
      "\n",
      "\n",
      "\n",
      "\n",
      " 77%|███████▋  | 976/1261 [01:10<00:22, 12.49it/s]\u001b[A\u001b[A\u001b[A\u001b[A\u001b[A\u001b[A\u001b[A\u001b[A"
     ]
    },
    {
     "name": "stdout",
     "output_type": "stream",
     "text": [
      "1851.26602264\n",
      "(array([  5.39801458e-05,  -1.67338670e-01,   5.35819894e+02]), array([  8.87280426e-05,  -1.75698870e-01,   1.06060346e+03])) (3043.3343204383482, 1851.2660226404655)\n",
      "1419.66068069\n",
      "(array([ -1.86001794e-05,  -1.15338607e-01,   5.32247513e+02]), array([  1.15694244e-04,  -1.81814204e-01,   1.05521722e+03])) (8833.090166487078, 1419.6606806915102)\n",
      "1874.59448246\n",
      "(array([  1.53463437e-05,  -1.38489198e-01,   5.33525660e+02]), array([  8.76186732e-05,  -1.59875125e-01,   1.05208500e+03])) (10705.315165846729, 1874.5944824591697)\n"
     ]
    },
    {
     "name": "stderr",
     "output_type": "stream",
     "text": [
      "\n",
      "\n",
      "\n",
      "\n",
      "\n",
      "\n",
      "\n",
      "\n",
      " 78%|███████▊  | 978/1261 [01:10<00:21, 13.06it/s]\u001b[A\u001b[A\u001b[A\u001b[A\u001b[A\u001b[A\u001b[A\u001b[A\n",
      "\n",
      "\n",
      "\n",
      "\n",
      "\n",
      "\n",
      "\n",
      " 78%|███████▊  | 980/1261 [01:10<00:20, 13.65it/s]"
     ]
    },
    {
     "name": "stdout",
     "output_type": "stream",
     "text": [
      "2271.01273606\n",
      "(array([ -2.01254241e-05,  -1.07074801e-01,   5.30583021e+02]), array([  7.23222962e-05,  -1.37053290e-01,   1.04136902e+03])) (8163.3093886992838, 2271.0127360601509)\n",
      "10129.8764701\n",
      "(array([ -2.95893978e-05,  -8.90048958e-02,   5.23118545e+02]), array([ -1.62146903e-05,  -6.55467912e-02,   1.02734413e+03])) (5552.0352099608199, 10129.876470103578)\n",
      "4989.34238533\n",
      "(array([ -5.13872694e-05,  -7.49335711e-02,   5.22414634e+02]), array([ -3.29203039e-05,  -4.61074807e-02,   1.02185114e+03])) (3197.0553876563595, 4989.3423853299391)\n",
      "4217.03202321\n",
      "(array([ -2.67139583e-05,  -8.46282229e-02,   5.20508452e+02]), array([ -3.89483115e-05,  -3.28341669e-02,   1.01715996e+03])) (6149.4045227921515, 4217.0320232090198)\n"
     ]
    },
    {
     "name": "stderr",
     "output_type": "stream",
     "text": [
      "\u001b[A\u001b[A\u001b[A\u001b[A\u001b[A\u001b[A\u001b[A\u001b[A\n",
      "\n",
      "\n",
      "\n",
      "\n",
      "\n",
      "\n",
      "\n",
      " 78%|███████▊  | 982/1261 [01:10<00:19, 14.12it/s]\u001b[A\u001b[A\u001b[A\u001b[A\u001b[A\u001b[A\u001b[A\u001b[A\n",
      "\n",
      "\n",
      "\n",
      "\n",
      "\n",
      "\n",
      "\n",
      " 78%|███████▊  | 984/1261 [01:11<00:19, 14.41it/s]"
     ]
    },
    {
     "name": "stdout",
     "output_type": "stream",
     "text": [
      "4962.35888678\n",
      "(array([ -7.50591021e-05,  -2.55742850e-02,   5.01970389e+02]), array([ -3.30977026e-05,  -3.16596948e-02,   1.01628729e+03])) (2188.4689587584007, 4962.3588867750441)\n",
      "1224.87857882\n",
      "(array([  3.92209507e-06,  -8.10910018e-02,   5.07350344e+02]), array([  1.34083435e-04,  -1.76894904e-01,   1.04300520e+03])) (41878.238062231227, 1224.8785788217376)\n",
      "1384.97386643\n",
      "(array([  3.75797684e-05,  -9.43347915e-02,   5.00652598e+02]), array([  1.18586063e-04,  -1.68565545e-01,   1.04522624e+03])) (4370.441561151898, 1384.9738664295069)\n"
     ]
    },
    {
     "name": "stderr",
     "output_type": "stream",
     "text": [
      "\u001b[A\u001b[A\u001b[A\u001b[A\u001b[A\u001b[A\u001b[A\u001b[A\n",
      "\n",
      "\n",
      "\n",
      "\n",
      "\n",
      "\n",
      "\n",
      " 78%|███████▊  | 986/1261 [01:11<00:19, 13.89it/s]\u001b[A\u001b[A\u001b[A\u001b[A\u001b[A\u001b[A\u001b[A\u001b[A"
     ]
    },
    {
     "name": "stdout",
     "output_type": "stream",
     "text": [
      "916.03469414\n",
      "(array([  1.98394118e-05,  -7.44970527e-02,   4.95756097e+02]), array([  1.79292065e-04,  -2.24857037e-01,   1.05583187e+03])) (8278.4166211854354, 916.03469413952905)\n",
      "861.274432676\n",
      "(array([  5.00772396e-05,  -9.70785800e-02,   4.97809790e+02]), array([  1.90689702e-04,  -2.31855826e-01,   1.05470447e+03])) (3279.6585428057897, 861.27443267647618)\n",
      "693.80476325\n",
      "(array([  1.03734463e-04,  -1.46699413e-01,   5.04902587e+02]), array([  2.36708976e-04,  -2.55152403e-01,   1.05679948e+03])) (1583.2301241315981, 693.80476324989672)\n"
     ]
    },
    {
     "name": "stderr",
     "output_type": "stream",
     "text": [
      "\n",
      "\n",
      "\n",
      "\n",
      "\n",
      "\n",
      "\n",
      "\n",
      " 78%|███████▊  | 988/1261 [01:11<00:19, 13.94it/s]\u001b[A\u001b[A\u001b[A\u001b[A\u001b[A\u001b[A\u001b[A\u001b[A\n",
      "\n",
      "\n",
      "\n",
      "\n",
      "\n",
      "\n",
      "\n",
      " 79%|███████▊  | 990/1261 [01:11<00:20, 13.10it/s]"
     ]
    },
    {
     "name": "stdout",
     "output_type": "stream",
     "text": [
      "465.451773975\n",
      "(array([  1.32971373e-04,  -1.85410717e-01,   5.17417997e+02]), array([  3.52838480e-04,  -3.13264127e-01,   1.05469501e+03])) (1235.1527089914277, 465.45177397492637)\n",
      "489.145014793\n",
      "(array([  1.27667249e-04,  -1.66884459e-01,   5.06354327e+02]), array([  3.35742998e-04,  -3.13803271e-01,   1.05964322e+03])) (1286.426362555949, 489.14501479331011)\n",
      "477.38517614\n",
      "(array([  1.58991947e-05,  -5.50668274e-02,   4.76562864e+02]), array([  3.44013171e-04,  -3.26312582e-01,   1.06384524e+03])) (10329.643121418045, 477.38517614000881)\n"
     ]
    },
    {
     "name": "stderr",
     "output_type": "stream",
     "text": [
      "\u001b[A\u001b[A\u001b[A\u001b[A\u001b[A\u001b[A\u001b[A\u001b[A\n",
      "\n",
      "\n",
      "\n",
      "\n",
      "\n",
      "\n",
      "\n",
      " 79%|███████▊  | 992/1261 [01:11<00:19, 13.81it/s]\u001b[A\u001b[A\u001b[A\u001b[A\u001b[A\u001b[A\u001b[A\u001b[A"
     ]
    },
    {
     "name": "stdout",
     "output_type": "stream",
     "text": [
      "480.479669479\n",
      "(array([  5.54025042e-05,  -8.34286906e-02,   4.77445090e+02]), array([  3.41797719e-04,  -3.33814385e-01,   1.06492280e+03])) (2964.3128017953086, 480.47966947866104)\n",
      "479.636746097\n",
      "(array([  7.32996865e-05,  -8.83102998e-02,   4.71200876e+02]), array([  3.42399818e-04,  -3.42979741e-01,   1.06953081e+03])) (2240.5007552597372, 479.63674609705896)\n",
      "407.382196396\n",
      "(array([  2.90775006e-04,  -2.90164025e-01,   5.14994062e+02]), array([  4.03127179e-04,  -3.92245252e-01,   1.07186743e+03])) (564.79134912711413, 407.38219639615733)\n",
      "414.730339932\n",
      "(array([  3.49635179e-04,  -3.40764704e-01,   5.22733077e+02]), array([  3.95986800e-04,  -3.96135169e-01,   1.07254428e+03])) (469.70911533501265, 414.73033993173328)\n"
     ]
    },
    {
     "name": "stderr",
     "output_type": "stream",
     "text": [
      "\n",
      "\n",
      "\n",
      "\n",
      "\n",
      "\n",
      "\n",
      "\n",
      " 79%|███████▉  | 994/1261 [01:11<00:18, 14.24it/s]\u001b[A\u001b[A\u001b[A\u001b[A\u001b[A\u001b[A\u001b[A\u001b[A\n",
      "\n",
      "\n",
      "\n",
      "\n",
      "\n",
      "\n",
      "\n",
      " 79%|███████▉  | 996/1261 [01:11<00:18, 14.33it/s]\u001b[A\u001b[A\u001b[A\u001b[A\u001b[A\u001b[A\u001b[A\u001b[A"
     ]
    },
    {
     "name": "stdout",
     "output_type": "stream",
     "text": [
      "793.808575803\n",
      "(array([  3.54861860e-04,  -3.63915261e-01,   5.33086533e+02]), array([  2.06896173e-04,  -2.46871841e-01,   1.04570888e+03])) (462.79662035227699, 793.80857580296686)\n",
      "830.297272518\n",
      "(array([  3.06659151e-04,  -3.24262236e-01,   5.25290779e+02]), array([  1.97803854e-04,  -2.38258361e-01,   1.04243220e+03])) (535.5465926837885, 830.2972725179327)\n",
      "879.019282375\n",
      "(array([  2.35573506e-04,  -2.57036639e-01,   5.06732118e+02]), array([  1.86844244e-04,  -2.36560800e-01,   1.04691351e+03])) (697.1518626203225, 879.01928237460163)\n"
     ]
    },
    {
     "name": "stderr",
     "output_type": "stream",
     "text": [
      "\n",
      "\n",
      "\n",
      "\n",
      "\n",
      "\n",
      "\n",
      "\n",
      " 79%|███████▉  | 998/1261 [01:12<00:18, 14.50it/s]\u001b[A\u001b[A\u001b[A\u001b[A\u001b[A\u001b[A\u001b[A\u001b[A\n",
      "\n",
      "\n",
      "\n",
      "\n",
      "\n",
      "\n",
      "\n",
      " 79%|███████▉  | 1000/1261 [01:12<00:17, 14.72it/s]"
     ]
    },
    {
     "name": "stdout",
     "output_type": "stream",
     "text": [
      "899.223786537\n",
      "(array([  2.80949999e-04,  -2.97614967e-01,   5.12266357e+02]), array([  1.82648411e-04,  -2.36995688e-01,   1.04610093e+03])) (584.55174781921266, 899.22378653668625)\n",
      "1004.73043697\n",
      "(array([  2.62225669e-04,  -2.72383608e-01,   4.98911496e+02]), array([  1.63477787e-04,  -2.35361638e-01,   1.05262215e+03])) (626.28657719514331, 1004.7304369680504)\n",
      "930.376738704\n",
      "(array([  2.68191052e-04,  -2.88885963e-01,   5.03566130e+02]), array([  1.76541934e-04,  -2.46932524e-01,   1.05362510e+03])) (612.3643562271626, 930.37673870431217)\n",
      "591.971101503\n",
      "(array([  1.62990153e-04,  -1.91377563e-01,   4.78311731e+02]), array([  2.77430973e-04,  -2.99618067e-01,   1.06037930e+03])) (1007.6164382217926, 591.97110150332708)\n"
     ]
    },
    {
     "name": "stderr",
     "output_type": "stream",
     "text": [
      "\u001b[A\u001b[A\u001b[A\u001b[A\u001b[A\u001b[A\u001b[A\u001b[A\n",
      "\n",
      "\n",
      "\n",
      "\n",
      "\n",
      "\n",
      "\n",
      " 79%|███████▉  | 1002/1261 [01:12<00:17, 14.88it/s]\u001b[A\u001b[A\u001b[A\u001b[A\u001b[A\u001b[A\u001b[A\u001b[A\n",
      "\n",
      "\n",
      "\n",
      "\n",
      "\n",
      "\n",
      "\n",
      " 80%|███████▉  | 1004/1261 [01:12<00:17, 14.54it/s]"
     ]
    },
    {
     "name": "stdout",
     "output_type": "stream",
     "text": [
      "688.872186544\n",
      "(array([  1.32685277e-04,  -1.44431844e-01,   4.52650215e+02]), array([  2.38421358e-04,  -2.90633159e-01,   1.07355015e+03])) (1237.72496478368, 688.87218654396452)\n",
      "842.135554037\n",
      "(array([  8.46652490e-05,  -8.69655841e-02,   4.27856243e+02]), array([  1.95050066e-04,  -2.76907138e-01,   1.08199726e+03])) (1939.7197430229071, 842.13555403683188)\n",
      "926.00188415\n",
      "(array([  4.86628323e-05,  -3.14038230e-02,   4.00609601e+02]), array([  1.77403219e-04,  -2.81467871e-01,   1.09488657e+03])) (3374.8067778634172, 926.00188415035529)\n"
     ]
    },
    {
     "name": "stderr",
     "output_type": "stream",
     "text": [
      "\u001b[A\u001b[A\u001b[A\u001b[A\u001b[A\u001b[A\u001b[A\u001b[A\n",
      "\n",
      "\n",
      "\n",
      "\n",
      "\n",
      "\n",
      "\n",
      " 80%|███████▉  | 1006/1261 [01:12<00:18, 13.85it/s]\u001b[A\u001b[A\u001b[A\u001b[A\u001b[A\u001b[A\u001b[A\u001b[A"
     ]
    },
    {
     "name": "stdout",
     "output_type": "stream",
     "text": [
      "873.518955341\n",
      "(array([ -4.70628162e-06,  -4.35937804e-03,   4.03857262e+02]), array([  1.88059391e-04,  -2.89089416e-01,   1.09536331e+03])) (34895.285142544417, 873.51895534074231)\n",
      "436.045608882\n",
      "(array([  8.02863023e-05,  -1.46714709e-01,   4.74876070e+02]), array([  3.76630975e-04,  -3.81376885e-01,   1.07710972e+03])) (2045.7531114538838, 436.04560888198176)\n",
      "493.761482321\n",
      "(array([  2.53697247e-05,  -8.76119014e-02,   4.58961085e+02]), array([  3.32619823e-04,  -3.64600479e-01,   1.08224053e+03])) (6473.9602758213159, 493.76148232101468)\n"
     ]
    },
    {
     "name": "stderr",
     "output_type": "stream",
     "text": [
      "\n",
      "\n",
      "\n",
      "\n",
      "\n",
      "\n",
      "\n",
      "\n",
      " 80%|███████▉  | 1008/1261 [01:12<00:20, 12.50it/s]\u001b[A\u001b[A\u001b[A\u001b[A\u001b[A\u001b[A\u001b[A\u001b[A\n",
      "\n",
      "\n",
      "\n",
      "\n",
      "\n",
      "\n",
      "\n",
      " 80%|████████  | 1010/1261 [01:12<00:19, 13.02it/s]"
     ]
    },
    {
     "name": "stdout",
     "output_type": "stream",
     "text": [
      "718.560756865\n",
      "(array([  1.22623262e-05,  -1.20462364e-01,   4.87714314e+02]), array([  2.28564091e-04,  -2.70786404e-01,   1.05158033e+03])) (13396.606707151748, 718.56075686460701)\n",
      "742.192436953\n",
      "(array([  5.76533384e-05,  -1.41683961e-01,   4.82509659e+02]), array([  2.21293122e-04,  -2.74676497e-01,   1.05504109e+03])) (2849.0332431313345, 742.19243695321359)\n",
      "810.072685358\n",
      "(array([  1.13991569e-04,  -1.78707847e-01,   4.78894678e+02]), array([  2.02758062e-04,  -2.69211630e-01,   1.05774653e+03])) (1440.8587713364343, 810.07268535791422)\n"
     ]
    },
    {
     "name": "stderr",
     "output_type": "stream",
     "text": [
      "\u001b[A\u001b[A\u001b[A\u001b[A\u001b[A\u001b[A\u001b[A\u001b[A\n",
      "\n",
      "\n",
      "\n",
      "\n",
      "\n",
      "\n",
      "\n",
      " 80%|████████  | 1012/1261 [01:13<00:18, 13.22it/s]\u001b[A\u001b[A\u001b[A\u001b[A\u001b[A\u001b[A\u001b[A\u001b[A"
     ]
    },
    {
     "name": "stdout",
     "output_type": "stream",
     "text": [
      "722.878723637\n",
      "(array([  3.97009698e-05,  -1.07727861e-01,   4.63193040e+02]), array([  2.27211186e-04,  -2.88086147e-01,   1.05523767e+03])) (4137.0762396682649, 722.87872363659585)\n",
      "910.050517777\n",
      "(array([  4.87273948e-06,  -3.72697660e-02,   4.24495320e+02]), array([  1.80498052e-04,  -2.68065135e-01,   1.06462841e+03])) (33704.0259517983, 910.05051777654103)\n",
      "859.200548088\n",
      "(array([  1.68205983e-05,  -4.42194524e-02,   4.20935799e+02]), array([  1.91181384e-04,  -2.79385592e-01,   1.06468759e+03])) (9763.6153007400062, 859.20054808833083)\n"
     ]
    },
    {
     "name": "stderr",
     "output_type": "stream",
     "text": [
      "\n",
      "\n",
      "\n",
      "\n",
      "\n",
      "\n",
      "\n",
      "\n",
      " 80%|████████  | 1014/1261 [01:13<00:18, 13.54it/s]\u001b[A\u001b[A\u001b[A\u001b[A\u001b[A\u001b[A\u001b[A\u001b[A\n",
      "\n",
      "\n",
      "\n",
      "\n",
      "\n",
      "\n",
      "\n",
      " 81%|████████  | 1016/1261 [01:13<00:17, 13.87it/s]"
     ]
    },
    {
     "name": "stdout",
     "output_type": "stream",
     "text": [
      "813.760528882\n",
      "(array([  7.79496943e-05,  -8.74550007e-02,   4.25599170e+02]), array([  2.01852099e-04,  -2.84381780e-01,   1.06322073e+03])) (2106.8377480607342, 813.76052888211052)\n",
      "824.209273001\n",
      "(array([  9.13538314e-05,  -8.70598750e-02,   4.18701695e+02]), array([  1.99303744e-04,  -2.93357167e-01,   1.06779424e+03])) (1797.6994050476601, 824.20927300105848)\n",
      "718.971671223\n",
      "(array([  9.70684627e-05,  -9.87122909e-02,   4.23653883e+02]), array([  2.28465025e-04,  -3.10775751e-01,   1.06871014e+03])) (1691.8661661770607, 718.97167122304734)\n"
     ]
    },
    {
     "name": "stderr",
     "output_type": "stream",
     "text": [
      "\u001b[A\u001b[A\u001b[A\u001b[A\u001b[A\u001b[A\u001b[A\u001b[A\n",
      "\n",
      "\n",
      "\n",
      "\n",
      "\n",
      "\n",
      "\n",
      " 81%|████████  | 1018/1261 [01:13<00:17, 13.80it/s]\u001b[A\u001b[A\u001b[A\u001b[A\u001b[A\u001b[A\u001b[A\u001b[A"
     ]
    },
    {
     "name": "stdout",
     "output_type": "stream",
     "text": [
      "731.008944368\n",
      "(array([  5.59736998e-05,  -6.89046145e-02,   4.19741415e+02]), array([  2.24707918e-04,  -3.12027381e-01,   1.07000002e+03])) (2934.0143613952951, 731.00894436848989)\n",
      "787.160155063\n",
      "(array([  9.17993346e-05,  -1.09459427e-01,   4.32470758e+02]), array([  2.08685739e-04,  -3.03720482e-01,   1.06716547e+03])) (1788.994783174355, 787.16015506303631)\n",
      "864.959666315\n",
      "(array([  1.12641449e-04,  -1.26475816e-01,   4.35035971e+02]), array([  1.89921064e-04,  -2.91592183e-01,   1.06719208e+03])) (1457.9718297913164, 864.95966631482111)\n"
     ]
    },
    {
     "name": "stderr",
     "output_type": "stream",
     "text": [
      "\n",
      "\n",
      "\n",
      "\n",
      "\n",
      "\n",
      "\n",
      "\n",
      " 81%|████████  | 1020/1261 [01:13<00:18, 12.99it/s]\u001b[A\u001b[A\u001b[A\u001b[A\u001b[A\u001b[A\u001b[A\u001b[A\n",
      "\n",
      "\n",
      "\n",
      "\n",
      "\n",
      "\n",
      "\n",
      " 81%|████████  | 1022/1261 [01:13<00:17, 13.48it/s]"
     ]
    },
    {
     "name": "stdout",
     "output_type": "stream",
     "text": [
      "701.186043451\n",
      "(array([  6.12800758e-05,  -7.57655637e-02,   4.21385655e+02]), array([  2.34279386e-04,  -3.33452961e-01,   1.07946498e+03])) (2679.9553001671197, 701.18604345139249)\n",
      "677.925474202\n",
      "(array([  6.40946951e-05,  -1.04211449e-01,   4.40772840e+02]), array([  2.42308616e-04,  -3.33635089e-01,   1.07308858e+03])) (2562.3641392799364, 677.92547420161782)\n",
      "901.407426142\n",
      "(array([  7.31683516e-05,  -9.78489685e-02,   4.30300091e+02]), array([  1.82245982e-04,  -2.88548203e-01,   1.06983449e+03])) (2244.5462363228557, 901.40742614187798)\n",
      "1349.15308618"
     ]
    },
    {
     "name": "stderr",
     "output_type": "stream",
     "text": [
      "\u001b[A\u001b[A\u001b[A\u001b[A\u001b[A\u001b[A\u001b[A\u001b[A\n",
      "\n",
      "\n",
      "\n",
      "\n",
      "\n",
      "\n",
      "\n",
      " 81%|████████  | 1024/1261 [01:13<00:16, 13.98it/s]\u001b[A\u001b[A\u001b[A\u001b[A\u001b[A\u001b[A\u001b[A\u001b[A"
     ]
    },
    {
     "name": "stdout",
     "output_type": "stream",
     "text": [
      "\n",
      "(array([  1.19685487e-04,  -1.25649163e-01,   4.25027141e+02]), array([  1.21769471e-04,  -2.38819460e-01,   1.06412764e+03])) (1372.1562180055505, 1349.1530861754161)\n",
      "1110.62376641\n",
      "(array([  1.53016565e-04,  -1.54059326e-01,   4.27405462e+02]), array([  1.47924862e-04,  -2.67204317e-01,   1.07229879e+03])) (1073.2624266405849, 1110.6237664132368)\n",
      "1033.3324504\n",
      "(array([  1.30976847e-04,  -1.30897275e-01,   4.18374652e+02]), array([  1.58993394e-04,  -2.81958304e-01,   1.07880021e+03])) (1253.8615516083801, 1033.3324503994277)\n",
      "1051.66491405\n",
      "(array([  1.90594408e-04,  -2.13640119e-01,   4.49305319e+02]), array([  1.56202438e-04,  -2.57551223e-01,   1.06034752e+03])) (861.67509983387765, 1051.6649140515849)\n"
     ]
    },
    {
     "name": "stderr",
     "output_type": "stream",
     "text": [
      "\n",
      "\n",
      "\n",
      "\n",
      "\n",
      "\n",
      "\n",
      "\n",
      " 81%|████████▏ | 1026/1261 [01:14<00:16, 14.30it/s]\u001b[A\u001b[A\u001b[A\u001b[A\u001b[A\u001b[A\u001b[A\u001b[A\n",
      "\n",
      "\n",
      "\n",
      "\n",
      "\n",
      "\n",
      "\n",
      " 82%|████████▏ | 1028/1261 [01:14<00:15, 14.85it/s]\u001b[A\u001b[A\u001b[A\u001b[A\u001b[A\u001b[A\u001b[A\u001b[A\n",
      "\n",
      "\n",
      "\n",
      "\n",
      "\n",
      "\n",
      "\n",
      " 82%|████████▏ | 1030/1261 [01:14<00:14, 15.40it/s]"
     ]
    },
    {
     "name": "stdout",
     "output_type": "stream",
     "text": [
      "366.250588753\n",
      "(array([  1.82395959e-04,  -2.25679861e-01,   4.61334545e+02]), array([  4.48508467e-04,  -5.30718138e-01,   1.11854767e+03])) (900.4413766771587, 366.25058875336111)\n",
      "329.591547962\n",
      "(array([  2.33916961e-04,  -2.94415593e-01,   4.86123658e+02]), array([  4.98420560e-04,  -5.89063440e-01,   1.13189418e+03])) (702.15546342020411, 329.59154796209197)\n",
      "309.47400311\n",
      "(array([  2.73781117e-04,  -3.45989782e-01,   5.03944388e+02]), array([  5.30866316e-04,  -6.35287142e-01,   1.14559506e+03])) (599.94693768825255, 309.47400310953651)\n",
      "433.212225274\n",
      "(array([  2.56192241e-04,  -3.21318865e-01,   4.93942194e+02]), array([  3.79223286e-04,  -4.84419468e-01,   1.11066038e+03])) (641.11718945505379, 433.2122252740154)\n"
     ]
    },
    {
     "name": "stderr",
     "output_type": "stream",
     "text": [
      "\u001b[A\u001b[A\u001b[A\u001b[A\u001b[A\u001b[A\u001b[A\u001b[A\n",
      "\n",
      "\n",
      "\n",
      "\n",
      "\n",
      "\n",
      "\n",
      " 82%|████████▏ | 1032/1261 [01:14<00:14, 15.75it/s]\u001b[A\u001b[A\u001b[A\u001b[A\u001b[A\u001b[A\u001b[A\u001b[A"
     ]
    },
    {
     "name": "stdout",
     "output_type": "stream",
     "text": [
      "871.240978181\n",
      "(array([  2.04387970e-04,  -2.85776147e-01,   4.92498422e+02]), array([  1.88522659e-04,  -2.55373417e-01,   1.03972881e+03])) (803.66045053380196, 871.24097818078633)\n",
      "890.690177734\n",
      "(array([  1.85832915e-04,  -2.68441446e-01,   4.86886787e+02]), array([  1.84410985e-04,  -2.58524861e-01,   1.04316749e+03])) (883.90621280756727, 890.69017773385872)\n",
      "843.610099027\n",
      "(array([  1.74721691e-04,  -2.47852796e-01,   4.74612528e+02]), array([  1.94707511e-04,  -2.74625859e-01,   1.05214598e+03])) (940.07889952944743, 843.61009902722492)\n",
      "702.373370384\n",
      "(array([  1.40815445e-04,  -2.36955205e-01,   4.84182766e+02]), array([  2.33849530e-04,  -3.00590739e-01,   1.05096319e+03])) (1166.5466699276703, 702.37337038363864)\n"
     ]
    },
    {
     "name": "stderr",
     "output_type": "stream",
     "text": [
      "\n",
      "\n",
      "\n",
      "\n",
      "\n",
      "\n",
      "\n",
      "\n",
      " 82%|████████▏ | 1034/1261 [01:14<00:14, 15.26it/s]\u001b[A\u001b[A\u001b[A\u001b[A\u001b[A\u001b[A\u001b[A\u001b[A\n",
      "\n",
      "\n",
      "\n",
      "\n",
      "\n",
      "\n",
      "\n",
      " 82%|████████▏ | 1036/1261 [01:14<00:14, 15.04it/s]\u001b[A\u001b[A\u001b[A\u001b[A\u001b[A\u001b[A\u001b[A\u001b[A\n",
      "\n",
      "\n",
      "\n",
      "\n",
      "\n",
      "\n",
      "\n",
      " 82%|████████▏ | 1038/1261 [01:14<00:14, 15.46it/s]"
     ]
    },
    {
     "name": "stdout",
     "output_type": "stream",
     "text": [
      "631.620786375\n",
      "(array([  9.85810780e-05,  -2.19108150e-01,   4.92010812e+02]), array([  2.60038686e-04,  -3.19071509e-01,   1.05131303e+03])) (1666.5282229451166, 631.62078637494062)\n",
      "579.084462398\n",
      "(array([  2.21014152e-04,  -3.46456251e-01,   5.28090010e+02]), array([  2.83625197e-04,  -3.36240251e-01,   1.04905615e+03])) (743.38323389320351, 579.08446239844784)\n",
      "583.266066679\n",
      "(array([  1.85937643e-04,  -3.11447865e-01,   5.21031854e+02]), array([  2.81599674e-04,  -3.42783493e-01,   1.05415894e+03])) (883.61236634640306, 583.26606667860722)\n",
      "494.120733672\n",
      "(array([  2.26523539e-04,  -3.40665833e-01,   5.22551207e+02]), array([  3.32394941e-04,  -3.83623719e-01,   1.06456794e+03])) (725.25312428384564, 494.12073367204943)\n"
     ]
    },
    {
     "name": "stderr",
     "output_type": "stream",
     "text": [
      "\u001b[A\u001b[A\u001b[A\u001b[A\u001b[A\u001b[A\u001b[A\u001b[A\n",
      "\n",
      "\n",
      "\n",
      "\n",
      "\n",
      "\n",
      "\n",
      " 82%|████████▏ | 1040/1261 [01:15<00:13, 15.80it/s]\u001b[A\u001b[A\u001b[A\u001b[A\u001b[A\u001b[A\u001b[A\u001b[A\n",
      "\n",
      "\n",
      "\n",
      "\n",
      "\n",
      "\n",
      "\n",
      " 83%|████████▎ | 1042/1261 [01:15<00:13, 16.09it/s]"
     ]
    },
    {
     "name": "stdout",
     "output_type": "stream",
     "text": [
      "618.786836579\n",
      "(array([  2.72886706e-04,  -4.01146343e-01,   5.45674239e+02]), array([  2.65441911e-04,  -3.34606087e-01,   1.05454248e+03])) (602.09426272894098, 618.78683657920828)\n",
      "505.057611963\n",
      "(array([  3.21435491e-04,  -4.17456708e-01,   5.36236927e+02]), array([  3.25221479e-04,  -3.97529732e-01,   1.07352016e+03])) (511.06280517696297, 505.05761196306304)\n",
      "554.481308425\n",
      "(array([  3.58840798e-04,  -4.44667829e-01,   5.36334313e+02]), array([  2.96258795e-04,  -3.88841812e-01,   1.07716883e+03])) (457.76989579372048, 554.48130842486569)\n",
      "736.858747239\n",
      "(array([  4.01695808e-04,  -4.98887035e-01,   5.54967408e+02]), array([  2.22940530e-04,  -3.25143747e-01,   1.06263091e+03])) (408.96015951213406, 736.85874723874701)\n"
     ]
    },
    {
     "name": "stderr",
     "output_type": "stream",
     "text": [
      "\u001b[A\u001b[A\u001b[A\u001b[A\u001b[A\u001b[A\u001b[A\u001b[A\n",
      "\n",
      "\n",
      "\n",
      "\n",
      "\n",
      "\n",
      "\n",
      " 83%|████████▎ | 1044/1261 [01:15<00:14, 14.68it/s]\u001b[A\u001b[A\u001b[A\u001b[A\u001b[A\u001b[A\u001b[A\u001b[A"
     ]
    },
    {
     "name": "stdout",
     "output_type": "stream",
     "text": [
      "760.162153829\n",
      "(array([  4.04315411e-04,  -4.90245938e-01,   5.47060628e+02]), array([  2.16118784e-04,  -3.29044822e-01,   1.06881402e+03])) (406.28690300473966, 760.16215382866756)\n",
      "765.704530622\n",
      "(array([  4.09072765e-04,  -5.03686012e-01,   5.52955102e+02]), array([  2.14556458e-04,  -3.29123688e-01,   1.06938174e+03])) (401.58027152056229, 765.70453062150716)\n",
      "914.555832933\n",
      "(array([  3.12107774e-04,  -3.75804638e-01,   5.09115544e+02]), array([  1.79661247e-04,  -3.17612409e-01,   1.08288866e+03])) (526.25967062329096, 914.55583293341738)\n"
     ]
    },
    {
     "name": "stderr",
     "output_type": "stream",
     "text": [
      "\n",
      "\n",
      "\n",
      "\n",
      "\n",
      "\n",
      "\n",
      "\n",
      " 83%|████████▎ | 1046/1261 [01:15<00:14, 14.71it/s]\u001b[A\u001b[A\u001b[A\u001b[A\u001b[A\u001b[A\u001b[A\u001b[A\n",
      "\n",
      "\n",
      "\n",
      "\n",
      "\n",
      "\n",
      "\n",
      " 83%|████████▎ | 1048/1261 [01:15<00:14, 14.67it/s]"
     ]
    },
    {
     "name": "stdout",
     "output_type": "stream",
     "text": [
      "804.799402792\n",
      "(array([  2.91519035e-04,  -4.12769329e-01,   5.38961276e+02]), array([  2.04143198e-04,  -3.26554094e-01,   1.07126212e+03])) (563.58845317586463, 804.79940279165839)\n",
      "719.257092919\n",
      "(array([  2.56548899e-04,  -3.85847701e-01,   5.34399868e+02]), array([  2.28406386e-04,  -3.38318092e-01,   1.07427596e+03])) (640.43909970500067, 719.25709291923522)\n",
      "986.864255695\n",
      "(array([  2.50552040e-04,  -3.48199650e-01,   5.04762059e+02]), array([  1.66514309e-04,  -3.18902830e-01,   1.08659380e+03])) (655.64297829293946, 986.86425569463245)\n"
     ]
    },
    {
     "name": "stderr",
     "output_type": "stream",
     "text": [
      "\u001b[A\u001b[A\u001b[A\u001b[A\u001b[A\u001b[A\u001b[A\u001b[A\n",
      "\n",
      "\n",
      "\n",
      "\n",
      "\n",
      "\n",
      "\n",
      " 83%|████████▎ | 1050/1261 [01:15<00:14, 14.80it/s]\u001b[A\u001b[A\u001b[A\u001b[A\u001b[A\u001b[A\u001b[A\u001b[A"
     ]
    },
    {
     "name": "stdout",
     "output_type": "stream",
     "text": [
      "947.763912923\n",
      "(array([  2.30541324e-04,  -3.30074241e-01,   4.98459262e+02]), array([  1.73380965e-04,  -3.23260727e-01,   1.08915350e+03])) (712.5560570322308, 947.76391292320238)\n",
      "1171.29353587\n",
      "(array([  1.93693848e-04,  -2.92156242e-01,   4.84560261e+02]), array([  1.40307636e-04,  -3.04783642e-01,   1.09090205e+03])) (848.09842854872034, 1171.2935358651077)\n",
      "1112.8160967\n",
      "(array([  1.73308683e-04,  -3.05997556e-01,   5.05241129e+02]), array([  1.47662710e-04,  -2.96318644e-01,   1.08088957e+03])) (948.04259072271475, 1112.8160967026668)\n"
     ]
    },
    {
     "name": "stderr",
     "output_type": "stream",
     "text": [
      "\n",
      "\n",
      "\n",
      "\n",
      "\n",
      "\n",
      "\n",
      "\n",
      " 83%|████████▎ | 1052/1261 [01:15<00:14, 14.11it/s]\u001b[A\u001b[A\u001b[A\u001b[A\u001b[A\u001b[A\u001b[A\u001b[A\n",
      "\n",
      "\n",
      "\n",
      "\n",
      "\n",
      "\n",
      "\n",
      " 84%|████████▎ | 1054/1261 [01:15<00:14, 13.95it/s]"
     ]
    },
    {
     "name": "stdout",
     "output_type": "stream",
     "text": [
      "910.026893942\n",
      "(array([  1.65504460e-04,  -3.03240642e-01,   5.06676197e+02]), array([  1.80555029e-04,  -3.18201433e-01,   1.08431433e+03])) (992.77895503954198, 910.02689394175241)\n",
      "938.752145137\n",
      "(array([  1.24692429e-04,  -2.65922977e-01,   4.97240976e+02]), array([  1.75038469e-04,  -3.19548290e-01,   1.09037600e+03])) (1317.7342884461941, 938.75214513748006)\n",
      "1426.45344805\n",
      "(array([  7.55766850e-05,  -2.69322911e-01,   5.27567688e+02]), array([  1.15179510e-04,  -2.44849368e-01,   1.06247997e+03])) (2175.0125777156477, 1426.4534480534019)\n"
     ]
    },
    {
     "name": "stderr",
     "output_type": "stream",
     "text": [
      "\u001b[A\u001b[A\u001b[A\u001b[A\u001b[A\u001b[A\u001b[A\u001b[A\n",
      "\n",
      "\n",
      "\n",
      "\n",
      "\n",
      "\n",
      "\n",
      " 84%|████████▎ | 1056/1261 [01:16<00:14, 14.48it/s]\u001b[A\u001b[A\u001b[A\u001b[A\u001b[A\u001b[A\u001b[A\u001b[A"
     ]
    },
    {
     "name": "stdout",
     "output_type": "stream",
     "text": [
      "1136.71442984\n",
      "(array([  9.92775788e-05,  -3.08304839e-01,   5.50196253e+02]), array([  1.44526558e-04,  -2.60423609e-01,   1.06054275e+03])) (1656.0296340219743, 1136.7144298388816)\n",
      "1092.54824515\n",
      "(array([  1.77204772e-04,  -3.85325096e-01,   5.73591286e+02]), array([  1.50361332e-04,  -2.56966896e-01,   1.05569284e+03])) (927.79874841201968, 1092.5482451459147)\n",
      "1007.06247972\n",
      "(array([  1.40555056e-04,  -3.66533832e-01,   5.80811610e+02]), array([  1.63116151e-04,  -2.58817179e-01,   1.05011749e+03])) (1169.9288367284432, 1007.0624797184433)\n"
     ]
    },
    {
     "name": "stderr",
     "output_type": "stream",
     "text": [
      "\n",
      "\n",
      "\n",
      "\n",
      "\n",
      "\n",
      "\n",
      "\n",
      " 84%|████████▍ | 1058/1261 [01:16<00:14, 13.70it/s]\u001b[A\u001b[A\u001b[A\u001b[A\u001b[A\u001b[A\u001b[A\u001b[A\n",
      "\n",
      "\n",
      "\n",
      "\n",
      "\n",
      "\n",
      "\n",
      " 84%|████████▍ | 1060/1261 [01:16<00:14, 13.52it/s]"
     ]
    },
    {
     "name": "stdout",
     "output_type": "stream",
     "text": [
      "1045.12433154\n",
      "(array([  1.58195143e-04,  -3.79653532e-01,   5.85859168e+02]), array([  1.57172579e-04,  -2.48995695e-01,   1.04665818e+03])) (1039.4280107523675, 1045.1243315445654)\n",
      "976.059168581\n",
      "(array([  1.83840990e-04,  -4.14221337e-01,   6.03991870e+02]), array([  1.68283528e-04,  -2.45522797e-01,   1.03803433e+03])) (894.52754189391135, 976.05916858114142)\n",
      "567.26513267\n",
      "(array([  1.78916925e-04,  -4.13789381e-01,   6.12174866e+02]), array([  2.89519274e-04,  -3.21325878e-01,   1.04295474e+03])) (919.1919775521194, 567.26513267021232)\n"
     ]
    },
    {
     "name": "stderr",
     "output_type": "stream",
     "text": [
      "\u001b[A\u001b[A\u001b[A\u001b[A\u001b[A\u001b[A\u001b[A\u001b[A\n",
      "\n",
      "\n",
      "\n",
      "\n",
      "\n",
      "\n",
      "\n",
      " 84%|████████▍ | 1062/1261 [01:16<00:14, 13.78it/s]\u001b[A\u001b[A\u001b[A\u001b[A\u001b[A\u001b[A\u001b[A\u001b[A"
     ]
    },
    {
     "name": "stdout",
     "output_type": "stream",
     "text": [
      "518.076360716\n",
      "(array([  2.09779266e-04,  -4.52561990e-01,   6.31047178e+02]), array([  3.17001598e-04,  -3.37284666e-01,   1.03870297e+03])) (784.04741173987418, 518.07636071564161)\n",
      "526.851536578\n",
      "(array([  2.01195591e-04,  -4.31985169e-01,   6.24559019e+02]), array([  3.11724174e-04,  -3.36951485e-01,   1.04082385e+03])) (817.37832209789599, 526.85153657825083)\n",
      "704.217598694\n",
      "(array([  1.85668761e-04,  -3.67670940e-01,   5.87305676e+02]), array([  2.33233777e-04,  -2.95996118e-01,   1.05073267e+03])) (885.28085044567911, 704.21759869421976)\n"
     ]
    },
    {
     "name": "stderr",
     "output_type": "stream",
     "text": [
      "\n",
      "\n",
      "\n",
      "\n",
      "\n",
      "\n",
      "\n",
      "\n",
      " 84%|████████▍ | 1064/1261 [01:16<00:14, 13.97it/s]\u001b[A\u001b[A\u001b[A\u001b[A\u001b[A\u001b[A\u001b[A\u001b[A\n",
      "\n",
      "\n",
      "\n",
      "\n",
      "\n",
      "\n",
      "\n",
      " 85%|████████▍ | 1066/1261 [01:16<00:13, 14.04it/s]"
     ]
    },
    {
     "name": "stdout",
     "output_type": "stream",
     "text": [
      "804.039911872\n",
      "(array([  1.44385997e-04,  -3.08183079e-01,   5.64287731e+02]), array([  2.04289797e-04,  -2.83720141e-01,   1.05723812e+03])) (1138.2040880991271, 804.03991187192958)\n",
      "774.915500761\n",
      "(array([  1.06597271e-04,  -2.44377599e-01,   5.35631025e+02]), array([  2.11983799e-04,  -3.07414384e-01,   1.07373752e+03])) (1541.378284739448, 774.91550076052181)\n",
      "822.986827114\n",
      "(array([  1.05086957e-04,  -2.25763118e-01,   5.22416687e+02]), array([  1.99618806e-04,  -3.11457351e-01,   1.08338157e+03])) (1563.3581697485365, 822.98682711383697)\n"
     ]
    },
    {
     "name": "stderr",
     "output_type": "stream",
     "text": [
      "\u001b[A\u001b[A\u001b[A\u001b[A\u001b[A\u001b[A\u001b[A\u001b[A\n",
      "\n",
      "\n",
      "\n",
      "\n",
      "\n",
      "\n",
      "\n",
      " 85%|████████▍ | 1068/1261 [01:17<00:14, 12.95it/s]\u001b[A\u001b[A\u001b[A\u001b[A\u001b[A\u001b[A\u001b[A\u001b[A"
     ]
    },
    {
     "name": "stdout",
     "output_type": "stream",
     "text": [
      "888.897895398\n",
      "(array([  1.05626637e-04,  -2.29562432e-01,   5.26417463e+02]), array([  1.84814291e-04,  -2.94462266e-01,   1.07777415e+03])) (1555.4016424144265, 888.89789539794583)\n",
      "884.048521832\n",
      "(array([  9.87527729e-05,  -2.14566077e-01,   5.20291773e+02]), array([  1.85830917e-04,  -2.98115657e-01,   1.08050020e+03])) (1663.5845864942344, 884.0485218318986)\n",
      "802.839635272\n",
      "(array([  1.14638623e-04,  -2.41795733e-01,   5.33544287e+02]), array([  2.04618680e-04,  -3.07902540e-01,   1.07799471e+03])) (1433.1604121667103, 802.83963527218236)\n"
     ]
    },
    {
     "name": "stderr",
     "output_type": "stream",
     "text": [
      "\n",
      "\n",
      "\n",
      "\n",
      "\n",
      "\n",
      "\n",
      "\n",
      " 85%|████████▍ | 1070/1261 [01:17<00:14, 13.59it/s]\u001b[A\u001b[A\u001b[A\u001b[A\u001b[A\u001b[A\u001b[A\u001b[A\n",
      "\n",
      "\n",
      "\n",
      "\n",
      "\n",
      "\n",
      "\n",
      " 85%|████████▌ | 1072/1261 [01:17<00:13, 14.15it/s]"
     ]
    },
    {
     "name": "stdout",
     "output_type": "stream",
     "text": [
      "740.001987762\n",
      "(array([  9.58214018e-05,  -2.26065019e-01,   5.32001016e+02]), array([  2.21991906e-04,  -3.22830827e-01,   1.08055689e+03])) (1714.6273466879572, 740.00198776166178)\n",
      "768.810913443\n",
      "(array([  9.19372979e-05,  -2.10448050e-01,   5.22481379e+02]), array([  2.13682811e-04,  -3.22866826e-01,   1.08687323e+03])) (1786.9343632510361, 768.81091344285142)\n",
      "603.937625806\n",
      "(array([  1.11379083e-04,  -2.38070102e-01,   5.34208705e+02]), array([  2.71987658e-04,  -3.57524394e-01,   1.08902504e+03])) (1475.096674481912, 603.93762580632472)\n",
      "606.118031626\n",
      "(array([  1.09986216e-04,  -2.26064808e-01,   5.27698760e+02]), array([  2.71019175e-04,  -3.64181207e-01,   1.09442329e+03])) (1493.680546186039, 606.11803162633805)\n"
     ]
    },
    {
     "name": "stderr",
     "output_type": "stream",
     "text": [
      "\u001b[A\u001b[A\u001b[A\u001b[A\u001b[A\u001b[A\u001b[A\u001b[A\n",
      "\n",
      "\n",
      "\n",
      "\n",
      "\n",
      "\n",
      "\n",
      " 85%|████████▌ | 1074/1261 [01:17<00:13, 14.06it/s]\u001b[A\u001b[A\u001b[A\u001b[A\u001b[A\u001b[A\u001b[A\u001b[A\n",
      "\n",
      "\n",
      "\n",
      "\n",
      "\n",
      "\n",
      "\n",
      " 85%|████████▌ | 1076/1261 [01:17<00:12, 14.36it/s]"
     ]
    },
    {
     "name": "stdout",
     "output_type": "stream",
     "text": [
      "610.147421124\n",
      "(array([  1.00800838e-04,  -2.26065793e-01,   5.32469368e+02]), array([  2.69234660e-04,  -3.66307385e-01,   1.09516555e+03])) (1629.8773717668837, 610.14742112396436)\n",
      "616.033022901\n",
      "(array([  1.21422489e-04,  -2.43712547e-01,   5.38186826e+02]), array([  2.66671195e-04,  -3.70018525e-01,   1.09670008e+03])) (1353.0509858741605, 616.03302290113459)\n",
      "657.670099976\n",
      "(array([  1.10900391e-04,  -2.31710556e-01,   5.34696123e+02]), array([  2.49805385e-04,  -3.65677730e-01,   1.10118631e+03])) (1481.4097221172947, 657.67009997579578)\n",
      "1127.16805729\n"
     ]
    },
    {
     "name": "stderr",
     "output_type": "stream",
     "text": [
      "\u001b[A\u001b[A\u001b[A\u001b[A\u001b[A\u001b[A\u001b[A\u001b[A\n",
      "\n",
      "\n",
      "\n",
      "\n",
      "\n",
      "\n",
      "\n",
      " 85%|████████▌ | 1078/1261 [01:17<00:12, 14.63it/s]\u001b[A\u001b[A\u001b[A\u001b[A\u001b[A\u001b[A\u001b[A\u001b[A\n",
      "\n",
      "\n",
      "\n",
      "\n",
      "\n",
      "\n",
      "\n",
      " 86%|████████▌ | 1080/1261 [01:17<00:12, 15.02it/s]"
     ]
    },
    {
     "name": "stdout",
     "output_type": "stream",
     "text": [
      "(array([  1.23444864e-04,  -2.62302738e-01,   5.54370329e+02]), array([  1.45756441e-04,  -2.68243914e-01,   1.07632203e+03])) (1331.0290833368419, 1127.1680572905091)\n",
      "1028.22459854\n",
      "(array([  9.77211452e-05,  -2.38610041e-01,   5.51971049e+02]), array([  1.59780445e-04,  -2.79905067e-01,   1.07959286e+03])) (1681.4155229315293, 1028.2245985439613)\n",
      "1063.49082489\n",
      "(array([  8.27347056e-05,  -2.24506386e-01,   5.48625674e+02]), array([  1.54486871e-04,  -2.79890923e-01,   1.08412218e+03])) (1985.9885275292568, 1063.4908248873342)\n",
      "1059.75206437\n",
      "(array([  8.92321099e-05,  -2.23937216e-01,   5.46855570e+02]), array([  1.55035264e-04,  -2.83795963e-01,   1.08846567e+03])) (1841.293780588195, 1059.7520643748678)\n",
      "1268.19587956\n",
      "(array([  1.08405024e-04,  -2.21608727e-01,   5.35951924e+02]), array([  1.29568135e-04,  -2.75927014e-01,   1.09794192e+03])) (1515.4417512462528, 1268.1958795647959)\n"
     ]
    },
    {
     "name": "stderr",
     "output_type": "stream",
     "text": [
      "\u001b[A\u001b[A\u001b[A\u001b[A\u001b[A\u001b[A\u001b[A\u001b[A\n",
      "\n",
      "\n",
      "\n",
      "\n",
      "\n",
      "\n",
      "\n",
      " 86%|████████▌ | 1082/1261 [01:17<00:11, 15.29it/s]\u001b[A\u001b[A\u001b[A\u001b[A\u001b[A\u001b[A\u001b[A\u001b[A\n",
      "\n",
      "\n",
      "\n",
      "\n",
      "\n",
      "\n",
      "\n",
      " 86%|████████▌ | 1084/1261 [01:18<00:11, 14.80it/s]"
     ]
    },
    {
     "name": "stdout",
     "output_type": "stream",
     "text": [
      "1104.22309407\n",
      "(array([  1.07106297e-04,  -2.25808452e-01,   5.40602252e+02]), array([  1.48802845e-04,  -2.89110352e-01,   1.09872067e+03])) (1533.8658573472017, 1104.2230940666605)\n",
      "824.187526886\n",
      "(array([  1.02496398e-04,  -2.22418861e-01,   5.40555522e+02]), array([  1.99331374e-04,  -3.14077261e-01,   1.10138429e+03])) (1602.8632293726923, 824.18752688572818)\n",
      "636.130679101\n",
      "(array([  1.04252036e-04,  -2.19954684e-01,   5.37591626e+02]), array([  2.58231392e-04,  -3.51054915e-01,   1.10786037e+03])) (1575.8320059882867, 636.13067910123129)\n"
     ]
    },
    {
     "name": "stderr",
     "output_type": "stream",
     "text": [
      "\u001b[A\u001b[A\u001b[A\u001b[A\u001b[A\u001b[A\u001b[A\u001b[A\n",
      "\n",
      "\n",
      "\n",
      "\n",
      "\n",
      "\n",
      "\n",
      " 86%|████████▌ | 1086/1261 [01:18<00:11, 14.80it/s]\u001b[A\u001b[A\u001b[A\u001b[A\u001b[A\u001b[A\u001b[A\u001b[A"
     ]
    },
    {
     "name": "stdout",
     "output_type": "stream",
     "text": [
      "680.435972794\n",
      "(array([  1.05301755e-04,  -2.24404997e-01,   5.40836264e+02]), array([  2.41426954e-04,  -3.42782220e-01,   1.10624848e+03])) (1560.1545720527679, 680.43597279382527)\n",
      "835.265831981\n",
      "(array([  1.06543746e-04,  -2.10703677e-01,   5.30270022e+02]), array([  1.96701655e-04,  -3.23075047e-01,   1.11089374e+03])) (1541.839256970793, 835.26583198076639)\n",
      "743.853129287\n",
      "(array([  1.23580899e-04,  -2.31646769e-01,   5.38424658e+02]), array([  2.20858808e-04,  -3.34829178e-01,   1.10715913e+03])) (1329.3102686104389, 743.85312928736585)\n",
      "657.150384752\n",
      "(array([  1.17184246e-04,  -2.30583888e-01,   5.41442611e+02]), array([  2.49986095e-04,  -3.54217618e-01,   1.10662748e+03])) "
     ]
    },
    {
     "name": "stderr",
     "output_type": "stream",
     "text": [
      "\n",
      "\n",
      "\n",
      "\n",
      "\n",
      "\n",
      "\n",
      "\n",
      " 86%|████████▋ | 1088/1261 [01:18<00:11, 14.81it/s]\u001b[A\u001b[A\u001b[A\u001b[A\u001b[A\u001b[A\u001b[A\u001b[A\n",
      "\n",
      "\n",
      "\n",
      "\n",
      "\n",
      "\n",
      "\n",
      " 86%|████████▋ | 1090/1261 [01:18<00:11, 14.40it/s]\u001b[A\u001b[A\u001b[A\u001b[A\u001b[A\u001b[A\u001b[A\u001b[A"
     ]
    },
    {
     "name": "stdout",
     "output_type": "stream",
     "text": [
      "(1401.9120830829938, 657.15038475154222)\n",
      "644.464510861\n",
      "(array([  1.04986779e-04,  -2.21527013e-01,   5.40773049e+02]), array([  2.54911429e-04,  -3.62115864e-01,   1.10819082e+03])) (1564.8115269201758, 644.46451086143691)\n",
      "844.693568101\n",
      "(array([  1.24021040e-04,  -2.46809559e-01,   5.51325983e+02]), array([  1.94477679e-04,  -2.95947651e-01,   1.08697548e+03])) (1324.7060927580255, 844.69356810138902)\n",
      "919.151167997\n",
      "(array([  1.21077398e-04,  -2.28621308e-01,   5.40230471e+02]), array([  1.78732083e-04,  -2.89448546e-01,   1.08912365e+03])) (1356.791635720022, 919.15116799697637)\n",
      "894.533113306\n",
      "(array([  1.08153440e-04,  -2.11243153e-01,   5.33890836e+02]), array([  1.83649109e-04,  -2.92451357e-01,   1.08931633e+03])) (1518.8834388999583, 894.53311330589509)\n"
     ]
    },
    {
     "name": "stderr",
     "output_type": "stream",
     "text": [
      "\n",
      "\n",
      "\n",
      "\n",
      "\n",
      "\n",
      "\n",
      "\n",
      " 87%|████████▋ | 1092/1261 [01:18<00:11, 14.60it/s]\u001b[A\u001b[A\u001b[A\u001b[A\u001b[A\u001b[A\u001b[A\u001b[A\n",
      "\n",
      "\n",
      "\n",
      "\n",
      "\n",
      "\n",
      "\n",
      " 87%|████████▋ | 1094/1261 [01:18<00:11, 14.91it/s]\u001b[A\u001b[A\u001b[A\u001b[A\u001b[A\u001b[A\u001b[A\u001b[A\n",
      "\n",
      "\n",
      "\n",
      "\n",
      "\n",
      "\n",
      "\n",
      " 87%|████████▋ | 1096/1261 [01:18<00:10, 15.17it/s]"
     ]
    },
    {
     "name": "stdout",
     "output_type": "stream",
     "text": [
      "882.159624582\n",
      "(array([  1.06312947e-04,  -2.08336117e-01,   5.32176194e+02]), array([  1.86223197e-04,  -2.93145766e-01,   1.08943628e+03])) (1545.1693107997398, 882.1596245822634)\n",
      "939.262659259\n",
      "(array([  7.27464266e-05,  -1.69158754e-01,   5.19786113e+02]), array([  1.74907475e-04,  -2.88167555e-01,   1.09120111e+03])) (2258.0605442014985, 939.2626592591597)\n",
      "652.416184963\n",
      "(array([  8.20288495e-05,  -1.91389527e-01,   5.32179914e+02]), array([  2.51764038e-04,  -3.26043885e-01,   1.08681698e+03])) (2002.6738137574268, 652.41618496336423)\n",
      "692.624795902\n",
      "(array([  6.26280001e-05,  -1.77354711e-01,   5.31404378e+02]), array([  2.37157035e-04,  -3.20436690e-01,   1.08541408e+03])) (2623.1272233618129, 692.62479590167538)\n"
     ]
    },
    {
     "name": "stderr",
     "output_type": "stream",
     "text": [
      "\u001b[A\u001b[A\u001b[A\u001b[A\u001b[A\u001b[A\u001b[A\u001b[A\n",
      "\n",
      "\n",
      "\n",
      "\n",
      "\n",
      "\n",
      "\n",
      " 87%|████████▋ | 1098/1261 [01:19<00:10, 15.22it/s]\u001b[A\u001b[A\u001b[A\u001b[A\u001b[A\u001b[A\u001b[A\u001b[A"
     ]
    },
    {
     "name": "stdout",
     "output_type": "stream",
     "text": [
      "674.768586323\n",
      "(array([  5.87450207e-05,  -1.77081301e-01,   5.33475146e+02]), array([  2.43431966e-04,  -3.25642533e-01,   1.08524378e+03])) (2796.56843030658, 674.76858632254095)\n",
      "870.256463424\n",
      "(array([  3.69164174e-05,  -1.59107164e-01,   5.31822907e+02]), array([  1.88759702e-04,  -2.84898586e-01,   1.07779813e+03])) (4450.2519623175604, 870.25646342377911)\n",
      "853.815684184\n",
      "(array([  4.37512596e-05,  -1.55863302e-01,   5.28451344e+02]), array([  1.92397211e-04,  -2.91276381e-01,   1.08223992e+03])) (3754.8204640109357, 853.81568418447159)\n",
      "2131.70094745\n",
      "(array([  4.89566520e-05,  -1.56766738e-01,   5.29299632e+02]), array([  7.70663417e-05,  -1.92479697e-01,   1.06393936e+03])) (3355.5091793913139, 2131.7009474524862)\n"
     ]
    },
    {
     "name": "stderr",
     "output_type": "stream",
     "text": [
      "\n",
      "\n",
      "\n",
      "\n",
      "\n",
      "\n",
      "\n",
      "\n",
      " 87%|████████▋ | 1100/1261 [01:19<00:10, 15.38it/s]\u001b[A\u001b[A\u001b[A\u001b[A\u001b[A\u001b[A\u001b[A\u001b[A\n",
      "\n",
      "\n",
      "\n",
      "\n",
      "\n",
      "\n",
      "\n",
      " 87%|████████▋ | 1102/1261 [01:19<00:10, 15.52it/s]\u001b[A\u001b[A\u001b[A\u001b[A\u001b[A\u001b[A\u001b[A\u001b[A"
     ]
    },
    {
     "name": "stdout",
     "output_type": "stream",
     "text": [
      "1811.97290401\n",
      "(array([  8.26630040e-05,  -1.88547242e-01,   5.37837893e+02]), array([  9.06612163e-05,  -1.98141888e-01,   1.06392173e+03])) (1987.2734563326117, 1811.9729040051161)\n",
      "3187.04810954\n",
      "(array([  6.95333423e-05,  -1.51020985e-01,   5.16824411e+02]), array([  5.15508941e-05,  -1.80889621e-01,   1.07526849e+03])) (2362.2462760255848, 3187.0481095421851)\n",
      "2138.23883628\n",
      "(array([  8.59140573e-05,  -1.66023168e-01,   5.22851731e+02]), array([  7.68324729e-05,  -1.96216067e-01,   1.07511472e+03])) (1911.8454282220425, 2138.2388362815327)\n",
      "2126.49952696\n",
      "(array([  9.05317407e-05,  -1.64651164e-01,   5.20325318e+02]), array([  7.72594392e-05,  -2.02640228e-01,   1.08113373e+03])) (1814.288387629369, 2126.4995269564456)\n"
     ]
    },
    {
     "name": "stderr",
     "output_type": "stream",
     "text": [
      "\n",
      "\n",
      "\n",
      "\n",
      "\n",
      "\n",
      "\n",
      "\n",
      " 88%|████████▊ | 1104/1261 [01:19<00:10, 14.69it/s]\u001b[A\u001b[A\u001b[A\u001b[A\u001b[A\u001b[A\u001b[A\u001b[A\n",
      "\n",
      "\n",
      "\n",
      "\n",
      "\n",
      "\n",
      "\n",
      " 88%|████████▊ | 1106/1261 [01:19<00:10, 14.46it/s]\u001b[A\u001b[A\u001b[A\u001b[A\u001b[A\u001b[A\u001b[A\u001b[A"
     ]
    },
    {
     "name": "stdout",
     "output_type": "stream",
     "text": [
      "1753.23100028\n",
      "(array([  1.07550079e-04,  -1.75920969e-01,   5.21660718e+02]), array([  9.37040771e-05,  -2.11082602e-01,   1.08200074e+03])) (1527.1738124763367, 1753.2310002808454)\n",
      "757.795075961\n",
      "(array([  1.41893420e-04,  -2.16787085e-01,   5.36786256e+02]), array([  2.16732220e-04,  -2.62810373e-01,   1.07597287e+03])) (1157.5763093964226, 757.79507596130577)\n",
      "927.997859241\n",
      "(array([  1.43436416e-04,  -1.98532193e-01,   5.23074044e+02]), array([  1.76996613e-04,  -2.50511962e-01,   1.08419490e+03])) (1145.0467227164331, 927.99785924114622)\n",
      "746.500484194\n",
      "(array([  1.23263712e-04,  -1.97721242e-01,   5.30756356e+02]), array([  2.20015876e-04,  -2.73200082e-01,   1.08007340e+03])) (1332.5228489175804, 746.50048419369546)\n"
     ]
    },
    {
     "name": "stderr",
     "output_type": "stream",
     "text": [
      "\n",
      "\n",
      "\n",
      "\n",
      "\n",
      "\n",
      "\n",
      "\n",
      " 88%|████████▊ | 1108/1261 [01:19<00:10, 14.58it/s]\u001b[A\u001b[A\u001b[A\u001b[A\u001b[A\u001b[A\u001b[A\u001b[A\n",
      "\n",
      "\n",
      "\n",
      "\n",
      "\n",
      "\n",
      "\n",
      " 88%|████████▊ | 1110/1261 [01:19<00:10, 14.86it/s]\u001b[A\u001b[A\u001b[A\u001b[A\u001b[A\u001b[A\u001b[A\u001b[A\n",
      "\n",
      "\n",
      "\n",
      "\n",
      "\n",
      "\n",
      "\n",
      " 88%|████████▊ | 1112/1261 [01:19<00:09, 15.23it/s]"
     ]
    },
    {
     "name": "stdout",
     "output_type": "stream",
     "text": [
      "925.924829898\n",
      "(array([  1.24118793e-04,  -1.88435536e-01,   5.23741323e+02]), array([  1.77391022e-04,  -2.48143623e-01,   1.08062156e+03])) (1323.294813608484, 925.92482989816563)\n",
      "578.359066486\n",
      "(array([  1.36989206e-04,  -2.03855869e-01,   5.28211672e+02]), array([  2.83970503e-04,  -3.23306586e-01,   1.08778993e+03])) (1198.9811537194478, 578.35906648624257)\n",
      "635.741433122\n",
      "(array([  1.21375351e-04,  -2.01020274e-01,   5.33252253e+02]), array([  2.58339366e-04,  -2.99007273e-01,   1.07553786e+03])) (1353.2816335867219, 635.74143312219394)\n",
      "554.731975913\n",
      "(array([  1.00172327e-04,  -1.75841020e-01,   5.23249931e+02]), array([  2.96072274e-04,  -3.43720816e-01,   1.08756064e+03])) (1639.6933066397883, 554.73197591253677)\n"
     ]
    },
    {
     "name": "stderr",
     "output_type": "stream",
     "text": [
      "\u001b[A\u001b[A\u001b[A\u001b[A\u001b[A\u001b[A\u001b[A\u001b[A\n",
      "\n",
      "\n",
      "\n",
      "\n",
      "\n",
      "\n",
      "\n",
      " 88%|████████▊ | 1114/1261 [01:20<00:09, 15.44it/s]\u001b[A\u001b[A\u001b[A\u001b[A\u001b[A\u001b[A\u001b[A\u001b[A"
     ]
    },
    {
     "name": "stdout",
     "output_type": "stream",
     "text": [
      "643.642804605\n",
      "(array([  1.11232412e-04,  -1.89535075e-01,   5.28671492e+02]), array([  2.55172944e-04,  -3.03327223e-01,   1.07336086e+03])) (1476.6727742837613, 643.64280460465147)\n",
      "636.42715803\n",
      "(array([  1.14276648e-04,  -1.87068611e-01,   5.24475252e+02]), array([  2.58071163e-04,  -3.12788306e-01,   1.07576219e+03])) (1437.3054881964026, 636.42715802990915)\n",
      "654.557747702\n",
      "(array([  1.15684283e-04,  -1.78393144e-01,   5.16625942e+02]), array([  2.50928499e-04,  -3.12741992e-01,   1.07843469e+03])) (1419.7667781218247, 654.55774770171456)\n",
      "584.924058127\n",
      "(array([  8.66296937e-05,  -1.73220835e-01,   5.26405713e+02]), array([  2.80790576e-04,  -3.29904251e-01,   1.07238105e+03])) (1896.1036526494488, 584.92405812665186)\n"
     ]
    },
    {
     "name": "stderr",
     "output_type": "stream",
     "text": [
      "\n",
      "\n",
      "\n",
      "\n",
      "\n",
      "\n",
      "\n",
      "\n",
      " 89%|████████▊ | 1116/1261 [01:20<00:09, 15.46it/s]\u001b[A\u001b[A\u001b[A\u001b[A\u001b[A\u001b[A\u001b[A\u001b[A\n",
      "\n",
      "\n",
      "\n",
      "\n",
      "\n",
      "\n",
      "\n",
      " 89%|████████▊ | 1118/1261 [01:20<00:09, 15.45it/s]\u001b[A\u001b[A\u001b[A\u001b[A\u001b[A\u001b[A\u001b[A\u001b[A"
     ]
    },
    {
     "name": "stdout",
     "output_type": "stream",
     "text": [
      "597.514470894\n",
      "(array([  9.75087227e-05,  -1.84062996e-01,   5.30135925e+02]), array([  2.74877227e-04,  -3.28189477e-01,   1.07034140e+03])) (1684.5586644168068, 597.514470894336)\n",
      "454.912787422\n",
      "(array([  8.23495561e-05,  -1.67439350e-01,   5.25490389e+02]), array([  3.61021968e-04,  -3.87946222e-01,   1.07857740e+03])) (1994.6397202638109, 454.9127874221785)\n",
      "534.577086516\n",
      "(array([  5.79826723e-05,  -1.41887270e-01,   5.17917330e+02]), array([  3.07241821e-04,  -3.61791510e-01,   1.07930336e+03])) (2832.8497781384717, 534.57708651584187)\n"
     ]
    },
    {
     "name": "stderr",
     "output_type": "stream",
     "text": [
      "\n",
      "\n",
      "\n",
      "\n",
      "\n",
      "\n",
      "\n",
      "\n",
      " 89%|████████▉ | 1120/1261 [01:20<00:09, 15.25it/s]\u001b[A\u001b[A\u001b[A\u001b[A\u001b[A\u001b[A\u001b[A\u001b[A\n",
      "\n",
      "\n",
      "\n",
      "\n",
      "\n",
      "\n",
      "\n",
      " 89%|████████▉ | 1122/1261 [01:20<00:09, 14.65it/s]"
     ]
    },
    {
     "name": "stdout",
     "output_type": "stream",
     "text": [
      "481.96235571\n",
      "(array([  5.60366857e-05,  -1.26250990e-01,   5.07257866e+02]), array([  3.40786672e-04,  -3.97506172e-01,   1.09153569e+03])) (2931.0716178485536, 481.96235571001222)\n",
      "538.834845667\n",
      "(array([  6.04369120e-05,  -1.19976043e-01,   5.00634664e+02]), array([  3.04840361e-04,  -3.82324542e-01,   1.09499624e+03])) (2717.5767089817323, 538.83484566667983)\n",
      "573.764042547\n",
      "(array([  6.01453113e-05,  -1.10035270e-01,   4.92855158e+02]), array([  2.86301678e-04,  -3.78851761e-01,   1.10111344e+03])) (2730.6795009145726, 573.76404254724162)\n"
     ]
    },
    {
     "name": "stderr",
     "output_type": "stream",
     "text": [
      "\u001b[A\u001b[A\u001b[A\u001b[A\u001b[A\u001b[A\u001b[A\u001b[A\n",
      "\n",
      "\n",
      "\n",
      "\n",
      "\n",
      "\n",
      "\n",
      " 89%|████████▉ | 1124/1261 [01:20<00:10, 12.93it/s]\u001b[A\u001b[A\u001b[A\u001b[A\u001b[A\u001b[A\u001b[A\u001b[A"
     ]
    },
    {
     "name": "stdout",
     "output_type": "stream",
     "text": [
      "692.632559348\n",
      "(array([  7.44644201e-05,  -1.08024510e-01,   4.83985246e+02]), array([  2.37191892e-04,  -3.50828333e-01,   1.10444076e+03])) (2205.5099477187041, 692.63255934835411)\n",
      "561.193946827\n",
      "(array([  9.23961103e-05,  -1.31192622e-01,   4.93781609e+02]), array([  2.92734334e-04,  -3.97744057e-01,   1.10993042e+03])) (1777.4978212148917, 561.19394682708435)\n"
     ]
    },
    {
     "name": "stderr",
     "output_type": "stream",
     "text": [
      "\n",
      "\n",
      "\n",
      "\n",
      "\n",
      "\n",
      "\n",
      "\n",
      " 89%|████████▉ | 1126/1261 [01:21<00:11, 12.27it/s]\u001b[A\u001b[A\u001b[A\u001b[A\u001b[A\u001b[A\u001b[A\u001b[A"
     ]
    },
    {
     "name": "stdout",
     "output_type": "stream",
     "text": [
      "691.395307163\n",
      "(array([  1.16137692e-04,  -1.38798505e-01,   4.87868423e+02]), array([  2.37632117e-04,  -3.61953782e-01,   1.11127846e+03])) (1414.094600217167, 691.39530716256968)\n",
      "1319.07364526\n",
      "(array([  1.32198930e-04,  -1.56888728e-01,   4.93080834e+02]), array([  1.24554797e-04,  -2.52662392e-01,   1.08784411e+03])) (1242.296662252993, 1319.0736452635563)\n",
      "1164.94815172\n",
      "(array([  1.74789364e-04,  -2.03067594e-01,   5.06302299e+02]), array([  1.41030111e-04,  -2.64454192e-01,   1.08719879e+03])) (939.59754803791111, 1164.948151723193)\n"
     ]
    },
    {
     "name": "stderr",
     "output_type": "stream",
     "text": [
      "\n",
      "\n",
      "\n",
      "\n",
      "\n",
      "\n",
      "\n",
      "\n",
      " 89%|████████▉ | 1128/1261 [01:21<00:10, 12.36it/s]\u001b[A\u001b[A\u001b[A\u001b[A\u001b[A\u001b[A\u001b[A\u001b[A\n",
      "\n",
      "\n",
      "\n",
      "\n",
      "\n",
      "\n",
      "\n",
      " 90%|████████▉ | 1130/1261 [01:21<00:10, 12.83it/s]"
     ]
    },
    {
     "name": "stdout",
     "output_type": "stream",
     "text": [
      "1251.53276448\n",
      "(array([  1.79629023e-04,  -2.02748310e-01,   5.02264257e+02]), array([  1.31281383e-04,  -2.64689813e-01,   1.09221617e+03])) (914.27523446403563, 1251.5327644839133)\n",
      "793.630020194\n",
      "(array([  1.81107658e-04,  -2.24336555e-01,   5.16622917e+02]), array([  2.06978648e-04,  -2.96270334e-01,   1.08639842e+03])) (906.84638934643374, 793.63002019395117)\n",
      "725.562674753\n",
      "(array([  1.97925111e-04,  -2.47873682e-01,   5.24848793e+02]), array([  2.26389805e-04,  -3.08936845e-01,   1.08598350e+03])) (829.80881216728585, 725.56267475340292)\n"
     ]
    },
    {
     "name": "stderr",
     "output_type": "stream",
     "text": [
      "\u001b[A\u001b[A\u001b[A\u001b[A\u001b[A\u001b[A\u001b[A\u001b[A\n",
      "\n",
      "\n",
      "\n",
      "\n",
      "\n",
      "\n",
      "\n",
      " 90%|████████▉ | 1132/1261 [01:21<00:09, 13.16it/s]\u001b[A\u001b[A\u001b[A\u001b[A\u001b[A\u001b[A\u001b[A\u001b[A"
     ]
    },
    {
     "name": "stdout",
     "output_type": "stream",
     "text": [
      "671.890650864\n",
      "(array([  1.90285708e-04,  -2.44968652e-01,   5.24409325e+02]), array([  2.44473079e-04,  -3.25166133e-01,   1.08908776e+03])) (863.13424209903997, 671.89065086379583)\n",
      "702.015138114\n",
      "(array([  1.62650259e-04,  -2.45622744e-01,   5.36195121e+02]), array([  2.33976090e-04,  -3.08703912e-01,   1.07723644e+03])) (1009.8875253961634, 702.01513811396694)\n",
      "726.849922059\n",
      "(array([  1.63955719e-04,  -2.30485492e-01,   5.22715515e+02]), array([  2.25999092e-04,  -3.18276343e-01,   1.08765547e+03])) (1001.7820956343634, 726.84992205906292)\n"
     ]
    },
    {
     "name": "stderr",
     "output_type": "stream",
     "text": [
      "\n",
      "\n",
      "\n",
      "\n",
      "\n",
      "\n",
      "\n",
      "\n",
      " 90%|████████▉ | 1134/1261 [01:21<00:09, 13.65it/s]\u001b[A\u001b[A\u001b[A\u001b[A\u001b[A\u001b[A\u001b[A\u001b[A\n",
      "\n",
      "\n",
      "\n",
      "\n",
      "\n",
      "\n",
      "\n",
      " 90%|█████████ | 1136/1261 [01:21<00:08, 14.25it/s]"
     ]
    },
    {
     "name": "stdout",
     "output_type": "stream",
     "text": [
      "688.466803017\n",
      "(array([  1.38518637e-04,  -2.14509359e-01,   5.21874836e+02]), array([  2.38596720e-04,  -3.28483911e-01,   1.08667761e+03])) (1185.7832532442283, 688.46680301735626)\n",
      "1471.40670551\n",
      "(array([  1.41151153e-04,  -2.18993875e-01,   5.22843390e+02]), array([  1.11643545e-04,  -2.15285504e-01,   1.06356125e+03])) (1163.6770697514007, 1471.4067055089849)\n",
      "1104.55232757\n",
      "(array([  1.34216497e-04,  -2.17949332e-01,   5.24547997e+02]), array([  1.48716000e-04,  -2.40512893e-01,   1.06473961e+03])) (1223.8301870994976, 1104.5523275724136)\n",
      "1045.6191442\n",
      "(array([  1.28774191e-04,  -2.23292339e-01,   5.31584565e+02]), array([  1.57090988e-04,  -2.38688097e-01,   1.05866770e+03])) (1275.6135968736376, 1045.619144204383)\n"
     ]
    },
    {
     "name": "stderr",
     "output_type": "stream",
     "text": [
      "\u001b[A\u001b[A\u001b[A\u001b[A\u001b[A\u001b[A\u001b[A\u001b[A\n",
      "\n",
      "\n",
      "\n",
      "\n",
      "\n",
      "\n",
      "\n",
      " 90%|█████████ | 1138/1261 [01:21<00:08, 14.55it/s]\u001b[A\u001b[A\u001b[A\u001b[A\u001b[A\u001b[A\u001b[A\u001b[A\n",
      "\n",
      "\n",
      "\n",
      "\n",
      "\n",
      "\n",
      "\n",
      " 90%|█████████ | 1140/1261 [01:21<00:08, 14.87it/s]"
     ]
    },
    {
     "name": "stdout",
     "output_type": "stream",
     "text": [
      "1075.58831185\n",
      "(array([  1.09495047e-04,  -2.02897510e-01,   5.25855153e+02]), array([  1.52715626e-04,  -2.37031327e-01,   1.06034155e+03])) (1500.2014845071203, 1075.5883118500046)\n",
      "1018.45691495\n",
      "(array([  8.35397106e-05,  -1.86180371e-01,   5.24604200e+02]), array([  1.61279590e-04,  -2.41218659e-01,   1.05917565e+03])) (1966.3852716188012, 1018.4569149482959)\n",
      "954.013832649\n",
      "(array([  6.44177056e-05,  -1.71269252e-01,   5.23472102e+02]), array([  1.72168030e-04,  -2.43015354e-01,   1.05633948e+03])) (2550.1404930250901, 954.01383264886954)\n",
      "683.238422387\n",
      "(array([  7.68040973e-05,  -1.62606175e-01,   5.12674040e+02]), array([  2.40384377e-04,  -2.88288710e-01,   1.06703161e+03])) (2138.662466535608, 683.2384223874933)\n"
     ]
    },
    {
     "name": "stderr",
     "output_type": "stream",
     "text": [
      "\u001b[A\u001b[A\u001b[A\u001b[A\u001b[A\u001b[A\u001b[A\u001b[A\n",
      "\n",
      "\n",
      "\n",
      "\n",
      "\n",
      "\n",
      "\n",
      " 91%|█████████ | 1142/1261 [01:22<00:07, 15.11it/s]\u001b[A\u001b[A\u001b[A\u001b[A\u001b[A\u001b[A\u001b[A\u001b[A\n",
      "\n",
      "\n",
      "\n",
      "\n",
      "\n",
      "\n",
      "\n",
      " 91%|█████████ | 1144/1261 [01:22<00:07, 15.40it/s]"
     ]
    },
    {
     "name": "stdout",
     "output_type": "stream",
     "text": [
      "637.230187905\n",
      "(array([  6.69884243e-05,  -1.56822927e-01,   5.13293098e+02]), array([  2.57737369e-04,  -3.00829418e-01,   1.06671628e+03])) (2452.0752545385085, 637.23018790463846)\n",
      "693.719648923\n",
      "(array([  6.77931988e-05,  -1.56177971e-01,   5.13442675e+02]), array([  2.36756220e-04,  -2.90247573e-01,   1.06526666e+03])) (2422.9513982862991, 693.71964892253936)\n",
      "744.518696475\n",
      "(array([  6.52538366e-05,  -1.51126431e-01,   5.11821147e+02]), array([  2.20605532e-04,  -2.79568595e-01,   1.06318501e+03])) (2517.2123726398231, 744.518696474889)\n",
      "921.835925176\n",
      "(array([  9.56085330e-05,  -1.81211085e-01,   5.22169247e+02]), array([  1.78170515e-04,  -2.37017471e-01,   1.04909335e+03])) (1718.0310754828524, 921.83592517550653)\n"
     ]
    },
    {
     "name": "stderr",
     "output_type": "stream",
     "text": [
      "\u001b[A\u001b[A\u001b[A\u001b[A\u001b[A\u001b[A\u001b[A\u001b[A\n",
      "\n",
      "\n",
      "\n",
      "\n",
      "\n",
      "\n",
      "\n",
      " 91%|█████████ | 1146/1261 [01:22<00:07, 14.95it/s]\u001b[A\u001b[A\u001b[A\u001b[A\u001b[A\u001b[A\u001b[A\u001b[A\n",
      "\n",
      "\n",
      "\n",
      "\n",
      "\n",
      "\n",
      "\n",
      " 91%|█████████ | 1148/1261 [01:22<00:07, 14.22it/s]"
     ]
    },
    {
     "name": "stdout",
     "output_type": "stream",
     "text": [
      "990.042849001\n",
      "(array([  1.16297058e-04,  -1.86570195e-01,   5.16788239e+02]), array([  1.65900853e-04,  -2.34142016e-01,   1.05407397e+03])) (1412.3227620317473, 990.04284900094729)\n",
      "889.189003267\n",
      "(array([  1.29640214e-04,  -1.98092949e-01,   5.18785765e+02]), array([  1.84715172e-04,  -2.48306290e-01,   1.05528545e+03])) (1266.9542812494105, 889.18900326662219)\n",
      "852.681210687\n",
      "(array([  1.22461497e-04,  -1.95472213e-01,   5.20204258e+02]), array([  1.92622640e-04,  -2.54109347e-01,   1.05396215e+03])) (1341.2443444467597, 852.68121068737275)\n"
     ]
    },
    {
     "name": "stderr",
     "output_type": "stream",
     "text": [
      "\u001b[A\u001b[A\u001b[A\u001b[A\u001b[A\u001b[A\u001b[A\u001b[A\n",
      "\n",
      "\n",
      "\n",
      "\n",
      "\n",
      "\n",
      "\n",
      " 91%|█████████ | 1150/1261 [01:22<00:07, 14.25it/s]\u001b[A\u001b[A\u001b[A\u001b[A\u001b[A\u001b[A\u001b[A\u001b[A"
     ]
    },
    {
     "name": "stdout",
     "output_type": "stream",
     "text": [
      "983.883436421\n",
      "(array([  1.02893128e-04,  -1.61111429e-01,   5.04224647e+02]), array([  1.66944758e-04,  -2.43486976e-01,   1.06016058e+03])) (1596.2400339588864, 983.88343642142195)\n",
      "838.639734651\n",
      "(array([  1.11590474e-04,  -1.78702207e-01,   5.12074187e+02]), array([  1.95853003e-04,  -2.64820189e-01,   1.06001610e+03])) (1471.8732759040513, 838.63973465098979)\n",
      "881.969087353\n",
      "(array([  1.37161187e-04,  -1.95137706e-01,   5.12351131e+02]), array([  1.86235547e-04,  -2.61721964e-01,   1.06095569e+03])) (1197.442929619607, 881.96908735289389)\n",
      "635.069398565\n",
      "(array([  1.52907655e-04,  -2.14679452e-01,   5.17235036e+02]), array([  2.58615156e-04,  -3.02932078e-01,   1.06446454e+03])) (1074.145030782711, 635.06939856549718)\n"
     ]
    },
    {
     "name": "stderr",
     "output_type": "stream",
     "text": [
      "\n",
      "\n",
      "\n",
      "\n",
      "\n",
      "\n",
      "\n",
      "\n",
      " 91%|█████████▏| 1152/1261 [01:22<00:07, 14.67it/s]\u001b[A\u001b[A\u001b[A\u001b[A\u001b[A\u001b[A\u001b[A\u001b[A\n",
      "\n",
      "\n",
      "\n",
      "\n",
      "\n",
      "\n",
      "\n",
      " 92%|█████████▏| 1154/1261 [01:22<00:07, 14.46it/s]\u001b[A\u001b[A\u001b[A\u001b[A\u001b[A\u001b[A\u001b[A\u001b[A"
     ]
    },
    {
     "name": "stdout",
     "output_type": "stream",
     "text": [
      "568.772681354\n",
      "(array([  1.67221738e-04,  -2.25972213e-01,   5.19096151e+02]), array([  2.88757690e-04,  -3.29302176e-01,   1.06829007e+03])) (982.1911048058779, 568.77268135428153)\n",
      "668.207329256\n",
      "(array([  1.15689751e-04,  -1.64090171e-01,   4.97596313e+02]), array([  2.45807556e-04,  -3.13268170e-01,   1.07555780e+03])) (1419.6406580476423, 668.20732925637526)\n",
      "637.344827832\n",
      "(array([  1.17680966e-04,  -1.77075404e-01,   5.04599153e+02]), array([  2.57709311e-04,  -3.23519799e-01,   1.07545818e+03])) (1395.6633899707494, 637.34482783183455)\n",
      "592.085405008\n",
      "(array([  1.78453023e-04,  -2.25713291e-01,   5.11702035e+02]), array([  2.77413384e-04,  -3.46814623e-01,   1.08188095e+03])) (920.34562156587162, 592.08540500844435)\n"
     ]
    },
    {
     "name": "stderr",
     "output_type": "stream",
     "text": [
      "\n",
      "\n",
      "\n",
      "\n",
      "\n",
      "\n",
      "\n",
      "\n",
      " 92%|█████████▏| 1156/1261 [01:23<00:07, 14.70it/s]\u001b[A\u001b[A\u001b[A\u001b[A\u001b[A\u001b[A\u001b[A\u001b[A\n",
      "\n",
      "\n",
      "\n",
      "\n",
      "\n",
      "\n",
      "\n",
      " 92%|█████████▏| 1158/1261 [01:23<00:07, 14.55it/s]\u001b[A\u001b[A\u001b[A\u001b[A\u001b[A\u001b[A\u001b[A\u001b[A"
     ]
    },
    {
     "name": "stdout",
     "output_type": "stream",
     "text": [
      "632.394486187\n",
      "(array([  1.08018224e-04,  -1.58202708e-01,   4.92516793e+02]), array([  2.59750891e-04,  -3.47656175e-01,   1.09164234e+03])) (1520.4703195513794, 632.39448618694246)\n",
      "663.450740006\n",
      "(array([  1.69286021e-04,  -2.17488429e-01,   5.07481699e+02]), array([  2.47593710e-04,  -3.37511675e-01,   1.08837220e+03])) (970.18469790398683, 663.45074000553916)\n",
      "955.427687992\n",
      "(array([  1.23809767e-04,  -1.87876417e-01,   5.05151332e+02]), array([  1.71936083e-04,  -2.72503299e-01,   1.07751526e+03])) (1326.5965585795284, 955.42768799206078)\n"
     ]
    },
    {
     "name": "stderr",
     "output_type": "stream",
     "text": [
      "\n",
      "\n",
      "\n",
      "\n",
      "\n",
      "\n",
      "\n",
      "\n",
      " 92%|█████████▏| 1160/1261 [01:23<00:07, 13.70it/s]\u001b[A\u001b[A\u001b[A\u001b[A\u001b[A\u001b[A\u001b[A\u001b[A\n",
      "\n",
      "\n",
      "\n",
      "\n",
      "\n",
      "\n",
      "\n",
      " 92%|█████████▏| 1162/1261 [01:23<00:07, 13.78it/s]"
     ]
    },
    {
     "name": "stdout",
     "output_type": "stream",
     "text": [
      "902.494481656\n",
      "(array([  1.69989753e-04,  -2.38712920e-01,   5.20365827e+02]), array([  1.82017395e-04,  -2.78843518e-01,   1.07622042e+03])) (966.23082134813978, 902.49448165562774)\n",
      "742.588923576\n",
      "(array([  1.41933665e-04,  -2.37612998e-01,   5.31026750e+02]), array([  2.21203232e-04,  -3.08101407e-01,   1.07641027e+03])) (1157.3537162223831, 742.58892357620641)\n",
      "762.213913629\n",
      "(array([  1.58020660e-04,  -2.40764338e-01,   5.25809337e+02]), array([  2.15517165e-04,  -3.11591854e-01,   1.08211636e+03])) (1039.4727773202158, 762.21391362916665)\n"
     ]
    },
    {
     "name": "stderr",
     "output_type": "stream",
     "text": [
      "\u001b[A\u001b[A\u001b[A\u001b[A\u001b[A\u001b[A\u001b[A\u001b[A\n",
      "\n",
      "\n",
      "\n",
      "\n",
      "\n",
      "\n",
      "\n",
      " 92%|█████████▏| 1164/1261 [01:23<00:06, 14.15it/s]\u001b[A\u001b[A\u001b[A\u001b[A\u001b[A\u001b[A\u001b[A\u001b[A"
     ]
    },
    {
     "name": "stdout",
     "output_type": "stream",
     "text": [
      "542.172360241\n",
      "(array([  1.69643288e-04,  -2.68584188e-01,   5.39285755e+02]), array([  3.02938382e-04,  -3.58373116e-01,   1.08265750e+03])) (968.33210647172507, 542.17236024061629)\n",
      "504.18570575\n",
      "(array([  1.67006558e-04,  -2.70614414e-01,   5.40961915e+02]), array([  3.25766339e-04,  -3.83772123e-01,   1.08825755e+03])) (983.64369975000807, 504.18570575002957)\n",
      "561.791274085\n",
      "(array([  1.45035190e-04,  -2.35068837e-01,   5.24963978e+02]), array([  2.92386855e-04,  -3.72831623e-01,   1.09485422e+03])) (1132.5743629341464, 561.79127408465808)\n",
      "541.744736655"
     ]
    },
    {
     "name": "stderr",
     "output_type": "stream",
     "text": [
      "\n",
      "\n",
      "\n",
      "\n",
      "\n",
      "\n",
      "\n",
      "\n",
      " 92%|█████████▏| 1166/1261 [01:23<00:06, 14.37it/s]\u001b[A\u001b[A\u001b[A\u001b[A\u001b[A\u001b[A\u001b[A\u001b[A\n",
      "\n",
      "\n",
      "\n",
      "\n",
      "\n",
      "\n",
      "\n",
      " 93%|█████████▎| 1168/1261 [01:23<00:06, 14.49it/s]"
     ]
    },
    {
     "name": "stdout",
     "output_type": "stream",
     "text": [
      "\n",
      "(array([  1.72693711e-04,  -2.66059395e-01,   5.34300455e+02]), array([  3.03209632e-04,  -3.85703917e-01,   1.09658264e+03])) (951.20191435000629, 541.74473665488722)\n",
      "570.720760082\n",
      "(array([  1.24959733e-04,  -2.27925411e-01,   5.27799363e+02]), array([  2.87834432e-04,  -3.84458452e-01,   1.10032001e+03])) (1314.6069824000763, 570.7207600821182)\n",
      "508.304968764\n",
      "(array([  1.07578646e-04,  -2.19243344e-01,   5.28213242e+02]), array([  3.23181009e-04,  -4.20042331e-01,   1.10854968e+03])) (1527.0692555293228, 508.30496876363424)\n"
     ]
    },
    {
     "name": "stderr",
     "output_type": "stream",
     "text": [
      "\u001b[A\u001b[A\u001b[A\u001b[A\u001b[A\u001b[A\u001b[A\u001b[A\n",
      "\n",
      "\n",
      "\n",
      "\n",
      "\n",
      "\n",
      "\n",
      " 93%|█████████▎| 1170/1261 [01:24<00:06, 14.67it/s]\u001b[A\u001b[A\u001b[A\u001b[A\u001b[A\u001b[A\u001b[A\u001b[A"
     ]
    },
    {
     "name": "stdout",
     "output_type": "stream",
     "text": [
      "937.536764479\n",
      "(array([  1.28004763e-04,  -2.47954896e-01,   5.40109983e+02]), array([  1.75230496e-04,  -2.89493395e-01,   1.08057554e+03])) (1283.4580357344867, 937.53676447890155)\n",
      "885.742123913\n",
      "(array([  1.16656652e-04,  -2.39043018e-01,   5.38714995e+02]), array([  1.85476663e-04,  -2.98767819e-01,   1.08367218e+03])) (1408.3270960678112, 885.74212391256162)\n",
      "797.265447599\n",
      "(array([  1.01868620e-04,  -2.39582847e-01,   5.46013884e+02]), array([  2.06051713e-04,  -3.11435460e-01,   1.08233976e+03])) (1612.9248825421021, 797.26544759924252)\n",
      "770.732151567\n",
      "(array([  9.93232929e-05,  -2.40912411e-01,   5.48358569e+02]), array([  2.13147497e-04,  -3.20137398e-01,   1.08490401e+03])) (1654.3020831497156, 770.73215156712035)\n"
     ]
    },
    {
     "name": "stderr",
     "output_type": "stream",
     "text": [
      "\n",
      "\n",
      "\n",
      "\n",
      "\n",
      "\n",
      "\n",
      "\n",
      " 93%|█████████▎| 1172/1261 [01:24<00:06, 14.79it/s]\u001b[A\u001b[A\u001b[A\u001b[A\u001b[A\u001b[A\u001b[A\u001b[A\n",
      "\n",
      "\n",
      "\n",
      "\n",
      "\n",
      "\n",
      "\n",
      " 93%|█████████▎| 1174/1261 [01:24<00:06, 12.78it/s]"
     ]
    },
    {
     "name": "stdout",
     "output_type": "stream",
     "text": [
      "810.496615952\n",
      "(array([  9.56923146e-05,  -2.29974773e-01,   5.42600012e+02]), array([  2.02694294e-04,  -3.13767893e-01,   1.08693526e+03])) (1716.9858378410268, 810.4966159516656)\n",
      "744.332532094\n",
      "(array([  5.36572298e-05,  -2.03747525e-01,   5.45239951e+02]), array([  2.20702974e-04,  -3.23814643e-01,   1.08500806e+03])) (3062.3759751396756, 744.33253209416421)\n",
      "656.389322633\n",
      "(array([  6.84787218e-05,  -2.10024550e-01,   5.44111490e+02]), array([  2.50269991e-04,  -3.50090344e-01,   1.09344428e+03])) (2399.4207034883775, 656.38932263319612)\n"
     ]
    },
    {
     "name": "stderr",
     "output_type": "stream",
     "text": [
      "\u001b[A\u001b[A\u001b[A\u001b[A\u001b[A\u001b[A\u001b[A\u001b[A\n",
      "\n",
      "\n",
      "\n",
      "\n",
      "\n",
      "\n",
      "\n",
      " 93%|█████████▎| 1176/1261 [01:24<00:06, 12.16it/s]\u001b[A\u001b[A\u001b[A\u001b[A\u001b[A\u001b[A\u001b[A\u001b[A\n",
      "\n",
      "\n",
      "\n",
      "\n",
      "\n",
      "\n",
      "\n",
      " 93%|█████████▎| 1178/1261 [01:24<00:06, 12.64it/s]"
     ]
    },
    {
     "name": "stdout",
     "output_type": "stream",
     "text": [
      "692.774071709\n",
      "(array([  6.29321409e-05,  -1.96358297e-01,   5.38738433e+02]), array([  2.37135748e-04,  -3.45189122e-01,   1.09621675e+03])) (2610.7485360119417, 692.77407170903882)\n",
      "693.649567356\n",
      "(array([  5.04433734e-05,  -1.90787890e-01,   5.42481611e+02]), array([  2.36837024e-04,  -3.45332502e-01,   1.09546090e+03])) (3257.2579184937872, 693.64956735594103)\n",
      "786.597958303\n",
      "(array([  5.51889158e-05,  -1.82176543e-01,   5.35349791e+02]), array([  2.08870925e-04,  -3.34071621e-01,   1.10122224e+03])) (2976.9184300986467, 786.59795830298663)\n"
     ]
    },
    {
     "name": "stderr",
     "output_type": "stream",
     "text": [
      "\u001b[A\u001b[A\u001b[A\u001b[A\u001b[A\u001b[A\u001b[A\u001b[A\n",
      "\n",
      "\n",
      "\n",
      "\n",
      "\n",
      "\n",
      "\n",
      " 94%|█████████▎| 1180/1261 [01:24<00:06, 12.98it/s]\u001b[A\u001b[A\u001b[A\u001b[A\u001b[A\u001b[A\u001b[A\u001b[A"
     ]
    },
    {
     "name": "stdout",
     "output_type": "stream",
     "text": [
      "780.470801479\n",
      "(array([  5.91827471e-05,  -1.87651243e-01,   5.39255923e+02]), array([  2.10509208e-04,  -3.34551708e-01,   1.10081501e+03])) (2776.0555265859334, 780.47080147853364)\n",
      "1130.98670539\n",
      "(array([  5.79109232e-05,  -1.86710500e-01,   5.40124230e+02]), array([  1.45274498e-04,  -2.78644081e-01,   1.09128854e+03])) (2837.0275268540131, 1130.9867053875998)\n",
      "1066.62766039\n",
      "(array([  7.77171587e-05,  -1.95871753e-01,   5.38855465e+02]), array([  1.54041851e-04,  -2.88658476e-01,   1.09756630e+03])) (2113.8835609189523, 1066.6276603864535)\n"
     ]
    },
    {
     "name": "stderr",
     "output_type": "stream",
     "text": [
      "\n",
      "\n",
      "\n",
      "\n",
      "\n",
      "\n",
      "\n",
      "\n",
      " 94%|█████████▎| 1182/1261 [01:25<00:06, 12.19it/s]\u001b[A\u001b[A\u001b[A\u001b[A\u001b[A\u001b[A\u001b[A\u001b[A\n",
      "\n",
      "\n",
      "\n",
      "\n",
      "\n",
      "\n",
      "\n",
      " 94%|█████████▍| 1184/1261 [01:25<00:05, 13.02it/s]"
     ]
    },
    {
     "name": "stdout",
     "output_type": "stream",
     "text": [
      "1013.69066078\n",
      "(array([  9.93431293e-05,  -2.13991472e-01,   5.44517552e+02]), array([  1.62084024e-04,  -2.94360044e-01,   1.09863118e+03])) (1653.6877111020301, 1013.6906607763289)\n",
      "1027.74818786\n",
      "(array([  8.39380189e-05,  -1.96387795e-01,   5.39997915e+02]), array([  1.59872213e-04,  -2.96986159e-01,   1.10322481e+03])) (1957.1571740004206, 1027.7481878562583)\n",
      "964.704352812\n",
      "(array([  7.85007093e-05,  -1.95196900e-01,   5.42201205e+02]), array([  1.70318961e-04,  -3.06191465e-01,   1.10570218e+03])) (2092.7665685792663, 964.70435281153311)\n"
     ]
    },
    {
     "name": "stderr",
     "output_type": "stream",
     "text": [
      "\u001b[A\u001b[A\u001b[A\u001b[A\u001b[A\u001b[A\u001b[A\u001b[A\n",
      "\n",
      "\n",
      "\n",
      "\n",
      "\n",
      "\n",
      "\n",
      " 94%|█████████▍| 1186/1261 [01:25<00:06, 12.10it/s]\u001b[A\u001b[A\u001b[A\u001b[A\u001b[A\u001b[A\u001b[A\u001b[A"
     ]
    },
    {
     "name": "stdout",
     "output_type": "stream",
     "text": [
      "683.456556989\n",
      "(array([  1.07990743e-04,  -2.32400456e-01,   5.56741856e+02]), array([  2.40360548e-04,  -3.42221529e-01,   1.10455651e+03])) (1521.3565499258793, 683.45655698888572)\n",
      "605.480928137\n",
      "(array([  1.09036031e-04,  -2.19580918e-01,   5.48557859e+02]), array([  2.71301364e-04,  -3.62237751e-01,   1.11188824e+03])) (1506.649404847084, 605.48092813718949)\n"
     ]
    },
    {
     "name": "stderr",
     "output_type": "stream",
     "text": [
      "\n",
      "\n",
      "\n",
      "\n",
      "\n",
      "\n",
      "\n",
      "\n",
      " 94%|█████████▍| 1188/1261 [01:25<00:06, 11.92it/s]\u001b[A\u001b[A\u001b[A\u001b[A\u001b[A\u001b[A\u001b[A\u001b[A"
     ]
    },
    {
     "name": "stdout",
     "output_type": "stream",
     "text": [
      "544.924935915\n",
      "(array([  1.38070740e-04,  -2.42232734e-01,   5.52836450e+02]), array([  3.01444249e-04,  -3.86982591e-01,   1.11569007e+03])) (1189.7844745127518, 544.92493591474238)\n",
      "567.568493703\n",
      "(array([  1.38696581e-04,  -2.40628399e-01,   5.52631212e+02]), array([  2.89430860e-04,  -3.84524487e-01,   1.11592643e+03])) (1184.4021153036365, 567.56849370254588)\n",
      "586.420399888\n",
      "(array([  1.36018398e-04,  -2.28346646e-01,   5.44291922e+02]), array([  2.80139617e-04,  -3.84403775e-01,   1.12053392e+03])) (1207.6647282997433, 586.42039988769761)\n",
      "488.0238783"
     ]
    },
    {
     "name": "stderr",
     "output_type": "stream",
     "text": [
      "\n",
      "\n",
      "\n",
      "\n",
      "\n",
      "\n",
      "\n",
      "\n",
      " 94%|█████████▍| 1190/1261 [01:25<00:05, 12.67it/s]\u001b[A\u001b[A\u001b[A\u001b[A\u001b[A\u001b[A\u001b[A\u001b[A\n",
      "\n",
      "\n",
      "\n",
      "\n",
      "\n",
      "\n",
      "\n",
      " 95%|█████████▍| 1192/1261 [01:25<00:05, 13.33it/s]"
     ]
    },
    {
     "name": "stdout",
     "output_type": "stream",
     "text": [
      "\n",
      "(array([  1.61765253e-04,  -2.53772804e-01,   5.52232535e+02]), array([  3.36603020e-04,  -4.27990538e-01,   1.12404216e+03])) (1015.4539996698855, 488.0238782996741)\n",
      "1029.9348718\n",
      "(array([  1.53632672e-04,  -2.48851026e-01,   5.52034977e+02]), array([  1.59513959e-04,  -2.78451797e-01,   1.09574584e+03])) (1069.2221779954762, 1029.9348717952985)\n",
      "938.302184505\n",
      "(array([  1.93731526e-04,  -2.87267405e-01,   5.61641603e+02]), array([  1.75079439e-04,  -2.81155046e-01,   1.09004784e+03])) (847.91257149790204, 938.30218450484938)\n",
      "894.024276554\n",
      "(array([  1.85218396e-04,  -2.87909207e-01,   5.66506321e+02]), array([  1.83742943e-04,  -2.81652867e-01,   1.08514395e+03])) (886.92477149427407, 894.02427655437521)\n"
     ]
    },
    {
     "name": "stderr",
     "output_type": "stream",
     "text": [
      "\u001b[A\u001b[A\u001b[A\u001b[A\u001b[A\u001b[A\u001b[A\u001b[A\n",
      "\n",
      "\n",
      "\n",
      "\n",
      "\n",
      "\n",
      "\n",
      " 95%|█████████▍| 1194/1261 [01:25<00:04, 13.84it/s]\u001b[A\u001b[A\u001b[A\u001b[A\u001b[A\u001b[A\u001b[A\u001b[A\n",
      "\n",
      "\n",
      "\n",
      "\n",
      "\n",
      "\n",
      "\n",
      " 95%|█████████▍| 1196/1261 [01:26<00:04, 14.30it/s]"
     ]
    },
    {
     "name": "stdout",
     "output_type": "stream",
     "text": [
      "942.004033886\n",
      "(array([  1.66736188e-04,  -2.69122131e-01,   5.59778315e+02]), array([  1.74392152e-04,  -2.81262638e-01,   1.08968634e+03])) (985.23229258850836, 942.00403388625296)\n",
      "931.229094353\n",
      "(array([  1.46717527e-04,  -2.64084146e-01,   5.65071247e+02]), array([  1.76402027e-04,  -2.74663596e-01,   1.08224858e+03])) (1119.7499004395138, 931.22909435254883)\n",
      "962.578455077\n",
      "(array([  1.57512235e-04,  -2.74627937e-01,   5.68639268e+02]), array([  1.70658420e-04,  -2.70834693e-01,   1.07981275e+03])) (1043.0117549232518, 962.57845507652087)\n",
      "661.912160308\n",
      "(array([  1.33258469e-04,  -2.48595687e-01,   5.60441827e+02]), array([  2.48151125e-04,  -3.21543553e-01,   1.09005797e+03])) (1232.8256079870105, 661.91216030842611)\n"
     ]
    },
    {
     "name": "stderr",
     "output_type": "stream",
     "text": [
      "\u001b[A\u001b[A\u001b[A\u001b[A\u001b[A\u001b[A\u001b[A\u001b[A\n",
      "\n",
      "\n",
      "\n",
      "\n",
      "\n",
      "\n",
      "\n",
      " 95%|█████████▌| 1198/1261 [01:26<00:04, 14.52it/s]\u001b[A\u001b[A\u001b[A\u001b[A\u001b[A\u001b[A\u001b[A\u001b[A\n",
      "\n",
      "\n",
      "\n",
      "\n",
      "\n",
      "\n",
      "\n",
      " 95%|█████████▌| 1200/1261 [01:26<00:04, 14.55it/s]"
     ]
    },
    {
     "name": "stdout",
     "output_type": "stream",
     "text": [
      "646.05665973\n",
      "(array([  1.59320112e-04,  -2.60697054e-01,   5.57274438e+02]), array([  2.54246569e-04,  -3.32451158e-01,   1.09692784e+03])) (1031.0861069482353, 646.05665972956228)\n",
      "827.798192677\n",
      "(array([  1.37421352e-04,  -2.26329888e-01,   5.40226621e+02]), array([  1.98454600e-04,  -3.06827497e-01,   1.10586946e+03])) (1195.3168586550817, 827.79819267696644)\n",
      "632.181059181\n",
      "(array([  1.13788263e-04,  -1.92469872e-01,   5.25527854e+02]), array([  2.59854564e-04,  -3.59959986e-01,   1.12254637e+03])) (1443.5073246235529, 632.18105918084893)\n"
     ]
    },
    {
     "name": "stderr",
     "output_type": "stream",
     "text": [
      "\u001b[A\u001b[A\u001b[A\u001b[A\u001b[A\u001b[A\u001b[A\u001b[A\n",
      "\n",
      "\n",
      "\n",
      "\n",
      "\n",
      "\n",
      "\n",
      " 95%|█████████▌| 1202/1261 [01:26<00:04, 12.87it/s]\u001b[A\u001b[A\u001b[A\u001b[A\u001b[A\u001b[A\u001b[A\u001b[A"
     ]
    },
    {
     "name": "stdout",
     "output_type": "stream",
     "text": [
      "614.663498381\n",
      "(array([  8.89237190e-05,  -1.84396654e-01,   5.32209029e+02]), array([  2.67255132e-04,  -3.63398256e-01,   1.11923420e+03])) (1847.2642352465225, 614.66349838099234)\n",
      "743.220119049\n",
      "(array([  1.09714799e-04,  -1.97252586e-01,   5.32480931e+02]), array([  2.21043577e-04,  -3.32430310e-01,   1.11858820e+03])) (1497.1565347852456, 743.22011904859755)\n",
      "735.674967846\n",
      "(array([  1.32037679e-04,  -2.24046720e-01,   5.42826434e+02]), array([  2.23309075e-04,  -3.33406537e-01,   1.11739703e+03])) (1244.0710328932016, 735.67496784597904)\n"
     ]
    },
    {
     "name": "stderr",
     "output_type": "stream",
     "text": [
      "\n",
      "\n",
      "\n",
      "\n",
      "\n",
      "\n",
      "\n",
      "\n",
      " 95%|█████████▌| 1204/1261 [01:26<00:04, 13.20it/s]\u001b[A\u001b[A\u001b[A\u001b[A\u001b[A\u001b[A\u001b[A\u001b[A"
     ]
    },
    {
     "name": "stdout",
     "output_type": "stream",
     "text": [
      "760.717873986\n",
      "(array([  1.51188763e-04,  -2.53184002e-01,   5.56134723e+02]), array([  2.15954593e-04,  -3.23800266e-01,   1.11239340e+03])) (1086.542421257185, 760.71787398551123)\n",
      "731.571256197\n",
      "(array([  1.87305826e-04,  -2.89015232e-01,   5.67502742e+02]), array([  2.24558250e-04,  -3.31888378e-01,   1.11373459e+03])) (877.03626961172938, 731.57125619715521)\n",
      "633.232639985"
     ]
    },
    {
     "name": "stderr",
     "output_type": "stream",
     "text": [
      "\n",
      "\n",
      "\n",
      "\n",
      "\n",
      "\n",
      "\n",
      "\n",
      " 96%|█████████▌| 1206/1261 [01:26<00:04, 11.92it/s]\u001b[A\u001b[A\u001b[A\u001b[A\u001b[A\u001b[A\u001b[A\u001b[A\n",
      "\n",
      "\n",
      "\n",
      "\n",
      "\n",
      "\n",
      "\n",
      " 96%|█████████▌| 1208/1261 [01:27<00:04, 12.01it/s]"
     ]
    },
    {
     "name": "stdout",
     "output_type": "stream",
     "text": [
      "\n",
      "(array([  1.79701801e-04,  -3.04240060e-01,   5.83441965e+02]), array([  2.59423918e-04,  -3.60182391e-01,   1.11398477e+03])) (914.26751683084422, 633.23263998532184)\n",
      "483.773762273\n",
      "(array([  1.79802836e-04,  -3.17897823e-01,   5.93811618e+02]), array([  3.39520172e-04,  -4.04109114e-01,   1.11550940e+03])) (913.8366031957047, 483.77376227268536)\n",
      "470.451510062\n",
      "(array([  1.96642484e-04,  -3.25954092e-01,   5.92856219e+02]), array([  3.49144985e-04,  -4.20794032e-01,   1.12303074e+03])) (835.53323652420465, 470.45151006164946)\n"
     ]
    },
    {
     "name": "stderr",
     "output_type": "stream",
     "text": [
      "\u001b[A\u001b[A\u001b[A\u001b[A\u001b[A\u001b[A\u001b[A\u001b[A\n",
      "\n",
      "\n",
      "\n",
      "\n",
      "\n",
      "\n",
      "\n",
      " 96%|█████████▌| 1210/1261 [01:27<00:04, 12.56it/s]\u001b[A\u001b[A\u001b[A\u001b[A\u001b[A\u001b[A\u001b[A\u001b[A"
     ]
    },
    {
     "name": "stdout",
     "output_type": "stream",
     "text": [
      "440.727160985\n",
      "(array([  1.78418385e-04,  -3.30721035e-01,   6.05115746e+02]), array([  3.72690652e-04,  -4.42073163e-01,   1.12285938e+03])) (921.02343027898462, 440.72716098503372)\n",
      "483.168512582\n",
      "(array([  2.15624950e-04,  -3.45924497e-01,   6.01638570e+02]), array([  3.39991607e-04,  -4.34707836e-01,   1.12881393e+03])) (761.98623174493241, 483.16851258184835)\n",
      "531.309364785\n",
      "(array([  1.82834535e-04,  -3.25421808e-01,   6.01172265e+02]), array([  3.09205178e-04,  -4.16617082e-01,   1.12765841e+03])) (898.71321620063043, 531.30936478498313)\n"
     ]
    },
    {
     "name": "stderr",
     "output_type": "stream",
     "text": [
      "\n",
      "\n",
      "\n",
      "\n",
      "\n",
      "\n",
      "\n",
      "\n",
      " 96%|█████████▌| 1212/1261 [01:27<00:03, 12.98it/s]\u001b[A\u001b[A\u001b[A\u001b[A\u001b[A\u001b[A\u001b[A\u001b[A\n",
      "\n",
      "\n",
      "\n",
      "\n",
      "\n",
      "\n",
      "\n",
      " 96%|█████████▋| 1214/1261 [01:27<00:03, 12.88it/s]"
     ]
    },
    {
     "name": "stdout",
     "output_type": "stream",
     "text": [
      "473.70291315\n",
      "(array([  1.65588295e-04,  -3.05855642e-01,   5.95514090e+02]), array([  3.46813613e-04,  -4.55851520e-01,   1.13817365e+03])) (992.293999696485, 473.70291314983382)\n",
      "504.522096048\n",
      "(array([  1.65442747e-04,  -2.82776420e-01,   5.80125964e+02]), array([  3.25673588e-04,  -4.57157401e-01,   1.15037689e+03])) (993.01807041598579, 504.52209604769797)\n",
      "986.577509862\n",
      "(array([  2.00511456e-04,  -3.16485189e-01,   5.88784953e+02]), array([  1.66561326e-04,  -3.17864945e-01,   1.12397252e+03])) (819.34310917173639, 986.57750986160124)\n"
     ]
    },
    {
     "name": "stderr",
     "output_type": "stream",
     "text": [
      "\u001b[A\u001b[A\u001b[A\u001b[A\u001b[A\u001b[A\u001b[A\u001b[A\n",
      "\n",
      "\n",
      "\n",
      "\n",
      "\n",
      "\n",
      "\n",
      " 96%|█████████▋| 1216/1261 [01:27<00:03, 12.95it/s]\u001b[A\u001b[A\u001b[A\u001b[A\u001b[A\u001b[A\u001b[A\u001b[A"
     ]
    },
    {
     "name": "stdout",
     "output_type": "stream",
     "text": [
      "899.465055457\n",
      "(array([  1.40540515e-04,  -2.73750668e-01,   5.84117602e+02]), array([  1.82690433e-04,  -3.31745720e-01,   1.12539976e+03])) (1169.0802554536651, 899.46505545660443)\n",
      "951.717011682\n",
      "(array([  1.29396872e-04,  -2.54118814e-01,   5.74920721e+02]), array([  1.72670130e-04,  -3.29561860e-01,   1.13054337e+03])) (1269.6877454191281, 951.71701168200696)\n",
      "908.057322421\n",
      "(array([  1.14530984e-04,  -2.50318727e-01,   5.79367927e+02]), array([  1.80964481e-04,  -3.32061586e-01,   1.12801307e+03])) (1434.588597326227, 908.05732242118154)\n"
     ]
    },
    {
     "name": "stderr",
     "output_type": "stream",
     "text": [
      "\n",
      "\n",
      "\n",
      "\n",
      "\n",
      "\n",
      "\n",
      "\n",
      " 97%|█████████▋| 1218/1261 [01:27<00:03, 13.27it/s]\u001b[A\u001b[A\u001b[A\u001b[A\u001b[A\u001b[A\u001b[A\u001b[A\n",
      "\n",
      "\n",
      "\n",
      "\n",
      "\n",
      "\n",
      "\n",
      " 97%|█████████▋| 1220/1261 [01:27<00:03, 13.59it/s]"
     ]
    },
    {
     "name": "stdout",
     "output_type": "stream",
     "text": [
      "764.30668081\n",
      "(array([  1.26885818e-04,  -2.58715091e-01,   5.79250360e+02]), array([  2.14982571e-04,  -3.53569411e-01,   1.13341332e+03])) (1294.8731145859751, 764.30668080950795)\n",
      "635.793980107\n",
      "(array([  1.08090616e-04,  -2.42680830e-01,   5.76537125e+02]), array([  2.58406832e-04,  -3.77857609e-01,   1.13728906e+03])) (1520.0508453400794, 635.79398010685225)\n",
      "594.429852102\n",
      "(array([  1.32035851e-04,  -2.63451493e-01,   5.82790975e+02]), array([  2.76378287e-04,  -3.89139134e-01,   1.13540485e+03])) (1244.3651330166522, 594.42985210207075)\n"
     ]
    },
    {
     "name": "stderr",
     "output_type": "stream",
     "text": [
      "\u001b[A\u001b[A\u001b[A\u001b[A\u001b[A\u001b[A\u001b[A\u001b[A\n",
      "\n",
      "\n",
      "\n",
      "\n",
      "\n",
      "\n",
      "\n",
      " 97%|█████████▋| 1222/1261 [01:28<00:02, 13.94it/s]\u001b[A\u001b[A\u001b[A\u001b[A\u001b[A\u001b[A\u001b[A\u001b[A"
     ]
    },
    {
     "name": "stdout",
     "output_type": "stream",
     "text": [
      "786.435718267\n",
      "(array([  1.12716903e-04,  -2.41041518e-01,   5.75991624e+02]), array([  2.08937361e-04,  -3.50472816e-01,   1.13624819e+03])) (1457.6046342573068, 786.43571826739731)\n",
      "669.764008214\n",
      "(array([  1.17816181e-04,  -2.52905583e-01,   5.83514393e+02]), array([  2.45309109e-04,  -3.70712533e-01,   1.13536889e+03])) (1394.5810458208871, 669.76400821361858)\n",
      "500.765122963\n",
      "(array([  1.39663765e-04,  -2.79564293e-01,   5.94839058e+02]), array([  3.28065509e-04,  -4.34889742e-01,   1.14188238e+03])) (1176.4729652141289, 500.76512296270931)\n",
      "909.190823247\n",
      "(array([  1.41834763e-04,  -2.76999655e-01,   5.92080817e+02]), array([  1.80719582e-04,  -3.17182675e-01,   1.12364850e+03])) (1158.4280371717268, 909.19082324725514)\n"
     ]
    },
    {
     "name": "stderr",
     "output_type": "stream",
     "text": [
      "\n",
      "\n",
      "\n",
      "\n",
      "\n",
      "\n",
      "\n",
      "\n",
      " 97%|█████████▋| 1224/1261 [01:28<00:02, 14.25it/s]\u001b[A\u001b[A\u001b[A\u001b[A\u001b[A\u001b[A\u001b[A\u001b[A\n",
      "\n",
      "\n",
      "\n",
      "\n",
      "\n",
      "\n",
      "\n",
      " 97%|█████████▋| 1226/1261 [01:28<00:02, 14.49it/s]\u001b[A\u001b[A\u001b[A\u001b[A\u001b[A\u001b[A\u001b[A\u001b[A"
     ]
    },
    {
     "name": "stdout",
     "output_type": "stream",
     "text": [
      "854.564974646\n",
      "(array([  1.59750082e-04,  -2.90324311e-01,   5.96032006e+02]), array([  1.92258508e-04,  -3.18070668e-01,   1.11892772e+03])) (1028.4883557384956, 854.56497464570452)\n",
      "937.271082377\n",
      "(array([  1.19104554e-04,  -2.38101893e-01,   5.77634157e+02]), array([  1.75306808e-04,  -3.13223746e-01,   1.12455419e+03])) (1379.3549039718414, 937.27108237652124)\n",
      "944.685281307\n",
      "(array([  1.01165038e-04,  -2.07897419e-01,   5.63266896e+02]), array([  1.73940602e-04,  -3.19645936e-01,   1.13209684e+03])) (1623.8354834502768, 944.68528130668085)\n"
     ]
    },
    {
     "name": "stderr",
     "output_type": "stream",
     "text": [
      "\n",
      "\n",
      "\n",
      "\n",
      "\n",
      "\n",
      "\n",
      "\n",
      " 97%|█████████▋| 1228/1261 [01:28<00:02, 14.48it/s]\u001b[A\u001b[A\u001b[A\u001b[A\u001b[A\u001b[A\u001b[A\u001b[A\n",
      "\n",
      "\n",
      "\n",
      "\n",
      "\n",
      "\n",
      "\n",
      " 98%|█████████▊| 1230/1261 [01:28<00:02, 14.57it/s]"
     ]
    },
    {
     "name": "stdout",
     "output_type": "stream",
     "text": [
      "979.595751023\n",
      "(array([  1.22354139e-04,  -2.16884927e-01,   5.60451177e+02]), array([  1.67748123e-04,  -3.18756645e-01,   1.13288039e+03])) (1342.5448321785309, 979.59575102291853)\n",
      "767.696688864\n",
      "(array([  1.32645074e-04,  -2.12281521e-01,   5.51364957e+02]), array([  2.14014647e-04,  -3.39849593e-01,   1.13711481e+03])) (1238.3070507152358, 767.6966888642944)\n",
      "816.459827773\n",
      "(array([  1.04889098e-04,  -1.87711085e-01,   5.46655920e+02]), array([  2.01237160e-04,  -3.31030738e-01,   1.13396210e+03])) (1566.0039803775026, 816.45982777265249)\n"
     ]
    },
    {
     "name": "stderr",
     "output_type": "stream",
     "text": [
      "\u001b[A\u001b[A\u001b[A\u001b[A\u001b[A\u001b[A\u001b[A\u001b[A\n",
      "\n",
      "\n",
      "\n",
      "\n",
      "\n",
      "\n",
      "\n",
      " 98%|█████████▊| 1232/1261 [01:28<00:01, 14.60it/s]\u001b[A\u001b[A\u001b[A\u001b[A\u001b[A\u001b[A\u001b[A\u001b[A"
     ]
    },
    {
     "name": "stdout",
     "output_type": "stream",
     "text": [
      "797.948479963\n",
      "(array([  1.05455960e-04,  -1.96582232e-01,   5.52330434e+02]), array([  2.05897681e-04,  -3.29600582e-01,   1.12793915e+03])) (1557.6432706536191, 797.94847996276269)\n",
      "869.70767871\n",
      "(array([  7.94667217e-05,  -1.73160909e-01,   5.47719501e+02]), array([  1.88913293e-04,  -3.16692995e-01,   1.12555077e+03])) (2067.0782295136482, 869.70767870983752)\n",
      "794.235120555\n",
      "(array([  6.55420300e-05,  -1.69675235e-01,   5.53568554e+02]), array([  2.06846251e-04,  -3.19348866e-01,   1.11844451e+03])) (2506.3597833945469, 794.23512055541016)\n"
     ]
    },
    {
     "name": "stderr",
     "output_type": "stream",
     "text": [
      "\n",
      "\n",
      "\n",
      "\n",
      "\n",
      "\n",
      "\n",
      "\n",
      " 98%|█████████▊| 1234/1261 [01:28<00:01, 14.60it/s]\u001b[A\u001b[A\u001b[A\u001b[A\u001b[A\u001b[A\u001b[A\u001b[A\n",
      "\n",
      "\n",
      "\n",
      "\n",
      "\n",
      "\n",
      "\n",
      " 98%|█████████▊| 1236/1261 [01:29<00:01, 14.95it/s]"
     ]
    },
    {
     "name": "stdout",
     "output_type": "stream",
     "text": [
      "815.558546928\n",
      "(array([  4.60094170e-05,  -1.49354669e-01,   5.48627772e+02]), array([  2.01441546e-04,  -3.17067057e-01,   1.11901904e+03])) (3570.3688592025201, 815.5585469279315)\n",
      "809.775712212\n",
      "(array([  5.67765386e-05,  -1.47096278e-01,   5.43112088e+02]), array([  2.02882074e-04,  -3.20072514e-01,   1.12285757e+03])) (2893.1089830482165, 809.77571221168569)\n",
      "12654.2816753\n",
      "(array([  3.36858149e-05,  -1.26249524e-01,   5.39389275e+02]), array([  1.29843597e-05,  -1.55417537e-01,   1.09216862e+03])) (4876.2866765271174, 12654.281675282968)\n",
      "30471.8714486\n",
      "(array([  3.52797746e-05,  -1.16964083e-01,   5.32012042e+02]), array([  5.39241459e-06,  -1.56042709e-01,   1.09805460e+03])) (4655.7582093196479, 30471.87144860797)\n"
     ]
    },
    {
     "name": "stderr",
     "output_type": "stream",
     "text": [
      "\u001b[A\u001b[A\u001b[A\u001b[A\u001b[A\u001b[A\u001b[A\u001b[A\n",
      "\n",
      "\n",
      "\n",
      "\n",
      "\n",
      "\n",
      "\n",
      " 98%|█████████▊| 1238/1261 [01:29<00:01, 15.06it/s]\u001b[A\u001b[A\u001b[A\u001b[A\u001b[A\u001b[A\u001b[A\u001b[A\n",
      "\n",
      "\n",
      "\n",
      "\n",
      "\n",
      "\n",
      "\n",
      " 98%|█████████▊| 1240/1261 [01:29<00:01, 15.23it/s]"
     ]
    },
    {
     "name": "stdout",
     "output_type": "stream",
     "text": [
      "10298.6241538\n",
      "(array([  4.10979938e-05,  -1.15439186e-01,   5.29425163e+02]), array([  1.59543398e-05,  -1.58271902e-01,   1.09682755e+03])) (3996.5361031601983, 10298.62415384196)\n",
      "3495.47450257\n",
      "(array([  3.00049458e-05,  -1.13285445e-01,   5.33353767e+02]), array([  4.69999531e-05,  -1.68561735e-01,   1.08971741e+03])) (5474.264869329023, 3495.4745025655398)\n",
      "1120.82646858\n",
      "(array([  1.75306361e-05,  -9.74639499e-02,   5.27867026e+02]), array([  1.46538282e-04,  -2.06656330e-01,   1.09019701e+03])) (9369.4548190064888, 1120.8264685785659)\n",
      "975.46326659\n",
      "(array([  3.93698406e-05,  -1.17295789e-01,   5.33200812e+02]), array([  1.68368330e-04,  -2.12839929e-01,   1.08464415e+03])) (4172.0205310015972, 975.46326659044905)\n"
     ]
    },
    {
     "name": "stderr",
     "output_type": "stream",
     "text": [
      "\u001b[A\u001b[A\u001b[A\u001b[A\u001b[A\u001b[A\u001b[A\u001b[A\n",
      "\n",
      "\n",
      "\n",
      "\n",
      "\n",
      "\n",
      "\n",
      " 98%|█████████▊| 1242/1261 [01:29<00:01, 15.25it/s]\u001b[A\u001b[A\u001b[A\u001b[A\u001b[A\u001b[A\u001b[A\u001b[A\n",
      "\n",
      "\n",
      "\n",
      "\n",
      "\n",
      "\n",
      "\n",
      " 99%|█████████▊| 1244/1261 [01:29<00:01, 14.91it/s]"
     ]
    },
    {
     "name": "stdout",
     "output_type": "stream",
     "text": [
      "1313.94905658\n",
      "(array([  3.63762628e-06,  -8.58004006e-02,   5.27494726e+02]), array([  1.24999479e-04,  -1.83965213e-01,   1.07836032e+03])) (45154.056925256889, 1313.9490565752324)\n",
      "838.908699316\n",
      "(array([  4.53496876e-05,  -1.05045219e-01,   5.22864200e+02]), array([  1.95771368e-04,  -2.31659608e-01,   1.08821620e+03])) (3621.6727027669594, 838.90869931577561)\n",
      "1158.36751682\n",
      "(array([  3.53921577e-05,  -9.53632592e-02,   5.22342453e+02]), array([  1.41783579e-04,  -1.88223276e-01,   1.07544651e+03])) (4640.6231336825422, 1158.3675168154384)\n"
     ]
    },
    {
     "name": "stderr",
     "output_type": "stream",
     "text": [
      "\u001b[A\u001b[A\u001b[A\u001b[A\u001b[A\u001b[A\u001b[A\u001b[A\n",
      "\n",
      "\n",
      "\n",
      "\n",
      "\n",
      "\n",
      "\n",
      " 99%|█████████▉| 1246/1261 [01:29<00:01, 14.85it/s]\u001b[A\u001b[A\u001b[A\u001b[A\u001b[A\u001b[A\u001b[A\u001b[A"
     ]
    },
    {
     "name": "stdout",
     "output_type": "stream",
     "text": [
      "1084.14489746\n",
      "(array([ -5.10358237e-07,  -5.28553304e-02,   5.09424510e+02]), array([  1.51491806e-04,  -2.01229089e-01,   1.07954226e+03])) (321809.26267662534, 1084.144897457021)\n",
      "1434.77779761\n",
      "(array([  3.48477746e-05,  -8.00057565e-02,   5.12788742e+02]), array([  1.14470808e-04,  -1.68131706e-01,   1.07302468e+03])) (4712.9356099914248, 1434.7777976130044)\n",
      "10555.5893391\n",
      "(array([  6.28751301e-05,  -1.07486313e-01,   5.22782170e+02]), array([ -1.55591974e-05,  -3.47094607e-02,   1.03350350e+03])) (2612.0905145173515, 10555.589339077689)\n",
      "26989.3469027\n",
      "(array([  5.22148113e-05,  -8.70848585e-02,   5.13994491e+02]), array([  6.08523507e-06,  -5.55453237e-02,   1.04027358e+03])) (3145.3171546083331, 26989.346902652764)\n"
     ]
    },
    {
     "name": "stderr",
     "output_type": "stream",
     "text": [
      "\n",
      "\n",
      "\n",
      "\n",
      "\n",
      "\n",
      "\n",
      "\n",
      " 99%|█████████▉| 1248/1261 [01:29<00:00, 14.92it/s]\u001b[A\u001b[A\u001b[A\u001b[A\u001b[A\u001b[A\u001b[A\u001b[A\n",
      "\n",
      "\n",
      "\n",
      "\n",
      "\n",
      "\n",
      "\n",
      " 99%|█████████▉| 1250/1261 [01:29<00:00, 13.26it/s]\u001b[A\u001b[A\u001b[A\u001b[A\u001b[A\u001b[A\u001b[A\u001b[A"
     ]
    },
    {
     "name": "stdout",
     "output_type": "stream",
     "text": [
      "18454.6368435\n",
      "(array([  4.83780885e-05,  -8.63291390e-02,   5.15133834e+02]), array([  8.89924050e-06,  -4.58748983e-02,   1.03291087e+03])) (3394.7813682174624, 18454.636843525597)\n",
      "5120.56655029\n",
      "(array([  2.80260292e-05,  -7.51637911e-02,   5.15452475e+02]), array([  3.20722014e-05,  -4.75590054e-02,   1.02528013e+03])) (5860.1223288435576, 5120.5665502916763)\n",
      "1490.81292431\n",
      "(array([  1.39030685e-05,  -5.48780250e-02,   5.04804512e+02]), array([  1.10159720e-04,  -9.14838175e-02,   1.03600898e+03])) (11812.756621143109, 1490.8129243069598)\n"
     ]
    },
    {
     "name": "stderr",
     "output_type": "stream",
     "text": [
      "\n",
      "\n",
      "\n",
      "\n",
      "\n",
      "\n",
      "\n",
      "\n",
      " 99%|█████████▉| 1252/1261 [01:30<00:00, 11.90it/s]\u001b[A\u001b[A\u001b[A\u001b[A\u001b[A\u001b[A\u001b[A\u001b[A\n",
      "\n",
      "\n",
      "\n",
      "\n",
      "\n",
      "\n",
      "\n",
      " 99%|█████████▉| 1254/1261 [01:30<00:00, 11.85it/s]"
     ]
    },
    {
     "name": "stdout",
     "output_type": "stream",
     "text": [
      "1255.12655067\n",
      "(array([  1.25336382e-06,  -3.80874211e-02,   4.97967542e+02]), array([  1.30846207e-04,  -1.04178383e-01,   1.03506302e+03])) (131033.07886924541, 1255.1265506657603)\n",
      "1804.17316122\n",
      "(array([ -1.29853689e-05,  -1.85632348e-02,   4.90389541e+02]), array([  9.10261731e-05,  -7.94163341e-02,   1.02898834e+03])) (12647.35289932962, 1804.1731612221258)\n",
      "1335.15375008\n",
      "(array([  2.60847064e-05,  -3.55454844e-02,   4.84661834e+02]), array([  1.23002799e-04,  -1.02834020e-01,   1.03396669e+03])) (6295.9176834842956, 1335.153750082324)\n"
     ]
    },
    {
     "name": "stderr",
     "output_type": "stream",
     "text": [
      "\u001b[A\u001b[A\u001b[A\u001b[A\u001b[A\u001b[A\u001b[A\u001b[A\n",
      "\n",
      "\n",
      "\n",
      "\n",
      "\n",
      "\n",
      "\n",
      "100%|█████████▉| 1256/1261 [01:30<00:00, 11.60it/s]\u001b[A\u001b[A\u001b[A\u001b[A\u001b[A\u001b[A\u001b[A\u001b[A"
     ]
    },
    {
     "name": "stdout",
     "output_type": "stream",
     "text": [
      "1044.82867611\n",
      "(array([  1.58850937e-05,  -3.53718493e-02,   4.87755805e+02]), array([  1.57185240e-04,  -1.15672059e-01,   1.02607315e+03])) (10338.518271931869, 1044.8286761070231)\n",
      "1351.27550376\n",
      "(array([ -6.10048114e-06,  -1.34336017e-02,   4.80572799e+02]), array([  1.21536180e-04,  -9.34598835e-02,   1.02192293e+03])) (26920.532666255967, 1351.2755037612831)\n",
      "1649.59185055\n",
      "(array([ -2.14792982e-05,   7.37001581e-03,   4.72633486e+02]), array([  9.95573607e-05,  -7.15710314e-02,   1.01403950e+03])) (7645.8467758667157, 1649.5918505495004)\n"
     ]
    },
    {
     "name": "stderr",
     "output_type": "stream",
     "text": [
      "\n",
      "\n",
      "\n",
      "\n",
      "\n",
      "\n",
      "\n",
      "\n",
      "100%|█████████▉| 1258/1261 [01:30<00:00, 12.25it/s]\u001b[A\u001b[A\u001b[A\u001b[A\u001b[A\u001b[A\u001b[A\u001b[A\n",
      "\n",
      "\n",
      "\n",
      "\n",
      "\n",
      "\n",
      "\n",
      "100%|█████████▉| 1260/1261 [01:30<00:00, 12.77it/s]"
     ]
    },
    {
     "name": "stdout",
     "output_type": "stream",
     "text": [
      "133337.094415\n",
      "(array([ -1.26989515e-05,   4.63424568e-03,   4.71486592e+02]), array([  1.23168535e-06,   2.45183116e-02,   9.86438965e+02])) (12932.323792820143, 133337.09441468609)\n",
      "64804.687714\n",
      "(array([  8.00844995e-06,   1.78300045e-03,   4.62869842e+02]), array([ -2.53420004e-06,   2.06502855e-02,   9.90858117e+02])) (20506.725183453942, 64804.68771404431)\n",
      "9323.6726124\n",
      "(array([ -2.09588494e-05,   2.76649790e-02,   4.55748628e+02]), array([  1.76143436e-05,   1.34164239e-02,   9.86856859e+02])) (7835.6854891985749, 9323.6726124038942)\n"
     ]
    },
    {
     "name": "stderr",
     "output_type": "stream",
     "text": [
      "\u001b[A\u001b[A\u001b[A\u001b[A\u001b[A\u001b[A\u001b[A\u001b[A\n",
      "\n",
      "\n",
      "\n",
      "\n",
      "\n",
      "\n",
      "\n",
      "\u001b[A\u001b[A\u001b[A\u001b[A\u001b[A\u001b[A\u001b[A\u001b[A"
     ]
    },
    {
     "name": "stdout",
     "output_type": "stream",
     "text": [
      "[MoviePy] Done.\n",
      "[MoviePy] >>>> Video ready: white.mp4 \n",
      "\n",
      "CPU times: user 2min 27s, sys: 3.35 s, total: 2min 31s\n",
      "Wall time: 1min 31s\n"
     ]
    },
    {
     "data": {
      "text/html": [
       "\n",
       "<video width=\"960\" height=\"540\" controls>\n",
       "  <source src=\"white.mp4\">\n",
       "</video>\n"
      ],
      "text/plain": [
       "<IPython.core.display.HTML object>"
      ]
     },
     "execution_count": 106,
     "metadata": {},
     "output_type": "execute_result"
    }
   ],
   "source": [
    "white_output = 'white.mp4'\n",
    "clip1 = VideoFileClip(\"./project_video.mp4\")\n",
    "white_clip = clip1.fl_image(image_pipeline) #NOTE: this function expects color images!!\n",
    "%time white_clip.write_videofile(white_output, audio=False)\n",
    "\n",
    "HTML(\"\"\"\n",
    "<video width=\"960\" height=\"540\" controls>\n",
    "  <source src=\"{0}\">\n",
    "</video>\n",
    "\"\"\".format(white_output))"
   ]
  },
  {
   "cell_type": "code",
   "execution_count": null,
   "metadata": {
    "collapsed": false
   },
   "outputs": [],
   "source": []
  },
  {
   "cell_type": "code",
   "execution_count": null,
   "metadata": {
    "collapsed": true
   },
   "outputs": [],
   "source": []
  },
  {
   "cell_type": "code",
   "execution_count": null,
   "metadata": {
    "collapsed": true
   },
   "outputs": [],
   "source": [
    "# Generate x and y values for plotting\n",
    "ploty = np.linspace(0, binary_warped.shape[0]-1, binary_warped.shape[0] )\n",
    "left_fitx = left_fit[0]*ploty**2 + left_fit[1]*ploty + left_fit[2]\n",
    "right_fitx = right_fit[0]*ploty**2 + right_fit[1]*ploty + right_fit[2]\n",
    "\n",
    "out_img[nonzeroy[left_lane_inds], nonzerox[left_lane_inds]] = [255, 0, 0]\n",
    "out_img[nonzeroy[right_lane_inds], nonzerox[right_lane_inds]] = [0, 0, 255]\n",
    "plt.imshow(out_img)\n",
    "plt.plot(left_fitx, ploty, color='yellow')\n",
    "plt.plot(right_fitx, ploty, color='yellow')\n",
    "plt.xlim(0, 1280)\n",
    "plt.ylim(720, 0)"
   ]
  },
  {
   "cell_type": "markdown",
   "metadata": {},
   "source": [
    "* increase lower range of value to 150 only increased noise\n",
    "* increase upper range of saturation to 30 improved broken white lanes on light street\n",
    "* raising lower ranger of value to 90% allowed me to raise sat to 45 with no problem, but 35 was just as well"
   ]
  }
 ],
 "metadata": {
  "kernelspec": {
   "display_name": "Python 3",
   "language": "python",
   "name": "python3"
  },
  "language_info": {
   "codemirror_mode": {
    "name": "ipython",
    "version": 3
   },
   "file_extension": ".py",
   "mimetype": "text/x-python",
   "name": "python",
   "nbconvert_exporter": "python",
   "pygments_lexer": "ipython3",
   "version": "3.5.2"
  }
 },
 "nbformat": 4,
 "nbformat_minor": 2
}
